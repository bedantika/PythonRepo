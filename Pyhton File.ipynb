{
 "cells": [
  {
   "cell_type": "code",
   "execution_count": 50,
   "metadata": {
    "scrolled": true
   },
   "outputs": [
    {
     "name": "stdout",
     "output_type": "stream",
     "text": [
      "Thi nnn\n",
      "s is another file test.\n",
      "Good \n",
      "Bad\n",
      "Weather \n",
      "Ok\n"
     ]
    }
   ],
   "source": [
    "f = open(r\"C:\\Users\\Bedantika\\Documents\\pyfiletest2.txt\")\n",
    "s = f.read(3)\n",
    "s2 = f.read()\n",
    "s3 = f.read(3)\n",
    "print(s,\"nnn\")\n",
    "print(s2)\n",
    "f.close()"
   ]
  },
  {
   "cell_type": "code",
   "execution_count": 75,
   "metadata": {},
   "outputs": [
    {
     "ename": "ValueError",
     "evalue": "negative seek position -1",
     "output_type": "error",
     "traceback": [
      "\u001b[1;31m---------------------------------------------------------------------------\u001b[0m",
      "\u001b[1;31mValueError\u001b[0m                                Traceback (most recent call last)",
      "\u001b[1;32m<ipython-input-75-b5d3e3f4fa31>\u001b[0m in \u001b[0;36m<module>\u001b[1;34m\u001b[0m\n\u001b[0;32m      4\u001b[0m    \u001b[0ml\u001b[0m \u001b[1;33m=\u001b[0m \u001b[1;33m[\u001b[0m\u001b[1;34m\"apple1\"\u001b[0m \u001b[1;33m,\u001b[0m \u001b[1;34m\" carrots1\"\u001b[0m\u001b[1;33m,\u001b[0m\u001b[1;34m\"mango1\"\u001b[0m\u001b[1;33m,\u001b[0m\u001b[1;34m\"French1\"\u001b[0m\u001b[1;33m]\u001b[0m\u001b[1;33m\u001b[0m\u001b[1;33m\u001b[0m\u001b[0m\n\u001b[0;32m      5\u001b[0m    \u001b[0mf\u001b[0m\u001b[1;33m.\u001b[0m\u001b[0mwritelines\u001b[0m\u001b[1;33m(\u001b[0m\u001b[0ml\u001b[0m\u001b[1;33m)\u001b[0m\u001b[1;33m\u001b[0m\u001b[1;33m\u001b[0m\u001b[0m\n\u001b[1;32m----> 6\u001b[1;33m    \u001b[0mf\u001b[0m\u001b[1;33m.\u001b[0m\u001b[0mseek\u001b[0m\u001b[1;33m(\u001b[0m\u001b[1;33m-\u001b[0m\u001b[1;36m1\u001b[0m\u001b[1;33m)\u001b[0m\u001b[1;33m\u001b[0m\u001b[1;33m\u001b[0m\u001b[0m\n\u001b[0m\u001b[0;32m      7\u001b[0m    \u001b[0mprint\u001b[0m\u001b[1;33m(\u001b[0m\u001b[0mf\u001b[0m\u001b[1;33m.\u001b[0m\u001b[0mread\u001b[0m\u001b[1;33m(\u001b[0m\u001b[1;33m)\u001b[0m\u001b[1;33m)\u001b[0m\u001b[1;33m\u001b[0m\u001b[1;33m\u001b[0m\u001b[0m\n",
      "\u001b[1;31mValueError\u001b[0m: negative seek position -1"
     ]
    }
   ],
   "source": [
    "with open('pyfiletest.txt','a+') as f:\n",
    "\n",
    "\n",
    "   l = [\"apple1\" , \" carrots1\",\"mango1\",\"French1\"]\n",
    "   f.writelines(l)\n",
    "   f.seek(-1)\n",
    "   print(f.read())\n"
   ]
  },
  {
   "cell_type": "code",
   "execution_count": 89,
   "metadata": {},
   "outputs": [
    {
     "name": "stdout",
     "output_type": "stream",
     "text": [
      "One nnn\n",
      ", two,\n",
      "Buckle my shoe;\n",
      "Three, four,\n",
      "Knock at the door;\n",
      "Five, six,\n",
      "Pick up sticks;\n",
      "Seven, eight,\n",
      "Lay them straight:\n",
      "Nine, ten,\n",
      "A big fat hen;\n",
      "Eleven, twelve,\n",
      "Dig and delve;\n",
      "Thirteen, fourteen,\n",
      "Maids a-courting;\n",
      "Fifteen, sixteen,\n",
      "Maids in the kitchen;\n",
      "Seventeen, eighteen,\n",
      "Maids in waiting\n",
      "Nineteen, twenty,\n",
      "My plate's emptyapple1 carrots1mango1French1apple1 carrots1mango1French1apple1 carrots1mango1French1apple1 carrots1mango1French1apple1 carrots1mango1French1\n",
      "\n",
      "yessMy plate's emptyapple1 carrots1mango1French1apple1 carrots1mango1French1apple1 carrots1mango1French1apple1 carrots1mango1French1apple1 carrots1mango1French1\n"
     ]
    },
    {
     "ename": "UnsupportedOperation",
     "evalue": "can't do nonzero end-relative seeks",
     "output_type": "error",
     "traceback": [
      "\u001b[1;31m---------------------------------------------------------------------------\u001b[0m",
      "\u001b[1;31mUnsupportedOperation\u001b[0m                      Traceback (most recent call last)",
      "\u001b[1;32m<ipython-input-89-5911ccb6f088>\u001b[0m in \u001b[0;36m<module>\u001b[1;34m\u001b[0m\n\u001b[0;32m     11\u001b[0m \u001b[0mlast_line\u001b[0m \u001b[1;33m=\u001b[0m \u001b[0mf_read\u001b[0m\u001b[1;33m.\u001b[0m\u001b[0mreadlines\u001b[0m\u001b[1;33m(\u001b[0m\u001b[1;33m)\u001b[0m\u001b[1;33m[\u001b[0m\u001b[1;33m-\u001b[0m\u001b[1;36m1\u001b[0m\u001b[1;33m]\u001b[0m\u001b[1;33m\u001b[0m\u001b[1;33m\u001b[0m\u001b[0m\n\u001b[0;32m     12\u001b[0m \u001b[0mprint\u001b[0m\u001b[1;33m(\u001b[0m\u001b[1;34m\"\\nyess\"\u001b[0m\u001b[1;33m+\u001b[0m \u001b[0mlast_line\u001b[0m\u001b[1;33m)\u001b[0m\u001b[1;33m\u001b[0m\u001b[1;33m\u001b[0m\u001b[0m\n\u001b[1;32m---> 13\u001b[1;33m \u001b[0mf_read\u001b[0m\u001b[1;33m.\u001b[0m\u001b[0mseek\u001b[0m\u001b[1;33m(\u001b[0m\u001b[1;33m-\u001b[0m\u001b[1;36m3\u001b[0m\u001b[1;33m,\u001b[0m\u001b[1;36m2\u001b[0m\u001b[1;33m)\u001b[0m\u001b[1;33m\u001b[0m\u001b[1;33m\u001b[0m\u001b[0m\n\u001b[0m\u001b[0;32m     14\u001b[0m \u001b[0mprint\u001b[0m\u001b[1;33m(\u001b[0m\u001b[1;34m\"\\seeeek\"\u001b[0m \u001b[1;33m+\u001b[0m \u001b[0mf_read\u001b[0m\u001b[1;33m.\u001b[0m\u001b[0mreadline\u001b[0m\u001b[1;33m(\u001b[0m\u001b[1;33m)\u001b[0m\u001b[1;33m)\u001b[0m\u001b[1;33m\u001b[0m\u001b[1;33m\u001b[0m\u001b[0m\n\u001b[0;32m     15\u001b[0m \u001b[1;33m\u001b[0m\u001b[0m\n",
      "\u001b[1;31mUnsupportedOperation\u001b[0m: can't do nonzero end-relative seeks"
     ]
    }
   ],
   "source": [
    "f.close()\n",
    "f = open(\"pyfiletest.txt\") \n",
    "s = f.read(3)\n",
    "s2 = f.read()\n",
    "s3 = f.read(3)\n",
    "print(s,\"nnn\")\n",
    "print(s2)\n",
    "f.close()\n",
    "\n",
    "f_read = open(\"pyfiletest.txt\", \"r\")\n",
    "last_line = f_read.readlines()[-1]\n",
    "print(\"\\nyess\"+ last_line)\n",
    "f_read.seek(-3,2)\n",
    "print(\"\\seeeek\" + f_read.readline())\n",
    "\n",
    "f_read.close()"
   ]
  },
  {
   "cell_type": "code",
   "execution_count": 80,
   "metadata": {},
   "outputs": [
    {
     "name": "stdout",
     "output_type": "stream",
     "text": [
      "Number of words in the file : Counter({'carrots1mango1French1apple1': 4, 'Maids': 3, 'the': 2, 'in': 2, 'One,': 1, 'two,': 1, 'Buckle': 1, 'my': 1, 'shoe;': 1, 'Three,': 1, 'four,': 1, 'Knock': 1, 'at': 1, 'door;': 1, 'Five,': 1, 'six,': 1, 'Pick': 1, 'up': 1, 'sticks;': 1, 'Seven,': 1, 'eight,': 1, 'Lay': 1, 'them': 1, 'straight:': 1, 'Nine,': 1, 'ten,': 1, 'A': 1, 'big': 1, 'fat': 1, 'hen;': 1, 'Eleven,': 1, 'twelve,': 1, 'Dig': 1, 'and': 1, 'delve;': 1, 'Thirteen,': 1, 'fourteen,': 1, 'a-courting;': 1, 'Fifteen,': 1, 'sixteen,': 1, 'kitchen;': 1, 'Seventeen,': 1, 'eighteen,': 1, 'waiting': 1, 'Nineteen,': 1, 'twenty,': 1, 'My': 1, \"plate's\": 1, 'emptyapple1': 1, 'carrots1mango1French1': 1})\n"
     ]
    }
   ],
   "source": [
    "from collections import Counter\n",
    "def word_count(fname):\n",
    "        with open(fname) as f:\n",
    "                return Counter(f.read().split())\n",
    "\n",
    "print(\"Number of words in the file :\",word_count(\"pyfiletest.txt\"))"
   ]
  },
  {
   "cell_type": "code",
   "execution_count": 57,
   "metadata": {},
   "outputs": [],
   "source": [
    "import csv\n",
    "# field names \n",
    "fields = ['Name', 'Branch', 'Year', 'CGPA'] \n",
    "\n",
    "# data rows of csv file \n",
    "rows = [ ['Nikhil', 'COE', '2', '9.0'], \n",
    "         ['Sanchit', 'COE', '2', '9.1'], \n",
    "         ['Aditya', 'IT', '2', '9.3'], \n",
    "         ['Sagar', 'SE', '1', '9.5'], \n",
    "         ['Prateek', 'MCE', '3', '7.8'], \n",
    "         ['Sahil', 'EP', '2', '9.1']] \n",
    "\n",
    "# name of csv file \n",
    "filename = \"university_records.csv\"\n",
    "\n",
    "# writing to csv file \n",
    "with open(filename, 'w') as csvfile: \n",
    "    # creating a csv writer object \n",
    "    csvwriter = csv.writer(csvfile) \n",
    "      \n",
    "    # writing the fields \n",
    "    csvwriter.writerow(fields) \n",
    "      \n",
    "    # writing the data rows \n",
    "    csvwriter.writerows(rows)\n",
    "csvfile.close()    "
   ]
  },
  {
   "cell_type": "code",
   "execution_count": 64,
   "metadata": {},
   "outputs": [
    {
     "name": "stdout",
     "output_type": "stream",
     "text": [
      "<built-in method readline of _io.TextIOWrapper object at 0x00000202FD0A3120>\n"
     ]
    }
   ],
   "source": [
    "f = open(filename)\n",
    "s = (f.readline)\n",
    "print(s)\n",
    "f.close()"
   ]
  },
  {
   "cell_type": "code",
   "execution_count": 72,
   "metadata": {},
   "outputs": [
    {
     "name": "stdout",
     "output_type": "stream",
     "text": [
      "      Name Branch  Year  CGPA\n",
      "0   Nikhil    COE     2   9.0\n",
      "1  Sanchit    COE     2   9.1\n",
      "2   Aditya     IT     2   9.3\n",
      "3    Sagar     SE     1   9.5\n",
      "4  Prateek    MCE     3   7.8\n",
      "5    Sahil     EP     2   9.1\n"
     ]
    }
   ],
   "source": [
    "import numpy as np\n",
    "import pandas as pd\n",
    "df = pd.DataFrame()\n",
    "df = pd.read_csv(\"university_records.csv\")\n",
    "print(df)"
   ]
  },
  {
   "cell_type": "code",
   "execution_count": 90,
   "metadata": {},
   "outputs": [
    {
     "name": "stdout",
     "output_type": "stream",
     "text": [
      "This is another file test.\n",
      "Good \n",
      "Bad\n",
      "Weather \n",
      "Ok\n"
     ]
    }
   ],
   "source": [
    "f = open(r\"C:\\Users\\Bedantika\\Documents\\pyfiletest2.txt\")\n",
    "s = f.read()\n",
    "print(s)\n",
    "f.close()"
   ]
  },
  {
   "cell_type": "code",
   "execution_count": null,
   "metadata": {},
   "outputs": [],
   "source": []
  }
 ],
 "metadata": {
  "kernelspec": {
   "display_name": "Python 3",
   "language": "python",
   "name": "python3"
  },
  "language_info": {
   "codemirror_mode": {
    "name": "ipython",
    "version": 3
   },
   "file_extension": ".py",
   "mimetype": "text/x-python",
   "name": "python",
   "nbconvert_exporter": "python",
   "pygments_lexer": "ipython3",
   "version": "3.7.3"
  }
 },
 "nbformat": 4,
 "nbformat_minor": 2
}
