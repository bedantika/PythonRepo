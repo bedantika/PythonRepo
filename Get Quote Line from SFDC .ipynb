{
 "cells": [
  {
   "cell_type": "code",
   "execution_count": 41,
   "metadata": {},
   "outputs": [
    {
     "name": "stdout",
     "output_type": "stream",
     "text": [
      "https://test.salesforce.com/services/oauth2/token?grant_type=password\n",
      "{'client_id': 'YjkyMzJmNDUzMGNmOTYzODVlNDQ0ZjE2OTUxOTU1NDI5MGViN2I3NWU3YTFjNmY300D1k0000004bBG', 'client_secret': '7017597587192369305', 'username': 'bedantika.lahiri@omnicell.com.fulldev', 'password': 'Welcome1qEGoPJmPYuLrJY0syfKg0ivDN'}\n",
      "200 OK\n",
      "Access Token: ##04bBG!AQkAQEdhd0KVZZtNj_amV0ARLJEJhXJi5ZST4iIde6k9T8tqtUSFI8AVHOnEhE9dlvqSoTFMGW0ytP3Qfk5EJR##\n",
      "Instance Url: fulldev.cs78.my.salesforce\n",
      "SELECT+Quote__r.SAP_Quote_Number_Truncated__c,Conga_Product1__c,Conga_Quantity__c,Conga_List_Price1__c,Conga_Unit_Price_product__c,Conga_Extended_Price_Materials__c,Conga_Unit_Services__c,Conga_Extended_Services__c,Conga1_USA_List_Price__c+FROM Quote_Line__c+WHERE+Quote__r.SAP_Quote_Number_Truncated__c = '5370615'\n",
      "<Response [200]>\n",
      "   QUOTATION_ID         PRODUCT CONTRACT_LIST_PRICE EXTEND_PRICE  \\\n",
      "0       5370615         FREIGHT                   0      1692.45   \n",
      "1       5370615     MED-FRM-101              234.69       421.23   \n",
      "2       5370615     MED-AUX-102              305.81       305.81   \n",
      "3       5370615     MED-PCB-001               64.64         None   \n",
      "4       5370615     MED-SCN-001               27.64         None   \n",
      "5       5370615     MED-LIC-004                67.4         None   \n",
      "6       5370615     MED-LIC-005               26.86         None   \n",
      "7       5370615  MED-LIC-004-SV                   0         None   \n",
      "8       5370615  MED-FRM-101-SV                 105       421.23   \n",
      "9       5370615  MED-AUX-102-SV                  50       305.81   \n",
      "10      5370615         RENEWAL                0.01         0.02   \n",
      "\n",
      "   EXTEND_SERVICE QTY UNIT_PRICE UNIT_SERVICE USA_LIST_PRICE  \n",
      "0               0   1    1692.45            0              0  \n",
      "1             105   1     234.69          105          699.9  \n",
      "2              50   1     305.81           50         512.34  \n",
      "3               0   0      64.64         None           None  \n",
      "4               0   0      27.64         None           None  \n",
      "5               0   0       67.4         None           None  \n",
      "6               0   0      26.86         None           None  \n",
      "7               0   0          0         None           None  \n",
      "8             105   0          0          105          20000  \n",
      "9              50   0          0            0          26060  \n",
      "10              0   2       0.01            0              0  \n"
     ]
    }
   ],
   "source": [
    "import configparser\n",
    "import json\n",
    "import requests\n",
    "import sys\n",
    "import csv\n",
    "\n",
    "GRANT_TYPE = '/services/oauth2/token?grant_type=password'\n",
    "ACCESS_TOKEN = 'access_token'\n",
    "OAUTH_HEADER = {'Authorization': ''}\n",
    "INSTANCE_URL = 'instance_url'\n",
    "API_INSTANCE = '/services/data/v43.0/'\n",
    "OBJECT_INST = \"sobjects/\"\n",
    "QUERY_INST = 'query/?q='\n",
    "CLIENT_KEY = 'YjkyMzJmNDUzMGNmOTYzODVlNDQ0ZjE2OTUxOTU1NDI5MGViN2I3NWU3YTFjNmY300D1k0000004bBG'\n",
    "CLIENT_SECRET = '7017597587192369305'\n",
    "USERNAME = 'bedantika.lahiri@omnicell.com.fulldev'\n",
    "PASSWORD = 'Welcome1qEGoPJmPYuLrJY0syfKg0ivDN'\n",
    "SERVER_URL = 'https://test.salesforce.com'\n",
    "\n",
    "\n",
    "next_record_url = None\n",
    "object_dir = None\n",
    "record_size = 0\n",
    "total_size = None\n",
    "\n",
    "def acquire_sfdc_acces():\n",
    "    try:\n",
    "        login_url = SERVER_URL + GRANT_TYPE\n",
    "        print(login_url)\n",
    "        param = {'client_id': CLIENT_KEY, 'client_secret': CLIENT_SECRET, 'username': USERNAME, 'password': PASSWORD}\n",
    "        print(param)\n",
    "        response = requests.post(login_url, data = param)\n",
    "        print(response.status_code, response.reason)\n",
    "        global ACCESS_TOKEN\n",
    "        global INSTANCE_URL\n",
    "\n",
    "        if response.status_code == 200:\n",
    "            json_data = json.loads(response.text)\n",
    "            ACCESS_TOKEN = json_data[ACCESS_TOKEN]\n",
    "            INSTANCE_URL = json_data[INSTANCE_URL]\n",
    "            print('Access Token: ##' + ACCESS_TOKEN[10:-10] + '##')\n",
    "            print('Instance Url: ' + INSTANCE_URL[18:-4])\n",
    "            OAUTH_HEADER['Authorization'] = 'OAuth ' + ACCESS_TOKEN\n",
    "    except Exception as ex:\n",
    "        print(str(ex))\n",
    "        \n",
    "\n",
    "def fetch_query_data(query, is_next_url):\n",
    "    \n",
    "    \n",
    "    global record_size\n",
    "    global next_record_url\n",
    "    global total_size\n",
    "    login_url = None\n",
    "    \n",
    "    \n",
    "    if is_next_url:\n",
    "        login_url = INSTANCE_URL + query\n",
    "    else:\n",
    "        login_url = INSTANCE_URL + API_INSTANCE + QUERY_INST + query\n",
    "        \n",
    "    response = requests.get(login_url, headers = OAUTH_HEADER)\n",
    "    \n",
    "    raw_response = None\n",
    "    \n",
    "    if response.status_code == 200:\n",
    "        raw_response = json.loads(response.text)\n",
    "        \n",
    "    records = raw_response['records']\n",
    "\n",
    "    total_size = raw_response['totalSize']\n",
    "    \n",
    "    print('Records Fetched: ' + str(len(records)))\n",
    "    \n",
    "    record_size += len(records)\n",
    "    \n",
    "    if 'nextRecordsUrl' in raw_response and raw_response['nextRecordsUrl'] != None:\n",
    "        \n",
    "        next_record_url = raw_response['nextRecordsUrl']\n",
    "        \n",
    "        print('Next batch url: ' + str(next_record_url))\n",
    "    return records\n",
    "\n",
    "\n",
    "acquire_sfdc_acces()            \n",
    "\n",
    "\n",
    "qlfields = ['Quote__r.SAP_Quote_Number_Truncated__c','Conga_Product1__c','Conga_Quantity__c','Conga_List_Price1__c','Conga_Unit_Price_product__c','Conga_Extended_Price_Materials__c',\n",
    "'Conga_Unit_Services__c','Conga_Extended_Services__c','Conga1_USA_List_Price__c']\n",
    "            \n",
    "str1 = ','.join(qlfields)\n",
    "where = 'WHERE+Quote__r.SAP_Quote_Number_Truncated__c = \\'5370615\\''    \n",
    "zsoql = \"SELECT+\" + str1 + \"+FROM Quote_Line__c+\" + where\n",
    "    \n",
    "print(zsoql)\n",
    "\n",
    "login_url = INSTANCE_URL + API_INSTANCE + QUERY_INST + zsoql\n",
    "\n",
    "response = requests.get(login_url, headers = OAUTH_HEADER)\n",
    "\n",
    "print(response)\n",
    "\n",
    "raw_response = None\n",
    "    \n",
    "if response.status_code == 200:\n",
    "    raw_response = json.loads(response.text)\n",
    "    \n",
    "\n",
    "#for result in raw_response['records']:\n",
    "#    record[u'SAP_Quote_Number_Truncated__c']=result[u'attributes']\n",
    "#    result[u'lng']=result[u'location'][u'lng']\n",
    " #   del result[u'attributes']\n",
    "#    print(record)\n",
    "\n",
    "    \n",
    "           \n",
    "QUOTATION_ID,PRODUCT,QTY,CONTRACT_LIST_PRICE ,UNIT_PRICE= [],[],[],[],[]\n",
    "EXTEND_PRICE,UNIT_SERVICE,EXTEND_SERVICE,USA_LIST_PRICE = [],[],[],[]\n",
    "\n",
    "for result in raw_response['records']:\n",
    "    QUOTATION_ID.append(result[u'Quote__r'][u'SAP_Quote_Number_Truncated__c'])\n",
    "    PRODUCT.append(result[u'Conga_Product1__c'])\n",
    "    QTY.append(result[u'Conga_Quantity__c'])\n",
    "    CONTRACT_LIST_PRICE.append(result[u'Conga_List_Price1__c'])\n",
    "    UNIT_PRICE.append(result[u'Conga_Unit_Price_product__c'])\n",
    "    EXTEND_PRICE.append(result[u'Conga_Extended_Price_Materials__c'])\n",
    "    UNIT_SERVICE.append(result[u'Conga_Unit_Services__c'])\n",
    "    EXTEND_SERVICE.append(result[u'Conga_Extended_Services__c'])\n",
    "    USA_LIST_PRICE.append(result[u'Conga1_USA_List_Price__c'])\n",
    "    \n",
    "   # lng.append(result[u'location'][u'lng'])\n",
    " #   el.append(result[u'elevation'])\n",
    "df3 = pd.DataFrame([QUOTATION_ID,PRODUCT,CONTRACT_LIST_PRICE,EXTEND_PRICE,EXTEND_SERVICE,QTY,UNIT_PRICE,UNIT_SERVICE,USA_LIST_PRICE]).T\n",
    "\n",
    "zcols = ['QUOTATION_ID', 'PRODUCT', 'CONTRACT_LIST_PRICE', 'EXTEND_PRICE', 'EXTEND_SERVICE',  'QTY', 'UNIT_PRICE', 'UNIT_SERVICE','USA_LIST_PRICE']\n",
    "df3.columns = zcols\n",
    "\n",
    "print(df3)\n",
    "\n",
    "df3.set_index([\"QUOTATION_ID\", \"PRODUCT\"], inplace = True, \n",
    "                            append = True, drop = True) "
   ]
  },
  {
   "cell_type": "code",
   "execution_count": 10,
   "metadata": {},
   "outputs": [
    {
     "name": "stdout",
     "output_type": "stream",
     "text": [
      "[{'attributes': {'type': 'Quote_Line__c', 'url': '/services/data/v43.0/sobjects/Quote_Line__c/a301k0000000cCYAAY'}, 'Quote__r': {'attributes': {'type': 'Quote', 'url': '/services/data/v43.0/sobjects/Quote/0Q01k0000000aTICAY'}, 'SAP_Quote_Number_Truncated__c': '5370615'}, 'Conga_Product1__c': 'FREIGHT', 'Conga_Quantity__c': 1.0, 'Conga_List_Price__c': 0.0, 'Conga_Unit_Price__c': 1692.45, 'Conga_Extended_Price_Materials__c': 1692.45, 'Conga_Unit_Services__c': 0.0, 'Conga_Extended_Services__c': 0.0, 'Conga1_USA_List_Price__c': 0.0}, {'attributes': {'type': 'Quote_Line__c', 'url': '/services/data/v43.0/sobjects/Quote_Line__c/a301k0000000cCZAAY'}, 'Quote__r': {'attributes': {'type': 'Quote', 'url': '/services/data/v43.0/sobjects/Quote/0Q01k0000000aTICAY'}, 'SAP_Quote_Number_Truncated__c': '5370615'}, 'Conga_Product1__c': 'MED-FRM-101', 'Conga_Quantity__c': 1.0, 'Conga_List_Price__c': 421.23, 'Conga_Unit_Price__c': 421.23, 'Conga_Extended_Price_Materials__c': 421.23, 'Conga_Unit_Services__c': 105.0, 'Conga_Extended_Services__c': 105.0, 'Conga1_USA_List_Price__c': 699.9}, {'attributes': {'type': 'Quote_Line__c', 'url': '/services/data/v43.0/sobjects/Quote_Line__c/a301k0000000cCaAAI'}, 'Quote__r': {'attributes': {'type': 'Quote', 'url': '/services/data/v43.0/sobjects/Quote/0Q01k0000000aTICAY'}, 'SAP_Quote_Number_Truncated__c': '5370615'}, 'Conga_Product1__c': 'MED-AUX-102', 'Conga_Quantity__c': 1.0, 'Conga_List_Price__c': 305.81, 'Conga_Unit_Price__c': 305.81, 'Conga_Extended_Price_Materials__c': 305.81, 'Conga_Unit_Services__c': 50.0, 'Conga_Extended_Services__c': 50.0, 'Conga1_USA_List_Price__c': 512.34}, {'attributes': {'type': 'Quote_Line__c', 'url': '/services/data/v43.0/sobjects/Quote_Line__c/a301k0000000cCbAAI'}, 'Quote__r': {'attributes': {'type': 'Quote', 'url': '/services/data/v43.0/sobjects/Quote/0Q01k0000000aTICAY'}, 'SAP_Quote_Number_Truncated__c': '5370615'}, 'Conga_Product1__c': 'MED-PCB-001', 'Conga_Quantity__c': 0.0, 'Conga_List_Price__c': None, 'Conga_Unit_Price__c': None, 'Conga_Extended_Price_Materials__c': None, 'Conga_Unit_Services__c': None, 'Conga_Extended_Services__c': 0.0, 'Conga1_USA_List_Price__c': None}, {'attributes': {'type': 'Quote_Line__c', 'url': '/services/data/v43.0/sobjects/Quote_Line__c/a301k0000000cCcAAI'}, 'Quote__r': {'attributes': {'type': 'Quote', 'url': '/services/data/v43.0/sobjects/Quote/0Q01k0000000aTICAY'}, 'SAP_Quote_Number_Truncated__c': '5370615'}, 'Conga_Product1__c': 'MED-SCN-001', 'Conga_Quantity__c': 0.0, 'Conga_List_Price__c': None, 'Conga_Unit_Price__c': None, 'Conga_Extended_Price_Materials__c': None, 'Conga_Unit_Services__c': None, 'Conga_Extended_Services__c': 0.0, 'Conga1_USA_List_Price__c': None}, {'attributes': {'type': 'Quote_Line__c', 'url': '/services/data/v43.0/sobjects/Quote_Line__c/a301k0000000cCdAAI'}, 'Quote__r': {'attributes': {'type': 'Quote', 'url': '/services/data/v43.0/sobjects/Quote/0Q01k0000000aTICAY'}, 'SAP_Quote_Number_Truncated__c': '5370615'}, 'Conga_Product1__c': 'MED-LIC-004', 'Conga_Quantity__c': 0.0, 'Conga_List_Price__c': None, 'Conga_Unit_Price__c': None, 'Conga_Extended_Price_Materials__c': None, 'Conga_Unit_Services__c': None, 'Conga_Extended_Services__c': 0.0, 'Conga1_USA_List_Price__c': None}, {'attributes': {'type': 'Quote_Line__c', 'url': '/services/data/v43.0/sobjects/Quote_Line__c/a301k0000000cCeAAI'}, 'Quote__r': {'attributes': {'type': 'Quote', 'url': '/services/data/v43.0/sobjects/Quote/0Q01k0000000aTICAY'}, 'SAP_Quote_Number_Truncated__c': '5370615'}, 'Conga_Product1__c': 'MED-LIC-005', 'Conga_Quantity__c': 0.0, 'Conga_List_Price__c': None, 'Conga_Unit_Price__c': None, 'Conga_Extended_Price_Materials__c': None, 'Conga_Unit_Services__c': None, 'Conga_Extended_Services__c': 0.0, 'Conga1_USA_List_Price__c': None}, {'attributes': {'type': 'Quote_Line__c', 'url': '/services/data/v43.0/sobjects/Quote_Line__c/a301k0000000cCfAAI'}, 'Quote__r': {'attributes': {'type': 'Quote', 'url': '/services/data/v43.0/sobjects/Quote/0Q01k0000000aTICAY'}, 'SAP_Quote_Number_Truncated__c': '5370615'}, 'Conga_Product1__c': 'MED-LIC-004-SV', 'Conga_Quantity__c': 0.0, 'Conga_List_Price__c': None, 'Conga_Unit_Price__c': None, 'Conga_Extended_Price_Materials__c': None, 'Conga_Unit_Services__c': None, 'Conga_Extended_Services__c': 0.0, 'Conga1_USA_List_Price__c': None}, {'attributes': {'type': 'Quote_Line__c', 'url': '/services/data/v43.0/sobjects/Quote_Line__c/a301k0000000cCgAAI'}, 'Quote__r': {'attributes': {'type': 'Quote', 'url': '/services/data/v43.0/sobjects/Quote/0Q01k0000000aTICAY'}, 'SAP_Quote_Number_Truncated__c': '5370615'}, 'Conga_Product1__c': 'MED-FRM-101-SV', 'Conga_Quantity__c': 0.0, 'Conga_List_Price__c': 234.69, 'Conga_Unit_Price__c': 105.0, 'Conga_Extended_Price_Materials__c': 421.23, 'Conga_Unit_Services__c': 105.0, 'Conga_Extended_Services__c': 105.0, 'Conga1_USA_List_Price__c': 20000.0}, {'attributes': {'type': 'Quote_Line__c', 'url': '/services/data/v43.0/sobjects/Quote_Line__c/a301k0000000cChAAI'}, 'Quote__r': {'attributes': {'type': 'Quote', 'url': '/services/data/v43.0/sobjects/Quote/0Q01k0000000aTICAY'}, 'SAP_Quote_Number_Truncated__c': '5370615'}, 'Conga_Product1__c': 'MED-AUX-102-SV', 'Conga_Quantity__c': 0.0, 'Conga_List_Price__c': 305.81, 'Conga_Unit_Price__c': 50.0, 'Conga_Extended_Price_Materials__c': 305.81, 'Conga_Unit_Services__c': 0.0, 'Conga_Extended_Services__c': 50.0, 'Conga1_USA_List_Price__c': 26060.0}, {'attributes': {'type': 'Quote_Line__c', 'url': '/services/data/v43.0/sobjects/Quote_Line__c/a301k0000000crNAAQ'}, 'Quote__r': {'attributes': {'type': 'Quote', 'url': '/services/data/v43.0/sobjects/Quote/0Q01k0000000aTICAY'}, 'SAP_Quote_Number_Truncated__c': '5370615'}, 'Conga_Product1__c': 'RENEWAL', 'Conga_Quantity__c': 2.0, 'Conga_List_Price__c': 0.01, 'Conga_Unit_Price__c': 0.01, 'Conga_Extended_Price_Materials__c': 0.02, 'Conga_Unit_Services__c': 0.0, 'Conga_Extended_Services__c': 0.0, 'Conga1_USA_List_Price__c': 0.0}]\n",
      "Records Fetched: 11\n",
      "['Quote__r.SAP_Quote_Number_Truncated__c', 'Conga_Product1__c', 'Conga_Quantity__c', 'Conga_List_Price__c', 'Conga_Unit_Price__c', 'Conga_Extended_Price_Materials__c', 'Conga_Unit_Services__c', 'Conga_Extended_Services__c', 'Conga1_USA_List_Price__c']\n"
     ]
    },
    {
     "ename": "NameError",
     "evalue": "name 'attributes' is not defined",
     "output_type": "error",
     "traceback": [
      "\u001b[1;31m---------------------------------------------------------------------------\u001b[0m",
      "\u001b[1;31mNameError\u001b[0m                                 Traceback (most recent call last)",
      "\u001b[1;32m<ipython-input-10-2ddac03ffc44>\u001b[0m in \u001b[0;36m<module>\u001b[1;34m\u001b[0m\n\u001b[0;32m     13\u001b[0m         \u001b[1;32mif\u001b[0m \u001b[0mfield\u001b[0m \u001b[1;32min\u001b[0m \u001b[0mobj\u001b[0m \u001b[1;32mand\u001b[0m \u001b[0mobj\u001b[0m\u001b[1;33m[\u001b[0m\u001b[0mfield\u001b[0m\u001b[1;33m]\u001b[0m \u001b[1;33m!=\u001b[0m \u001b[1;32mNone\u001b[0m\u001b[1;33m:\u001b[0m\u001b[1;33m\u001b[0m\u001b[1;33m\u001b[0m\u001b[0m\n\u001b[0;32m     14\u001b[0m             \u001b[0mdata\u001b[0m\u001b[1;33m.\u001b[0m\u001b[0mappend\u001b[0m\u001b[1;33m(\u001b[0m\u001b[0mobj\u001b[0m\u001b[1;33m[\u001b[0m\u001b[0mfield\u001b[0m\u001b[1;33m]\u001b[0m\u001b[1;33m)\u001b[0m\u001b[1;33m\u001b[0m\u001b[1;33m\u001b[0m\u001b[0m\n\u001b[1;32m---> 15\u001b[1;33m     \u001b[0mprint\u001b[0m\u001b[1;33m(\u001b[0m\u001b[0mdata\u001b[0m\u001b[1;33m[\u001b[0m\u001b[0mattributes\u001b[0m\u001b[1;33m]\u001b[0m\u001b[1;33m)\u001b[0m\u001b[1;33m\u001b[0m\u001b[1;33m\u001b[0m\u001b[0m\n\u001b[0m",
      "\u001b[1;31mNameError\u001b[0m: name 'attributes' is not defined"
     ]
    }
   ],
   "source": [
    "records = raw_response['records']\n",
    "\n",
    "print(records)\n",
    "total_size = raw_response['totalSize']\n",
    "print('Records Fetched: ' + str(len(records)))\n",
    "record_size += len(records)\n",
    "\n",
    "print(qlfields)\n",
    "\n",
    "for obj in records:\n",
    "    data = []\n",
    "    for field in qlfields:\n",
    "        if field in obj :\n",
    "        \n",
    "        #and obj[field] != None:\n",
    "            data.append(obj[field])\n",
    "            \n",
    "    print(data)         "
   ]
  },
  {
   "cell_type": "code",
   "execution_count": 13,
   "metadata": {},
   "outputs": [
    {
     "data": {
      "text/plain": [
       "list"
      ]
     },
     "execution_count": 13,
     "metadata": {},
     "output_type": "execute_result"
    }
   ],
   "source": [
    "import pandas as apd\n",
    "\n",
    "type(records)"
   ]
  },
  {
   "cell_type": "code",
   "execution_count": 7,
   "metadata": {},
   "outputs": [
    {
     "data": {
      "text/plain": [
       "['id',\n",
       " 'Conga_Product1__c',\n",
       " 'Conga_Quantity__c',\n",
       " 'Conga_List_Price__c',\n",
       " 'Conga_Unit_Price__c',\n",
       " 'Conga_Extended_Price_Materials__c',\n",
       " 'Conga_Unit_Services__c',\n",
       " 'Conga_Extended_Services__c',\n",
       " 'Conga1_USA_List_Price__c']"
      ]
     },
     "execution_count": 7,
     "metadata": {},
     "output_type": "execute_result"
    }
   ],
   "source": [
    "qlfields = ['id','Conga_Product1__c','Conga_Quantity__c','Conga_List_Price__c','Conga_Unit_Price__c','Conga_Extended_Price_Materials__c',\n",
    "'Conga_Unit_Services__c','Conga_Extended_Services__c','Conga1_USA_List_Price__c']\n",
    "            \n",
    "qlfields"
   ]
  },
  {
   "cell_type": "code",
   "execution_count": 19,
   "metadata": {},
   "outputs": [],
   "source": [
    "str1 = ','.join(qlfields)\n",
    "where = 'WHERE+Quote__r.SAP_Quote_Number_Truncated__c = \\'5370615\\''"
   ]
  },
  {
   "cell_type": "code",
   "execution_count": 12,
   "metadata": {},
   "outputs": [
    {
     "data": {
      "text/plain": [
       "'id,Conga_Product1__c,Conga_Quantity__c,Conga_List_Price__c,Conga_Unit_Price__c,Conga_Extended_Price_Materials__c,Conga_Unit_Services__c,Conga_Extended_Services__c,Conga1_USA_List_Price__c'"
      ]
     },
     "execution_count": 12,
     "metadata": {},
     "output_type": "execute_result"
    }
   ],
   "source": [
    "str1,"
   ]
  },
  {
   "cell_type": "code",
   "execution_count": 16,
   "metadata": {},
   "outputs": [],
   "source": [
    "zsoql = \"SELECT\" + str1 + \"+FROM Quote_Line__c+\""
   ]
  },
  {
   "cell_type": "code",
   "execution_count": 20,
   "metadata": {},
   "outputs": [
    {
     "data": {
      "text/plain": [
       "\"SELECTid,Conga_Product1__c,Conga_Quantity__c,Conga_List_Price__c,Conga_Unit_Price__c,Conga_Extended_Price_Materials__c,Conga_Unit_Services__c,Conga_Extended_Services__c,Conga1_USA_List_Price__c+FROM+WHERE+Quote__r.SAP_Quote_Number_Truncated__c = '5370615'\""
      ]
     },
     "execution_count": 20,
     "metadata": {},
     "output_type": "execute_result"
    }
   ],
   "source": [
    "zsoql+where"
   ]
  },
  {
   "cell_type": "code",
   "execution_count": 4,
   "metadata": {},
   "outputs": [
    {
     "ename": "ModuleNotFoundError",
     "evalue": "No module named 'api'",
     "output_type": "error",
     "traceback": [
      "\u001b[1;31m---------------------------------------------------------------------------\u001b[0m",
      "\u001b[1;31mModuleNotFoundError\u001b[0m                       Traceback (most recent call last)",
      "\u001b[1;32m<ipython-input-4-04cc5b66c61f>\u001b[0m in \u001b[0;36m<module>\u001b[1;34m\u001b[0m\n\u001b[1;32m----> 1\u001b[1;33m \u001b[1;32mfrom\u001b[0m \u001b[0msimple_salesforce\u001b[0m \u001b[1;32mimport\u001b[0m \u001b[0mSalesforce\u001b[0m\u001b[1;33m\u001b[0m\u001b[1;33m\u001b[0m\u001b[0m\n\u001b[0m",
      "\u001b[1;32m~\\Anaconda3\\lib\\site-packages\\simple_salesforce\\__init__.py\u001b[0m in \u001b[0;36m<module>\u001b[1;34m\u001b[0m\n\u001b[1;32m----> 1\u001b[1;33m \u001b[1;32mfrom\u001b[0m \u001b[0mapi\u001b[0m \u001b[1;32mimport\u001b[0m \u001b[0mSalesforceAPI\u001b[0m\u001b[1;33m\u001b[0m\u001b[1;33m\u001b[0m\u001b[0m\n\u001b[0m",
      "\u001b[1;31mModuleNotFoundError\u001b[0m: No module named 'api'"
     ]
    }
   ],
   "source": [
    "from simple_salesforce import Salesforce"
   ]
  },
  {
   "cell_type": "code",
   "execution_count": 14,
   "metadata": {},
   "outputs": [
    {
     "data": {
      "text/plain": [
       "list"
      ]
     },
     "execution_count": 14,
     "metadata": {},
     "output_type": "execute_result"
    }
   ],
   "source": [
    "type(records)"
   ]
  },
  {
   "cell_type": "code",
   "execution_count": 6,
   "metadata": {},
   "outputs": [],
   "source": [
    "import pandas as pd \n",
    "\n",
    "df = pd.DataFrame(records)"
   ]
  },
  {
   "cell_type": "code",
   "execution_count": 8,
   "metadata": {},
   "outputs": [
    {
     "name": "stdout",
     "output_type": "stream",
     "text": [
      "    Conga1_USA_List_Price__c  Conga_Extended_Price_Materials__c  \\\n",
      "0                       0.00                            1692.45   \n",
      "1                     699.90                             421.23   \n",
      "2                     512.34                             305.81   \n",
      "3                        NaN                                NaN   \n",
      "4                        NaN                                NaN   \n",
      "5                        NaN                                NaN   \n",
      "6                        NaN                                NaN   \n",
      "7                        NaN                                NaN   \n",
      "8                   20000.00                             421.23   \n",
      "9                   26060.00                             305.81   \n",
      "10                      0.00                               0.02   \n",
      "\n",
      "    Conga_Extended_Services__c  Conga_List_Price__c Conga_Product1__c  \\\n",
      "0                          0.0                 0.00           FREIGHT   \n",
      "1                        105.0               421.23       MED-FRM-101   \n",
      "2                         50.0               305.81       MED-AUX-102   \n",
      "3                          0.0                  NaN       MED-PCB-001   \n",
      "4                          0.0                  NaN       MED-SCN-001   \n",
      "5                          0.0                  NaN       MED-LIC-004   \n",
      "6                          0.0                  NaN       MED-LIC-005   \n",
      "7                          0.0                  NaN    MED-LIC-004-SV   \n",
      "8                        105.0               234.69    MED-FRM-101-SV   \n",
      "9                         50.0               305.81    MED-AUX-102-SV   \n",
      "10                         0.0                 0.01           RENEWAL   \n",
      "\n",
      "    Conga_Quantity__c  Conga_Unit_Price__c  Conga_Unit_Services__c  \\\n",
      "0                 1.0              1692.45                     0.0   \n",
      "1                 1.0               421.23                   105.0   \n",
      "2                 1.0               305.81                    50.0   \n",
      "3                 0.0                  NaN                     NaN   \n",
      "4                 0.0                  NaN                     NaN   \n",
      "5                 0.0                  NaN                     NaN   \n",
      "6                 0.0                  NaN                     NaN   \n",
      "7                 0.0                  NaN                     NaN   \n",
      "8                 0.0               105.00                   105.0   \n",
      "9                 0.0                50.00                     0.0   \n",
      "10                2.0                 0.01                     0.0   \n",
      "\n",
      "                                             Quote__r  \\\n",
      "0   {'attributes': {'type': 'Quote', 'url': '/serv...   \n",
      "1   {'attributes': {'type': 'Quote', 'url': '/serv...   \n",
      "2   {'attributes': {'type': 'Quote', 'url': '/serv...   \n",
      "3   {'attributes': {'type': 'Quote', 'url': '/serv...   \n",
      "4   {'attributes': {'type': 'Quote', 'url': '/serv...   \n",
      "5   {'attributes': {'type': 'Quote', 'url': '/serv...   \n",
      "6   {'attributes': {'type': 'Quote', 'url': '/serv...   \n",
      "7   {'attributes': {'type': 'Quote', 'url': '/serv...   \n",
      "8   {'attributes': {'type': 'Quote', 'url': '/serv...   \n",
      "9   {'attributes': {'type': 'Quote', 'url': '/serv...   \n",
      "10  {'attributes': {'type': 'Quote', 'url': '/serv...   \n",
      "\n",
      "                                           attributes  \n",
      "0   {'type': 'Quote_Line__c', 'url': '/services/da...  \n",
      "1   {'type': 'Quote_Line__c', 'url': '/services/da...  \n",
      "2   {'type': 'Quote_Line__c', 'url': '/services/da...  \n",
      "3   {'type': 'Quote_Line__c', 'url': '/services/da...  \n",
      "4   {'type': 'Quote_Line__c', 'url': '/services/da...  \n",
      "5   {'type': 'Quote_Line__c', 'url': '/services/da...  \n",
      "6   {'type': 'Quote_Line__c', 'url': '/services/da...  \n",
      "7   {'type': 'Quote_Line__c', 'url': '/services/da...  \n",
      "8   {'type': 'Quote_Line__c', 'url': '/services/da...  \n",
      "9   {'type': 'Quote_Line__c', 'url': '/services/da...  \n",
      "10  {'type': 'Quote_Line__c', 'url': '/services/da...  \n"
     ]
    }
   ],
   "source": [
    "print(df)\n"
   ]
  },
  {
   "cell_type": "code",
   "execution_count": 25,
   "metadata": {},
   "outputs": [
    {
     "name": "stdout",
     "output_type": "stream",
     "text": [
      "Index(['Conga1_USA_List_Price__c', 'Conga_Extended_Price_Materials__c',\n",
      "       'Conga_Extended_Services__c', 'Conga_List_Price__c',\n",
      "       'Conga_Product1__c', 'Conga_Quantity__c', 'Conga_Unit_Price__c',\n",
      "       'Conga_Unit_Services__c', 'Id', 'attributes'],\n",
      "      dtype='object')\n"
     ]
    }
   ],
   "source": [
    "print(df.columns)\n"
   ]
  },
  {
   "cell_type": "code",
   "execution_count": 31,
   "metadata": {},
   "outputs": [
    {
     "data": {
      "text/plain": [
       "Index(['A', 'B', 'C', 'D', 'E'], dtype='object')"
      ]
     },
     "execution_count": 31,
     "metadata": {},
     "output_type": "execute_result"
    }
   ],
   "source": [
    "type(df)"
   ]
  },
  {
   "cell_type": "code",
   "execution_count": 27,
   "metadata": {},
   "outputs": [],
   "source": [
    "# create a dictionary with five fields each  \n",
    "data = { \n",
    "    'A':['A1', 'A2', 'A3', 'A4', 'A5'],  \n",
    "    'B':['B1', 'B2', 'B3', 'B4', 'B5'],  \n",
    "    'C':['C1', 'C2', 'C3', 'C4', 'C5'],  \n",
    "    'D':['D1', 'D2', 'D3', 'D4', 'D5'],  \n",
    "    'E':['E1', 'E2', 'E3', 'E4', 'E5'] } \n",
    "  \n",
    "# Convert the dictionary into DataFrame  \n",
    "df = pd.DataFrame(data) "
   ]
  },
  {
   "cell_type": "code",
   "execution_count": 29,
   "metadata": {},
   "outputs": [
    {
     "name": "stdout",
     "output_type": "stream",
     "text": [
      "Index(['A', 'B', 'C', 'D', 'E'], dtype='object')\n"
     ]
    }
   ],
   "source": [
    "type(df)\n",
    "print(df.columns)"
   ]
  },
  {
   "cell_type": "code",
   "execution_count": 33,
   "metadata": {},
   "outputs": [
    {
     "data": {
      "text/plain": [
       "Index(['Conga1_USA_List_Price__c', 'Conga_Extended_Price_Materials__c',\n",
       "       'Conga_Extended_Services__c', 'Conga_List_Price__c',\n",
       "       'Conga_Product1__c', 'Conga_Quantity__c', 'Conga_Unit_Price__c',\n",
       "       'Conga_Unit_Services__c', 'Id', 'attributes'],\n",
       "      dtype='object')"
      ]
     },
     "execution_count": 33,
     "metadata": {},
     "output_type": "execute_result"
    }
   ],
   "source": [
    "df.columns"
   ]
  },
  {
   "cell_type": "code",
   "execution_count": 34,
   "metadata": {},
   "outputs": [
    {
     "data": {
      "text/plain": [
       "['id',\n",
       " 'Conga_Product1__c',\n",
       " 'Conga_Quantity__c',\n",
       " 'Conga_List_Price__c',\n",
       " 'Conga_Unit_Price__c',\n",
       " 'Conga_Extended_Price_Materials__c',\n",
       " 'Conga_Unit_Services__c',\n",
       " 'Conga_Extended_Services__c',\n",
       " 'Conga1_USA_List_Price__c']"
      ]
     },
     "execution_count": 34,
     "metadata": {},
     "output_type": "execute_result"
    }
   ],
   "source": [
    "qlfields"
   ]
  },
  {
   "cell_type": "code",
   "execution_count": 35,
   "metadata": {},
   "outputs": [],
   "source": [
    "df2 = pd.DataFrame(df,columns = qlfields)"
   ]
  },
  {
   "cell_type": "code",
   "execution_count": 36,
   "metadata": {},
   "outputs": [
    {
     "data": {
      "text/html": [
       "<div>\n",
       "<style scoped>\n",
       "    .dataframe tbody tr th:only-of-type {\n",
       "        vertical-align: middle;\n",
       "    }\n",
       "\n",
       "    .dataframe tbody tr th {\n",
       "        vertical-align: top;\n",
       "    }\n",
       "\n",
       "    .dataframe thead th {\n",
       "        text-align: right;\n",
       "    }\n",
       "</style>\n",
       "<table border=\"1\" class=\"dataframe\">\n",
       "  <thead>\n",
       "    <tr style=\"text-align: right;\">\n",
       "      <th></th>\n",
       "      <th>id</th>\n",
       "      <th>Conga_Product1__c</th>\n",
       "      <th>Conga_Quantity__c</th>\n",
       "      <th>Conga_List_Price__c</th>\n",
       "      <th>Conga_Unit_Price__c</th>\n",
       "      <th>Conga_Extended_Price_Materials__c</th>\n",
       "      <th>Conga_Unit_Services__c</th>\n",
       "      <th>Conga_Extended_Services__c</th>\n",
       "      <th>Conga1_USA_List_Price__c</th>\n",
       "    </tr>\n",
       "  </thead>\n",
       "  <tbody>\n",
       "    <tr>\n",
       "      <th>0</th>\n",
       "      <td>NaN</td>\n",
       "      <td>FREIGHT</td>\n",
       "      <td>1.0</td>\n",
       "      <td>0.00</td>\n",
       "      <td>1692.45</td>\n",
       "      <td>1692.45</td>\n",
       "      <td>0.0</td>\n",
       "      <td>0.0</td>\n",
       "      <td>0.00</td>\n",
       "    </tr>\n",
       "    <tr>\n",
       "      <th>1</th>\n",
       "      <td>NaN</td>\n",
       "      <td>MED-FRM-101</td>\n",
       "      <td>1.0</td>\n",
       "      <td>421.23</td>\n",
       "      <td>421.23</td>\n",
       "      <td>421.23</td>\n",
       "      <td>105.0</td>\n",
       "      <td>105.0</td>\n",
       "      <td>699.90</td>\n",
       "    </tr>\n",
       "    <tr>\n",
       "      <th>2</th>\n",
       "      <td>NaN</td>\n",
       "      <td>MED-AUX-102</td>\n",
       "      <td>1.0</td>\n",
       "      <td>305.81</td>\n",
       "      <td>305.81</td>\n",
       "      <td>305.81</td>\n",
       "      <td>50.0</td>\n",
       "      <td>50.0</td>\n",
       "      <td>512.34</td>\n",
       "    </tr>\n",
       "    <tr>\n",
       "      <th>3</th>\n",
       "      <td>NaN</td>\n",
       "      <td>MED-PCB-001</td>\n",
       "      <td>0.0</td>\n",
       "      <td>NaN</td>\n",
       "      <td>NaN</td>\n",
       "      <td>NaN</td>\n",
       "      <td>NaN</td>\n",
       "      <td>0.0</td>\n",
       "      <td>NaN</td>\n",
       "    </tr>\n",
       "    <tr>\n",
       "      <th>4</th>\n",
       "      <td>NaN</td>\n",
       "      <td>MED-SCN-001</td>\n",
       "      <td>0.0</td>\n",
       "      <td>NaN</td>\n",
       "      <td>NaN</td>\n",
       "      <td>NaN</td>\n",
       "      <td>NaN</td>\n",
       "      <td>0.0</td>\n",
       "      <td>NaN</td>\n",
       "    </tr>\n",
       "    <tr>\n",
       "      <th>5</th>\n",
       "      <td>NaN</td>\n",
       "      <td>MED-LIC-004</td>\n",
       "      <td>0.0</td>\n",
       "      <td>NaN</td>\n",
       "      <td>NaN</td>\n",
       "      <td>NaN</td>\n",
       "      <td>NaN</td>\n",
       "      <td>0.0</td>\n",
       "      <td>NaN</td>\n",
       "    </tr>\n",
       "    <tr>\n",
       "      <th>6</th>\n",
       "      <td>NaN</td>\n",
       "      <td>MED-LIC-005</td>\n",
       "      <td>0.0</td>\n",
       "      <td>NaN</td>\n",
       "      <td>NaN</td>\n",
       "      <td>NaN</td>\n",
       "      <td>NaN</td>\n",
       "      <td>0.0</td>\n",
       "      <td>NaN</td>\n",
       "    </tr>\n",
       "    <tr>\n",
       "      <th>7</th>\n",
       "      <td>NaN</td>\n",
       "      <td>MED-LIC-004-SV</td>\n",
       "      <td>0.0</td>\n",
       "      <td>NaN</td>\n",
       "      <td>NaN</td>\n",
       "      <td>NaN</td>\n",
       "      <td>NaN</td>\n",
       "      <td>0.0</td>\n",
       "      <td>NaN</td>\n",
       "    </tr>\n",
       "    <tr>\n",
       "      <th>8</th>\n",
       "      <td>NaN</td>\n",
       "      <td>MED-FRM-101-SV</td>\n",
       "      <td>0.0</td>\n",
       "      <td>234.69</td>\n",
       "      <td>105.00</td>\n",
       "      <td>421.23</td>\n",
       "      <td>105.0</td>\n",
       "      <td>105.0</td>\n",
       "      <td>20000.00</td>\n",
       "    </tr>\n",
       "    <tr>\n",
       "      <th>9</th>\n",
       "      <td>NaN</td>\n",
       "      <td>MED-AUX-102-SV</td>\n",
       "      <td>0.0</td>\n",
       "      <td>305.81</td>\n",
       "      <td>50.00</td>\n",
       "      <td>305.81</td>\n",
       "      <td>0.0</td>\n",
       "      <td>50.0</td>\n",
       "      <td>26060.00</td>\n",
       "    </tr>\n",
       "    <tr>\n",
       "      <th>10</th>\n",
       "      <td>NaN</td>\n",
       "      <td>RENEWAL</td>\n",
       "      <td>2.0</td>\n",
       "      <td>0.01</td>\n",
       "      <td>0.01</td>\n",
       "      <td>0.02</td>\n",
       "      <td>0.0</td>\n",
       "      <td>0.0</td>\n",
       "      <td>0.00</td>\n",
       "    </tr>\n",
       "  </tbody>\n",
       "</table>\n",
       "</div>"
      ],
      "text/plain": [
       "    id Conga_Product1__c  Conga_Quantity__c  Conga_List_Price__c  \\\n",
       "0  NaN           FREIGHT                1.0                 0.00   \n",
       "1  NaN       MED-FRM-101                1.0               421.23   \n",
       "2  NaN       MED-AUX-102                1.0               305.81   \n",
       "3  NaN       MED-PCB-001                0.0                  NaN   \n",
       "4  NaN       MED-SCN-001                0.0                  NaN   \n",
       "5  NaN       MED-LIC-004                0.0                  NaN   \n",
       "6  NaN       MED-LIC-005                0.0                  NaN   \n",
       "7  NaN    MED-LIC-004-SV                0.0                  NaN   \n",
       "8  NaN    MED-FRM-101-SV                0.0               234.69   \n",
       "9  NaN    MED-AUX-102-SV                0.0               305.81   \n",
       "10 NaN           RENEWAL                2.0                 0.01   \n",
       "\n",
       "    Conga_Unit_Price__c  Conga_Extended_Price_Materials__c  \\\n",
       "0               1692.45                            1692.45   \n",
       "1                421.23                             421.23   \n",
       "2                305.81                             305.81   \n",
       "3                   NaN                                NaN   \n",
       "4                   NaN                                NaN   \n",
       "5                   NaN                                NaN   \n",
       "6                   NaN                                NaN   \n",
       "7                   NaN                                NaN   \n",
       "8                105.00                             421.23   \n",
       "9                 50.00                             305.81   \n",
       "10                 0.01                               0.02   \n",
       "\n",
       "    Conga_Unit_Services__c  Conga_Extended_Services__c  \\\n",
       "0                      0.0                         0.0   \n",
       "1                    105.0                       105.0   \n",
       "2                     50.0                        50.0   \n",
       "3                      NaN                         0.0   \n",
       "4                      NaN                         0.0   \n",
       "5                      NaN                         0.0   \n",
       "6                      NaN                         0.0   \n",
       "7                      NaN                         0.0   \n",
       "8                    105.0                       105.0   \n",
       "9                      0.0                        50.0   \n",
       "10                     0.0                         0.0   \n",
       "\n",
       "    Conga1_USA_List_Price__c  \n",
       "0                       0.00  \n",
       "1                     699.90  \n",
       "2                     512.34  \n",
       "3                        NaN  \n",
       "4                        NaN  \n",
       "5                        NaN  \n",
       "6                        NaN  \n",
       "7                        NaN  \n",
       "8                   20000.00  \n",
       "9                   26060.00  \n",
       "10                      0.00  "
      ]
     },
     "execution_count": 36,
     "metadata": {},
     "output_type": "execute_result"
    }
   ],
   "source": [
    "df2"
   ]
  },
  {
   "cell_type": "code",
   "execution_count": 39,
   "metadata": {},
   "outputs": [
    {
     "name": "stdout",
     "output_type": "stream",
     "text": [
      "    id Conga_Product1__c  Conga_Quantity__c  Conga_List_Price__c  \\\n",
      "0  NaN           FREIGHT                1.0                 0.00   \n",
      "1  NaN       MED-FRM-101                1.0               421.23   \n",
      "2  NaN       MED-AUX-102                1.0               305.81   \n",
      "3  NaN       MED-PCB-001                0.0                  NaN   \n",
      "4  NaN       MED-SCN-001                0.0                  NaN   \n",
      "5  NaN       MED-LIC-004                0.0                  NaN   \n",
      "6  NaN       MED-LIC-005                0.0                  NaN   \n",
      "7  NaN    MED-LIC-004-SV                0.0                  NaN   \n",
      "8  NaN    MED-FRM-101-SV                0.0               234.69   \n",
      "9  NaN    MED-AUX-102-SV                0.0               305.81   \n",
      "10 NaN           RENEWAL                2.0                 0.01   \n",
      "\n",
      "    Conga_Unit_Price__c  Conga_Extended_Price_Materials__c  \\\n",
      "0               1692.45                            1692.45   \n",
      "1                421.23                             421.23   \n",
      "2                305.81                             305.81   \n",
      "3                   NaN                                NaN   \n",
      "4                   NaN                                NaN   \n",
      "5                   NaN                                NaN   \n",
      "6                   NaN                                NaN   \n",
      "7                   NaN                                NaN   \n",
      "8                105.00                             421.23   \n",
      "9                 50.00                             305.81   \n",
      "10                 0.01                               0.02   \n",
      "\n",
      "    Conga_Unit_Services__c  Conga_Extended_Services__c  \\\n",
      "0                      0.0                         0.0   \n",
      "1                    105.0                       105.0   \n",
      "2                     50.0                        50.0   \n",
      "3                      NaN                         0.0   \n",
      "4                      NaN                         0.0   \n",
      "5                      NaN                         0.0   \n",
      "6                      NaN                         0.0   \n",
      "7                      NaN                         0.0   \n",
      "8                    105.0                       105.0   \n",
      "9                      0.0                        50.0   \n",
      "10                     0.0                         0.0   \n",
      "\n",
      "    Conga1_USA_List_Price__c  \n",
      "0                       0.00  \n",
      "1                     699.90  \n",
      "2                     512.34  \n",
      "3                        NaN  \n",
      "4                        NaN  \n",
      "5                        NaN  \n",
      "6                        NaN  \n",
      "7                        NaN  \n",
      "8                   20000.00  \n",
      "9                   26060.00  \n",
      "10                      0.00  \n"
     ]
    }
   ],
   "source": [
    "print(df2)"
   ]
  },
  {
   "cell_type": "code",
   "execution_count": null,
   "metadata": {},
   "outputs": [],
   "source": []
  }
 ],
 "metadata": {
  "kernelspec": {
   "display_name": "Python 3",
   "language": "python",
   "name": "python3"
  },
  "language_info": {
   "codemirror_mode": {
    "name": "ipython",
    "version": 3
   },
   "file_extension": ".py",
   "mimetype": "text/x-python",
   "name": "python",
   "nbconvert_exporter": "python",
   "pygments_lexer": "ipython3",
   "version": "3.7.3"
  }
 },
 "nbformat": 4,
 "nbformat_minor": 2
}
