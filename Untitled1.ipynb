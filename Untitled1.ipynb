{
 "cells": [
  {
   "cell_type": "code",
   "execution_count": null,
   "metadata": {},
   "outputs": [],
   "source": []
  },
  {
   "cell_type": "code",
   "execution_count": 2,
   "metadata": {},
   "outputs": [
    {
     "name": "stdout",
     "output_type": "stream",
     "text": [
      "Enter number of terms:10\n",
      "Fibonacci sequence:\n",
      "0\n",
      "1\n",
      "1\n",
      "2\n",
      "3\n",
      "5\n",
      "8\n",
      "13\n",
      "21\n",
      "34\n"
     ]
    }
   ],
   "source": [
    "def fibonacci(n):\n",
    "    if(n <= 1):\n",
    "        return n\n",
    "    else:\n",
    "        return(fibonacci(n-1) + fibonacci(n-2))\n",
    "n = int(input(\"Enter number of terms:\"))\n",
    "print(\"Fibonacci sequence:\")\n",
    "for i in range(n):\n",
    "    print(fibonacci(i))"
   ]
  },
  {
   "cell_type": "code",
   "execution_count": 9,
   "metadata": {},
   "outputs": [
    {
     "name": "stdout",
     "output_type": "stream",
     "text": [
      "Received a Chunk\n",
      "Received a Chunk\n",
      "Received a Chunk\n"
     ]
    }
   ],
   "source": [
    "import requests\n",
    "url = \"https://www.bing.com/images/search?view=detailV2&ccid=wP3sYmMT&id=4A884227784B2F73E9A82AE1F72F2CA78AB7EDD6&thid=OIP.wP3sYmMTvse5STnV7-jfjwHaEK&mediaurl=http%3a%2f%2fwallpapercave.com%2fwp%2fgsueppU.jpg&exph=1080&expw=1920&q=forest&simid=608012366933659166&selectedIndex=0\"\n",
    "req = requests.get(url)\n",
    "with open('Forest2.jpg', 'wb') as fd:\n",
    "    for chunk in req.iter_content(chunk_size=50000):\n",
    "        print('Received a Chunk')\n",
    "        fd.write(chunk)"
   ]
  },
  {
   "cell_type": "code",
   "execution_count": 20,
   "metadata": {},
   "outputs": [
    {
     "name": "stdout",
     "output_type": "stream",
     "text": [
      "Python is 👌\n",
      "Python is 🍪\n"
     ]
    }
   ],
   "source": [
    "import emoji\n",
    " \n",
    "print(emoji.emojize('Python is :ok_hand:', use_aliases=True))\n",
    "print(emoji.emojize('Python is :cookie:'))"
   ]
  },
  {
   "cell_type": "code",
   "execution_count": 11,
   "metadata": {},
   "outputs": [
    {
     "name": "stdout",
     "output_type": "stream",
     "text": [
      "Collecting emoji\n",
      "  Downloading https://files.pythonhosted.org/packages/6c/ee/8cc0af26113508c8513dac40b1990b21d1d0136b3981a8b7b8a231a56c8d/emoji-0.5.2-py3-none-any.whl (41kB)\n",
      "Installing collected packages: emoji\n",
      "Successfully installed emoji-0.5.2\n",
      "Note: you may need to restart the kernel to use updated packages.\n"
     ]
    }
   ],
   "source": [
    "pip install emoji"
   ]
  },
  {
   "cell_type": "code",
   "execution_count": 17,
   "metadata": {},
   "outputs": [
    {
     "name": "stdout",
     "output_type": "stream",
     "text": [
      "Help on package emoji:\n",
      "\n",
      "NAME\n",
      "    emoji\n",
      "\n",
      "DESCRIPTION\n",
      "    emoji for Python\n",
      "    ~~~~~~~~~~~~~~~~\n",
      "    \n",
      "    emoji terminal output for Python.\n",
      "    \n",
      "        >>> import emoji\n",
      "        >>> print(emoji.emojize('Python is :thumbsup:', use_aliases=True))\n",
      "        Python is 👍\n",
      "        >> print(emoji.emojize('Python is :thumbs_up:'))\n",
      "        Python is 👍\n",
      "\n",
      "PACKAGE CONTENTS\n",
      "    core\n",
      "    unicode_codes\n",
      "\n",
      "DATA\n",
      "    EMOJI_ALIAS_UNICODE = {':+1:': '👍', ':-1:': '👎', ':100:': '💯', ':1234:...\n",
      "    EMOJI_UNICODE = {':1st_place_medal:': '🥇', ':2nd_place_medal:': '🥈', '...\n",
      "    UNICODE_EMOJI = {'#️⃣': ':keycap_#:', '*️⃣': ':keycap_*:', '0️⃣': ':ke...\n",
      "    UNICODE_EMOJI_ALIAS = {'#⃣': ':keycap_number_sign:', '#️⃣': ':keycap_#...\n",
      "    __email__ = 'carpedm20@gmail.com'\n",
      "    __license__ = '\\nNew BSD License\\n\\nCopyright (c) 2014-2015, Taeho...E...\n",
      "    __source__ = 'https://github.com/carpedm20/emoji/'\n",
      "\n",
      "VERSION\n",
      "    0.5.2\n",
      "\n",
      "AUTHOR\n",
      "    Taehoon Kim and Kevin Wurster\n",
      "\n",
      "FILE\n",
      "    c:\\users\\bedantika\\anaconda3\\lib\\site-packages\\emoji\\__init__.py\n",
      "\n",
      "\n"
     ]
    }
   ],
   "source": [
    "help(emoji)"
   ]
  },
  {
   "cell_type": "code",
   "execution_count": null,
   "metadata": {},
   "outputs": [],
   "source": []
  }
 ],
 "metadata": {
  "kernelspec": {
   "display_name": "Python 3",
   "language": "python",
   "name": "python3"
  },
  "language_info": {
   "codemirror_mode": {
    "name": "ipython",
    "version": 3
   },
   "file_extension": ".py",
   "mimetype": "text/x-python",
   "name": "python",
   "nbconvert_exporter": "python",
   "pygments_lexer": "ipython3",
   "version": "3.7.3"
  }
 },
 "nbformat": 4,
 "nbformat_minor": 2
}
