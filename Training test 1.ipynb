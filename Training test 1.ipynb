{
 "cells": [
  {
   "cell_type": "code",
   "execution_count": 1,
   "metadata": {},
   "outputs": [
    {
     "name": "stdout",
     "output_type": "stream",
     "text": [
      "hello world\n"
     ]
    }
   ],
   "source": [
    "print(\"hello world\")\n"
   ]
  },
  {
   "cell_type": "code",
   "execution_count": 2,
   "metadata": {},
   "outputs": [
    {
     "data": {
      "text/plain": [
       "8"
      ]
     },
     "execution_count": 2,
     "metadata": {},
     "output_type": "execute_result"
    }
   ],
   "source": [
    "2+6"
   ]
  },
  {
   "cell_type": "code",
   "execution_count": 4,
   "metadata": {},
   "outputs": [
    {
     "name": "stdout",
     "output_type": "stream",
     "text": [
      "[1, 'a', 'string', 3]\n"
     ]
    }
   ],
   "source": [
    "# Declaring a list \n",
    "L = [1, \"a\" , \"string\" , 1+2] \n",
    "print(L)"
   ]
  },
  {
   "cell_type": "code",
   "execution_count": 4,
   "metadata": {},
   "outputs": [
    {
     "name": "stdout",
     "output_type": "stream",
     "text": [
      "[1, 'a', 'string', 3]\n"
     ]
    }
   ],
   "source": [
    "# Declaring a list \n",
    "L = [1, \"a\" , \"string\" , 1+2] \n",
    "print(L) "
   ]
  },
  {
   "cell_type": "code",
   "execution_count": 5,
   "metadata": {},
   "outputs": [
    {
     "name": "stdout",
     "output_type": "stream",
     "text": [
      "[1, 'a', 'string', 3, 6]\n"
     ]
    }
   ],
   "source": [
    "L.append(6) \n",
    "print(L) "
   ]
  },
  {
   "cell_type": "code",
   "execution_count": 6,
   "metadata": {},
   "outputs": [
    {
     "name": "stdout",
     "output_type": "stream",
     "text": [
      "[1, 'a', 3, 6]\n"
     ]
    }
   ],
   "source": [
    "L.pop(2)\n",
    "print(L)"
   ]
  },
  {
   "cell_type": "code",
   "execution_count": 7,
   "metadata": {},
   "outputs": [
    {
     "name": "stdout",
     "output_type": "stream",
     "text": [
      "[1, 'a', 3]\n"
     ]
    }
   ],
   "source": [
    "L.pop()\n",
    "print(L)"
   ]
  },
  {
   "cell_type": "code",
   "execution_count": 8,
   "metadata": {},
   "outputs": [
    {
     "name": "stdout",
     "output_type": "stream",
     "text": [
      "1\n"
     ]
    }
   ],
   "source": [
    "print(L[0])"
   ]
  },
  {
   "cell_type": "code",
   "execution_count": 10,
   "metadata": {},
   "outputs": [
    {
     "name": "stdout",
     "output_type": "stream",
     "text": [
      "1\n"
     ]
    }
   ],
   "source": [
    "\n",
    "List = [1, 2, 3, 1, 2, 1, 2, 3, 2, 1] \n",
    "  \n",
    "# will check from index 2 to 3. \n",
    "print(List.index(2)) "
   ]
  },
  {
   "cell_type": "code",
   "execution_count": 16,
   "metadata": {},
   "outputs": [
    {
     "name": "stdout",
     "output_type": "stream",
     "text": [
      "6\n"
     ]
    }
   ],
   "source": [
    "\n",
    "List = [1, 2, 3, 1, 2, 1, 2, 3, 2, 1] \n",
    "  \n",
    "# will check from index 2 to 3. \n",
    "print(List.index(2,5,7)) "
   ]
  },
  {
   "cell_type": "code",
   "execution_count": 26,
   "metadata": {},
   "outputs": [],
   "source": [
    "class Thingy:\n",
    "    \n",
    "    def __init__(self, value):\n",
    "        #Initialize a Thingy.\n",
    "        self.value = value\n",
    "        \n",
    "    def showme(self):\n",
    "#Print this object to stdout.\"\n",
    "        print (\"value = %s\" % self.value)\n",
    "\n",
    "    \n"
   ]
  },
  {
   "cell_type": "code",
   "execution_count": 27,
   "metadata": {},
   "outputs": [
    {
     "name": "stdout",
     "output_type": "stream",
     "text": [
      "value = 10\n",
      "value = 30\n"
     ]
    }
   ],
   "source": [
    "t=Thingy(10)\n",
    "t.showme()\n",
    "t.value = 30 \n",
    "t.showme()"
   ]
  },
  {
   "cell_type": "code",
   "execution_count": null,
   "metadata": {},
   "outputs": [],
   "source": [
    "person = input('Enter your name: ')\n",
    "print('Hello ', person, '!', sep='')"
   ]
  },
  {
   "cell_type": "code",
   "execution_count": 1,
   "metadata": {},
   "outputs": [
    {
     "name": "stdout",
     "output_type": "stream",
     "text": [
      "> <ipython-input-1-4d41ae0ff96b>(14)<module>()\n",
      "-> uniq_items.append(x)\n",
      "(Pdb) \n",
      "(Pdb) \n",
      "(Pdb) where\n",
      "  c:\\users\\bedantika\\anaconda3\\lib\\runpy.py(193)_run_module_as_main()\n",
      "-> \"__main__\", mod_spec)\n",
      "  c:\\users\\bedantika\\anaconda3\\lib\\runpy.py(85)_run_code()\n",
      "-> exec(code, run_globals)\n",
      "  c:\\users\\bedantika\\anaconda3\\lib\\site-packages\\ipykernel_launcher.py(16)<module>()\n",
      "-> app.launch_new_instance()\n",
      "  c:\\users\\bedantika\\anaconda3\\lib\\site-packages\\traitlets\\config\\application.py(658)launch_instance()\n",
      "-> app.start()\n",
      "  c:\\users\\bedantika\\anaconda3\\lib\\site-packages\\ipykernel\\kernelapp.py(505)start()\n",
      "-> self.io_loop.start()\n",
      "  c:\\users\\bedantika\\anaconda3\\lib\\site-packages\\tornado\\platform\\asyncio.py(148)start()\n",
      "-> self.asyncio_loop.run_forever()\n",
      "  c:\\users\\bedantika\\anaconda3\\lib\\asyncio\\base_events.py(539)run_forever()\n",
      "-> self._run_once()\n",
      "  c:\\users\\bedantika\\anaconda3\\lib\\asyncio\\base_events.py(1775)_run_once()\n",
      "-> handle._run()\n",
      "  c:\\users\\bedantika\\anaconda3\\lib\\asyncio\\events.py(88)_run()\n",
      "-> self._context.run(self._callback, *self._args)\n",
      "  c:\\users\\bedantika\\anaconda3\\lib\\site-packages\\tornado\\ioloop.py(690)<lambda>()\n",
      "-> lambda f: self._run_callback(functools.partial(callback, future))\n",
      "  c:\\users\\bedantika\\anaconda3\\lib\\site-packages\\tornado\\ioloop.py(743)_run_callback()\n",
      "-> ret = callback()\n",
      "  c:\\users\\bedantika\\anaconda3\\lib\\site-packages\\tornado\\gen.py(781)inner()\n",
      "-> self.run()\n",
      "  c:\\users\\bedantika\\anaconda3\\lib\\site-packages\\tornado\\gen.py(742)run()\n",
      "-> yielded = self.gen.send(value)\n",
      "  c:\\users\\bedantika\\anaconda3\\lib\\site-packages\\ipykernel\\kernelbase.py(357)process_one()\n",
      "-> yield gen.maybe_future(dispatch(*args))\n",
      "  c:\\users\\bedantika\\anaconda3\\lib\\site-packages\\tornado\\gen.py(209)wrapper()\n",
      "-> yielded = next(result)\n",
      "  c:\\users\\bedantika\\anaconda3\\lib\\site-packages\\ipykernel\\kernelbase.py(267)dispatch_shell()\n",
      "-> yield gen.maybe_future(handler(stream, idents, msg))\n",
      "  c:\\users\\bedantika\\anaconda3\\lib\\site-packages\\tornado\\gen.py(209)wrapper()\n",
      "-> yielded = next(result)\n",
      "  c:\\users\\bedantika\\anaconda3\\lib\\site-packages\\ipykernel\\kernelbase.py(534)execute_request()\n",
      "-> user_expressions, allow_stdin,\n",
      "  c:\\users\\bedantika\\anaconda3\\lib\\site-packages\\tornado\\gen.py(209)wrapper()\n",
      "-> yielded = next(result)\n",
      "  c:\\users\\bedantika\\anaconda3\\lib\\site-packages\\ipykernel\\ipkernel.py(294)do_execute()\n",
      "-> res = shell.run_cell(code, store_history=store_history, silent=silent)\n",
      "  c:\\users\\bedantika\\anaconda3\\lib\\site-packages\\ipykernel\\zmqshell.py(536)run_cell()\n",
      "-> return super(ZMQInteractiveShell, self).run_cell(*args, **kwargs)\n",
      "  c:\\users\\bedantika\\anaconda3\\lib\\site-packages\\ipython\\core\\interactiveshell.py(2848)run_cell()\n",
      "-> raw_cell, store_history, silent, shell_futures)\n",
      "  c:\\users\\bedantika\\anaconda3\\lib\\site-packages\\ipython\\core\\interactiveshell.py(2874)_run_cell()\n",
      "-> return runner(coro)\n",
      "  c:\\users\\bedantika\\anaconda3\\lib\\site-packages\\ipython\\core\\async_helpers.py(67)_pseudo_sync_runner()\n",
      "-> coro.send(None)\n",
      "  c:\\users\\bedantika\\anaconda3\\lib\\site-packages\\ipython\\core\\interactiveshell.py(3049)run_cell_async()\n",
      "-> interactivity=interactivity, compiler=compiler, result=result)\n",
      "  c:\\users\\bedantika\\anaconda3\\lib\\site-packages\\ipython\\core\\interactiveshell.py(3214)run_ast_nodes()\n",
      "-> if (yield from self.run_code(code, result)):\n",
      "  c:\\users\\bedantika\\anaconda3\\lib\\site-packages\\ipython\\core\\interactiveshell.py(3296)run_code()\n",
      "-> exec(code_obj, self.user_global_ns, self.user_ns)\n",
      "> <ipython-input-1-4d41ae0ff96b>(14)<module>()\n",
      "-> uniq_items.append(x)\n",
      "(Pdb) x\n",
      "10\n",
      "(Pdb) STEP\n",
      "*** NameError: name 'STEP' is not defined\n",
      "(Pdb) step\n",
      "> <ipython-input-1-4d41ae0ff96b>(16)<module>()\n",
      "-> dup_items.add(x)\n",
      "(Pdb) x\n",
      "10\n",
      "(Pdb) step\n",
      "> <ipython-input-1-4d41ae0ff96b>(10)<module>()\n",
      "-> for x in a:\n",
      "(Pdb) x\n",
      "10\n",
      "(Pdb) continue\n",
      "> <ipython-input-1-4d41ae0ff96b>(14)<module>()\n",
      "-> uniq_items.append(x)\n",
      "(Pdb) x\n",
      "20\n",
      "(Pdb) continue\n",
      "> <ipython-input-1-4d41ae0ff96b>(13)<module>()\n",
      "-> breakpoint()\n",
      "(Pdb) x\n",
      "30\n",
      "(Pdb) continue\n",
      "> <ipython-input-1-4d41ae0ff96b>(14)<module>()\n",
      "-> uniq_items.append(x)\n",
      "(Pdb) x\n",
      "50\n",
      "(Pdb) continue\n",
      "> <ipython-input-1-4d41ae0ff96b>(13)<module>()\n",
      "-> breakpoint()\n",
      "(Pdb) x\n",
      "60\n",
      "(Pdb) c\n",
      "> <ipython-input-1-4d41ae0ff96b>(14)<module>()\n",
      "-> uniq_items.append(x)\n",
      "(Pdb) c\n",
      "> <ipython-input-1-4d41ae0ff96b>(13)<module>()\n",
      "-> breakpoint()\n",
      "(Pdb) c\n",
      "[10, 20, 30, 40, 50, 60, 80]\n"
     ]
    }
   ],
   "source": [
    "\n",
    "a = [10,20,30,20,10,50,60,40,80,50,40]\n",
    "\n",
    "\n",
    "\n",
    "dup_items = set()\n",
    "\n",
    "uniq_items = []\n",
    "\n",
    "for x in a:\n",
    "\n",
    "    if x not in dup_items:\n",
    "        breakpoint()\n",
    "        uniq_items.append(x)\n",
    "\n",
    "        dup_items.add(x)\n",
    "\n",
    "\n",
    "\n",
    "print(sorted(dup_items))"
   ]
  },
  {
   "cell_type": "code",
   "execution_count": 5,
   "metadata": {},
   "outputs": [
    {
     "name": "stdout",
     "output_type": "stream",
     "text": [
      "[5, 25]\n"
     ]
    }
   ],
   "source": [
    "a = [5, 10, 15, 20, 25]\n",
    "b = [a[0],a[-1]]\n",
    "print(b)\n"
   ]
  },
  {
   "cell_type": "code",
   "execution_count": 8,
   "metadata": {},
   "outputs": [
    {
     "name": "stdout",
     "output_type": "stream",
     "text": [
      "5 [1, 'a', 'string', 3, 6]\n"
     ]
    }
   ],
   "source": [
    "varlist = [1, \"a\" , \"string\" , 1+2] \n",
    "varlist.append(6) \n",
    "\n",
    "print(len(varlist), varlist)"
   ]
  },
  {
   "cell_type": "code",
   "execution_count": 5,
   "metadata": {},
   "outputs": [
    {
     "name": "stdout",
     "output_type": "stream",
     "text": [
      "None\n"
     ]
    }
   ],
   "source": [
    "print(varlist.append(6))"
   ]
  },
  {
   "cell_type": "code",
   "execution_count": 11,
   "metadata": {},
   "outputs": [
    {
     "name": "stdout",
     "output_type": "stream",
     "text": [
      "[1, 'a', 'string', 'inserted', 'inserted', 'inserted', 3, 6]\n"
     ]
    }
   ],
   "source": [
    "varlist.insert(3,\"inserted\") \n",
    "print(varlist)"
   ]
  },
  {
   "cell_type": "code",
   "execution_count": 12,
   "metadata": {},
   "outputs": [
    {
     "name": "stdout",
     "output_type": "stream",
     "text": [
      "5 [1, 'a', 'string', 3, 6]\n"
     ]
    }
   ],
   "source": [
    "varlist = [1, \"a\" , \"string\" , 1+2] \n",
    "varlist.append(6) \n",
    "\n",
    "print(len(varlist), varlist) "
   ]
  },
  {
   "cell_type": "code",
   "execution_count": 14,
   "metadata": {},
   "outputs": [
    {
     "name": "stdout",
     "output_type": "stream",
     "text": [
      "[1, 'a', 'string', 'inserted', 3, 6]\n"
     ]
    }
   ],
   "source": [
    "varlist.insert(3, \"inserted\") \n",
    "print(varlist)"
   ]
  },
  {
   "cell_type": "code",
   "execution_count": 16,
   "metadata": {},
   "outputs": [
    {
     "name": "stdout",
     "output_type": "stream",
     "text": [
      "1\n"
     ]
    }
   ],
   "source": [
    "print(varlist.index(\"a\"))"
   ]
  },
  {
   "cell_type": "code",
   "execution_count": 21,
   "metadata": {},
   "outputs": [
    {
     "data": {
      "text/plain": [
       "2"
      ]
     },
     "execution_count": 21,
     "metadata": {},
     "output_type": "execute_result"
    }
   ],
   "source": [
    "list1 = [1,2,3,4,3,5,4,3,3]\n",
    "list1.count(4)\n"
   ]
  },
  {
   "cell_type": "code",
   "execution_count": 39,
   "metadata": {},
   "outputs": [
    {
     "name": "stdout",
     "output_type": "stream",
     "text": [
      "4\n",
      "18\n",
      "[1, 1, 1, 1, 2, 2, 2, 2, 3, 3]\n",
      "[3, 3, 2, 2, 2, 2, 1, 1, 1, 1]\n"
     ]
    }
   ],
   "source": [
    "list = [1, 2, 3, 1, 2, 1, 2, 3, 2, 1] \n",
    "print(list.index(2,2,7)) \n",
    "list.count(3)\n",
    "print(sum(list))\n",
    "list.sort()\n",
    "print(list)\n",
    "list.reverse()\n",
    "print(list)"
   ]
  },
  {
   "cell_type": "code",
   "execution_count": 40,
   "metadata": {},
   "outputs": [
    {
     "name": "stdout",
     "output_type": "stream",
     "text": [
      "[3, 3, 2, 2, 2, 2, 1, 1, 1]\n"
     ]
    }
   ],
   "source": [
    "list.remove(1)\n",
    "print(list)"
   ]
  },
  {
   "cell_type": "code",
   "execution_count": 42,
   "metadata": {},
   "outputs": [
    {
     "ename": "SyntaxError",
     "evalue": "invalid character in identifier (<ipython-input-42-bc07e4631572>, line 1)",
     "output_type": "error",
     "traceback": [
      "\u001b[1;36m  File \u001b[1;32m\"<ipython-input-42-bc07e4631572>\"\u001b[1;36m, line \u001b[1;32m1\u001b[0m\n\u001b[1;33m    List = [“Orange”,“Mango\",“Apple”]\u001b[0m\n\u001b[1;37m                   ^\u001b[0m\n\u001b[1;31mSyntaxError\u001b[0m\u001b[1;31m:\u001b[0m invalid character in identifier\n"
     ]
    }
   ],
   "source": [
    "List = [“Orange”,“Mango\",“Apple”]\n",
    "list.remove(\"mango\")\n",
    "prnt(list)"
   ]
  },
  {
   "cell_type": "code",
   "execution_count": 43,
   "metadata": {},
   "outputs": [
    {
     "name": "stdout",
     "output_type": "stream",
     "text": [
      "list now :  ['physics', 'chemistry', 'maths']\n",
      "['physics', 'chemistry', 'maths']\n"
     ]
    }
   ],
   "source": [
    "list1 = ['physics', 'Biology', 'chemistry', 'maths']\n",
    "list1.remove('Biology')\n",
    "print (\"list now : \", list1)\n",
    "print(list1)"
   ]
  },
  {
   "cell_type": "code",
   "execution_count": 49,
   "metadata": {},
   "outputs": [
    {
     "name": "stdout",
     "output_type": "stream",
     "text": [
      "chemistry\n"
     ]
    }
   ],
   "source": [
    "list1 = ['physics', 'chemistry', 'maths']\n",
    "print(list1.pop(1))"
   ]
  },
  {
   "cell_type": "code",
   "execution_count": 50,
   "metadata": {},
   "outputs": [
    {
     "name": "stdout",
     "output_type": "stream",
     "text": [
      "['physics', 'maths']\n"
     ]
    }
   ],
   "source": [
    "print(list1)"
   ]
  },
  {
   "cell_type": "code",
   "execution_count": 51,
   "metadata": {},
   "outputs": [
    {
     "name": "stdout",
     "output_type": "stream",
     "text": [
      "[1, 9, 25, 49, 81]\n"
     ]
    }
   ],
   "source": [
    "list  =  [x ** 2  for x in range (1, 11)   if  x % 2 == 1] \n",
    "print(list)"
   ]
  },
  {
   "cell_type": "code",
   "execution_count": 52,
   "metadata": {},
   "outputs": [
    {
     "name": "stdout",
     "output_type": "stream",
     "text": [
      "[102.56, 97.7, 99.14, 100.03999999999999]\n"
     ]
    }
   ],
   "source": [
    "Celsius = [39.2, 36.5, 37.3, 37.8] \n",
    "Fahrenheit = [ ((float(9)/5)*x + 32) for x in Celsius ] \n",
    "print(Fahrenheit) \n"
   ]
  },
  {
   "cell_type": "code",
   "execution_count": 58,
   "metadata": {},
   "outputs": [
    {
     "name": "stdout",
     "output_type": "stream",
     "text": [
      "['a', 'b', 'c']\n"
     ]
    }
   ],
   "source": [
    "letterlist = [x.lower() for x in ['A','B','C']]\n",
    "print(letterlist)"
   ]
  },
  {
   "cell_type": "code",
   "execution_count": 60,
   "metadata": {},
   "outputs": [
    {
     "name": "stdout",
     "output_type": "stream",
     "text": [
      "['begin', [1, 2, 3], 'end']\n",
      "2\n"
     ]
    }
   ],
   "source": [
    "s = [1,2,3]\n",
    "t = ['begin', s, 'end']\n",
    "print(t)\n",
    "print(t[1][1])"
   ]
  },
  {
   "cell_type": "code",
   "execution_count": 61,
   "metadata": {},
   "outputs": [
    {
     "name": "stdout",
     "output_type": "stream",
     "text": [
      "[1, 3, 5, 'a', 'b', 'c']\n"
     ]
    }
   ],
   "source": [
    "l1 = [1,3,5]\n",
    "l2 = ['a','b','c']\n",
    "print(l1+l2)"
   ]
  },
  {
   "cell_type": "code",
   "execution_count": 69,
   "metadata": {},
   "outputs": [
    {
     "name": "stdout",
     "output_type": "stream",
     "text": [
      "[3, 4]\n"
     ]
    }
   ],
   "source": [
    "l = [1,2,3,4,5,6,7]\n",
    "print(l[2:4])"
   ]
  },
  {
   "cell_type": "code",
   "execution_count": 74,
   "metadata": {},
   "outputs": [
    {
     "name": "stdout",
     "output_type": "stream",
     "text": [
      "2\n",
      "[3, 4]\n",
      "False\n",
      "[1, 2, 3, 4, 5, 1, 2, 3, 4, 5]\n"
     ]
    },
    {
     "data": {
      "text/plain": [
       "5"
      ]
     },
     "execution_count": 74,
     "metadata": {},
     "output_type": "execute_result"
    }
   ],
   "source": [
    "list = [1,2,3,4,5]\n",
    "print(list[1]) \n",
    "print(list[2:4]) \n",
    "print(7 in list)\n",
    "print(list*2)\n",
    "len(list)\n"
   ]
  },
  {
   "cell_type": "code",
   "execution_count": 18,
   "metadata": {},
   "outputs": [
    {
     "name": "stdout",
     "output_type": "stream",
     "text": [
      "dict_keys(['eggs', 'sausage', 'bacon', 'spam'])  \n",
      "\n",
      "dict_values([2, 1, 1, 500])\n"
     ]
    }
   ],
   "source": [
    "dishes = {'eggs': 2, 'sausage': 1, 'bacon': 1, 'spam': 500}\n",
    "keys = dishes.keys()\n",
    "values = dishes.values()\n",
    "print(keys, \" \\n\")\n",
    "print(values)"
   ]
  },
  {
   "cell_type": "code",
   "execution_count": 21,
   "metadata": {},
   "outputs": [
    {
     "name": "stdout",
     "output_type": "stream",
     "text": [
      "dict_items([('eggs', 2), ('sausage', 1), ('bacon', 1), ('spam', 500)])\n"
     ]
    }
   ],
   "source": [
    "print(dishes.items())"
   ]
  },
  {
   "cell_type": "code",
   "execution_count": 39,
   "metadata": {},
   "outputs": [
    {
     "name": "stdout",
     "output_type": "stream",
     "text": [
      "{1: 10, 2: 20, 3: 30, 4: 40, 5: 50, 6: 60}\n",
      "True\n"
     ]
    }
   ],
   "source": [
    "dic1={1:10 , 2:20}\n",
    "dic2={3:30, 4:40}\n",
    "dic3={5:50, 6:60}\n",
    "dic4 = {}\n",
    "for d in (dic1, dic2, dic3): dic4.update(d)\n",
    "print(dic4)\n",
    "\n",
    "print(1 in dic4)"
   ]
  },
  {
   "cell_type": "code",
   "execution_count": 38,
   "metadata": {},
   "outputs": [
    {
     "ename": "AttributeError",
     "evalue": "'dict' object has no attribute 'has_key'",
     "output_type": "error",
     "traceback": [
      "\u001b[1;31m---------------------------------------------------------------------------\u001b[0m",
      "\u001b[1;31mAttributeError\u001b[0m                            Traceback (most recent call last)",
      "\u001b[1;32m<ipython-input-38-69515ad91ad7>\u001b[0m in \u001b[0;36m<module>\u001b[1;34m\u001b[0m\n\u001b[0;32m      1\u001b[0m \u001b[0mdict\u001b[0m \u001b[1;33m=\u001b[0m \u001b[1;33m{\u001b[0m\u001b[1;34m'Name'\u001b[0m\u001b[1;33m:\u001b[0m \u001b[1;34m'Zara'\u001b[0m\u001b[1;33m,\u001b[0m \u001b[1;34m'Age'\u001b[0m\u001b[1;33m:\u001b[0m \u001b[1;36m7\u001b[0m\u001b[1;33m}\u001b[0m\u001b[1;33m\u001b[0m\u001b[1;33m\u001b[0m\u001b[0m\n\u001b[0;32m      2\u001b[0m \u001b[1;33m\u001b[0m\u001b[0m\n\u001b[1;32m----> 3\u001b[1;33m \u001b[0mprint\u001b[0m \u001b[1;33m(\u001b[0m\u001b[1;34m\"Value : %s\"\u001b[0m \u001b[1;33m%\u001b[0m  \u001b[0mdict\u001b[0m\u001b[1;33m.\u001b[0m\u001b[0mhas_key\u001b[0m\u001b[1;33m(\u001b[0m\u001b[1;34m'Age'\u001b[0m\u001b[1;33m)\u001b[0m\u001b[1;33m)\u001b[0m\u001b[1;33m\u001b[0m\u001b[1;33m\u001b[0m\u001b[0m\n\u001b[0m\u001b[0;32m      4\u001b[0m \u001b[0mprint\u001b[0m \u001b[1;33m(\u001b[0m\u001b[1;34m\"Value : %s\"\u001b[0m \u001b[1;33m%\u001b[0m  \u001b[0mdict\u001b[0m\u001b[1;33m.\u001b[0m\u001b[0mhas_key\u001b[0m\u001b[1;33m(\u001b[0m\u001b[1;34m'Sex'\u001b[0m\u001b[1;33m)\u001b[0m\u001b[1;33m)\u001b[0m\u001b[1;33m\u001b[0m\u001b[1;33m\u001b[0m\u001b[0m\n",
      "\u001b[1;31mAttributeError\u001b[0m: 'dict' object has no attribute 'has_key'"
     ]
    }
   ],
   "source": [
    "dict1 = {'Name': 'Zara', 'Age': 7}\n",
    "\n",
    "print (\"Value : %s\" %  dict1.has_key('Age'))\n",
    "print (\"Value : %s\" %  dict1.has_key('Sex'))"
   ]
  },
  {
   "cell_type": "code",
   "execution_count": 48,
   "metadata": {},
   "outputs": [
    {
     "name": "stdout",
     "output_type": "stream",
     "text": [
      "{'a': 100, 'b': 200}\n",
      "{'a': 4, 'b': 200}\n",
      "a b\n"
     ]
    }
   ],
   "source": [
    "d1 = {'a': 100, 'b': 200}\n",
    "d = d1.copy()\n",
    "d2 = d1\n",
    "d2['a'] = 2 \n",
    "d1['a'] = 4\n",
    "print(d)\n",
    "print(d1)\n",
    "print(*d2)"
   ]
  },
  {
   "cell_type": "code",
   "execution_count": 61,
   "metadata": {},
   "outputs": [],
   "source": [
    "file = open(\"demo99.txt\",\"w\") \n",
    " \n",
    " \n",
    "file.write('BBBBBBBBHello Worl') \n",
    " \n",
    "file.write('This is our new text fil') \n",
    " \n",
    "file.write('and this is another line.') \n",
    " \n",
    "file.write('Why? Because we can do it this easily.') \n",
    " \n",
    " \n",
    "file.close()"
   ]
  },
  {
   "cell_type": "code",
   "execution_count": 67,
   "metadata": {},
   "outputs": [
    {
     "data": {
      "text/plain": [
       "'C:\\\\Users\\\\Bedantika'"
      ]
     },
     "execution_count": 67,
     "metadata": {},
     "output_type": "execute_result"
    }
   ],
   "source": [
    "import os \n",
    "os.getcwd()"
   ]
  },
  {
   "cell_type": "code",
   "execution_count": 68,
   "metadata": {},
   "outputs": [],
   "source": [
    "import pandas as pd "
   ]
  },
  {
   "cell_type": "code",
   "execution_count": 72,
   "metadata": {},
   "outputs": [
    {
     "ename": "SyntaxError",
     "evalue": "(unicode error) 'unicodeescape' codec can't decode bytes in position 2-3: truncated \\UXXXXXXXX escape (<ipython-input-72-acd0a143fa0c>, line 6)",
     "output_type": "error",
     "traceback": [
      "\u001b[1;36m  File \u001b[1;32m\"<ipython-input-72-acd0a143fa0c>\"\u001b[1;36m, line \u001b[1;32m6\u001b[0m\n\u001b[1;33m    data = pd.read_csv(\"C:\\Users\\Bedantika\\Documents\\Python Training\\test.csv\", index_col =\"Name\" )\u001b[0m\n\u001b[1;37m                      ^\u001b[0m\n\u001b[1;31mSyntaxError\u001b[0m\u001b[1;31m:\u001b[0m (unicode error) 'unicodeescape' codec can't decode bytes in position 2-3: truncated \\UXXXXXXXX escape\n"
     ]
    }
   ],
   "source": [
    " \n",
    "# importing pandas module \n",
    "import pandas as pd \n",
    "  \n",
    "# making data frame from csv file \n",
    "data = pd.read_csv(\"C:\\Users\\Bedantika\\Documents\\Python Training\\test.csv\", index_col =\"Name\" ) \n",
    "  \n",
    "# Convert the dictionary into DataFrame \n",
    "df = pd.DataFrame(data) \n",
    "  \n",
    "\n",
    "  \n",
    "# Observe the result \n",
    "print(df) "
   ]
  },
  {
   "cell_type": "code",
   "execution_count": 27,
   "metadata": {
    "scrolled": true
   },
   "outputs": [
    {
     "name": "stdout",
     "output_type": "stream",
     "text": [
      "[0, 1, 2, 23, 45, 83, 84, 85, 86]\n",
      "(86, 85)\n"
     ]
    }
   ],
   "source": [
    "a_list = [84,84,86,86,85,85,85,83,23,45,84,1,2,0]\n",
    "\n",
    "def  first_second(a_list):\n",
    "     set_list = (sorted(set(a_list)))\n",
    "     print(set_list) \n",
    "    \n",
    "     return set_list[-1] , set_list[-2]\n",
    "\n",
    "    \n",
    "print (first_second(a_list))\n",
    "        "
   ]
  },
  {
   "cell_type": "code",
   "execution_count": 7,
   "metadata": {},
   "outputs": [],
   "source": [
    "def week(i):\n",
    "        switcher={\n",
    "                0:'Sunday',\n",
    "                1:'Monday',\n",
    "                2:'Tuesday',\n",
    "                3:'Wednesday',\n",
    "                4:'Thursday',\n",
    "                5:'Friday',\n",
    "                6:'Saturday'\n",
    "             }\n",
    "        return switcher.get(i,\"Invalid day of week\")\n"
   ]
  },
  {
   "cell_type": "code",
   "execution_count": 9,
   "metadata": {},
   "outputs": [
    {
     "data": {
      "text/plain": [
       "'Sunday'"
      ]
     },
     "execution_count": 9,
     "metadata": {},
     "output_type": "execute_result"
    }
   ],
   "source": [
    "week(0)\n"
   ]
  },
  {
   "cell_type": "code",
   "execution_count": 11,
   "metadata": {},
   "outputs": [
    {
     "name": "stdout",
     "output_type": "stream",
     "text": [
      "Enter number to get its factorial10\n",
      "[1, 2, 3, 4, 5, 6, 7, 8, 9, 10]\n",
      "3628800\n",
      "3628800\n"
     ]
    }
   ],
   "source": [
    "import functools\n",
    "import math\n",
    "x = int(input(\"Enter number to get its factorial\"))\n",
    "\n",
    "list = []\n",
    "for y in range(1,x + 1):\n",
    "    list.append(y)\n",
    "print(list)    \n",
    "print(functools.reduce(lambda x,y : x*y ,list))   \n",
    "print(math.factorial(x))"
   ]
  },
  {
   "cell_type": "code",
   "execution_count": 7,
   "metadata": {},
   "outputs": [
    {
     "name": "stdout",
     "output_type": "stream",
     "text": [
      "['2002', '2009', '2016', '2023', '2037', '2044', '2051', '2058', '2072', '2079', '2086', '2093', '2107', '2114', '2121', '2128', '2142', '2149', '2156', '2163', '2177', '2184', '2191', '2198', '2212', '2219', '2226', '2233', '2247', '2254', '2261', '2268', '2282', '2289', '2296', '2303', '2317', '2324', '2331', '2338', '2352', '2359', '2366', '2373', '2387', '2394', '2401', '2408', '2422', '2429', '2436', '2443', '2457', '2464', '2471', '2478', '2492', '2499', '2506', '2513', '2527', '2534', '2541', '2548', '2562', '2569', '2576', '2583', '2597', '2604', '2611', '2618', '2632', '2639', '2646', '2653', '2667', '2674', '2681', '2688', '2702', '2709', '2716', '2723', '2737', '2744', '2751', '2758', '2772', '2779', '2786', '2793', '2807', '2814', '2821', '2828', '2842', '2849', '2856', '2863', '2877', '2884', '2891', '2898', '2912', '2919', '2926', '2933', '2947', '2954', '2961', '2968', '2982', '2989', '2996', '3003', '3017', '3024', '3031', '3038', '3052', '3059', '3066', '3073', '3087', '3094', '3101', '3108', '3122', '3129', '3136', '3143', '3157', '3164', '3171', '3178', '3192', '3199']\n"
     ]
    }
   ],
   "source": [
    "list = [ str(x) for x in range (2000,3200 + 1) if x % 7 == 0 and x%5 != 0]\n",
    "\n",
    "print(list)"
   ]
  },
  {
   "cell_type": "code",
   "execution_count": 4,
   "metadata": {},
   "outputs": [
    {
     "name": "stdout",
     "output_type": "stream",
     "text": [
      "2002,2009,2016,2023,2037,2044,2051,2058,2072,2079,2086,2093,2107,2114,2121,2128,2142,2149,2156,2163,2177,2184,2191,2198,2212,2219,2226,2233,2247,2254,2261,2268,2282,2289,2296,2303,2317,2324,2331,2338,2352,2359,2366,2373,2387,2394,2401,2408,2422,2429,2436,2443,2457,2464,2471,2478,2492,2499,2506,2513,2527,2534,2541,2548,2562,2569,2576,2583,2597,2604,2611,2618,2632,2639,2646,2653,2667,2674,2681,2688,2702,2709,2716,2723,2737,2744,2751,2758,2772,2779,2786,2793,2807,2814,2821,2828,2842,2849,2856,2863,2877,2884,2891,2898,2912,2919,2926,2933,2947,2954,2961,2968,2982,2989,2996,3003,3017,3024,3031,3038,3052,3059,3066,3073,3087,3094,3101,3108,3122,3129,3136,3143,3157,3164,3171,3178,3192,3199\n"
     ]
    }
   ],
   "source": [
    "l=[]\n",
    "for i in range(2000, 3201):\n",
    "    if (i%7==0) and (i%5!=0):\n",
    "        l.append(str(i))\n",
    "\n",
    "print(','.join(l)) "
   ]
  },
  {
   "cell_type": "code",
   "execution_count": 8,
   "metadata": {},
   "outputs": [
    {
     "name": "stdout",
     "output_type": "stream",
     "text": [
      "lists are same\n"
     ]
    }
   ],
   "source": [
    "list.sort()\n",
    "l.sort()\n",
    "if list == l:\n",
    "    print( \"lists are same\")\n"
   ]
  },
  {
   "cell_type": "code",
   "execution_count": 6,
   "metadata": {},
   "outputs": [
    {
     "name": "stdout",
     "output_type": "stream",
     "text": [
      "['2002', '2009', '2016', '2023', '2037', '2044', '2051', '2058', '2072', '2079']\n",
      "[2002, 2009, 2016, 2023, 2037, 2044, 2051, 2058, 2072, 2079]\n"
     ]
    }
   ],
   "source": [
    "print(l[0:10])\n",
    "print(list[0:10])"
   ]
  },
  {
   "cell_type": "code",
   "execution_count": 19,
   "metadata": {},
   "outputs": [
    {
     "name": "stdout",
     "output_type": "stream",
     "text": [
      "{'pear', 'cherry'}\n",
      "{'apple', 'orange', 'mango'}\n"
     ]
    }
   ],
   "source": [
    "basket = { 'apple','orange','apple','mango','pear','pear'}\n",
    "\n",
    "\n",
    "basket2 = {'apple','orange','apple','mango','cherry'}\n",
    "print(basket ^ basket2)\n",
    "print(basket & basket2)"
   ]
  },
  {
   "cell_type": "code",
   "execution_count": 12,
   "metadata": {},
   "outputs": [
    {
     "name": "stdout",
     "output_type": "stream",
     "text": [
      "deleveled Deleveled\n",
      "deleveled\n",
      "True\n"
     ]
    }
   ],
   "source": [
    "def is_palindrome(word):\n",
    "    \n",
    "    str = word.lower()\n",
    "    print(str,word)\n",
    "    \n",
    "    str2 = str[::-1]\n",
    "    \n",
    "    \n",
    "    print(str2)\n",
    "    if word.lower()== word.lower()[::-1]:\n",
    "        \n",
    "        return True\n",
    "    else:\n",
    "        return False\n",
    "    \n",
    "print(is_palindrome('Deleveled'))"
   ]
  },
  {
   "cell_type": "code",
   "execution_count": 18,
   "metadata": {},
   "outputs": [
    {
     "name": "stdout",
     "output_type": "stream",
     "text": [
      "1-2-3-4-5\n"
     ]
    }
   ],
   "source": [
    "l = ['1','2','3','4','5']\n",
    "str = '-'.join(l)\n",
    "print(str)"
   ]
  },
  {
   "cell_type": "code",
   "execution_count": 21,
   "metadata": {},
   "outputs": [
    {
     "name": "stdout",
     "output_type": "stream",
     "text": [
      "(1, 2, 3, 4)\n",
      "[1, 2, 3, 4]\n",
      "['c', 'a', 'b']\n"
     ]
    }
   ],
   "source": [
    "l = [1,2,3,4]\n",
    "t = tuple(l)\n",
    "l2 = list(t)\n",
    "print(t)\n",
    "print(l2)\n",
    "set = {'a','b','c'}\n",
    "l3 = list(set)\n",
    "\n",
    "print(l3)"
   ]
  },
  {
   "cell_type": "code",
   "execution_count": 23,
   "metadata": {},
   "outputs": [
    {
     "name": "stdout",
     "output_type": "stream",
     "text": [
      "(1, 2, 3, 4)\n"
     ]
    },
    {
     "ename": "NameError",
     "evalue": "name 't' is not defined",
     "output_type": "error",
     "traceback": [
      "\u001b[1;31m---------------------------------------------------------------------------\u001b[0m",
      "\u001b[1;31mNameError\u001b[0m                                 Traceback (most recent call last)",
      "\u001b[1;32m<ipython-input-23-69190952b81a>\u001b[0m in \u001b[0;36m<module>\u001b[1;34m\u001b[0m\n\u001b[0;32m      2\u001b[0m \u001b[0mprint\u001b[0m\u001b[1;33m(\u001b[0m\u001b[0mt\u001b[0m\u001b[1;33m)\u001b[0m\u001b[1;33m\u001b[0m\u001b[1;33m\u001b[0m\u001b[0m\n\u001b[0;32m      3\u001b[0m \u001b[1;32mdel\u001b[0m\u001b[1;33m(\u001b[0m\u001b[0mt\u001b[0m\u001b[1;33m)\u001b[0m\u001b[1;33m\u001b[0m\u001b[1;33m\u001b[0m\u001b[0m\n\u001b[1;32m----> 4\u001b[1;33m \u001b[0mprint\u001b[0m\u001b[1;33m(\u001b[0m\u001b[0mt\u001b[0m\u001b[1;33m)\u001b[0m\u001b[1;33m\u001b[0m\u001b[1;33m\u001b[0m\u001b[0m\n\u001b[0m",
      "\u001b[1;31mNameError\u001b[0m: name 't' is not defined"
     ]
    }
   ],
   "source": [
    "t = (1,2,3,4)\n",
    "print(t)\n",
    "del(t)\n",
    "print(t)"
   ]
  },
  {
   "cell_type": "code",
   "execution_count": 24,
   "metadata": {},
   "outputs": [
    {
     "name": "stdout",
     "output_type": "stream",
     "text": [
      "[]\n"
     ]
    }
   ],
   "source": [
    "print(list(range(0)) )"
   ]
  },
  {
   "cell_type": "code",
   "execution_count": 33,
   "metadata": {},
   "outputs": [
    {
     "name": "stdout",
     "output_type": "stream",
     "text": [
      "[]\n"
     ]
    }
   ],
   "source": [
    "l = list(range(1,0))\n",
    "print(l)"
   ]
  },
  {
   "cell_type": "code",
   "execution_count": 37,
   "metadata": {},
   "outputs": [
    {
     "name": "stdout",
     "output_type": "stream",
     "text": [
      "{'John': 'Jenny', 'Charles': 'Christy', 'Mike': 'Monica'}\n"
     ]
    }
   ],
   "source": [
    "a = (\"John\", \"Charles\", \"Mike\")\n",
    "b = (\"Jenny\", \"Christy\", \"Monica\", \"Vicky\")\n",
    "x = dict(zip(a, b))\n",
    "print(x)"
   ]
  },
  {
   "cell_type": "code",
   "execution_count": 40,
   "metadata": {},
   "outputs": [
    {
     "data": {
      "text/plain": [
       "1886801684917"
      ]
     },
     "execution_count": 40,
     "metadata": {},
     "output_type": "execute_result"
    }
   ],
   "source": [
    "import functools\n",
    "list = [1,2,3,4,5,6]\n",
    "functools.reduce( lambda x,y: x + y , list)"
   ]
  },
  {
   "cell_type": "code",
   "execution_count": 69,
   "metadata": {},
   "outputs": [
    {
     "name": "stdout",
     "output_type": "stream",
     "text": [
      "[(1, 1), (2, 2), (3, 6), (4, 24), (5, 120), (6, 720)]\n"
     ]
    }
   ],
   "source": [
    "import math\n",
    "l1 = [1,2,3,4,5,6]\n",
    "l = [(x,math.factorial(x)) for x in l1]\n",
    "print(l)"
   ]
  },
  {
   "cell_type": "code",
   "execution_count": 47,
   "metadata": {},
   "outputs": [
    {
     "name": "stdout",
     "output_type": "stream",
     "text": [
      "{1, 3, 5, 6, 7}\n"
     ]
    }
   ],
   "source": [
    "a = {1,2,3,3,3,6,8,9}\n",
    "b = {2,5,7,8,9}\n",
    "print(b ^ a)"
   ]
  },
  {
   "cell_type": "code",
   "execution_count": 48,
   "metadata": {},
   "outputs": [
    {
     "name": "stdout",
     "output_type": "stream",
     "text": [
      "[[5, 1, 5], [5, 2, 10], [5, 3, 15], [5, 4, 20], [5, 5, 25], [5, 6, 30], [5, 7, 35], [5, 8, 40], [5, 9, 45], [5, 10, 50]]\n"
     ]
    }
   ],
   "source": [
    "a=5\n",
    "mp = [[a,i,a*i] for i in range(1,11)]\n",
    "print(mp)"
   ]
  },
  {
   "cell_type": "code",
   "execution_count": 49,
   "metadata": {},
   "outputs": [
    {
     "name": "stdout",
     "output_type": "stream",
     "text": [
      "ans1: [[1, 1], [2, 2], [3, 6], [4, 24], [5, 120], [6, 720]]\n"
     ]
    }
   ],
   "source": [
    "from math import factorial \n",
    "l = [1,2,3,4,5,6] \n",
    "ans1 = [[i,factorial(i)] for i in l]\n",
    "print(\"ans1:\",ans1)\n"
   ]
  },
  {
   "cell_type": "code",
   "execution_count": 50,
   "metadata": {},
   "outputs": [
    {
     "name": "stdout",
     "output_type": "stream",
     "text": [
      "ans2: [[1, 1], [2, 2], [3, 6], [4, 24], [5, 120], [6, 720]]\n"
     ]
    }
   ],
   "source": [
    "tup2 = lambda n : [n, factorial(n)]\n",
    "ans2 = [tup2(n) for n in l]\n",
    "print(\"ans2:\",ans2)"
   ]
  },
  {
   "cell_type": "code",
   "execution_count": 52,
   "metadata": {},
   "outputs": [
    {
     "ename": "SyntaxError",
     "evalue": "invalid syntax (<ipython-input-52-8e21402d44dd>, line 2)",
     "output_type": "error",
     "traceback": [
      "\u001b[1;36m  File \u001b[1;32m\"<ipython-input-52-8e21402d44dd>\"\u001b[1;36m, line \u001b[1;32m2\u001b[0m\n\u001b[1;33m    ms=set{range(1,41)} # 1- 40 -> both math and science\u001b[0m\n\u001b[1;37m          ^\u001b[0m\n\u001b[1;31mSyntaxError\u001b[0m\u001b[1;31m:\u001b[0m invalid syntax\n"
     ]
    }
   ],
   "source": [
    "# create a dummy roll number\n",
    "ms=set{range(1,41)} # 1- 40 -> both math and science\n",
    "s=set{list(range(1,41)}+list{range(41,41+180))} # 41 to next -> only science\n",
    "m=set(list(range(1,41))+list(range(221,221+140))) # 221 to additional 140 -> just math\n",
    "#print(ms)\n",
    "#print(s)\n",
    "#print(m)\n",
    "\n",
    "print(\"science but not math:\",len(s-m))\n",
    "print(\"math but not science:\",len(m-s))\n",
    "print(\"Either math or science:\",len(m^s))"
   ]
  },
  {
   "cell_type": "code",
   "execution_count": 53,
   "metadata": {},
   "outputs": [
    {
     "ename": "TypeError",
     "evalue": "'float' object cannot be interpreted as an integer",
     "output_type": "error",
     "traceback": [
      "\u001b[1;31m---------------------------------------------------------------------------\u001b[0m",
      "\u001b[1;31mTypeError\u001b[0m                                 Traceback (most recent call last)",
      "\u001b[1;32m<ipython-input-53-bad5560bfb11>\u001b[0m in \u001b[0;36m<module>\u001b[1;34m\u001b[0m\n\u001b[1;32m----> 1\u001b[1;33m \u001b[1;32mfor\u001b[0m \u001b[0mnum\u001b[0m \u001b[1;32min\u001b[0m \u001b[0mrange\u001b[0m\u001b[1;33m(\u001b[0m\u001b[1;36m0\u001b[0m\u001b[1;33m,\u001b[0m \u001b[1;36m5.5\u001b[0m\u001b[1;33m,\u001b[0m \u001b[1;36m0.1\u001b[0m\u001b[1;33m)\u001b[0m\u001b[1;33m:\u001b[0m\u001b[1;33m\u001b[0m\u001b[1;33m\u001b[0m\u001b[0m\n\u001b[0m\u001b[0;32m      2\u001b[0m     \u001b[0mprint\u001b[0m \u001b[1;33m(\u001b[0m\u001b[0mnum\u001b[0m\u001b[1;33m)\u001b[0m\u001b[1;33m\u001b[0m\u001b[1;33m\u001b[0m\u001b[0m\n",
      "\u001b[1;31mTypeError\u001b[0m: 'float' object cannot be interpreted as an integer"
     ]
    }
   ],
   "source": [
    "for num in range(0, 5.5, 0.1):\n",
    "    print (num)"
   ]
  },
  {
   "cell_type": "code",
   "execution_count": 54,
   "metadata": {},
   "outputs": [
    {
     "name": "stdout",
     "output_type": "stream",
     "text": [
      "99\n"
     ]
    }
   ],
   "source": [
    "print(ord(\"c\"))"
   ]
  },
  {
   "cell_type": "code",
   "execution_count": 55,
   "metadata": {},
   "outputs": [
    {
     "name": "stdout",
     "output_type": "stream",
     "text": [
      "['a', 'b', 'c', 'd', 'e', 'f', 'g', 'h', 'i', 'j', 'k', 'l', 'm', 'n', 'o', 'p', 'q', 'r', 's', 't', 'u', 'v', 'w', 'x', 'y', 'z']\n"
     ]
    }
   ],
   "source": [
    "l = [chr(i) for i in range(ord('a'),ord('z')+1)]\n",
    "print(l)"
   ]
  },
  {
   "cell_type": "code",
   "execution_count": 56,
   "metadata": {},
   "outputs": [
    {
     "name": "stdout",
     "output_type": "stream",
     "text": [
      "c\n"
     ]
    }
   ],
   "source": [
    "print(chr(99))\n"
   ]
  },
  {
   "cell_type": "code",
   "execution_count": 57,
   "metadata": {},
   "outputs": [
    {
     "name": "stdout",
     "output_type": "stream",
     "text": [
      "[1, 3, 4, 5, 5, 5, 6, 7, 2]\n"
     ]
    }
   ],
   "source": [
    "l = [1,2,3,4,5,5,5,6,7,2]\n",
    "l.remove(2)\n",
    "print(l)"
   ]
  },
  {
   "cell_type": "code",
   "execution_count": 59,
   "metadata": {},
   "outputs": [
    {
     "name": "stdout",
     "output_type": "stream",
     "text": [
      "[1, 3, 4, 3]\n"
     ]
    }
   ],
   "source": [
    "x = [1, 2, 3, 4, 2, 2, 3]\n",
    "while 2 in x: \n",
    "    x.remove(2)\n",
    "print(x)\n"
   ]
  },
  {
   "cell_type": "code",
   "execution_count": 73,
   "metadata": {},
   "outputs": [
    {
     "name": "stdout",
     "output_type": "stream",
     "text": [
      "[1, 3, 3, 4]\n"
     ]
    }
   ],
   "source": [
    "x = [1,2,3,2,2,2,3,4]\n",
    "\n",
    "print(list(filter(lambda a: a != 2, x))) \n",
    "\n"
   ]
  },
  {
   "cell_type": "code",
   "execution_count": 77,
   "metadata": {},
   "outputs": [
    {
     "ename": "TypeError",
     "evalue": "sorted expected 1 arguments, got 2",
     "output_type": "error",
     "traceback": [
      "\u001b[1;31m---------------------------------------------------------------------------\u001b[0m",
      "\u001b[1;31mTypeError\u001b[0m                                 Traceback (most recent call last)",
      "\u001b[1;32m<ipython-input-77-5033ba3f4239>\u001b[0m in \u001b[0;36m<module>\u001b[1;34m\u001b[0m\n\u001b[0;32m      1\u001b[0m \u001b[0ma\u001b[0m \u001b[1;33m=\u001b[0m \u001b[1;33m[\u001b[0m\u001b[1;36m5\u001b[0m\u001b[1;33m,\u001b[0m \u001b[1;36m1\u001b[0m\u001b[1;33m,\u001b[0m \u001b[1;36m4\u001b[0m\u001b[1;33m,\u001b[0m \u001b[1;36m3\u001b[0m\u001b[1;33m]\u001b[0m\u001b[1;33m\u001b[0m\u001b[1;33m\u001b[0m\u001b[0m\n\u001b[0;32m      2\u001b[0m \u001b[0mb\u001b[0m\u001b[1;33m=\u001b[0m \u001b[1;33m[\u001b[0m\u001b[1;34m\"r\"\u001b[0m\u001b[1;33m,\u001b[0m\u001b[1;34m\"e\"\u001b[0m\u001b[1;33m,\u001b[0m\u001b[1;34m\"z\"\u001b[0m\u001b[1;33m,\u001b[0m\u001b[1;34m\"d\"\u001b[0m\u001b[1;33m]\u001b[0m\u001b[1;33m\u001b[0m\u001b[1;33m\u001b[0m\u001b[0m\n\u001b[1;32m----> 3\u001b[1;33m \u001b[0mprint\u001b[0m\u001b[1;33m(\u001b[0m\u001b[0msorted\u001b[0m\u001b[1;33m(\u001b[0m\u001b[0ma\u001b[0m\u001b[1;33m,\u001b[0m\u001b[0mb\u001b[0m\u001b[1;33m)\u001b[0m\u001b[1;33m)\u001b[0m  \u001b[1;31m## [1, 3, 4, 5]\u001b[0m\u001b[1;33m\u001b[0m\u001b[1;33m\u001b[0m\u001b[0m\n\u001b[0m\u001b[0;32m      4\u001b[0m \u001b[0mprint\u001b[0m\u001b[1;33m(\u001b[0m\u001b[0ma\u001b[0m\u001b[1;33m)\u001b[0m \u001b[1;31m## [5, 1, 4, 3]\u001b[0m\u001b[1;33m\u001b[0m\u001b[1;33m\u001b[0m\u001b[0m\n",
      "\u001b[1;31mTypeError\u001b[0m: sorted expected 1 arguments, got 2"
     ]
    }
   ],
   "source": [
    "a = [5, 1, 4, 3]\n",
    "b= [\"r\",\"e\",\"z\",\"d\"]\n",
    "print(sorted(a,b))  ## [1, 3, 4, 5]\n",
    "print(a) ## [5, 1, 4, 3]"
   ]
  },
  {
   "cell_type": "code",
   "execution_count": 68,
   "metadata": {},
   "outputs": [],
   "source": [
    "del list"
   ]
  },
  {
   "cell_type": "code",
   "execution_count": 85,
   "metadata": {},
   "outputs": [
    {
     "ename": "TypeError",
     "evalue": "'<' not supported between instances of 'str' and 'int'",
     "output_type": "error",
     "traceback": [
      "\u001b[1;31m---------------------------------------------------------------------------\u001b[0m",
      "\u001b[1;31mTypeError\u001b[0m                                 Traceback (most recent call last)",
      "\u001b[1;32m<ipython-input-85-66a7c49ba80a>\u001b[0m in \u001b[0;36m<module>\u001b[1;34m\u001b[0m\n\u001b[0;32m      1\u001b[0m \u001b[0ml\u001b[0m \u001b[1;33m=\u001b[0m \u001b[1;33m[\u001b[0m\u001b[1;36m1\u001b[0m\u001b[1;33m,\u001b[0m\u001b[1;36m2\u001b[0m\u001b[1;33m,\u001b[0m\u001b[1;36m3\u001b[0m\u001b[1;33m,\u001b[0m\u001b[1;36m4\u001b[0m\u001b[1;33m,\u001b[0m\u001b[1;34m\"s\"\u001b[0m\u001b[1;33m,\u001b[0m\u001b[1;34m\"e\"\u001b[0m\u001b[1;33m,\u001b[0m\u001b[1;34m\"g\"\u001b[0m\u001b[1;33m,\u001b[0m\u001b[1;33m[\u001b[0m\u001b[1;36m3\u001b[0m\u001b[1;33m,\u001b[0m\u001b[1;36m5\u001b[0m\u001b[1;33m,\u001b[0m\u001b[1;36m6\u001b[0m\u001b[1;33m]\u001b[0m\u001b[1;33m]\u001b[0m\u001b[1;33m\u001b[0m\u001b[1;33m\u001b[0m\u001b[0m\n\u001b[1;32m----> 2\u001b[1;33m \u001b[0mprint\u001b[0m\u001b[1;33m(\u001b[0m\u001b[0msorted\u001b[0m\u001b[1;33m(\u001b[0m\u001b[0ml\u001b[0m\u001b[1;33m)\u001b[0m\u001b[1;33m)\u001b[0m\u001b[1;33m\u001b[0m\u001b[1;33m\u001b[0m\u001b[0m\n\u001b[0m",
      "\u001b[1;31mTypeError\u001b[0m: '<' not supported between instances of 'str' and 'int'"
     ]
    }
   ],
   "source": [
    "l = [1,2,3,4,\"s\",\"e\",\"g\",[3,5,6]]\n",
    "print(sorted(l))"
   ]
  },
  {
   "cell_type": "code",
   "execution_count": 84,
   "metadata": {},
   "outputs": [
    {
     "ename": "TypeError",
     "evalue": "'>' not supported between instances of 'list' and 'int'",
     "output_type": "error",
     "traceback": [
      "\u001b[1;31m---------------------------------------------------------------------------\u001b[0m",
      "\u001b[1;31mTypeError\u001b[0m                                 Traceback (most recent call last)",
      "\u001b[1;32m<ipython-input-84-f8599b88ef85>\u001b[0m in \u001b[0;36m<module>\u001b[1;34m\u001b[0m\n\u001b[0;32m      1\u001b[0m \u001b[0mt\u001b[0m \u001b[1;33m=\u001b[0m \u001b[1;33m(\u001b[0m\u001b[1;36m1\u001b[0m\u001b[1;33m,\u001b[0m\u001b[1;36m2\u001b[0m\u001b[1;33m,\u001b[0m\u001b[1;36m3\u001b[0m\u001b[1;33m,\u001b[0m\u001b[1;36m4\u001b[0m\u001b[1;33m,\u001b[0m\u001b[1;33m[\u001b[0m\u001b[1;36m3\u001b[0m\u001b[1;33m,\u001b[0m\u001b[1;36m5\u001b[0m\u001b[1;33m,\u001b[0m\u001b[1;36m6\u001b[0m\u001b[1;33m]\u001b[0m\u001b[1;33m)\u001b[0m\u001b[1;33m\u001b[0m\u001b[1;33m\u001b[0m\u001b[0m\n\u001b[1;32m----> 2\u001b[1;33m \u001b[0mprint\u001b[0m\u001b[1;33m(\u001b[0m\u001b[0mmax\u001b[0m\u001b[1;33m(\u001b[0m\u001b[0mt\u001b[0m\u001b[1;33m)\u001b[0m\u001b[1;33m)\u001b[0m\u001b[1;33m\u001b[0m\u001b[1;33m\u001b[0m\u001b[0m\n\u001b[0m",
      "\u001b[1;31mTypeError\u001b[0m: '>' not supported between instances of 'list' and 'int'"
     ]
    }
   ],
   "source": [
    "t = (1,2,3,4,[3,5,6])\n",
    "print(max(t))"
   ]
  },
  {
   "cell_type": "code",
   "execution_count": 90,
   "metadata": {},
   "outputs": [
    {
     "name": "stdout",
     "output_type": "stream",
     "text": [
      "['d', 'bb', 'ccc', 'aaaa']\n"
     ]
    },
    {
     "ename": "TypeError",
     "evalue": "'str' object is not callable",
     "output_type": "error",
     "traceback": [
      "\u001b[1;31m---------------------------------------------------------------------------\u001b[0m",
      "\u001b[1;31mTypeError\u001b[0m                                 Traceback (most recent call last)",
      "\u001b[1;32m<ipython-input-90-71aee396a502>\u001b[0m in \u001b[0;36m<module>\u001b[1;34m\u001b[0m\n\u001b[0;32m      1\u001b[0m \u001b[0mstrs\u001b[0m \u001b[1;33m=\u001b[0m \u001b[1;33m[\u001b[0m\u001b[1;34m'ccc'\u001b[0m\u001b[1;33m,\u001b[0m \u001b[1;34m'aaaa'\u001b[0m\u001b[1;33m,\u001b[0m \u001b[1;34m'd'\u001b[0m\u001b[1;33m,\u001b[0m \u001b[1;34m'bb'\u001b[0m\u001b[1;33m]\u001b[0m\u001b[1;33m\u001b[0m\u001b[1;33m\u001b[0m\u001b[0m\n\u001b[0;32m      2\u001b[0m \u001b[0mprint\u001b[0m\u001b[1;33m(\u001b[0m\u001b[0msorted\u001b[0m\u001b[1;33m(\u001b[0m\u001b[0mstrs\u001b[0m\u001b[1;33m,\u001b[0m \u001b[0mkey\u001b[0m\u001b[1;33m=\u001b[0m\u001b[0mlen\u001b[0m\u001b[1;33m)\u001b[0m\u001b[1;33m)\u001b[0m \u001b[1;31m## ['d', 'bb', 'ccc', 'aaaa']\u001b[0m\u001b[1;33m\u001b[0m\u001b[1;33m\u001b[0m\u001b[0m\n\u001b[1;32m----> 3\u001b[1;33m \u001b[0mprint\u001b[0m\u001b[1;33m(\u001b[0m\u001b[0msorted\u001b[0m\u001b[1;33m(\u001b[0m\u001b[0mstrs\u001b[0m\u001b[1;33m,\u001b[0m \u001b[0mkey\u001b[0m\u001b[1;33m=\u001b[0m\u001b[0mstr\u001b[0m\u001b[1;33m.\u001b[0m\u001b[0mlower\u001b[0m\u001b[1;33m(\u001b[0m\u001b[1;33m)\u001b[0m\u001b[1;33m)\u001b[0m\u001b[1;33m)\u001b[0m\u001b[1;33m\u001b[0m\u001b[1;33m\u001b[0m\u001b[0m\n\u001b[0m",
      "\u001b[1;31mTypeError\u001b[0m: 'str' object is not callable"
     ]
    }
   ],
   "source": [
    "strs = ['ccc', 'aaaa', 'd', 'bb']\n",
    "print(sorted(strs, key=len)) ## ['d', 'bb', 'ccc', 'aaaa']\n",
    "print(sorted(strs, key=str.lower()))"
   ]
  },
  {
   "cell_type": "code",
   "execution_count": 96,
   "metadata": {},
   "outputs": [
    {
     "name": "stdout",
     "output_type": "stream",
     "text": [
      "[5, 4, 3, 1]\n",
      "[5, 1, 4, 3]\n"
     ]
    }
   ],
   "source": [
    "a = [5, 1, 4, 3]\n",
    "print(sorted(a,reverse = True))\n",
    "print(a)"
   ]
  },
  {
   "cell_type": "code",
   "execution_count": 98,
   "metadata": {},
   "outputs": [
    {
     "name": "stdout",
     "output_type": "stream",
     "text": [
      "Normal sort : [3, 7, 11, 15]\n",
      "Sorted with key: [7, 15, 3, 11]\n"
     ]
    }
   ],
   "source": [
    "l = [15, 3, 11, 7] \n",
    "  \n",
    "print(\"Normal sort :\", sorted(l) )\n",
    "print(\"Sorted with key:\", sorted(l, key = (lambda x: x%7)))"
   ]
  },
  {
   "cell_type": "code",
   "execution_count": 105,
   "metadata": {},
   "outputs": [
    {
     "name": "stdout",
     "output_type": "stream",
     "text": [
      "(<function <lambda> at 0x000001E45F5CDEA0>, [15, 3, 11, 7])\n",
      "[<function <lambda> at 0x000001E45F619048>, [15, 3, 11, 7]]\n"
     ]
    }
   ],
   "source": [
    "l = [15, 3, 11, 7] \n",
    "print(((lambda x: x%7, l)))\n",
    "print(l1)"
   ]
  },
  {
   "cell_type": "code",
   "execution_count": 106,
   "metadata": {},
   "outputs": [
    {
     "data": {
      "text/plain": [
       "[(6, 2, 8), (3, 5, 8), (6, 8, 5), (2, 9, 4)]"
      ]
     },
     "execution_count": 106,
     "metadata": {},
     "output_type": "execute_result"
    }
   ],
   "source": [
    "mylist = [(3, 5, 8), (6, 2, 8), ( 2, 9, 4), (6, 8, 5)]\n",
    "sorted(mylist, key=lambda x: x[1])"
   ]
  },
  {
   "cell_type": "code",
   "execution_count": 112,
   "metadata": {},
   "outputs": [
    {
     "ename": "TypeError",
     "evalue": "array() takes at most 2 arguments (4 given)",
     "output_type": "error",
     "traceback": [
      "\u001b[1;31m---------------------------------------------------------------------------\u001b[0m",
      "\u001b[1;31mTypeError\u001b[0m                                 Traceback (most recent call last)",
      "\u001b[1;32m<ipython-input-112-513554eabff9>\u001b[0m in \u001b[0;36m<module>\u001b[1;34m\u001b[0m\n\u001b[0;32m      1\u001b[0m \u001b[1;32mfrom\u001b[0m \u001b[0marray\u001b[0m \u001b[1;32mimport\u001b[0m \u001b[0marray\u001b[0m\u001b[1;33m\u001b[0m\u001b[1;33m\u001b[0m\u001b[0m\n\u001b[1;32m----> 2\u001b[1;33m \u001b[0mx\u001b[0m \u001b[1;33m=\u001b[0m \u001b[0marray\u001b[0m\u001b[1;33m(\u001b[0m\u001b[1;36m3\u001b[0m\u001b[1;33m,\u001b[0m \u001b[1;36m6\u001b[0m\u001b[1;33m,\u001b[0m \u001b[1;36m9\u001b[0m\u001b[1;33m,\u001b[0m \u001b[1;36m12\u001b[0m\u001b[1;33m)\u001b[0m\u001b[1;33m\u001b[0m\u001b[1;33m\u001b[0m\u001b[0m\n\u001b[0m\u001b[0;32m      3\u001b[0m \u001b[0mx\u001b[0m\u001b[1;33m/\u001b[0m\u001b[1;36m3.0\u001b[0m\u001b[1;33m\u001b[0m\u001b[1;33m\u001b[0m\u001b[0m\n\u001b[0;32m      4\u001b[0m \u001b[0mprint\u001b[0m\u001b[1;33m(\u001b[0m\u001b[0mx\u001b[0m\u001b[1;33m)\u001b[0m\u001b[1;33m\u001b[0m\u001b[1;33m\u001b[0m\u001b[0m\n",
      "\u001b[1;31mTypeError\u001b[0m: array() takes at most 2 arguments (4 given)"
     ]
    }
   ],
   "source": [
    "from array import array \n",
    "x = array(3, 6, 9, 12)\n",
    "x/3.0\n",
    "print(x)"
   ]
  },
  {
   "cell_type": "code",
   "execution_count": 5,
   "metadata": {},
   "outputs": [
    {
     "name": "stdout",
     "output_type": "stream",
     "text": [
      "64\n"
     ]
    }
   ],
   "source": [
    "# importing my_module in our interactive session\n",
    "import my_module\n",
    "\n",
    "type(my_module)\n",
    "\n",
    "print(my_module.cube(4))"
   ]
  },
  {
   "cell_type": "code",
   "execution_count": 6,
   "metadata": {},
   "outputs": [
    {
     "name": "stdout",
     "output_type": "stream",
     "text": [
      "{1, 2, 3, 4, 5, 6, 7, 8, 9, 10, 11, 12, 13, 14, 15, 16, 17, 18, 19, 20, 21, 22, 23, 24, 25, 26, 27, 28, 29, 30, 31, 32, 33, 34, 35, 36, 37, 38, 39, 40}\n"
     ]
    }
   ],
   "source": [
    "ms = set(range(1,41))\n",
    "print(ms)"
   ]
  },
  {
   "cell_type": "code",
   "execution_count": 7,
   "metadata": {},
   "outputs": [
    {
     "name": "stdout",
     "output_type": "stream",
     "text": [
      "science but not math: 180\n",
      "math but not science: 140\n",
      "Either math or science: 320\n"
     ]
    }
   ],
   "source": [
    "s=set(list(range(1,41))+list(range(41,41+180)))\n",
    "m=set(list(range(1,41))+list(range(221,221+140)))\n",
    "print(\"science but not math:\",len(s-m))\n",
    "print(\"math but not science:\",len(m-s))\n",
    "print(\"Either math or science:\",len(m^s))"
   ]
  },
  {
   "cell_type": "code",
   "execution_count": 8,
   "metadata": {},
   "outputs": [
    {
     "name": "stdout",
     "output_type": "stream",
     "text": [
      "[(1, 1), (2, 2), (3, 6), (4, 24), (5, 120), (6, 720)]\n"
     ]
    }
   ],
   "source": [
    "import math\n",
    "l=[1,2,3,4,5,6]\n",
    "tp=[(i,math.factorial(i)) for i in l]\n",
    "print (tp)"
   ]
  },
  {
   "cell_type": "code",
   "execution_count": 9,
   "metadata": {},
   "outputs": [
    {
     "name": "stdout",
     "output_type": "stream",
     "text": [
      "[1, 2, 3]\n"
     ]
    }
   ],
   "source": [
    "s = ([1,2,3])\n",
    "print(s)"
   ]
  },
  {
   "cell_type": "code",
   "execution_count": 2,
   "metadata": {},
   "outputs": [
    {
     "name": "stdout",
     "output_type": "stream",
     "text": [
      "['Mobile', 'Laptop', 'Camera', 'Speakers', 'Television', 'Laptop Case', 'Camera lens']\n",
      "[100, 310.28, 27.0, 1000]\n"
     ]
    }
   ],
   "source": [
    "gadgets = [\"Mobile\", \"Laptop\", 100, \"Camera\", 310.28, \"Speakers\", 27.00, \"Television\", 1000, \"Laptop Case\", \"Camera lens\"]\n",
    "#List Comprehensions\n",
    "str_list= [ i for i in gadgets if isinstance(i, str)]\n",
    "num_list = [i for i in gadgets if isinstance (i, int) or isinstance (i, float)]\n",
    "print(str_list)\n",
    " \n",
    "print(num_list)"
   ]
  },
  {
   "cell_type": "code",
   "execution_count": 3,
   "metadata": {},
   "outputs": [],
   "source": [
    "import os\n",
    "cwd = os.getcwd()"
   ]
  },
  {
   "cell_type": "code",
   "execution_count": 4,
   "metadata": {},
   "outputs": [
    {
     "data": {
      "text/plain": [
       "'C:\\\\Users\\\\Bedantika'"
      ]
     },
     "execution_count": 4,
     "metadata": {},
     "output_type": "execute_result"
    }
   ],
   "source": [
    "cwd"
   ]
  },
  {
   "cell_type": "code",
   "execution_count": 19,
   "metadata": {},
   "outputs": [
    {
     "name": "stdout",
     "output_type": "stream",
     "text": [
      "One\n",
      "['One for sorrow,\\n', 'Two for joy,\\n', 'Three for a girl,\\n', 'Four for a boy,\\n', 'Five for silver,\\n', 'Six for gold,\\n', 'Seven for a secret,\\n', 'Never to be told!\\n', 'Eight for a wish,\\n', 'Nine for a kiss,\\n', 'Ten for a bird,\\n', 'You must not miss.']\n"
     ]
    }
   ],
   "source": [
    "fh = open(\"pyfiletest.txt\", \"r\")\n",
    "\n",
    "print(fh.readline(3))\n",
    "fh.seek(0)\n",
    "print(fh.readlines())"
   ]
  },
  {
   "cell_type": "code",
   "execution_count": 14,
   "metadata": {},
   "outputs": [
    {
     "name": "stdout",
     "output_type": "stream",
     "text": [
      "File descriptor assigned: 5\n"
     ]
    }
   ],
   "source": [
    "fd=fh.fileno()\n",
    "print(\"File descriptor assigned:\",fd)"
   ]
  },
  {
   "cell_type": "code",
   "execution_count": 30,
   "metadata": {},
   "outputs": [
    {
     "name": "stdout",
     "output_type": "stream",
     "text": [
      "Please enter a key:-45\n",
      "[(23, 45), (23, 45), (45, 96.36)]\n"
     ]
    }
   ],
   "source": [
    "\n",
    "def func(s):\n",
    "    try:\n",
    "            i=int(s)\n",
    "            return i\n",
    "    except:\n",
    "            pass\n",
    "    try:\n",
    "            fl = float(s)\n",
    "            return fl\n",
    "    except:\n",
    "            return s\n",
    "\n",
    "\n",
    "l=[(1,\"a\"), (23,45), (55,56), (\"a\",78.89), (23,45),(45,96.36)]\n",
    "key=input(\"Please enter a key:-\")\n",
    "key=func(key)\n",
    "l2=[t for t in l if key in t]\n",
    "print (l2)"
   ]
  },
  {
   "cell_type": "code",
   "execution_count": 73,
   "metadata": {},
   "outputs": [
    {
     "name": "stdout",
     "output_type": "stream",
     "text": [
      "my_dict['Name']:  Zara\n",
      "{'Name': 'Zara', 'Age': 6, 'Class': 'First', 'Sec': 'E'}\n",
      "Name=Zara\n",
      "Age=6\n",
      "Class=First\n",
      "Sec=E\n",
      "None\n",
      "6\n"
     ]
    },
    {
     "data": {
      "text/plain": [
       "'G)'"
      ]
     },
     "execution_count": 73,
     "metadata": {},
     "output_type": "execute_result"
    }
   ],
   "source": [
    "my_dict = {'Name': 'Zara', 'Age': 7, 'Class': 'First'}\n",
    "print (\"my_dict['Name']: \", my_dict['Name'])\n",
    "my_dict['Sec'] = \"E\"\n",
    "my_dict['Age'] = 6\n",
    "print(my_dict)\n",
    "\n",
    "for key,value in my_dict.items():\n",
    "  print (\"%s=%s\" %(key,value))\n",
    "\n",
    "len(my_dict)\n",
    "\"name\" in my_dict\n",
    "\"Name\" in my_dict\n",
    "\n",
    "print(my_dict.get(\"Values\"))\n",
    "print(my_dict.get(\"Age\"))\n",
    "my_dict.popitem()\n",
    "my_dict.pop(\"Sec\",\"G\")\n"
   ]
  },
  {
   "cell_type": "code",
   "execution_count": 65,
   "metadata": {},
   "outputs": [
    {
     "name": "stdout",
     "output_type": "stream",
     "text": [
      "None\n"
     ]
    }
   ],
   "source": [
    "l1 = [1,2,3,4]\n",
    "l2 = [\"a\",\"b\",\"c\",\"d\"]\n",
    "print(dict(zip(l1,l2)).get(5))\n"
   ]
  },
  {
   "cell_type": "code",
   "execution_count": 55,
   "metadata": {},
   "outputs": [
    {
     "name": "stdout",
     "output_type": "stream",
     "text": [
      "{'en_de': {'red': 'rot', 'green': 'grün', 'blue': 'blau', 'yellow': 'gelb'}, 'de_fr': {'rot': 'rouge', 'grün': 'vert', 'blau': 'bleu', 'gelb': 'jaune'}}\n",
      "bleu\n"
     ]
    }
   ],
   "source": [
    "en_de = {\"red\" : \"rot\", \"green\" : \"grün\", \"blue\" : \"blau\", \"yellow\":\"gelb\"}\n",
    "de_fr = {\"rot\" : \"rouge\", \"grün\" : \"vert\", \"blau\" : \"bleu\", \"gelb\":\"jaune\"}\n",
    "\n",
    "dictionaries = {\"en_de\" : en_de, \"de_fr\" : de_fr }\n",
    "print(dictionaries)\n",
    "print(dictionaries[\"de_fr\"][\"blau\"])"
   ]
  },
  {
   "cell_type": "code",
   "execution_count": 76,
   "metadata": {},
   "outputs": [
    {
     "name": "stdout",
     "output_type": "stream",
     "text": [
      "[33, 80]\n"
     ]
    }
   ],
   "source": [
    "def newList(lst):\n",
    " \n",
    "    newlst = [lst[0], lst[- 1]] \n",
    "    return newlst\n",
    " \n",
    "lst = [33, 55, 32, 60, 80]\n",
    " \n",
    "print(newList(lst))"
   ]
  },
  {
   "cell_type": "code",
   "execution_count": 78,
   "metadata": {},
   "outputs": [
    {
     "data": {
      "text/plain": [
       "['PrettyPrinter',\n",
       " '_StringIO',\n",
       " '__all__',\n",
       " '__builtins__',\n",
       " '__cached__',\n",
       " '__doc__',\n",
       " '__file__',\n",
       " '__loader__',\n",
       " '__name__',\n",
       " '__package__',\n",
       " '__spec__',\n",
       " '_builtin_scalars',\n",
       " '_collections',\n",
       " '_perfcheck',\n",
       " '_recursion',\n",
       " '_safe_key',\n",
       " '_safe_repr',\n",
       " '_safe_tuple',\n",
       " '_sys',\n",
       " '_types',\n",
       " '_wrap_bytes_repr',\n",
       " 'isreadable',\n",
       " 'isrecursive',\n",
       " 'pformat',\n",
       " 'pprint',\n",
       " 're',\n",
       " 'saferepr']"
      ]
     },
     "execution_count": 78,
     "metadata": {},
     "output_type": "execute_result"
    }
   ],
   "source": [
    "import pprint\n",
    "dir(pprint)"
   ]
  },
  {
   "cell_type": "code",
   "execution_count": 79,
   "metadata": {},
   "outputs": [
    {
     "name": "stdout",
     "output_type": "stream",
     "text": [
      "[('Meena', 800), ('Sita', 780), ('Rita', 777), ('Gita', 650)]\n"
     ]
    }
   ],
   "source": [
    "l= [(\"Sita\", 780), (\"Gita\", 650), (\"Meena\", 800), (\"Rita\",777)]\n",
    "s= sorted(l, key=lambda x: x[1], reverse = True)\n",
    "print(s)"
   ]
  },
  {
   "cell_type": "code",
   "execution_count": 80,
   "metadata": {},
   "outputs": [
    {
     "name": "stdout",
     "output_type": "stream",
     "text": [
      "['Bruce Banner', 'Clint Barton', 'Nick Fury', 'Steve Rodgers', 'Natasha Romanoff', 'Tony Stark', 'Thanos', 'Thor']\n",
      "['Tony Stark', 'Steve Rodgers', 'Natasha Romanoff', 'Bruce Banner', 'Clint Barton', 'Nick Fury', 'Thor', 'Thanos']\n"
     ]
    }
   ],
   "source": [
    "avengers_names = [\"Tony Stark\", \"Steve Rodgers\", \"Natasha Romanoff\", \"Bruce Banner\", \"Clint Barton\", \"Nick Fury\", \"Thor\", \"Thanos\"]\n",
    "x = sorted(avengers_names, key=lambda name: name.split(\" \")[-1].lower())\n",
    "print(x)\n",
    "print(avengers_names)\n"
   ]
  },
  {
   "cell_type": "code",
   "execution_count": 81,
   "metadata": {},
   "outputs": [
    {
     "data": {
      "text/plain": [
       "['ACTIVE',\n",
       " 'ALL',\n",
       " 'ANCHOR',\n",
       " 'ARC',\n",
       " 'BASELINE',\n",
       " 'BEVEL',\n",
       " 'BOTH',\n",
       " 'BOTTOM',\n",
       " 'BROWSE',\n",
       " 'BUTT',\n",
       " 'BaseWidget',\n",
       " 'BitmapImage',\n",
       " 'BooleanVar',\n",
       " 'Button',\n",
       " 'CASCADE',\n",
       " 'CENTER',\n",
       " 'CHAR',\n",
       " 'CHECKBUTTON',\n",
       " 'CHORD',\n",
       " 'COMMAND',\n",
       " 'CURRENT',\n",
       " 'CallWrapper',\n",
       " 'Canvas',\n",
       " 'Checkbutton',\n",
       " 'DISABLED',\n",
       " 'DOTBOX',\n",
       " 'DoubleVar',\n",
       " 'E',\n",
       " 'END',\n",
       " 'EW',\n",
       " 'EXCEPTION',\n",
       " 'EXTENDED',\n",
       " 'Entry',\n",
       " 'Event',\n",
       " 'EventType',\n",
       " 'FALSE',\n",
       " 'FIRST',\n",
       " 'FLAT',\n",
       " 'Frame',\n",
       " 'GROOVE',\n",
       " 'Grid',\n",
       " 'HIDDEN',\n",
       " 'HORIZONTAL',\n",
       " 'INSERT',\n",
       " 'INSIDE',\n",
       " 'Image',\n",
       " 'IntVar',\n",
       " 'LAST',\n",
       " 'LEFT',\n",
       " 'Label',\n",
       " 'LabelFrame',\n",
       " 'Listbox',\n",
       " 'MITER',\n",
       " 'MOVETO',\n",
       " 'MULTIPLE',\n",
       " 'Menu',\n",
       " 'Menubutton',\n",
       " 'Message',\n",
       " 'Misc',\n",
       " 'N',\n",
       " 'NE',\n",
       " 'NO',\n",
       " 'NONE',\n",
       " 'NORMAL',\n",
       " 'NS',\n",
       " 'NSEW',\n",
       " 'NUMERIC',\n",
       " 'NW',\n",
       " 'NoDefaultRoot',\n",
       " 'OFF',\n",
       " 'ON',\n",
       " 'OUTSIDE',\n",
       " 'OptionMenu',\n",
       " 'PAGES',\n",
       " 'PIESLICE',\n",
       " 'PROJECTING',\n",
       " 'Pack',\n",
       " 'PanedWindow',\n",
       " 'PhotoImage',\n",
       " 'Place',\n",
       " 'RADIOBUTTON',\n",
       " 'RAISED',\n",
       " 'READABLE',\n",
       " 'RIDGE',\n",
       " 'RIGHT',\n",
       " 'ROUND',\n",
       " 'Radiobutton',\n",
       " 'S',\n",
       " 'SCROLL',\n",
       " 'SE',\n",
       " 'SEL',\n",
       " 'SEL_FIRST',\n",
       " 'SEL_LAST',\n",
       " 'SEPARATOR',\n",
       " 'SINGLE',\n",
       " 'SOLID',\n",
       " 'SUNKEN',\n",
       " 'SW',\n",
       " 'Scale',\n",
       " 'Scrollbar',\n",
       " 'Spinbox',\n",
       " 'StringVar',\n",
       " 'TOP',\n",
       " 'TRUE',\n",
       " 'Tcl',\n",
       " 'TclError',\n",
       " 'TclVersion',\n",
       " 'Text',\n",
       " 'Tk',\n",
       " 'TkVersion',\n",
       " 'Toplevel',\n",
       " 'UNDERLINE',\n",
       " 'UNITS',\n",
       " 'VERTICAL',\n",
       " 'Variable',\n",
       " 'W',\n",
       " 'WORD',\n",
       " 'WRITABLE',\n",
       " 'Widget',\n",
       " 'Wm',\n",
       " 'X',\n",
       " 'XView',\n",
       " 'Y',\n",
       " 'YES',\n",
       " 'YView',\n",
       " '__builtins__',\n",
       " '__cached__',\n",
       " '__doc__',\n",
       " '__file__',\n",
       " '__loader__',\n",
       " '__name__',\n",
       " '__package__',\n",
       " '__path__',\n",
       " '__spec__',\n",
       " '_cnfmerge',\n",
       " '_default_root',\n",
       " '_exit',\n",
       " '_flatten',\n",
       " '_join',\n",
       " '_magic_re',\n",
       " '_setit',\n",
       " '_space_re',\n",
       " '_splitdict',\n",
       " '_stringify',\n",
       " '_support_default_root',\n",
       " '_test',\n",
       " '_tkerror',\n",
       " '_tkinter',\n",
       " '_varnum',\n",
       " 'constants',\n",
       " 'enum',\n",
       " 'getboolean',\n",
       " 'getdouble',\n",
       " 'getint',\n",
       " 'image_names',\n",
       " 'image_types',\n",
       " 'mainloop',\n",
       " 're',\n",
       " 'sys',\n",
       " 'wantobjects']"
      ]
     },
     "execution_count": 81,
     "metadata": {},
     "output_type": "execute_result"
    }
   ],
   "source": [
    "import tkinter\n",
    "dir(tkinter)"
   ]
  },
  {
   "cell_type": "code",
   "execution_count": 82,
   "metadata": {},
   "outputs": [],
   "source": [
    "import matplotlib.pyplot as plt\n"
   ]
  },
  {
   "cell_type": "code",
   "execution_count": 83,
   "metadata": {},
   "outputs": [
    {
     "data": {
      "image/png": "[encoded data removed]",
      "text/plain": [
       "<Figure size 432x288 with 1 Axes>"
      ]
     },
     "metadata": {
      "needs_background": "light"
     },
     "output_type": "display_data"
    }
   ],
   "source": [
    "x_axis = [x for x in range(-3,4)]\n",
    "y_axis = [x * x for x in x_axis]\n",
    "\n",
    "plt.plot(x_axis, y_axis)\n",
    "plt.show()"
   ]
  },
  {
   "cell_type": "code",
   "execution_count": 10,
   "metadata": {},
   "outputs": [
    {
     "name": "stdout",
     "output_type": "stream",
     "text": [
      "<!DOCTYPE html><!--[if IEMobile 7]><html class=\"iem7\" lang=\"en\" dir=\"ltr\"><![endif]--><!--[if lte IE 6]><html class=\"lt-ie9 lt-ie8 lt-ie7\" lang=\"en\" dir=\"ltr\"><![endif]--><!--[if (IE 7)&(!IEMobile)]><html class=\"lt-ie9 lt-ie8\" lang=\"en\" dir=\"ltr\"><![endif]--><!--[if IE 8]><html class=\"lt-ie9\" lang=\"en\" dir=\"ltr\"><![endif]--><!--[if (gte IE 9)|(gt IEMobile 7)]><!--><html lang=\"en\" dir=\"ltr\" prefix=\"content: http://purl.org/rss/1.0/modules/content/ dc: http://purl.org/dc/terms/ foaf: http://xmlns.com/foaf/0.1/ og: http://ogp.me/ns# rdfs: http://www.w3.org/2000/01/rdf-schema# sioc: http://rdfs.org/sioc/ns# sioct: http://rdfs.org/sioc/types# skos: http://www.w3.org/2004/02/skos/core# xsd: http://www.w3.org/2001/XMLSchema#\" ><!--<![endif]--><head><meta charset=\"utf-8\" /><title>Latest News, Breaking News Today - Bollywood, Cricket, Business, Politics - IndiaToday | IndiaToday</title><meta name=\"viewport\" content=\"width=device-width, minimum-scale=1, initial-scale=1.0, maximum-scale=1.0, user-scalable=no\" /> <!--[if IE]><![endif]--><link rel=\"canonical\" href=\"https://www.indiatoday.in/\" /><meta name=\"news_keywords\" content=\"Latest News, Bollywood News, India News, World News Today, News Headlines, Breaking News Headlines, News Today\" /><meta property=\"og:site_name\" content=\"India Today\" /><meta name=\"twitter:creator\" content=\"\" /><meta name=\"twitter:title\" content=\"Latest News, Breaking News Today - Bollywood, Cricket, Business, Politics - IndiaToday\" /><meta name=\"twitter:site\" content=\"@indiatoday\" /><meta name=\"twitter:card\" content=\"\" /><meta name=\"twitter:description\" content=\"Check out the latest news from India and around the world. Latest India news on Bollywood, Politics, Business, Cricket, Technology and Travel.\" /><meta property=\"og:type\" content=\"news\" /><meta property=\"og:description\" content=\"Check out the latest news from India and around the world. Latest India news on Bollywood, Politics, Business, Cricket, Technology and Travel.\" /><meta property=\"og:title\" content=\"Latest News, Breaking News Today - Bollywood, Cricket, Business, Politics - IndiaToday\" /><meta property=\"og:url\" content=\"https://www.indiatoday.in/latest-news-breaking-news-today-bollywood-cricket-business-politics\" /><meta name=\"twitter:image\" content=\"\" /><meta property=\"fb:pages\" content=\"23230437118\" /><meta property=\"og:image\" content=\"\" /><meta name=\"theme-color\" content=\"#C04A4A\" /><link rel=\"manifest\" href=\"/manifest.json\" /><link rel=\"preconnect\" crossorigin href=\"//smedia2.intoday.in\"/><link rel=\"preconnect\" crossorigin href=\"//akm-img-a-in.tosshub.com\"/><link rel=\"preconnect\" crossorigin href=\"//sb.scorecardresearch.com\"/><link rel=\"preconnect\" crossorigin href=\"//securepubads.g.doubleclick.net\"/><link rel=\"preconnect\" crossorigin href=\"//pubads.g.doubleclick.net\"/><link rel=\"preconnect\" crossorigin href=\"//www.google-analytics.com\"/><link rel=\"preconnect\" crossorigin href=\"//www.indiatoday.in\"/><link rel=\"preconnect\" crossorigin href=\"//saxp.zedo.com\"/><link rel=\"preconnect\" crossorigin href=\"//nr.taboola.com\"/><link rel=\"preconnect\" crossorigin href=\"//script.crazyegg.com\"/><link rel=\"preconnect\" crossorigin href=\"//fonts.googleapis.com\"/><link rel=\"preconnect\" crossorigin href=\"//fonts.gstatic.com\"/><link rel=\"preload\" as=\"font\" href=\"https://akm-img-a-in.tosshub.com/sites/all/themes/itg/fonts/OpenSans-Regular.woff\" type=\"font/woff\" crossorigin/><link rel=\"preload\" as=\"font\" href=\"https://akm-img-a-in.tosshub.com/sites/all/themes/itg/fonts/OpenSans-Semibold.woff\" type=\"font/woff\" crossorigin/><link rel=\"preload\" as=\"font\" href=\"https://akm-img-a-in.tosshub.com/sites/all/themes/itg/fonts/merriweather-latin-700.woff\" type=\"font/woff\" crossorigin/><link rel=\"preload\" as=\"font\" href=\"https://akm-img-a-in.tosshub.com/sites/all/themes/itg/fonts/fontawesome-webfont.woff2?v=4.5.0\" type=\"font/woff2\" crossorigin/><link rel=\"preload\" as=\"font\" href=\"https://akm-img-a-in.tosshub.com/sites/all/themes/itg/fonts/OpenSans-Bold.woff\" type=\"font/woff\" crossorigin/><link rel=\"shortcut icon\" href=\"https://www.indiatoday.in/sites/all/themes/itg/favicon.ico\" type=\"image/vnd.microsoft.icon\" />\n",
      "<script type=\"application/ld+json\"> {    \"@context\": \"http://schema.org\",    \"@type\": \"WebSite\",    \"url\": \"https://www.indiatoday.in\",    \"potentialAction\": {      \"@type\": \"SearchAction\",      \"target\": \"https://www.indiatoday.in/search?q={search_term}\",      \"query-input\": \"required name=search_term\"    } } </script><script type=\"text/javascript\">\n",
      "var ProfileId = new Object ();\n",
      "if ((navigator.userAgent.indexOf('iPhone') > 0 && navigator.userAgent.indexOf('iPad') == -1) || navigator.userAgent.indexOf('iPod') > 0 || navigator.userAgent.indexOf('Android') > 0) {\n",
      "ProfileId = '552'; // profileid for mobile\n",
      "}\n",
      "else{\n",
      "ProfileId = '551'; // profile id for desktop\n",
      "}\n",
      "var PWT={};\n",
      "var googletag = googletag || {};\n",
      "googletag.cmd = googletag.cmd || [];\n",
      "PWT.jsLoaded = function(){\n",
      "(function() {\n",
      "var gads = document.createElement('script');\n",
      "var useSSL = 'https:' == document.location.protocol;\n",
      "gads.src = (useSSL ? 'https:' : 'http:') + '//www.googletagservices.com/tag/js/gpt.js';\n",
      "var node = document.getElementsByTagName('script')[0];\n",
      "node.parentNode.insertBefore(gads, node);\n",
      "})();\n",
      "};\n",
      "(function() {\n",
      "var purl = window.location.href;\n",
      "var url = '//ads.pubmatic.com/AdServer/js/pwt/156066/' + ProfileId;\n",
      "var profileVersionId = '';\n",
      "if(purl.indexOf('pwtv=')>0){\n",
      "var regexp = /pwtv=(.*?)(&|$)/g;\n",
      "var matches = regexp.exec(purl);\n",
      "if(matches.length >= 2 && matches[1].length > 0){\n",
      "profileVersionId = '/'+matches[1];\n",
      "}\n",
      "}\n",
      "var wtads = document.createElement('script');\n",
      "wtads.async = true;\n",
      "wtads.type = 'text/javascript';\n",
      "wtads.src = url+profileVersionId+'/pwt.js';\n",
      "var node = document.getElementsByTagName('script')[0];\n",
      "node.parentNode.insertBefore(wtads, node);\n",
      "})();\n",
      "</script>\n",
      "<script>\n",
      "var gptAdSlots = [];\n",
      "googletag.cmd.push(function () {\n",
      "var mapping = googletag.sizeMapping().\n",
      "addSize([4000, 0], [[728, 90], [970, 90]]).\n",
      "addSize([3000, 0], [[728, 90], [970, 90]]).\n",
      "addSize([2000, 0], [[728, 90], [970, 90]]).\n",
      "addSize([1000, 0], [[728, 90], [970, 90]]).\n",
      "addSize([750, 0], [728, 90]).\n",
      "addSize([700, 0], [[300, 250],[336, 280]]).\n",
      "addSize([530, 0], [[300, 250],[336, 280]]).\n",
      "addSize([336, 0], [[300, 250],[336, 280]]).\n",
      "addSize([320, 0], [300, 250]).\n",
      "addSize([0, 0], [300, 250]).build();\n",
      "var mapping1 = googletag.sizeMapping().\n",
      "addSize([4000, 0], [728, 90]).\n",
      "addSize([3000, 0], [728, 90]).\n",
      "addSize([2000, 0], [728, 90]).\n",
      "addSize([1000, 0], [728, 90]).\n",
      "addSize([750, 0], [728, 90]).\n",
      "addSize([700, 0], [300, 250]).\n",
      "addSize([530, 0], [300, 250]).\n",
      "addSize([430, 0], [300, 250]).\n",
      "addSize([320, 0], [300, 250]).\n",
      "addSize([0, 0], [300, 250]).build();\n",
      "gptAdSlots[0] = googletag.defineSlot('/1007232/Indiatoday_HP_ATF_728x90-300x250', [[970, 90], [728, 90], [300, 250], [336, 280]], 'div-gpt-ad-1514896195242-0').defineSizeMapping(mapping).addService(googletag.pubads());\n",
      "gptAdSlots[1] = googletag.defineSlot('/1007232/Indiatoday_HP_BTF_728x90-300x250', [[728, 90], [300, 250]], 'div-gpt-ad-1514896195242-2').defineSizeMapping(mapping1).addService(googletag.pubads());\n",
      "googletag.defineSlot('/1007232/Indiatoday_HP_ATF_300x250_1', [300, 250], 'div-gpt-ad-1514896195242-1').addService(googletag.pubads());\n",
      "googletag.defineSlot('/1007232/Indiatoday_HP_MTF_300x250', [300, 250], 'div-gpt-ad-1514896195242-3').addService(googletag.pubads());\n",
      "googletag.pubads().setTargeting('category', ['IThomepage']);\n",
      "googletag.pubads().enableSingleRequest();\n",
      "googletag.pubads().collapseEmptyDivs();\n",
      "googletag.enableServices();\n",
      "});\n",
      "</script>\n",
      "<script type=\"text/javascript\">\n",
      "var zmt_mtag;\n",
      "function zd_get_placements(){\n",
      "zmt_mtag = zmt_get_tag(821,\"767460\");\n",
      "p767460_1 = zmt_mtag.zmt_get_placement(\"zt_767460_1\", \"767460\", \"1\" , \"2045\" , \"54\" , \"2\" ,\"1\", \"1\");\n",
      "p767460_2 = zmt_mtag.zmt_get_placement(\"zt_767460_2\", \"767460\", \"2\" , \"2045\" , \"31\" , \"2\" ,\"1\", \"1\");\n",
      "zmt_mtag.zmt_set_async();\n",
      "p767460_1.zmt_add_ct(\"cat:IThomepage\");\n",
      "p767460_2.zmt_add_ct(\"cat:IThomepage\");\n",
      "zmt_mtag.zmt_load(zmt_mtag);\n",
      "}\n",
      "</script>\n",
      "<script type=\"text/javascript\" src=\"https://saxp.zedo.com/sclient/tt3/fmos.js\" async ></script>\n",
      "<script type=\"text/javascript\" src=\"//script.crazyegg.com/pages/scripts/0022/4822.js\" async=\"async\"></script><style type=\"text/css\">.poll-wrapper .poll-data .poll-replace-id{width:100%;display:inline-block;vertical-align:top;margin-top:20px;}\n",
      ".poll-wrapper .poll-data .poll-replace-id .past-poll li{width:100%;display:inline-block;vertical-align:top;margin-bottom:10px;}\n",
      ".poll-wrapper .poll-data .poll-replace-id .past-poll li:last-child{margin-bottom:0;}\n",
      ".poll-wrapper .poll-data .poll-replace-id .past-poll li:nth-child(1) .poll-progress-bar{background-color:#c00;}\n",
      ".poll-wrapper .poll-data .poll-replace-id .past-poll li:nth-child(2) .poll-progress-bar{background-color:#009;}\n",
      ".poll-wrapper .poll-data .poll-replace-id .past-poll li .poll-progress-bar{display:inline-block;vertical-align:top;height:18px;}\n",
      ".poll-wrapper .poll-data .poll-replace-id .poll-answer-text{float:left;width:100px;}\n",
      ".poll-wrapper .poll-data .poll-replace-id .percentage{float:left;width:100px;padding-left:20px;}\n",
      ".poll-wrapper .poll-data .poll-replace-id .poll-past-percentage-progess{width:180px;float:left;}\n",
      ".home_page_poll_widget_block .poll-wrapper .poll-data .poll-replace-id{padding:10px 0 0;max-height:115px;overflow-y:auto;margin-top:0;}\n",
      ".home_page_poll_widget_block .poll-wrapper .poll-data .poll-replace-id .past-poll li:last-child,.home_page_poll_widget_block .poll-wrapper .poll-data .poll-replace-id .past-poll li{margin-bottom:10px;}\n",
      ".home_page_poll_widget_block .poll-wrapper .poll-data .poll-replace-id .poll-answer-text{float:left;width:35%;}\n",
      ".home_page_poll_widget_block .poll-wrapper .poll-data .poll-replace-id .percentage{float:left;width:30%;padding-left:10px;}\n",
      ".home_page_poll_widget_block .poll-wrapper .poll-data .poll-replace-id .poll-past-percentage-progess{width:35%;float:left;}\n",
      "@media only screen and (max-width:768px){\n",
      ".home_page_poll_widget_block .poll-wrapper .poll-data .poll-replace-id{max-height:inherit;}\n",
      "}\n",
      "@media screen and (max-width:767px){\n",
      ".home_page_poll_widget_block .poll-wrapper .poll-data .poll-replace-id{margin-top:20px;}\n",
      "}\n",
      ".home_page_poll_widget_block .poll-wrapper .poll-data .poll-replace-id{padding:10px 0 0;max-height:inherit;overflow-y:auto;margin-top:0;}\n",
      "}\n",
      ".poll-wrapper .poll-data .poll-replace-id{width:100%;display:inline-block;vertical-align:top;margin-top:20px;}\n",
      ".home_page_poll_widget_block .poll-wrapper .poll-data .poll-replace-id{padding:10px 0 0;max-height:inherit;overflow-y:auto;margin-top:0;}\n",
      "</style><style>.fa-chevron-up:before {\n",
      "content: \"\\f077\";\n",
      "}.fa-whatsapp:before {\n",
      "content: \"\\f232\";\n",
      "}</style>\n",
      "<script>\n",
      "var is_mobile = window.innerWidth;\n",
      "window._newsroom = window._newsroom || [];\n",
      "window._newsroom.push({pageTemplate: 'home'});\n",
      "if (is_mobile < 767) {\n",
      "window._newsroom.push({pageDashboard: 'home-mobile'});\n",
      "} else {\n",
      "window._newsroom.push({pageDashboard: 'home'});\n",
      "}\n",
      "window._newsroom.push('auditClicks');\n",
      "window._newsroom.push('trackPage');\n",
      "!function (e, f, u) {\n",
      "e.async = 1;\n",
      "e.src = u;\n",
      "f.parentNode.insertBefore(e, f);\n",
      "}(document.createElement('script'),\n",
      "document.getElementsByTagName('script')[0], '//c2.taboola.com/nr/indiatoday-indiatoday/newsroom.js');\n",
      "</script>\n",
      " \n",
      "<script>\n",
      "if (window.location.hash && window.location.hash == '#_=_') {\n",
      "window.location.hash = '';\n",
      "history.pushState('', document.title, window.location.pathname); // nice and clean\n",
      "e.preventDefault(); // no page reload\n",
      "}\n",
      "</script>\n",
      "<!--[if IEMobile]><meta http-equiv=\"cleartype\" content=\"on\"><![endif]--> <!--[if lt IE 9]>\n",
      "<script src=\"/sites/all/themes/zen/js/html5-respond.js\"></script>\n",
      "<![endif]-->\n",
      "<script>\n",
      "(function(i,s,o,g,r,a,m){i['GoogleAnalyticsObject']=r;i[r]=i[r]||function()\n",
      "{ (i[r].q=i[r].q||[]).push(arguments)},i[r].l=1*new Date();a=s.createElement(o),\n",
      "m=s.getElementsByTagName(o)[0];a.async=1;a.src=g;m.parentNode.insertBefore(a,m)\n",
      "})(window,document,'script','https://www.google-analytics.com/analytics.js','ga');\n",
      "ga('create', 'UA-795349-17', 'auto');\n",
      "ga('send', 'pageview');\n",
      "</script>\n",
      "\n",
      "<script>\n",
      "var _comscore = _comscore || [];\n",
      "_comscore.push(\n",
      "{ c1: \"2\", c2: \"8549097\" }\n",
      ");\n",
      "(function()\n",
      "{ var s = document.createElement(\"script\"), el = document.getElementsByTagName(\"script\")[0]; s.src = (document.location.protocol == \"https:\" ? \"https://sb\" : \"http://b\") + \".scorecardresearch.com/beacon.js\"; el.parentNode.insertBefore(s, el); }\n",
      ")();\n",
      "</script>\n",
      "<noscript> <img alt=\"\" src=\"http://b.scorecardresearch.com/p?c1=2&ac2=8549097&cv=2.0&cj=1\"> </noscript> \n",
      "<script>\n",
      "function comscoreBeacon() {\n",
      "var url = \"https://www.indiatoday.in/api/xml/pv.xml?q=\"+(new Date).getTime();\n",
      "var xmlhttp;\n",
      "if (window.XMLHttpRequest) {\n",
      "// code for IE7+, Firefox, Chrome, Opera, Safari\n",
      "xmlhttp = new XMLHttpRequest();\n",
      "} else {\n",
      "// code for IE6, IE5\n",
      "xmlhttp = new ActiveXObject(\"Microsoft.XMLHTTP\");\n",
      "}\n",
      "xmlhttp.open(\"GET\", url, true);\n",
      "xmlhttp.send();\n",
      "(new Image).src = \"https://sb.scorecardresearch.com/b?c1\\x3d2\\x26c2\\x3d8549097\\x26c8\\x3d\" + encodeURIComponent(document.title) + \"\\x26c7\\x3d\" + encodeURIComponent(document.location.href) + \"\\x26c9\\x3d\" + encodeURIComponent(document.referrer) + \"\\x26rn\\x3d\" + (\"\" + (new Date).getTime())\n",
      "}\n",
      "</script>\n",
      "<script>\n",
      "var _sf_async_config = _sf_async_config || {};\n",
      "_sf_async_config.uid = 60355;\n",
      "_sf_async_config.domain = 'indiatoday.in';\n",
      "_sf_async_config.useCanonical = true;\n",
      "var _sf_startpt = (new Date()).getTime();\n",
      "</script><script async src=\"//static.chartbeat.com/js/chartbeat_mab.js\"></script>\n",
      "<style>*{box-sizing:border-box;}\n",
      "@font-face{font-family:'OpenSans-Regular';src:url(https://akm-img-a-in.tosshub.com/indiatoday/../sites/all/themes/itg/fonts/OpenSans-Regular.eot);src:local(\"/\"),url(https://akm-img-a-in.tosshub.com/indiatoday/../sites/all/themes/itg/fonts/OpenSans-Regular.woff) format(\"woff\"),url(https://akm-img-a-in.tosshub.com/indiatoday/../sites/all/themes/itg/fonts/OpenSans-Regular.ttf) format(\"truetype\"),url(https://akm-img-a-in.tosshub.com/indiatoday/../sites/all/themes/itg/fonts/OpenSans-Regular.svg) format(\"svg\");font-weight:400;font-style:normal;font-display:swap;}\n",
      "@font-face{font-family:'Merriweather-Bold';src:local(\"/\"),url(https://akm-img-a-in.tosshub.com/indiatoday/../sites/all/themes/itg/fonts/merriweather-latin-700.woff) format(\"woff\"),url(https://akm-img-a-in.tosshub.com/indiatoday/../sites/all/themes/itg/fonts/Merriweather-Bold.ttf) format(\"truetype\"),url(https://akm-img-a-in.tosshub.com/indiatoday/../sites/all/themes/itg/fonts/merriweather-latin-700.woff2) format(\"woff2\");font-weight:400;font-style:normal;font-display:swap;}\n",
      "@font-face{font-family:'OpenSans-Semibold';src:url(https://akm-img-a-in.tosshub.com/indiatoday/../sites/all/themes/itg/fonts/OpenSans-Semibold.eot);src:local(\"/\"),url(https://akm-img-a-in.tosshub.com/indiatoday/../sites/all/themes/itg/fonts/OpenSans-Semibold.woff) format(\"woff\"),url(https://akm-img-a-in.tosshub.com/indiatoday/../sites/all/themes/itg/fonts/OpenSans-Semibold.ttf) format(\"truetype\"),url(https://akm-img-a-in.tosshub.com/indiatoday/../sites/all/themes/itg/fonts/OpenSans-Semibold.svg) format(\"svg\");font-weight:400;font-style:normal;font-display:swap;}\n",
      "@font-face{font-family:'OpenSans-Bold';src:url(https://akm-img-a-in.tosshub.com/indiatoday/../sites/all/themes/itg/fonts/OpenSans-Bold.eot);src:local(\"/\"),url(https://akm-img-a-in.tosshub.com/indiatoday/../sites/all/themes/itg/fonts/OpenSans-Bold.woff) format(\"woff\"),url(https://akm-img-a-in.tosshub.com/indiatoday/../sites/all/themes/itg/fonts/OpenSans-Bold.ttf) format(\"truetype\"),url(https://akm-img-a-in.tosshub.com/indiatoday/../sites/all/themes/itg/fonts/OpenSans-Bold.svg) format(\"svg\");font-weight:400;font-style:normal;font-display:swap;}\n",
      "@font-face{font-family:'flexslider-icon';src:url(https://akm-img-a-in.tosshub.com/indiatoday/../sites/all/libraries/flexslider/fonts/flexslider-icon.eot);src:url(https://akm-img-a-in.tosshub.com/indiatoday/../sites/all/libraries/flexslider/fonts/flexslider-icon.eot#iefix) format('embedded-opentype'),url(https://akm-img-a-in.tosshub.com/indiatoday/../sites/all/libraries/flexslider/fonts/flexslider-icon.woff) format('woff'),url(https://akm-img-a-in.tosshub.com/indiatoday/../sites/all/libraries/flexslider/fonts/flexslider-icon.ttf) format('truetype'),url(https://akm-img-a-in.tosshub.com/indiatoday/../sites/all/libraries/flexslider/fonts/flexslider-icon.svg#flexslider-icon) format('svg');font-weight:400;font-style:normal;font-display:swap;}\n",
      "@font-face{font-family:'FontAwesome';src:url(https://akm-img-a-in.tosshub.com/indiatoday/../sites/all/themes/itg/fonts/fontawesome-webfont.eot?v=4.5.0);src:url(https://akm-img-a-in.tosshub.com/indiatoday/../sites/all/themes/itg/fonts/fontawesome-webfont.eot#iefix&v=4.5.0) format(\"embedded-opentype\"),url(https://akm-img-a-in.tosshub.com/indiatoday/../sites/all/themes/itg/fonts/fontawesome-webfont.woff2?v=4.5.0) format(\"woff2\"),url(https://akm-img-a-in.tosshub.com/indiatoday/../sites/all/themes/itg/fonts/fontawesome-webfont.woff?v=4.5.0) format(\"woff\"),url(https://akm-img-a-in.tosshub.com/indiatoday/../sites/all/themes/itg/fonts/fontawesome-webfont.ttf?v=4.5.0) format(\"truetype\"),url(https://akm-img-a-in.tosshub.com/indiatoday/../sites/all/themes/itg/fonts/fontawesome-webfont.svg?v=4.5.0#fontawesomeregular) format(\"svg\");font-weight:400;font-style:normal;font-display:swap;}\n",
      "body {font: 400 15px/20px \"OpenSans-Regular\";color: #111;}.comment-mobile.desktop-hide,.front-title-hide,.hide,.widget-help-text{display:none}*,.slick-slider{box-sizing:border-box}#block-itg-front-end-common-latest-from-aajtak ul,#block-itg-front-end-common-latest-from-businesstoday ul,#block-itg-front-end-common-latest-from-pti ul,#block-itg-layout-manager-header-block ul,.breakingnew-home .new-detail .social-share ul,.dont-miss ul,.top-takes-video-container ul,.trending-videos,.watch-right-now-video ul,footer ul{list-style-type:none}.slick-list:focus,a:focus{outline:0}.big-news .story-tag,.breakingnew-home .title,.widget-title{white-space:nowrap;text-overflow:ellipsis}#block-itg-layout-manager-header-block ul,.itg-listing{list-style:none}#block-itg-layout-manager-header-block .navigation:after,.breakingnew-home .new-detail:after,.breakingnew-home:after,.dont-miss ul:after,.featured-news:after,.flexslider .slides:after,.row:after,.slick-track:after,.tab-buttons:after,footer .footer-top .container:after{clear:both}.element-invisible{position:absolute!important;clip:rect(1px 1px 1px 1px);clip:rect(1px,1px,1px,1px);overflow:hidden;height:1px}a{color:#111;text-decoration:none}#block-itg-layout-manager-header-block .navigation .container,#block-itg-layout-manager-header-block .top-nav .main-nav li:nth-child(3){position:relative}#block-itg-layout-manager-header-block .navigation .menu li,#block-itg-layout-manager-header-block .top-nav .main-nav ul.menu{float:left}#block-itg-layout-manager-header-block .navigation{zoom:1;margin-top:0;background:#a00606;box-shadow:0 6px 5px -3px rgba(0,0,0,.1);height:37px;overflow:hidden}#block-itg-layout-manager-header-block .top-nav ul li{display:inline-block}.morediv a,.section-ordering a.pic-no-icon{display:block}.morediv a{font-family:OpenSans-Bold}.poll-wrapper .poll-banner-image{float:left;margin-right:20px;max-width:170px}.poll-wrapper .poll-data{border:1px solid #ddd;padding:18px;position:relative;display:inline-block;vertical-align:top;width:calc(100% - 5px)}.poll-wrapper .updated-msg{font-size:12px;font-size:.75rem;color:#8a8a8a;font-family:OpenSans-Regular}.poll-wrapper .poll-data .poll-replace-id{width:100%;display:inline-block;vertical-align:top;margin-top:20px}.poll-wrapper .poll-replace-id .form-item-pole-answer{padding:0 0 5px}.poll-wrapper .poll-replace-id label{color:#33363b;font-family:OpenSans-Regular;font-size:14px;text-transform:capitalize}.home_page_poll_widget_block .poll-data{max-width:370px;padding:0;margin:0;border:none;border-bottom:1px solid #ddd}.home_page_poll_widget_block .poll-data .poll-banner-image{max-width:100%;max-height:208px;height:208px;width:100%;margin:0}.home_page_poll_widget_block .poll-wrapper .poll-data .poll-replace-id{padding:10px 0 0;max-height:inherit;overflow-y:auto;margin-top:0}.home_page_poll_widget_block .poll-data .poll-banner-image img{width:100%;height:208px}.home_page_poll_widget_block .poll-data .active-poll-title{background-color:#000;float:left;width:100%;height:auto;overflow:hidden}.home_page_poll_widget_block .poll-data .active-poll-title h2{color:#fff;font-size:16px;line-height:22px;margin:0;padding:5px 10px}.home_page_poll_widget_block .poll-data .active-poll-title .updated-msg{display:none}.home_page_poll_widget_block .poll-data form{text-align:left;padding-bottom:20px}.home_page_poll_widget_block .poll-data form .form-radios{text-align:center}.home_page_poll_widget_block .poll-data form .form-radios .form-item{display:inline-block;vertical-align:top;margin-bottom:5px;padding:0 10px}.home_page_poll_widget_block .poll-data form .form-radios .form-item .form-radio{float:left;margin:3px 2px 0 0}.home_page_poll_widget_block .poll-data form label{display:inline-block;vertical-align:top;padding:0;text-transform:uppercase;font-family:OpenSans-Semibold}.home_page_poll_widget_block .poll-data .poll-replace-id .form-submit{width:95px;height:32px;background-color:#e3e3e3;border:none;font-weight:500;font-family:OpenSans-Semibold;color:#5f5f5f;margin:15px auto 0;display:inherit;font-size:14px;line-height:34px;padding:0;text-transform:uppercase;cursor:pointer}.big-news,.big-news .story-tag,.breakingnew-home{font-family:OpenSans-Regular}#block-itg-layout-manager-header-block .social-nav .globle-search.active{width:225px}#block-itg-layout-manager-header-block .social-nav .social-dropdown.active{display:block;width:115px}.region-breaking-news{display:inline-block;vertical-align:top;width:100%}.breakingnew-home{margin-bottom:10px;zoom:1;position:relative}.breakingnew-home:after,.breakingnew-home:before{content:\"\";display:block;height:0;overflow:hidden}.breakingnew-home .title{text-transform:uppercase;background:#000;color:#fff;height:33px;line-height:35px;padding:0 10px;font-size:18px;font-weight:600;float:left;position:relative;z-index:9;text-align:center;max-width:350px;overflow:hidden;min-width:100px}.breakingnew-home .new-detail{zoom:1;background:#ffc106;height:33px;line-height:33px;padding-right:215px}.breakingnew-home .new-detail:after,.breakingnew-home .new-detail:before{content:\"\";display:block;height:0;overflow:hidden}.breakingnew-home .new-detail .marquee-container{height:33px;position:relative;overflow:hidden}.breakingnew-home .new-detail .marquee-container .marquee-child{height:33px;line-height:33px;background:0 0}.breakingnew-home .new-detail .marquee-container .marquee-child a *{color:#000;font-size:18px;line-height:34px}.breakingnew-home .new-detail .marquee-container .field-content{cursor:pointer;display:inline-block;vertical-align:top;padding-right:20px}.breakingnew-home .new-detail .marquee-container br{display:none}.breakingnew-home .new-detail .ltv-and-ss{position:absolute;right:0;top:0}.breakingnew-home .new-detail .social-share{float:right;padding-top:6px}.breakingnew-home .new-detail .social-share ul li{display:inline-block;vertical-align:top;padding-right:4px}.breakingnew-home .new-detail .social-share ul li a,.breakingnew-home .new-detail .social-share ul li span{background:#000;width:20px;height:20px;border-radius:100%;display:block;color:#fff;text-align:center;line-height:23px;font-size:15px}@media screen and (max-width:768px){.breakingnew-home .new-detail .social-share ul li a,.breakingnew-home .new-detail .social-share ul li span{width:23px;height:23px;line-height:25px}.change .bar1 {transform: rotate(-45deg) translate(-4px,4px);}.change .bar2 { opacity: 0;}.change .bar3 {transform: rotate(45deg) translate(-4px,-5px);}}  .breakingnew-home .new-detail .social-share ul li a.share,.breakingnew-home .new-detail .social-share ul li span.share{color:#d0d0d0}.breakingnew-home .new-detail .social-share ul li a.google,.breakingnew-home .new-detail .social-share ul li a.share,.breakingnew-home .new-detail .social-share ul li span.google,.breakingnew-home .new-detail .social-share ul li span.share{background:0 0}.breakingnew-home .new-detail .social-share ul li a.facebook,.breakingnew-home .new-detail .social-share ul li span.facebook{background:#0b4887}.breakingnew-home .new-detail .social-share ul li a.twitter,.breakingnew-home .new-detail .social-share ul li span.twitter{background:#05a3d2}.breakingnew-home .new-detail .social-share ul li a.google,.breakingnew-home .new-detail .social-share ul li span.google{background:url(https://akm-img-a-in.tosshub.com/indiatoday/../sites/all/themes/itg/images/google-icon.jpg) center center no-repeat}.breakingnew-home .new-detail .social-share ul li .fa-share-alt{color:#684e00}.breakingnew-home .new-detail .live-tv-link{float:right}.breakingnew-home .new-detail .live-tv-link a{color:#fff;font-size:14px;padding:7px;background:#ffc106}.breakingnew-home .new-detail .live-tv-link a img{padding-top:5px}.big-news{position:relative;color:#fff;padding:10px;background:#000;margin-bottom:20px}.big-news .big-story-col-1 .story-tag{position:absolute;margin:0 0 0 15px}.big-news .big-story-col-1 .loading-popup{top:50%;left:50%;position:absolute;margin-left:-15px;margin-top:-15px;display:none}.big-news .big-story-col-1 iframe .jwplayer{position:inherit}.big-news .big-story-col-1 i{position:absolute;right:30px;bottom:10px;font-size:26px}.big-news h1{position:relative;margin-bottom:10px}.big-news .share-new,.big-news p{margin-bottom:15px}.big-news .share-new{display: block;overflow: hidden; }.big-news h1:after{content:'';width:14px;height:14px;background:#f40000;border-radius:100%;display:none}.big-news h1 a i{color:#f40000;font-size:.4em;padding-bottom:7px;display:inline-block;vertical-align:bottom;-webkit-animation-name:blinker;-webkit-animation-iteration-count:infinite;-webkit-animation-timing-function:cubic-bezier(1,0,0,1);-webkit-animation-duration:1s}.big-news a{color:#fff}.big-news .big-story-detail li a:hover,.big-news p{color:#adacac}.big-news p{font-size:16px;font-size:1rem;line-height:20px}.big-news .share-new ul li{float:left;vertical-align:top;list-style:none;}.big-news .share-new ul li:first-child a{padding-left:0}.big-news .share-new ul li a{padding:0 10px;border-right:1px solid #606060;font-size:16px;font-size:1rem;line-height:15px;display:inline-block;vertical-align:top;cursor:pointer}.big-news .share-new ul li:nth-last-child(1) a,.big-news .share-new ul li:nth-last-child(2) a{border-right:none}.big-news .big-story-detail{max-height:106px;overflow:auto}.big-news .big-story-detail li{position:relative;padding-left:15px;margin-bottom:15px}.big-news .big-story-detail li:before{position:absolute;top:5px;left:0;content:'';border-radius:50%;background:#fff;height:6px;width:6px}.big-news .big-story-detail li a{font-size:16px;font-size:1rem;font-weight:500}.big-news .story-tag{position:relative;top:0;left:0;background:#a00606;height:26px;line-height:26px;padding:0 7px;text-transform:uppercase;color:#fff;z-index:1;overflow:hidden;max-width:100%;margin:10px 0 0 10px}.big-news .story-tag a{color:#fff}.big-news .smilies-title,.featured-post .smilies-title{display:inline-block!important}.big-news .big-story-col-1{position:relative}.big-news .big-story-col-1,.big-news .big-story-col-2{padding:0 15px}.iframe-video iframe{position:absolute;top:0;left:0;width:100%;height:100%;overflow:auto}.iframe-video{position:relative;padding-bottom:56.2%;height:0;-webkit-overflow-scrolling:touch}#block-itg-widget-big-story-format .iframe-video{padding-bottom:66.5%}@media only screen and (max-width:1024px){.big-news .big-story-col-1,.big-news .big-story-col-2{width:50%;float:left}}@media only screen and (min-width:769px){.big-news .big-story-col-1{width:56.4%}.big-news .big-story-col-2{width:43.6%;padding-left:0}.big-news .big-story-col-1,.big-news .big-story-col-2{float:left;padding:0 15px}}@media only screen and (max-width:680px){.big-news .big-story-col-1,.big-news .big-story-col-2{width:100%;float:none}.big-news .big-story-col-2{padding-top:15px}}@media only screen and (max-width:768px){.home_page_poll_widget_block .poll-data form .form-radios .form-item{display:block;text-align:left}.home_page_poll_widget_block .poll-data form .form-radios .form-item .form-radio{margin:3px 6px 0 0}#block-itg-layout-manager-header-block .top-nav{padding:0;width:100%;background:#fff;margin-top:7px;text-align:right;line-height:28px;margin-bottom:0;box-shadow:0 6px 5px -3px rgba(0,0,0,.1)}#block-itg-layout-manager-header-block .top-nav .main-nav{padding-left:0;float:none;width:100%;line-height:20px}#block-itg-layout-manager-header-block .main-nav .desktop-hide{width:35px;height:20px;position:relative;float:left;padding-left:10px}.mobile-nav .bar1,.mobile-nav .bar2,.mobile-nav .bar3{width:20px;height:2px;background-color:#5e5e5e;margin:4px 0;transition:.4s}#block-itg-layout-manager-header-block .main-nav .nav-container-menu{width:calc(100% - 55px);margin:0 auto;overflow:hidden}#block-itg-layout-manager-header-block .main-nav .nav-container-menu .nav-centerall{margin:0 auto;width:390px}#block-itg-layout-manager-header-block .top-nav ul{list-style-type:none}#block-itg-layout-manager-header-block .top-nav ul li{display:inline-block;vertical-align:top}#block-itg-layout-manager-header-block .top-nav .main-nav li a{font-size:15px;padding:0 8px}#block-itg-layout-manager-header-block .top-nav .main-nav li:nth-child(3) a:before{top:-1px;left:-5px}#block-itg-layout-manager-header-block .top-nav .main-nav .headeritg-logo{width:125px;margin-left:0}#block-itg-layout-manager-header-block .logo{width:100px;position:absolute;top:15px}#block-itg-layout-manager-header-block .logo img{max-width:100%;padding-left:0;background:0 0}#block-itg-layout-manager-header-block .navigation{width:85%;border-right:1px solid #ccc;background:#f9f9f9;box-shadow:0 3px 3px #ccc;height:calc(76vh - 70px);position:absolute;z-index:9999990;overflow-x:hidden;display:none;margin-top:0}#block-itg-layout-manager-header-block .top-nav .main-nav .headeritg-logo+.menu li.menu__item.is-leaf a{padding-left:8px}.breakingnew-home{text-align:center;background:#ffc106;margin:-5px -15px 10px;padding:0}.breakingnew-home .title{float:left;font-size:12px;line-height:23px;height:23px;padding:0 5px;display:inline-block;margin-bottom:0}.breakingnew-home .new-detail{height:inherit;line-height:23px;font-size:16px;padding:0;width:100%;float:none}.breakingnew-home .new-detail .marquee-container{width:calc(100% - 130px);height:23px;float:left;line-height:23px;margin-left:5px}.breakingnew-home .new-detail .marquee-container .marquee-child{height:23px;line-height:23px}.breakingnew-home .new-detail .live-tv-link .live-tv-icon,.breakingnew-home .new-detail .social-share{display:none}.breakingnew-home .new-detail .marquee-container .marquee-child a *{line-height:23px;font-size:14px}.breakingnew-home .new-detail .live-tv-link a{padding:0 7px}}@media only screen and (max-width:767px){header#header{padding-top:60px}#block-itg-layout-manager-header-block{position:fixed;width:100%;top:0;z-index:99995}#block-itg-layout-manager-header-block .navigation{width:85%;border-right:1px solid #ccc;background:#f9f9f9;box-shadow:0 3px 3px #ccc;height:calc(100vh - 60px)}#block-itg-ads-ads-super-banner-top-nav-728x90{background:#f2f2f2;padding-bottom:10px;border:1px solid #e2e2e2;min-height:280px}}@media only screen and (max-width:420px){#block-itg-layout-manager-header-block{padding-top:10px;background:#fff}#block-itg-layout-manager-header-block .main-nav .nav-container-menu .nav-centerall{margin:0 auto;width:295px}#block-itg-layout-manager-header-block .top-nav .main-nav li a{font-size:13px;font-weight:400}#block-itg-layout-manager-header-block .top-nav .main-nav .headeritg-logo{width:65px;padding:0 5px;margin-left:0}#block-itg-layout-manager-header-block .logo{width:55px;position:absolute;top:15px}}footer a{color:#a6a6a6}.flex-direction-nav a,.flex-direction-nav a:before{color:rgba(0,0,0,.8);text-shadow:1px 1px 0 rgba(255,255,255,.3)}.itg-listing li a,.itg-listing li:last-child a{border-bottom:none}.top-autobanner{width:100%;padding:10px 0;text-align:center}.top-autobanner .mobile-banner{display:none}@media screen and (max-width:767px){.top-autobanner .mobile-banner{display:block}}.block-itg-ads iframe{max-width:inherit!important}.flex-control-nav,.flex-direction-nav,.slides,.slides>li{margin:0;padding:0;list-style:none}.flexslider{padding:0;margin:0;background:#fff;border:4px solid #fff;position:relative;zoom:1;-webkit-border-radius:4px;-moz-border-radius:4px;border-radius:4px;-webkit-box-shadow:'' 0 1px 4px rgba(0,0,0,.2);-moz-box-shadow:'' 0 1px 4px rgba(0,0,0,.2);-o-box-shadow:'' 0 1px 4px rgba(0,0,0,.2);box-shadow:'' 0 1px 4px rgba(0,0,0,.2)}.flexslider .slides>li{display:none;-webkit-backface-visibility:hidden}.flexslider .slides:after{content:\"\\0020\";display:block;visibility:hidden;line-height:0;height:0}.flexslider .slides{zoom:1}.flexslider .slides img{width:100%;display:block;height:auto;-moz-user-select:none}.flex-viewport{max-height:2000px;-webkit-transition:all 1s ease;-moz-transition:all 1s ease;-ms-transition:all 1s ease;-o-transition:all 1s ease;transition:all 1s ease}.flex-direction-nav a{text-decoration:none;display:block;width:40px;height:40px;margin:-20px 0 0;position:absolute;top:50%;z-index:10;overflow:hidden;opacity:0;cursor:pointer;-webkit-transition:all .3s ease-in-out;-moz-transition:all .3s ease-in-out;-ms-transition:all .3s ease-in-out;-o-transition:all .3s ease-in-out;transition:all .3s ease-in-out}.flex-direction-nav a:before{font-family:flexslider-icon;font-size:40px;display:inline-block;content:'\\f001'}.flex-direction-nav a.flex-next:before{content:'\\f002'}.flex-direction-nav .flex-prev{left:-50px}.flex-direction-nav .flex-next{right:-50px;text-align:right}.flexslider:hover .flex-direction-nav .flex-prev{opacity:.7;left:10px}.flexslider:hover .flex-direction-nav .flex-prev:hover{opacity:1}.flexslider:hover .flex-direction-nav .flex-next{opacity:.7;right:10px}.flexslider:hover .flex-direction-nav .flex-next:hover{opacity:1}.flex-control-nav{width:100%;position:absolute;bottom:-40px;text-align:center}.flex-control-nav li{margin:0 6px;display:inline-block;zoom:1}.flex-control-paging li a{width:11px;height:11px;display:block;background:#666;background:rgba(0,0,0,.5);cursor:pointer;text-indent:-9999px;-webkit-box-shadow:inset 0 0 3px rgba(0,0,0,.3);-moz-box-shadow:inset 0 0 3px rgba(0,0,0,.3);-o-box-shadow:inset 0 0 3px rgba(0,0,0,.3);box-shadow:inset 0 0 3px rgba(0,0,0,.3);-webkit-border-radius:20px;-moz-border-radius:20px;border-radius:20px}.flex-control-paging li a:hover{background:#333;background:rgba(0,0,0,.7)}.flex-control-paging li a.flex-active{background:#000;background:rgba(0,0,0,.9);cursor:default}@media screen and (max-width:860px){.flex-direction-nav .flex-prev{opacity:1;left:10px}.flex-direction-nav .flex-next{opacity:1;right:10px}}.flexslider .flex-direction-nav a{display:none}.flexslider:hover .flex-direction-nav a{display:block}@media only screen and (min-width:768px) and (max-width:1024px){#block-itg-widget-featured-photo-carousel .flex-direction-nav{margin-right:37px;position:absolute;top:50%;right:0}}.container{padding-right:15px;padding-left:15px;margin-right:auto;margin-left:auto}@media (min-width:769px){.container{max-width:750px}}.row{margin-right:-15px;margin-left:-15px;zoom:1}.col-lg-12,.col-lg-3,.col-lg-4,.col-lg-5,.col-lg-8,.col-md-12,.col-md-4,.col-md-5,.col-md-7,.col-md-8,.col-sm-12,.col-sm-4,.col-sm-5,.col-sm-6,.col-sm-7,.col-sm-8,.col-xs-12{position:relative;min-height:1px;padding-right:15px;padding-left:15px}.col-xs-12{float:left;width:100%}@media (min-width:768px){.col-sm-12,.col-sm-4,.col-sm-5,.col-sm-6,.col-sm-7,.col-sm-8{float:left}.col-sm-12{width:100%}.col-sm-8{width:66.66666667%}.col-sm-7{width:58.33333333%}.col-sm-6{width:50%}.col-sm-5{width:41.66666667%}.col-sm-4{width:33.33333333%}}@media (min-width:992px){.container{max-width:970px}.col-md-12,.col-md-4,.col-md-5,.col-md-7,.col-md-8{float:left}.col-md-12{width:100%}.col-md-8{width:66.66666667%}.col-md-7{width:58.33333333%}.col-md-5{width:41.66666667%}.col-md-4{width:33.33333333%}}@media (min-width:1200px){.container{max-width:1200px}.col-lg-12,.col-lg-3,.col-lg-4,.col-lg-5,.col-lg-8{float:left}.col-lg-12{width:100%}.col-lg-8{width:66.66666667%}.col-lg-5{width:41.66666667%}.col-lg-4{width:33.33333333%}.col-lg-3{width:25%}}.fa{display:inline-block;font:normal normal normal 14px/1 FontAwesome;font-size:inherit;text-rendering:auto;-webkit-font-smoothing:antialiased;-moz-osx-font-smoothing:grayscale}.slick-list,.slick-slider,.slick-track{display:block;position:relative}.fa-search:before{content:\"\\f002\"}.fa-user:before{content:\"\\f007\"}.fa-volume-up:before{content:\"\\f028\"}.fa-camera:before{content:\"\\f030\"}.fa-chevron-right:before{content:\"\\f054\"}.fa-twitter:before{content:\"\\f099\"}.fa-facebook:before{content:\"\\f09a\"}.fa-rss:before{content:\"\\f09e\"}.fa-google-plus:before{content:\"\\f0d5\"}.fa-mobile:before{content:\"\\f10b\"}.fa-circle:before{content:\"\\f111\"}.fa-share-alt:before{content:\"\\f1e0\"}.fa-play-circle-o:before{content:\"\\f01d\"}.fa-angle-double-down:before {content: \"\\f103\";} .slick-slider{-webkit-user-select:none;-moz-user-select:none;-ms-user-select:none;user-select:none;-webkit-touch-callout:none;-khtml-user-select:none;-ms-touch-action:pan-y;touch-action:pan-y;-webkit-tap-highlight-color:transparent}.slick-list{overflow:hidden;margin:0;padding:0}.slick-slider .slick-list,.slick-slider .slick-track{-webkit-transform:translate3d(0,0,0);-moz-transform:translate3d(0,0,0);-ms-transform:translate3d(0,0,0);-o-transform:translate3d(0,0,0);transform:translate3d(0,0,0)}.slick-track{top:0;left:0}.slick-track:after,.slick-track:before{display:table;content:''}.slick-slide{display:none;float:left;height:100%;min-height:1px}.slick-initialized .slick-slide,main{display:block}.mCustomScrollbar{-ms-touch-action:pinch-zoom;touch-action:pinch-zoom}.mCustomScrollBox{position:relative;overflow:hidden;height:100%;max-width:100%;outline:0;direction:ltr}.mCSB_container{overflow:hidden;width:auto;height:auto}.mCSB_inside>.mCSB_container{margin-right:30px}.mCSB_scrollTools{position:absolute;width:16px;height:auto;left:auto;top:0;right:0;bottom:0;opacity:.75;filter:\"alpha(opacity=75)\";-ms-filter:\"alpha(opacity=75)\"}.mCSB_scrollTools .mCSB_draggerContainer{position:absolute;top:0;left:0;bottom:0;right:0;height:auto}.mCSB_scrollTools .mCSB_draggerRail{width:2px;height:100%;margin:0 auto;-webkit-border-radius:16px;-moz-border-radius:16px;border-radius:16px}.mCSB_scrollTools .mCSB_dragger{cursor:pointer;width:100%;height:30px;z-index:1}.mCSB_scrollTools,.mCSB_scrollTools .mCSB_dragger .mCSB_dragger_bar{-webkit-transition:opacity .2s ease-in-out,background-color .2s ease-in-out;-moz-transition:opacity .2s ease-in-out,background-color .2s ease-in-out;-o-transition:opacity .2s ease-in-out,background-color .2s ease-in-out;transition:opacity .2s ease-in-out,background-color .2s ease-in-out}.mCustomScrollBox:hover>.mCSB_scrollTools{opacity:1;filter:\"alpha(opacity=100)\";-ms-filter:\"alpha(opacity=100)\"}.mCSB_scrollTools .mCSB_draggerRail{background-color:#000;background-color:rgba(0,0,0,.4);filter:\"alpha(opacity=40)\";-ms-filter:\"alpha(opacity=40)\"}.mCSB_scrollTools .mCSB_dragger .mCSB_dragger_bar{position:relative;width:4px;height:100%;margin:0 auto;-webkit-border-radius:16px;-moz-border-radius:16px;border-radius:16px;text-align:center;background-color:#fff;background-color:rgba(255,255,255,.75);filter:\"alpha(opacity=75)\";-ms-filter:\"alpha(opacity=75)\"}.mCSB_scrollTools .mCSB_dragger:hover .mCSB_dragger_bar{background-color:#fff;background-color:rgba(255,255,255,.85);filter:\"alpha(opacity=85)\";-ms-filter:\"alpha(opacity=85)\"}.mCSB_scrollTools .mCSB_dragger:active .mCSB_dragger_bar{background-color:#fff;background-color:rgba(255,255,255,.9);filter:\"alpha(opacity=90)\";-ms-filter:\"alpha(opacity=90)\"}*{margin:0;padding:0}h1,h2,h3,h4{font-weight:500;font-family:OpenSans-Regular;word-wrap:break-word}h1,h2{font-weight:700}h1{font-family:Merriweather-Bold;font-size:40px;line-height:46px}h2{font-family:Merriweather-Bold;font-size:29px;line-height:34px}h3{font-family:OpenSans-Semibold}h3{font-size:20px;line-height:24px}h4{font-size:16px;line-height:18px}img{vertical-align:top;max-width:100%;height:auto}.def-cur-pointer{cursor:pointer}.mt-50{margin-top:20px}#block-itg-layout-manager-header-block .top-nav ul li a{padding-left:10px;padding-right:10px;font-weight:500}.hide{display:none}#block-itg-layout-manager-header-block .navigation .menu li a,#block-itg-layout-manager-header-block .top-nav ul li,#page{display:inline-block}#page{vertical-align:top;width:100%}.top-takes-video-container ul li.top-takes-video .pic,.trending-videos li .pic,.video-icon,.watch-right-now-video ul li.watch-right-now-list .pic{position:relative}.mhide{display:block}.desktop-hide{display:none}#block-itg-front-end-common-latest-from-aajtak ul li a.pic,#block-itg-front-end-common-latest-from-businesstoday ul li a.pic{overflow:hidden;display:block}#block-itg-front-end-common-latest-from-aajtak ul li a.pic img,#block-itg-front-end-common-latest-from-businesstoday ul li a.pic img{transition:all .5s ease 0s}#block-itg-layout-manager-header-block .social-nav .globle-search,footer .footer-top .footer-social-link .globle-search{-webkit-transition:all .5s ease-in-out;-moz-transition:all .5s ease-in-out;-ms-transition:all .5s ease-in-out;-o-transition:all .5s ease-in-out}#block-itg-front-end-common-latest-from-aajtak ul li a.pic img:hover,#block-itg-front-end-common-latest-from-businesstoday ul li a.pic img:hover{transform:scale(1.2)}.widget-title{top:0;left:0;line-height:22px;text-transform:uppercase;z-index:1;overflow:hidden;max-width:100%}input[type=text]{border:1px solid #ddd;height:32px;line-height:30px;padding:5px;color:#333}.row:after,.row:before{content:\"\";display:block;height:0;overflow:hidden}p{word-wrap:break-word}#main{min-height:500px}header{margin-bottom:10px;position:relative;z-index:9999}#block-itg-layout-manager-header-block{padding-top:20px;background:#fff;position:relative}#block-itg-layout-manager-header-block a{color:#a9a9a9;font-family: OpenSans-Regular;}.tab-buttons span,footer,footer .footer-bottom h4,footer a{font-family:OpenSans-Regular}#block-itg-layout-manager-header-block .logo{width:auto;top:15px;position:absolute}#block-itg-layout-manager-header-block .logo a{display:block;overflow:visible}#block-itg-layout-manager-header-block .logo img{padding-left:4px;padding-right:0;vertical-align:top;margin-bottom:-2px}#block-itg-layout-manager-header-block .social-nav{position:relative;float:right}#block-itg-layout-manager-header-block .social-nav a .fa{font-size:23px;font-size:1.4375rem}#block-itg-layout-manager-header-block .social-nav a .fa.fa-mobile{font-size:27px;font-size:1.6875rem}#block-itg-layout-manager-header-block .social-nav .globle-search{position:absolute;top:-5px;right:40px;transition:all .5s ease-in-out;width:0;overflow:hidden}#block-itg-layout-manager-header-block .social-nav .globle-search .search-text{width:100%}#block-itg-layout-manager-header-block .top-nav{padding:0 15px;margin:25px auto 5px;float:none;zoom:1;background:0 0}#block-itg-layout-manager-header-block .top-nav:after,#block-itg-layout-manager-header-block .top-nav:before{content:\"\";display:block;height:0;overflow:hidden}#block-itg-layout-manager-header-block .top-nav:after{clear:both}#block-itg-layout-manager-header-block .top-nav .main-nav{padding-left:0;line-height:28px;width:65%;margin:0 auto}#block-itg-layout-manager-header-block .top-nav .main-nav li.desktop-hide{display:none}#block-itg-layout-manager-header-block .top-nav .main-nav li:nth-child(3){position:relative}#block-itg-layout-manager-header-block .top-nav .main-nav li:nth-child(3) a:before{content:'';position:absolute}#block-itg-layout-manager-header-block .top-nav .main-nav li a{padding:0 35px;font-size:27px;font-size:1.6875rem;text-transform:uppercase}#block-itg-layout-manager-header-block .top-nav .main-nav li a.active,#block-itg-layout-manager-header-block .top-nav .main-nav li a:hover{color:#ffc106}#block-itg-layout-manager-header-block .top-nav .main-nav li:nth-child(2) a{padding-left:0}#block-itg-layout-manager-header-block .navigation:after,#block-itg-layout-manager-header-block .navigation:before{content:\"\";display:block;height:0;overflow:hidden}#block-itg-layout-manager-header-block .navigation .container{position:relative}#block-itg-layout-manager-header-block .navigation .menu{margin-left:0;max-width:985px}#block-itg-layout-manager-header-block .navigation .menu li{float:left}#block-itg-layout-manager-header-block .navigation .menu li a{color:#e0e0e0;text-transform:uppercase;font-weight:500;padding:0 10px;border-top:none;height:37px;white-space:nowrap;position:relative;font-size:14px;font-size:.875rem;line-height:37px}#block-itg-layout-manager-header-block .navigation .menu li a:hover{color:#ffc106}#block-itg-layout-manager-header-block .navigation .menu li a:after{position:absolute;content:'';height:100%;background:#680101;width:1px;right:0;top:0}#block-itg-layout-manager-header-block .navigation .menu#newlist li a:after{display:none}#block-itg-layout-manager-header-block .navigation .all-menu{width:46px;cursor:pointer}#block-itg-layout-manager-header-block .navigation .all-menu i{font-size:7px;color:#e0e0e0}#block-itg-layout-manager-header-block .navigation ul#newlist{padding-left:0;padding-right:0;position:absolute;top:37px;z-index:99999;background:#a00606;display:none;margin-left:0;margin-right:0;right:0!important;width:172px}#block-itg-layout-manager-header-block .navigation ul#newlist li{float:none;border:none;border-bottom:1px solid #000}#block-itg-layout-manager-header-block .navigation ul#newlist li a{display:block;line-height:normal;height:auto;padding:7px 10px;white-space:normal;word-wrap:break-word}#page-title{font-size:26px;font-weight:500;line-height:35px}footer{margin-top:20px;background:#000}footer .footer-top .container{zoom:1;position:relative}footer .footer-top .container:after,footer .footer-top .container:before{content:\"\";display:block;height:0;overflow:hidden}footer .footer-top a{color:#fff}footer .footer-top .footer-top-link{white-space:nowrap;overflow-x:auto;margin-right:50px}footer .footer-top .footer-social-link{font-size:24px;font-size:1.5rem;vertical-align:middle;float:right;padding-right:50px}footer .footer-top .footer-social-link .globle-search{position:absolute;top:0px;right:45px;transition:all .5s ease-in-out;width:0;overflow:hidden;height:37px}footer .footer-top .footer-social-link .globle-search .search-text{width:100%}footer .footer-top .footer-social-link .fa{font-size:24px;font-size:1.5rem;vertical-align:middle}footer .footer-top ul li{display:inline-block;vertical-align:top}footer .footer-top ul li:nth-child(1) a{padding-left:0}footer .footer-top ul li a{color:#fff;padding:0 15px;height:37px;line-height:37px;border-right:1px solid #111;font-size:16px;display:block;text-transform:uppercase}footer .footer-top .footer-expand-icon{position:absolute;top:0;right:15px;width:50px;text-align:center;height:37px;cursor:pointer;background:url(https://akm-img-a-in.tosshub.com/indiatoday/../sites/all/themes/itg/images/sprite.png) 10px 10px no-repeat #000}footer .footer-top .footer-open-icon {background: #000 url(https://akm-img-a-in.tosshub.com/indiatoday/../sites/all/themes/itg/images/sprite.png) no-repeat 10px -35px;}.itg-front .itg-widget,.itg-listing li,.itg-top-section{position:relative}footer .footer-mid{background:#111;padding:4px 0 10px;text-align:center}.tab-buttons,.tab-buttons span{background:#e4e4e4;border-radius:10px 10px 0 0}footer .footer-bottom{padding:20px 0}footer .footer-bottom a{font-size:12px}footer .footer-bottom a:hover{color:#ffc106}footer .footer-bottom h4{font-weight:500;color:#fff;text-transform:uppercase;margin-bottom:5px;font-size:14px;font-size:.875rem}footer .footer-bottom ul li{padding:2px 0}footer .footer-bottom .cell{padding:0 15px;float:left;width:200px;margin-bottom:0}footer .footer-bottom .cell ul{margin-bottom:20px}footer .footer-bottom .cell ul:last-child{margin-bottom:0}footer .footer-copyright{color:#a6a6a6;padding:10px 0;text-align:center;font-size:12px;font-size:.75rem;border-top:1px solid #111}.itg-layout-container .itg-h450-section .droppable{height:450px}.itg-layout-container .itg-h321-section .droppable{height:321px}.itg-common-section .droppable{min-height:420px}.tab-buttons{zoom:1}.tab-buttons:after,.tab-buttons:before{content:\"\";display:block;height:0;overflow:hidden}.tab-buttons span{font-weight:500;text-transform:uppercase;height:36px;line-height:36px;text-align:center;border-top:3px solid transparent;color:#818181;width:50%;display:block;float:left;cursor:pointer;white-space:nowrap;overflow:hidden;text-overflow:ellipsis;padding:0 5px}.tab-buttons span.active{background:#fff;color:#a00606;border-left:1px solid #e4e4e4;border-right:1px solid #e4e4e4;border-top:3px solid #a00606}.itg-listing{border:1px solid #ddd}.itg-listing li{padding:15px;border-bottom:1px solid #e4e4e4;font-family:OpenSans-Semibold}.itg-listing li a,.itg-listing li:last-child a{border-bottom:none}.itg-listing li a{color:#111;line-height:20px;display:inline;padding:0}.itg-listing li a:hover{background:#f8f8f8}.itg-listing li a:first-letter{text-transform:capitalize}.adtext,.morediv{text-transform:uppercase}.itg-listing li:before{position:absolute;top:22px;left:9px;content:'';border-radius:50%;background:#959595;height:5px;width:5px;display:none}.itg-listing li:hover{background:#f8f8f8}.featured-news{zoom:1;padding-bottom:10px;margin:0 -5px}.featured-news:after,.featured-news:before{content:\"\";display:block;height:0;overflow:hidden}.featured-news .featured-post{float:left;width:50%;padding:5px}.featured-news .featured-post a{display:block}.featured-news .featured-post a:hover{color:#193984}.dont-miss ul .dont-miss-listing .dm-detail,.dont-miss ul .dont-miss-listing .dm-detail p,.top-takes-video-container ul .top-takes-video .title,.watch-right-now-video ul .watch-right-now-list .title{line-height:20px;color:#111;font-family:OpenSans-Semibold}.featured-news .featured-post img{width:100%}.featured-news .featured-post.featured-post-first{float:none;width:100%;margin-bottom:10px}.section_wise_order .widget-title{position:absolute}.section-ordering a:not(.video-icon){display:inline-block}.section-ordering a.pic-no-icon{display:block}.dont_miss .widget-title,.trending-videos li .pic,.video-icon{display:inline-block;vertical-align:top}.section-ordering h3{padding:10px 0;font-size:20px;font-size:1.25rem}.section-ordering p{font-size:15px;font-size:.9375rem;line-height:20px;position:relative;border-top:1px solid #ddd;padding:12px 0 12px 12px}.section-ordering p:before{position:absolute;top:18px;left:0;content:'';border-radius:100%;background:#a00606;height:5px;width:5px}.section-ordering img{width:100%;max-height:208px}.dont_miss .widget-title,.watch-video-home .widget-title{position:relative;margin-bottom:5px}.trending-videos{border:1px solid #ddd;padding-top:10px}.trending-videos .trending-videos-list{overflow:hidden;padding:10px}.trending-videos .trending-videos-list .pic{float:left;margin-right:10px}.trending-videos li+li{border-top:1px solid #aaa9a9}.top-takes-video-container.home-top-takes ul{padding-top:10px;border:1px solid #ddd}.top-takes-video-container.home-top-takes .top-takes-list{padding:10px;border:0}.dont-miss ul{zoom:1}.dont-miss ul:after,.dont-miss ul:before{content:\"\";display:block;height:0;overflow:hidden}.dont-miss ul .dont-miss-listing{overflow:hidden;float:left;width:50%;padding:0 10px 25px 0;border:none}.dont-miss ul .dont-miss-listing .dm-pic{float:left;margin-right:15px;width:170px}.dont-miss ul .dont-miss-listing .dm-detail{display:block;overflow:hidden;word-wrap:break-word;font-size:15px;font-size:.9375rem}.dont-miss ul .dont-miss-listing .dm-pic a{display:block}.dont-miss ul .dont-miss-listing .dm-detail p{font-size:15px;font-size:.9375rem}.dont-miss ul .dont-miss-listing:nth-child(2n+1){clear:left}.dont-miss ul .dont-miss-listing:nth-child(3),.dont-miss ul .dont-miss-listing:nth-child(4){padding-bottom:0}.home-shows .trending-videos{border:none;padding-top:0}.top-takes-video-container ul li+li,.watch-right-now-video ul li.watch-right-now-list+li{border-top:1px solid #ddd}.top-takes-video-container ul li:last-child,.watch-right-now-video ul li.watch-right-now-list:last-child{border-bottom:1px solid #ddd}.home-shows .trending-videos .trending-videos-list{overflow:hidden;padding:10px 0}.home-shows .trending-videos .trending-videos-list:first-child{padding-top:0}.top-takes-video-container ul .top-takes-video{overflow:hidden;padding:10px}.top-takes-video-container ul .top-takes-video .pic{float:right;margin-left:10px}.top-takes-video-container ul .top-takes-video .title{display:block;overflow:hidden;word-wrap:break-word;font-size:15px;font-size:.9375rem}.top-takes-video-container ul li.top-takes-video{padding:10px 0}.top-takes-video-container ul li.top-takes-video .pic:after{width:18px;position:absolute}.watch_right_now_videos_widget .widget-title{position:relative}.watch-right-now-video ul .watch-right-now-list{overflow:hidden;padding:10px}.sidebar-second .top-takes-video-container ul li,.sidebar-second .watch-right-now-video ul li,.watch-right-now-video ul li.watch-right-now-list{padding:10px 0}.watch-right-now-video ul .watch-right-now-list .pic{float:right;margin-left:5px}.watch-right-now-video ul .watch-right-now-list .title{display:block;overflow:hidden;word-wrap:break-word;font-size:15px;font-size:.9375rem}.watch-right-now-video ul li.watch-right-now-list .pic{width:88px}.watch-right-now-video ul li.watch-right-now-list .pic:after{width:18px;position:absolute}.featured_photo_carousel .widget-title{position:absolute;top:10px;left:10px}.featured_photo_carousel .data-holder{max-width:750px;background-color:#fff;overflow:hidden}.featured_photo_carousel .flexslider{border:none;margin:0;max-width:650px;width:100%}.featured_photo_carousel .flexslider .flex-caption{width:96%;padding:2%;left:0;bottom:0;background:rgba(0,0,0,.5);color:#fff;text-shadow:0 -1px 0 rgba(0,0,0,.3);font-size:14px;line-height:18px}.featured_photo_carousel .flexslider .flex-viewport{overflow:visible!important}.featured_photo_carousel .flexslider .slides li{position:relative;border-right:1px solid #fff}.featured_photo_carousel .flexslider .slides li .detail{width:100%;font-family:OpenSans-Regular}.featured_photo_carousel .flexslider .slides li .detail .flex-caption{padding:5px;background:#000;color:#fff;font-size:13px;font-size:.8125rem;font-weight:500;line-height:18px;width:auto;max-height:45px;min-height:45px;overflow:hidden}.featured_photo_carousel .flexslider .slides li .detail .flex-caption a{color:#fff}.featured_photo_carousel .flexslider .slides li .detail .flex-caption a:hover{color:#f1f1f1}.featured_photo_carousel .flexslider .slides li .detail .flex-count{position:absolute;bottom:49px;left:0;display:inline-block;vertical-align:top;background:#000;opacity:.5;color:#fff;font-size:12px;font-size:.75rem;line-height:23px;margin-bottom:0;padding:0 10px;height:23px}.featured_photo_carousel .flexslider .flex-count{display:inline-block;vertical-align:top;background:#000;opacity:.6;color:#fff;font-size:12px;font-size:.75rem;margin-bottom:10px}.featured_photo_carousel .flexslider .flex-count i{margin-right:5px}.featured_photo_carousel .flexslider .flex-direction-nav a{display:block;opacity:1}.featured_photo_carousel .flexslider .flex-direction-nav a:before{font:normal normal normal 14px/1 FontAwesome;font-size:30px;display:inline-block;color:#fff;background:#67aaef;z-index:1;width:40px;height:40px;line-height:40px;text-align:center}.featured_photo_carousel .flexslider .flex-direction-nav a.flex-prev{left:auto;right:0;border-right:1px solid #1a3c8d;width:41px}.featured_photo_carousel .flexslider .flex-direction-nav a.flex-prev:before{content:'\\f104'}.featured_photo_carousel .flexslider .flex-direction-nav a.flex-next{right:-40px}.featured_photo_carousel .flexslider .flex-direction-nav a.flex-next:before{content:'\\f105'}.itg-layout-container ul li:hover a{color:#193984}[id*=block-itg-widget-featured-photo-carousel] .flexslider .slides img{max-height:340px}#block-itg-layout-manager-header-block .second-level-menu.menu{zoom:1}#block-itg-layout-manager-header-block .second-level-menu.menu:after,#block-itg-layout-manager-header-block .second-level-menu.menu:before{content:\"\";display:block;height:0;overflow:hidden}#block-itg-layout-manager-header-block .second-level-menu.menu:after{clear:both}#block-itg-layout-manager-header-block .menu-login .user-menu{position:relative;z-index:99999}#block-itg-layout-manager-header-block .menu-login .user-menu ul.menu { position: absolute; right: 0;background: #a00606; z-index: 9; display: none;}#block-itg-layout-manager-header-block .menu-login .user-menu a img {padding-top: 5px;} #block-itg-layout-manager-header-block .menu-login .user-menu:hover ul.menu {display: block;}#block-itg-layout-manager-header-block .menu-login .user-menu ul.menu li { display: block;float: none;}#block-itg-layout-manager-header-block .menu-login .user-menu ul.menu li a { color: #fff; display: block; padding: 10px 20px;}#block-itg-layout-manager-header-block .menu-login .user-menu ul.menu li+li a {line-height: 20px;}#block-itg-layout-manager-header-block .menu-login .user-menu a{cursor:pointer}#block-itg-layout-manager-header-block .menu-login .user-menu a.user-icon{background:0 0;color:#fff;text-align:center;font-size:28px}.pic-no-icon:after{display:none}.front #content{display:inline-block;vertical-align:top;width:100%}#block-itg-front-end-common-latest-from-aajtak ul,#block-itg-front-end-common-latest-from-businesstoday ul,#block-itg-front-end-common-latest-from-pti ul{border:1px solid #ddd;min-height:381px}#block-itg-front-end-common-latest-from-aajtak ul .third-party-list,#block-itg-front-end-common-latest-from-businesstoday ul .third-party-list,#block-itg-front-end-common-latest-from-pti ul .third-party-list{overflow:hidden;padding:10px;font-family:OpenSans-Semibold}#block-itg-front-end-common-latest-from-aajtak ul .third-party-list .pic,#block-itg-front-end-common-latest-from-businesstoday ul .third-party-list .pic{float:left;margin-right:10px}#block-itg-layout-manager-header-block .navigation .menu,.top-n-most-popular-stories .widget-wrapper .data-holder .mCSB_inside>.mCSB_container{margin-right:0}#block-itg-front-end-common-latest-from-aajtak ul .third-party-list .title{display:block;overflow:hidden;word-wrap:break-word;font-size:15px;font-size:.9375rem;line-height:20px;color:#111;font-family:OpenSans-Semibold}#block-itg-layout-manager-header-block .navigation .menu li.userlogin-icon-parent-mobile,#block-itg-layout-manager-header-block .top-nav .main-nav ul.menu li.desktop-hide,.search-icon-parent .search-icon-search,.widget-help-text{display:none}#block-itg-front-end-common-latest-from-aajtak ul li a.pic,#block-itg-front-end-common-latest-from-businesstoday ul li a.pic{width:88px;height:66px}#block-itg-front-end-common-latest-from-aajtak ul li+li,#block-itg-front-end-common-latest-from-businesstoday ul li+li,#block-itg-front-end-common-latest-from-pti ul li+li{border-top:1px solid #ddd}.search-icon-parent{position:relative}.top-n-most-popular-stories .widget-wrapper .data-holder{height:calc(100% - 22px)}.top-n-most-popular-stories .widget-wrapper .data-holder .mCSB_scrollTools{width:3px}.widget-wrapper.featured_photo_carousel .data-holder{height:calc(100% - 27px)}.top_stories_ordering .widget-title{padding:5px 7px 1px}.data-holder .itg-listing li{padding:10px}.itg-sponsor-title{position:absolute;font-size:9px;padding:4px 5px 5px 18px;color:#447b9a}.data-holder .section-ordering p a{padding:5px 0}.data-holder .section-ordering p:before{top:25px}.adtext{font-size:11px;color:#5f5f5f;line-height:16px;text-align:center}#block-itg-ads-ads-super-banner-top-nav-728x90{text-align:center;padding-top:4px;margin-bottom:10px}#block-itg-layout-manager-header-block .top-nav .main-nav ul.menu{float:left}#block-itg-layout-manager-header-block .top-nav .main-nav li:nth-child(3) a:before{width:24px;height:24px;display:inline-block;top:2px;left:12px;background:url(https://akm-img-a-in.tosshub.com/indiatoday/../sites/all/themes/itg/images/livedot.gif) no-repeat}#block-itg-layout-manager-header-block .navigation .menu li.search-icon-parent-mobile{display:none}#block-itg-layout-manager-header-block .top-nav .main-nav .headeritg-logo{float:left;width:185px;text-align:center;height:40px}#block-itg-layout-manager-header-block .top-nav .main-nav .headeritg-logo+.menu li.menu__item.is-leaf a{padding-right:0;padding-left:35px}#block-itg-layout-manager-header-block .social-nav .social-dropdown{display:none;position:absolute;top:-5px;right:40px;-webkit-transition:all .5s ease-in-out;-moz-transition:all .5s ease-in-out;-ms-transition:all .5s ease-in-out;-o-transition:all .5s ease-in-out;transition:all .5s ease-in-out;width:0;background:#f0f0f0;height:37px}#block-itg-layout-manager-header-block .menu-login .social-nav dl dt,.widget-title{display:inline-block}#block-itg-layout-manager-header-block .menu-login{position:absolute;right:0;top:0}#block-itg-layout-manager-header-block .menu-login .social-nav dl dt a{padding:0 10px;line-height:32px;color:#fff}#block-itg-layout-manager-header-block .social-nav .globle-search .search-text{height:37px;border:0}#block-itg-layout-manager-header-block .social-nav .share-icon-parent{position:relative}#block-itg-layout-manager-header-block .social-nav .social-dropdown dl dt a{line-height:45px;color:#333}#block-itg-layout-manager-header-block .social-nav dt:hover .social-dropdown dl dt .fa,#block-itg-layout-manager-header-block .social-nav dt:hover .social-dropdown dl dt:hover .fa{color:#333}.front .ad-widget .sidebar-ad .block-itg-ads{margin:0 auto;text-align:center;width:100%;}.section-ordering p,.trending-videos .trending-videos-list,.watch-right-now-video ul li{font-family:OpenSans-Semibold}.itg-top-section .home-top-story .data-holder .itg-listing li{padding:10px;font-family:OpenSans-Semibold}#page{height:100%}input[type=text]{transition:all .3s;-webkit-appearance:none;appearance:none}input[type=text]:focus{border-color:#026bc5}.itg-h450-section .widget-wrapper{height:100%;padding:10px;background-color:#f3f3f3}.itg-h321-section .dont_miss{height:100%;padding:5px 20px 8px;background-color:#f3f3f3}.widget-wrapper{height:100%;overflow:hidden}.widget-wrapper .data-holder,.widget-wrapper .data-holder .block-itg-widget,.widget-wrapper .data-holder .block-itg-widget>div,.widget-wrapper .data-holder .block-itg-widget>ul{height:100%}.widget-wrapper.top_stories_ordering{border:1px solid #ddd}.widget-wrapper.top_stories_ordering .data-holder .block-itg-widget{height:calc(100% - 22px);overflow:hidden}.widget-wrapper.top_stories_ordering .data-holder .block-itg-widget .itg-listing{border:none;height:auto}.widget-title{vertical-align:top;position:static!important;background:0 0;color:#000;font-size:16px;padding:0;font-weight:600;margin-bottom:5px;height:auto;font-family:OpenSans-Bold}.widget-title a{color:#111}.featured-news .featured-post h2{margin-top:5px}.featured-news .featured-post h3{overflow:hidden;margin-top:5px;line-height:22px;font-size:18px}.itg-layout-container .ad-widget{border:1px solid #ddd;height:321px;padding:25px 37px}.itg-layout-container .ad-widget .sidebar-ad{height:100%}.ripple-effect{position:relative;overflow:hidden}.data-holder a:hover{color:#193984}footer .footer-top ul li a:hover{color:#ffc106}.rippleEffect{animation:rippleDrop .8s linear}.ripple{width:0;height:0;border-radius:50%;background:rgba(255,255,255,.4);transform:scale(0);position:absolute;opacity:1;z-index:9999}@keyframes rippleDrop{100%{transform:scale(2);opacity:0}}@media all and (min-width:1025px){.dm-pic a,.featured-news .featured-post>a,.top-takes-list a,.trending-videos-list .pic a,.trending-videos-list>a.pic,.watch-right-now-list>a{overflow:hidden;display:block}.dm-pic a img,.featured-news .featured-post>a img,.top-takes-list a img,.trending-videos-list .pic a img,.trending-videos-list>a.pic img,.watch-right-now-list>a img{transition:all .5s ease 0s}.dm-pic a img:hover,.featured-news .featured-post>a img:hover,.top-takes-list a img:hover,.trending-videos-list .pic a img:hover,.trending-videos-list>a.pic img:hover,.watch-right-now-list>a img:hover{transform:scale(1.2)}.social-nav dt .fa{transition:all .3s}.social-nav dt:hover .fa{color:#ffc106}}#widget-ajex-loader{background:rgba(0,0,0,.5);position:fixed;left:0;top:0;height:100%;width:100%;z-index:99999}#widget-ajex-loader img{bottom:0;left:0;margin:auto;position:absolute;right:0;top:0}.block-itg-ads iframe{overflow:hidden}@media all and (max-width:767px){.featured_photo_carousel .flexslider{max-width:100%}.featured_photo_carousel .flexslider .slides li{border-right:none}.featured_photo_carousel .flexslider .flex-direction-nav a.flex-prev{left:0;right:auto;border-right:none;width:40px}.featured_photo_carousel .flexslider .flex-direction-nav a.flex-next{right:0}.featured-news .featured-post h3{max-height:none}}@media only screen and (max-width:1024px){h1,h2{font-weight:700}h1{font-size:26px;line-height:32px}h2{font-size:22px;line-height:26px}h3{font-size:16px;line-height:24px}h4{font-size:12px;line-height:18px}#block-itg-layout-manager-header-block .top-nav .main-nav li a{padding:0 15px;font-size:20px;font-size:1.25rem}#block-itg-layout-manager-header-block .top-nav .main-nav li:nth-child(3) a:before{top: 6px;\n",
      "left: -4px;width: 18px;height: 18px; background-size: 100%;}#block-itg-layout-manager-header-block .top-nav .headeritg-logo{margin-left:10px}#block-itg-layout-manager-header-block .navigation .menu{margin-left:0;margin-right:50px;padding-left:0;max-width:790px}#block-itg-layout-manager-header-block .navigation .menu li a{padding:0 8px}.itg-layout-container .itg-h450-section .droppable{height:auto}.itg-layout-container .ad-widget{height:300px;padding:10px 0;width:322px;margin:0 auto}.itg-h321-section .dont_miss{padding:5px 10px 8px}.dont-miss ul .dont-miss-listing .dm-pic{width:140px}footer .footer-top .footer-top-link{float:none}footer .footer-top .footer-social-link{width:280px;position:relative;margin:0 auto;float:none;padding-right:0;padding-bottom:10px}footer .footer-top .footer-social-link .globle-search{right:50px}footer .footer-top div.footer-expand-icon{display:none}footer .footer-top .footer-expand-icon{top:auto;right:auto;position:absolute}.widget-wrapper{max-height:100%;height:auto}}@media only screen and (max-width:768px){.block-itg-ads{overflow:hidden}header{margin-bottom:15px}.mhide{display:none}.desktop-hide{display:block}#block-itg-layout-manager-header-block .logo{width:100px;position:absolute;top:15px}#block-itg-layout-manager-header-block .logo img{max-width:100%;padding-left:0;background:0 0}#block-itg-layout-manager-header-block .top-nav{padding:0;width:100%;background:#fff;margin-top:7px;text-align:right;line-height:28px;margin-bottom:0;box-shadow:0 6px 5px -3px rgba(0,0,0,.1)}#block-itg-layout-manager-header-block .top-nav .main-nav li a{padding:0 8px;font-size:15px}#block-itg-layout-manager-header-block .top-nav .main-nav li.desktop-hide{display:inline-block}#block-itg-layout-manager-header-block .top-nav ul{list-style-type:none}#block-itg-layout-manager-header-block .top-nav ul li{display:inline-block;vertical-align:top}#block-itg-layout-manager-header-block .top-nav ul li a{text-decoration:none;text-transform:uppercase;font-size:15px;font-weight:500;padding-right:10px}#block-itg-layout-manager-header-block .top-nav .main-nav{padding-left:0;float:none;width:100%;line-height:20px}#block-itg-layout-manager-header-block .top-nav .main-nav li:nth-child(3) a:before{top:4px;left:-4px;width:13px;height:13px;background-size:100%}#block-itg-layout-manager-header-block .navigation{background:#a00606;display:none;margin-top:0}#block-itg-layout-manager-header-block .navigation .container{position:relative}#block-itg-layout-manager-header-block .navigation .menu{zoom:1;margin:0;padding-left:0;padding-right:0}#block-itg-layout-manager-header-block .navigation .menu:after,#block-itg-layout-manager-header-block .navigation .menu:before{content:\"\";display:block;height:0;overflow:hidden}#block-itg-layout-manager-header-block .navigation .menu:after{clear:both}#block-itg-layout-manager-header-block .navigation .menu li{width:100%}#block-itg-layout-manager-header-block .navigation .menu li a{border-top:1px solid #900505;border-right:none;display:block;height:30px;line-height:30px;padding:0 15px}#block-itg-layout-manager-header-block .navigation .menu li a:hover{color:#ffc106}#block-itg-layout-manager-header-block .navigation .menu li a:after{display:none}#block-itg-layout-manager-header-block .navigation .menu li.all-menu a{border-right:none}#block-itg-layout-manager-header-block .navigation .menu li.all-menu a i{font-size:22px;font-size:1.375rem;color:#131212;vertical-align:middle}#block-itg-layout-manager-header-block .navigation ul#newlist{position:absolute;right:0;z-index:99;background:#a00606;display:none}footer .footer-top .footer-top-link{float:none}.itg-common-section .droppable,.itg-layout-container .itg-h321-section .droppable,.itg-layout-container .itg-h450-section .droppable{height:auto;min-height:auto}.itg-top-section .featured-news{padding-bottom:0}.dont-miss ul .dont-miss-listing .dm-pic{width:124px}.sidebar-second .top-takes-video-container ul li,.sidebar-second .watch-right-now-video ul li{padding:10px 24px 10px 0}#block-itg-ads-ads-super-banner-top-nav-728x90{margin-bottom:20px}#block-itg-layout-manager-header-block .navigation .menu li.search-icon-parent-mobile{display:block;padding:5px 0 5px 15px}#block-itg-layout-manager-header-block .navigation .menu li.search-icon-parent-mobile .globle-search{font-family:'Open Sans',sans-serif;width:85%;float:left;margin-right:10px}#block-itg-layout-manager-header-block .navigation .menu li.search-icon-parent-mobile .globle-search input{width:100%;padding:5px 10px;border:1px solid #ccc}#block-itg-layout-manager-header-block .navigation .menu li.search-icon-parent-mobile a{border-top:0}#block-itg-layout-manager-header-block .main-nav .nav-container-menu{width:350px;margin:0 auto}#block-itg-layout-manager-header-block .main-nav .desktop-hide{position:absolute;width:38px;height:38px}}@media only screen and (max-width:767px){.dont-miss ul .dont-miss-listing{width:100%;padding:0 0 20px}.dont-miss ul .dont-miss-listing .dm-pic{width:124px}.dont-miss ul .dont-miss-listing:nth-child(3){padding-bottom:20px}.dont-miss ul .dont-miss-listing .dm-detail{overflow:initial}.featured_photo_carousel .flexslider .flex-direction-nav a:before{width:30px;height:30px;line-height:30px;font-size:20px}}@media only screen and (max-width:680px){.itg-h450-section .col-md-8 .widget-wrapper{height:100%;padding:0;background-color:#f3f3f3}.featured_photo_carousel .widget-title{top:0;left:0}.itg-h321-section .dont_miss{padding:5px 10px}div.footer-expand-icon{display:block}footer .footer-top div.footer-expand-icon{display:block;position:absolute;top:0;right:15px}footer .footer-top .footer-social-link{display:none}}@media only screen and (min-width:769px){.featured-news{padding:5px;border:1px solid #ddd;margin:0}.featured-news .featured-post{padding:5px}.section-ordering h3{font-size:20px;font-size:1.25rem}.featured_photo_carousel .flexslider .flex-direction-nav{display:block}.featured_photo_carousel .flexslider .slides li .detail .flex-caption{font-size:18px;font-size:1.125rem;font-weight:500;line-height:24px;padding:10px;min-height:68px;max-height:auto;overflow:initial}.featured_photo_carousel .flexslider .slides li .detail .flex-count{position:absolute;bottom:78px;left:0}.sidebar-second .top-takes-video-container ul li,.sidebar-second .watch-right-now-video ul li{padding:10px 24px 10px 30px}}@media only screen and (min-width:768px) and (max-width:1200px){.widget-wrapper.top_stories_ordering .data-holder .block-itg-widget{overflow:scroll;max-height:663px}}@media (max-width:767px){.itg-layout-container .ad-widget{width:322px}}@media only screen and (max-width:768px){#block-itg-layout-manager-header-block .navigation .menu li.userlogin-icon-parent-mobile{display:block}#block-itg-layout-manager-header-block .main-nav .nav-container-menu{width:calc(100% - 55px);margin:0 auto;overflow:hidden}#block-itg-layout-manager-header-block .main-nav .desktop-hide{width:35px;height:20px;position:relative;float:left;padding-left:10px}#block-itg-layout-manager-header-block .main-nav .nav-container-menu .nav-centerall{margin:0 auto;width:390px}#block-itg-layout-manager-header-block .top-nav .main-nav .headeritg-logo{width:125px;margin-left:0}#block-itg-layout-manager-header-block .navigation{width:85%;border-right:1px solid #ccc;background:#f9f9f9;box-shadow:0 3px 3px #ccc;height:calc(76vh - 70px);position:absolute;z-index:9999990;overflow-x:hidden}#block-itg-layout-manager-header-block .navigation .container{height:100%;overflow-x:hidden;overflow-y:scroll;padding:0}#block-itg-layout-manager-header-block .navigation .second-level-menu.menu li{border-top:1px solid #ccc}#block-itg-layout-manager-header-block .navigation .second-level-menu.menu li a{border-top:0;color:#666;font-size:14px;font-weight:300;height:37px;line-height:37px}#block-itg-layout-manager-header-block .navigation .container .user-menus .fa.fa-user{background:red;border-radius:100%;padding:5px 0;color:#fff;width:25px;height:25px;text-align:center;margin-right:6px}#block-itg-layout-manager-header-block .navigation .container .user-menus{padding-top:5px}#block-itg-layout-manager-header-block .navigation .menu li.search-icon-parent-mobile a{float:left;text-align:center;padding:0;width:20px}.mobile-nav .bar1,.mobile-nav .bar2,.mobile-nav .bar3{width:20px;height:2px;background-color:#5e5e5e;margin:4px 0;transition:.4s}#block-itg-layout-manager-header-block .top-nav .main-nav .headeritg-logo+.menu li.menu__item.is-leaf a{padding-left:8px}}.morediv,.morediv a{color:#5794e0;font-weight:700}@media only screen and (max-width:767px){#block-itg-layout-manager-header-block .navigation{width:85%;border-right:1px solid #ccc;background:#f9f9f9;box-shadow:0 3px 3px #ccc;height:calc(100vh - 60px)}}@media only screen and (max-width:420px){#block-itg-layout-manager-header-block{padding-top:10px;background:#fff}#block-itg-layout-manager-header-block .top-nav .main-nav li a{font-size:13px;font-weight:400}#block-itg-layout-manager-header-block .top-nav .main-nav .headeritg-logo{width:65px;padding:0 5px;margin-left:0}#block-itg-layout-manager-header-block .main-nav .nav-container-menu .nav-centerall{margin:0 auto;width:295px}#block-itg-layout-manager-header-block .logo{width:55px;position:absolute;top:15px}}@media only screen and (max-width:320px){#block-itg-layout-manager-header-block .main-nav .nav-container-menu .nav-centerall{width:300px}#block-itg-layout-manager-header-block .top-nav .main-nav li a{padding:0 5px}#block-itg-layout-manager-header-block .top-nav .main-nav .headeritg-logo{width:50px;height:35px}#block-itg-layout-manager-header-block .logo{width:45px}}@media (min-width:768px) and (max-width:1024px) and (orientation:landscape){#block-itg-layout-manager-header-block .navigation{display:block!important}}.morediv{text-align:right;font-size:11px;font-family:OpenSans-Bold}.morediv a{position:relative;display:block}.front .itg-top-section .home-top-story .data-holder .itg-listing li.itg-top-story-ad:before{display:none}.front .itg-top-section .home-top-story .data-holder .itg-listing li.itg-top-story-ad{padding:0 10px}.front .itg-top-section .top-rhs-add .home-trending-video{margin-top:30px}.front .itg-top-section .top-rhs-add-child .ad-widget{padding:4px 15px;height:283px}.front .itg-top-section .top-rhs-add-child .ad-widget .sidebar-ad{background:#fff;margin:0}.front .itg-top-section .home-top-story .data-holder .itg-listing li{padding:10px}.front .itg-top-section .home-top-story .itg-sponsor-title{left:0;padding:0;position:relative;display:block;font-weight:700;letter-spacing:1px}.front #block-itg-widget-home-page-feature .featured-news .featured-post h2 a,.front #block-itg-widget-home-page-feature .featured-news .featured-post h3 a{display:inline}.front .itg-top-section .home-top-story .droppable{height:620px}@media only screen and (max-width:1024px){.itg-layout-container .itg-h321-section .droppable{height:300px}#block-itg-layout-manager-header-block .menu-login{right:15px}}@media screen and (min-width:991px) and (max-width:1024px){.front .itg-top-section .top-rhs-add{margin-top:40px}.front .itg-top-section .top-rhs-add .home-trending-video{margin-top:0}.front .itg-top-section .home-top-story .droppable{height:620px}.front .itg-top-section .top-rhs-add-child .ad-widget{width:333px;margin:0 auto}#block-itg-front-end-common-latest-from-aajtak ul,#block-itg-front-end-common-latest-from-businesstoday ul,#block-itg-front-end-common-latest-from-pti ul{overflow-y:auto;max-height:350px}.front .mt-50{margin-top:20px}}@media screen and (min-width:768px) and (max-width:991px){.front .itg-top-section .home-top-story .droppable{height:515px}.front .itg-top-section .top-rhs-add{margin-top:40px}.front .itg-top-section .top-rhs-add .home-trending-video{margin-top:0}#block-itg-front-end-common-latest-from-aajtak ul,#block-itg-front-end-common-latest-from-businesstoday ul,#block-itg-front-end-common-latest-from-pti ul{overflow-y:auto;max-height:350px}.front .mt-50{margin-top:20px}.itg-layout-container .itg-h321-section .droppable{height:auto}}.ad-widget .sidebar-ad .block-itg-ads{width:300px;margin:0 auto}body.front #block-itg-layout-manager-header-block .top-nav .main-nav li a.active{color:#a9a9a9}.front .watch-right-now-video ul li{padding:13px 0}.front .top-takes-video-container ul .top-takes-video .title{font-family:OpenSans-Semibold}#block-itg-front-end-common-latest-from-aajtak ul .third-party-list .title{font-weight:600;letter-spacing:.8px}@media screen and (max-width:767px){.front .widget-wrapper.top_stories_ordering{border:0}.front .itg-top-section .home-top-story .data-holder .itg-listing li{padding:15px 10px 10px 25px}.front .itg-listing li:before{display:block}.featured-news .featured-post a{font-weight:700}.front .itg-top-section .top-rhs-add-child .ad-widget{padding:0;margin-top:20px}footer .footer-top .footer-social-link{display:none;opacity:0}.front .itg-top-section .home-top-story .droppable,.itg-layout-container .itg-h321-section .droppable{height:auto}.top-n-most-popular-stories{margin-top:15px}.top_stories_ordering .widget-title{padding:5px 7px 1px 0}}#block-itg-widget-home-page-feature .featured-news .featured-post a{display:inline}.front #block-itg-widget-home-page-feature .featured-news .featured-post a{display:block;overflow:hidden}.front-title-hide{display:none}@media only screen and (max-width:768px){.front .itg-top-section .top-rhs-add-child .ad-widget{padding:10px;height:290px}.front .itg-layout-container .itg-h321-section .ad-widget{height:315px;padding:30px 0;width:322px;margin:0 auto;background:#f3f3f3}.front .itg-layout-container .itg-h321-section .ad-widget .sidebar-ad{background:#f3f3f3;height:100%}.itg-h321-section .dont-miss ul li{width:100%}.itg-h321-section .dont-miss ul li:nth-child(4),.itg-h450-section .watch-right-now-video ul li:nth-child(4),.itg-h450-section .watch-right-now-video ul li:nth-child(5){display:none}}#block-itg-ads-ads-page-pusher-1x1{position:relative;overflow:hidden}.live-webcast-coverage iframe{width:100%}@media only screen and (max-width:767px){#block-itg-layout-manager-header-block{position:fixed;width:100%;top:0;z-index:99995}header#header{padding-top:65px}.front .itg-top-section .top-rhs-add-child .ad-widget{padding:0;height:auto;background:#f3f3f3}.front .itg-layout-container .itg-h321-section .ad-widget{height:auto;padding:0;width:300px;margin:0 auto;background:#f3f3f3}.front .itg-layout-container .itg-h321-section .ad-widget .sidebar-ad{background:#f3f3f3;height:100%}.front .trending-videos .trending-videos-list:nth-child(5),.itg-h321-section .dont-miss ul li:nth-child(4),.itg-h450-section .watch-right-now-video ul li:nth-child(4),.itg-h450-section .watch-right-now-video ul li:nth-child(5){display:block}.front .mt-50{margin-top:20px}.front .itg-top-section .top-rhs-add .home-trending-video{padding:0}}.front .itg-layout-container .itg-h321-section .droppable{height:280px}.front .trending-videos .trending-videos-list{overflow:hidden;padding:14px 10px}.front .itg-layout-container .ad-widget{border:1px solid #ddd;height:280px;padding:4px 37px}footer .footer-top .footer-top-link{font-size:22px;color:#fff;overflow:hidden;line-height:35px;float:left}@media only screen and (max-width:1024px){.front .itg-layout-container .itg-h321-section .droppable{height:280px}.front .itg-layout-container .ad-widget{padding:4px 10px}.itg-h450-section .watch-right-now-video ul li:nth-child(5){display:none}}@media only screen and (max-width:768px){.front .itg-layout-container .itg-h321-section .droppable{height:auto}.front .itg-layout-container .itg-h321-section .ad-widget{height:300px;padding:24px 0;width:322px;margin:0 auto;background:#f3f3f3}footer .footer-top .footer-top-link{font-size:19px;line-height:44px}}@media only screen and (max-width:767px){.front .itg-layout-container .itg-h321-section .ad-widget{height:282px;padding:4px 0 10px}#block-itg-ads-ads-super-banner-top-nav-728x90{background:#f2f2f2;padding-bottom:10px;border:1px solid #e2e2e2;min-height:280px}.front .itg-top-section .top-rhs-add-child .ad-widget .sidebar-ad{padding-bottom:10px}}@media only screen and (max-width:320px){.itg-layout-container .ad-widget{width:300px;padding:0;height:250px;border:0}.front .itg-top-section .top-rhs-add-child .ad-widget{margin:15px -15px 0;width:320px;padding:4px 10px}.front .itg-layout-container .itg-h321-section .ad-widget{margin:0 -17px}}#block-itg-layout-manager-header-block .menu-login .social-nav dl dt.livetv-icon-parent a svg{position:relative;top:3px}#block-itg-layout-manager-header-block .menu-login .social-nav dl dt.livetv-icon-parent a:hover svg #hovesvg{fill:#ffc106}@media only screen and (max-width:767px){.featured-news .featured-post.featured-post-first{margin-bottom:0}}#block-itg-widget-score-card-iframe-widget{overflow:hidden;width:100%}#itg-scorecard-container{background:#222834;padding:0;height:60px;overflow:hidden}#itg-scorecard-container .scorecard-stripcontent{padding:0;position:relative;height:60px}#itg-scorecard-container .scorecard-stripcontent ul{position:absolute;top:50%;transform:translateY(-50%)}#itg-scorecard-container .scorecard-stripcontent ul li{list-style:none;display:inline-block;border-left:1px solid #4f4f4f;padding:0 4px}#itg-scorecard-container .scorecard-stripcontent ul li:nth-child(1){border-left:0}#itg-scorecard-container .scorecard-stripcontent ul li a{color:#fff;font-family:OpenSans-Regular;font-weight:400;font-size:14px}#itg-scorecard-container .scorecard-stripcontent ul li:nth-child(1) a{white-space:nowrap;overflow:hidden;text-overflow:ellipsis;width:242px;display:inline-block;line-height:20px;position:relative;top:4px}#itg-scorecard-container .scorecard-stripcontent ul li:nth-child(3){border-right:0}@media only screen and (max-width:767px){#itg-scorecard-container,#itg-scorecard-container iframe.embed-responsive-item{height:70px}}@media only screen and (max-width:320px){#itg-scorecard-container .container{padding:0px;} #itg-scorecard-container .container .col-xs-12{ padding:0 7px;}#block-itg-layout-manager-header-block .top-nav .main-nav li:nth-child(3) a:before {top: 7px;width: 9px;height: 9px;}}@media only screen and (max-width: 1024px) and (min-width: 768px){#block-itg-widget-featured-photo-carousel .flex-direction-nav {margin-right: 37px;position: absolute; top: 50%; right: 0;}}footer .footer-top .footer-social-link .globle-search.active { width: 225px;overflow: visible; }.fa-chevron-left:before { content: \"\\f053\";}.fa-chevron-right:before {content: \"\\f054\";}footer .multiple-items-footer i{position:absolute;top:50%;background:#8e8c8d;width:20px;height:40px;border-radius:40px 0 0 40px;line-height:40px;color:#fff;text-align:center;margin-top:-20px;cursor:pointer}footer .multiple-items-footer i.slick-prev{left:0px;z-index: 999;border-radius: 0 40px 40px 0;}footer .multiple-items-footer i.slick-next{right:0}\n",
      "@media screen and (max-width: 1024px) and (min-width: 991px){.front .itg-top-section .top-rhs-add-child .ad-widget {width: 100%; margin: 0 auto;height: auto;padding: 15px 0;background: #f3f3f3;}.front .itg-top-section .top-rhs-add-child .ad-widget .sidebar-ad {background: #f3f3f3;}}.home-trending-video .itg-widget-child.tab-data{border-left:1px solid #ddd;border-right:1px solid #ddd;border-bottom:1px solid #ddd}.home-trending-video #trending-videos .trending-videos{border:0;overflow-x:hidden}.home-trending-video #trending-videos{padding:10px;position:relative}.home-trending-video #trending-videos .trending-videos li span.videoicon i:before{color:#fff;font-size:18px}.home-trending-video #trending-videos .trending-videos li span.videoicon{padding:3px 5px 1px;background:rgba(0,0,0,1);color:#fff;font-size:14px;line-height:20px;position:absolute;bottom:0}.home-trending-video #trending-videos .trending-videos.slides li p{padding:5px 0 7px}.home-trending-video #trending-videos .trending-videos li+li{border-top:0}.home-trending-video #trending-videos .trending-videos .trending-videos-list .pic{float:none;margin-right:0}.home-trending-video #trending-videos .trending-videos li a.pic img{width:100%;}.home-trending-video #trending-videos .trending-videos li span.pic.video-icon{position:relative;height:24px;display:block;float:none;line-height:23px;margin-top:10px}.home-trending-video #trending-videos ol.flex-control-paging,.videoicon.desktophide{display:none}.home-trending-video #trending-videos .trending-videos li span.pic.video-icon:after{font:normal normal normal 14px/1 FontAwesome;content:\"\\f01d\";font-size:23px;color:#323232;bottom:0;left:0;background:0 0;top:2px}.home-trending-video #trending-videos ul.trending-videos{border:0;padding-top:0;width:1400%}.home-trending-video #trending-videos ul.trending-videos li {width: 348px;float: left;}.home-trending-video #trending-videos .flex-nav-next,.home-trending-video #trending-videos .flex-nav-prev{display:inline-block;background-color:rgba(0,0,0,.5);width:40px;height:64px;border-radius:0 35px 35px 0;position:absolute}.home-trending-video #trending-videos .flex-nav-prev{left:0;top:80px}.home-trending-video #trending-videos .flex-nav-next{right:20px;top:80px;border-radius:35px 0 0 35px}.home-trending-video #trending-videos .flex-direction-nav .flex-nav-next .flex-next{padding-left:14px}.home-trending-video #trending-videos .flex-direction-nav{position:absolute;top:0;width:100%}.home-trending-video #trending-videos .flex-direction-nav .flex-next{right:0;position:static;line-height:64px}.home-trending-video #trending-videos .flex-direction-nav .flex-prev{left:0;position:static;line-height:64px}.home-trending-video #trending-videos .flex-direction-nav a{opacity:1!important;display:inline}.home-trending-video #trending-videos .flex-direction-nav a:before{color:#fff}.home-trending-video #trending-videos .trending-videos-flex{position:relative}.home-trending-video #trending-videos ul li{padding:0;margin-right:0!important}@media only screen and (min-width:768px) and (max-width:800px){.home-trending-video h3.desktop-hide{display:none}}@media only screen and (min-width:320px) and (max-width:767px){.home-trending-video .tab-buttons{display:none}.home-trending-video h3{text-transform:uppercase;padding:0 0 0 10px;margin:0;color:#000;font-size:16px;font-weight:600;height:auto;font-family:OpenSans-Bold}.home-trending-video .itg-widget-child.tab-data{display:block!important}.home-trending-video .videoicon.mobilehide{display:none}.home-trending-video .videoicon.desktophide{display:inline-block}.home-trending-video #trending-videos .flex-direction-nav a{opacity:0!important}.home-trending-video #trending-videos .flex-nav-next,.home-trending-video #trending-videos .flex-nav-prev{display:none}.home-trending-video #trending-videos ul.trending-videos li{box-shadow:0 0 4px rgba(0,0,0,.24),0 0 4px rgba(0,0,0,.24);-webkit-box-shadow:0 0 4px rgba(0,0,0,.12),0 0 4px rgba(0,0,0,.24);border:1px solid rgba(0,0,0,.12)}.home-trending-video #trending-videos ul li{padding:10px 0 0;margin-right:15px!important;border-radius:5px;margin-bottom:2px;margin-top:2px}.home-trending-video #trending-videos ul li p{padding:15px 10px;font-size:15px;font-family:OpenSans-regular;line-height:20px}.home-trending-video #trending-videos .trending-videos.slides li p{padding:7px 10px}.home-trending-video .itg-widget-child.tab-data{border:0}.home-trending-video #trending-videos{padding:5px 10px;margin-bottom:15px}.home-trending-video #trending-videos .trending-videos .trending-videos-list{min-height:250px}.home-trending-video #trending-videos .top_takes_videos_widget h3{margin-top:20px}}.space-15{background: #fff;height: 15px; margin: 0 -10px;}.watch-right-now-with-anchor ul.anchor-list-slide li p{padding-bottom: 8px;font-size: 15px;padding-top: 2px;font-family: OpenSans-Semibold;text-align: center;}.watch-right-now-with-anchor .watch-right-now-anchor-flex .flex-direction-nav{ display:none; }.watch-right-now-anchor-flex .anchor-list-slide {width: 800%;}.watch-right-now-anchor-flex .anchor-list-slide li {width: 167.5px;float: left;}.watch-right-now-video{padding-top: 10px;}.watch-right-now-with-anchor .watch-right-now-anchor-flex .flex-control-nav{top: 15px; right: 15px; bottom: auto; width: auto;}.watch-right-now-video ul li.watch-right-now-list:last-child{ border-bottom:0px; }.watch-right-now-with-anchor .watch-right-now-anchor-flex ul li:nth-child(4){ position: relative; }.watch-right-now-with-anchor .watch-right-now-anchor-flex ul li:nth-child(4) p{ display: none; }.watch-right-now-with-anchor .watch-right-now-anchor-flex ul li:nth-child(4) a.pic:before{background: rgba(0,0,0,0.7); width: 100%; height: 100%; position: absolute; top: 0; z-index: 1111; content: \"MORE >>\"; justify-content: center; text-align: center; color: #fff; font-size: 20px; line-height: 96px;}.watch-right-now-with-anchor .watch-right-now-anchor-flex .flex-control-nav.flex-control-paging li a.flex-active{background: #a00606}@media only screen and (min-width:768px) and (max-width:1024px){.watch-right-now-with-anchor .watch-right-now-anchor-flex ul li:nth-child(4) a.pic:before{ line-height:75px;}}@media only screen and (min-width:320px) and (max-width:340px){.watch-right-now-with-anchor .watch-right-now-anchor-flex ul li:nth-child(4) a.pic:before{ line-height:75px;}}span.smilies-title img{width:auto!important; display: inline;float: none;line-height: 0;margin: 0;vertical-align: middle; height: auto;}#block-itg-widget-programmes-with-it-slider{ border: 1px solid #ddd;}#block-itg-widget-programmes-with-it-slider .programmes-with-it-flex{background: #f3f3f3; padding: 15px 25px 10px; border-bottom: 1px solid #ddd; position: relative;}.programmes-with-it-flex .anchor-list-slide {width: 3400%;}.programmes-with-it-flex .anchor-list-slide li {width: 151.5px;float: left;}#block-itg-widget-programmes-with-it-slider .flex-control-nav{ display: none; }#block-itg-widget-programmes-with-it-slider .watch-right-now-video{ padding-top:15px; }#block-itg-widget-programmes-with-it-slider .watch-right-now-video  span.feature-programe-title{ padding:0 10px; font-family: OpenSans-Bold; }#block-itg-widget-programmes-with-it-slider .watch-right-now-video ul.trending-videos li{ padding:13px 10px;}#block-itg-widget-programmes-with-it-slider .programmes-with-it-flex ul li .programe-title{ text-align:center; font-family: OpenSans-Semibold; padding-top: 5px; }#block-itg-widget-programmes-with-it-slider .programmes-with-it-flex ul li .programe-timing{ text-align: center; font-size:12px;color:#757575;line-height: 16px;}#block-itg-widget-programmes-with-it-slider .watch-right-now-video .trending-videos{ border:0px; }#block-itg-widget-programmes-with-it-slider .flex-direction-nav .flex-prev{left: 5px; top: 50%; width: 30px; height: 30px;opacity: 1;}#block-itg-widget-programmes-with-it-slider .flex-direction-nav .flex-next{right: 5px; top:50%; width: 30px; height: 30px;opacity: 1;}#block-itg-widget-programmes-with-it-slider .flex-direction-nav a:before{font-size:20px; color:#979797;}@media only screen and (max-width:767px){.front .itg-layout-container .ad-widget,.front .ad-widget .sidebar-ad .block-itg-ads{width:100%;}}.playIconThumbContainer{position: absolute;right: 0px;bottom: 0px;background:rgba(0,0,0,0.7); padding: 3px 5px;}.platDetailVideoIcon {height: 15px; width: 12px;background: url(https://akm-img-a-in.tosshub.com/sites/all/themes/itg/images/play-icon-r.png) no-repeat;float: left;display: inline-block;margin-top: 2px;}.platDetailVideoTime {float: left;display: inline-block;font-size: 13px;color: #fff;z-index: 3;margin-left: 3px;line-height: 14px;}#block-itg-layout-manager-header-block .navigation .container .user-menus .user-icon.loginicon img {width: 30px;float: left;margin-right: 15px;}.common-highlights{ height:100%;overflow: hidden; }.common-highlights .h-list {border-bottom: 1px solid #ccc;padding: 10px 0; }.common-highlights .h-list > a {display: block; }.common-highlights button {background: transparent;border: none;margin: 10px 0 0px 0;margin-right: 20px;cursor: pointer; }.common-highlights button i {font-size: 24px;font-weight: normal;color: #464646; }.common-highlights .agbutton,.common-highlights .emoji-container {display: block; }.common-highlights .emoji-container {margin: 10px 0 0px 0; }.common-highlights .emoji-container:empty{ margin:0px; }.agbutton .error-msg,[class^=\"hightlights_emoji_msg\"]{color: red; font-size:12px;}.common-highlights .h-list .success_msg{color:#018001; font-size:12px;}.poll-wrapper .poll-data .poll-replace-id{width:100%;display:inline-block;vertical-align:top;margin-top:20px;}.poll-wrapper .poll-data .poll-replace-id .past-poll li{width:100%;display:inline-block;vertical-align:top;margin-bottom:10px;}.poll-wrapper .poll-data .poll-replace-id .past-poll li:last-child{margin-bottom:0;}.poll-wrapper .poll-data .poll-replace-id .past-poll li:nth-child(1) .poll-progress-bar{background-color:#c00;}.poll-wrapper .poll-data .poll-replace-id .past-poll li:nth-child(2) .poll-progress-bar{background-color:#009;}.poll-wrapper .poll-data .poll-replace-id .past-poll li .poll-progress-bar{display:inline-block;vertical-align:top;height:18px;}.poll-wrapper .poll-data .poll-replace-id .poll-answer-text{float:left;width:100px;}.poll-wrapper .poll-data .poll-replace-id .percentage{float:left;width:100px;padding-left:20px;}.poll-wrapper .poll-data .poll-replace-id .poll-past-percentage-progess{width:180px;float:left;}.home_page_poll_widget_block .poll-wrapper .poll-data .poll-replace-id{padding:10px 0 0;max-height:115px;overflow-y:auto;margin-top:0;}.home_page_poll_widget_block .poll-wrapper .poll-data .poll-replace-id .past-poll li:last-child,.home_page_poll_widget_block .poll-wrapper .poll-data .poll-replace-id .past-poll li{margin-bottom:10px;}.home_page_poll_widget_block .poll-wrapper .poll-data .poll-replace-id .poll-answer-text{float:left;width:35%;}.home_page_poll_widget_block .poll-wrapper .poll-data .poll-replace-id .percentage{float:left;width:30%;padding-left:10px;}.home_page_poll_widget_block .poll-wrapper .poll-data .poll-replace-id .poll-past-percentage-progess{width:35%;float:left;}@media only screen and (max-width:768px){.home_page_poll_widget_block .poll-wrapper .poll-data .poll-replace-id{max-height:inherit;}}@media screen and (max-width:767px){.home_page_poll_widget_block .poll-wrapper .poll-data .poll-replace-id{margin-top:20px;}}.home_page_poll_widget_block .poll-wrapper .poll-data .poll-replace-id{padding:10px 0 0;max-height:inherit;overflow-y:auto;margin-top:0;}}.poll-wrapper .poll-data .poll-replace-id{width:100%;display:inline-block;vertical-align:top;margin-top:20px;}.home_page_poll_widget_block .poll-wrapper .poll-data .poll-replace-id{padding:10px 0 0;max-height:inherit;overflow-y:auto;margin-top:0;}.mCSB_scrollTools .mCSB_draggerRail{ width:5px;background-color: #000; background-color: rgba(0,0,0,.2);filter: \"alpha(opacity=20)\";-ms-filter: \"alpha(opacity=20)\";}.mCSB_scrollTools .mCSB_dragger .mCSB_dragger_bar{background-color: #000;background-color: rgba(0, 0, 0, 0.75);width: 5px;}.mCSB_scrollTools .mCSB_dragger:hover .mCSB_dragger_bar,.mCSB_scrollTools .mCSB_dragger:active .mCSB_dragger_bar{background-color: #000;background-color: rgba(0, 0, 0, 0.85);}@media only screen and (max-width:990px) and (min-width:768px){.big-news .share-new ul li.desktop-hide{ display:none; }.big-news .share-new ul li:nth-last-child(3) a{border-right: none;}}\n",
      ".gaybg .mrgb30,.gaybg .mobmrgb { margin-bottom: 30px;}\n",
      "@media (min-width: 801px){.gaybg .mobmrgb { margin-bottom: 0;}}\n",
      ".election-heading{ text-align: center; }\n",
      ".home-election-headline{display: inline-block; background: #0b3352;-webkit-clip-path: polygon(0 0, 100% 0, 97% 100%, 3% 100%); clip-path: polygon(0 0, 100% 0, 97% 100%, 3% 100%);padding: 5px 14px;font-size:20px;line-height: 24px; color: #fff;border-radius: 0 0 20px 20px; margin-bottom: 15px;border: 2px solid #0b3252; font-weight:700;}\n",
      ".election-heading:before {height: 2px;background: #0b3252;width: 100%;position: absolute;left: 0;content: \"\";}\n",
      ".home-election-headline a,.home-election-headline a:hover{ color:#fff; text-decoration:none; }\n",
      ".gaybg:before{background:#f6f6f6; width:100%; height:905px; content:\"\";left:0; position: absolute; z-index:-1;padding-bottom: 20px;}\n",
      ".election-heading:after { background:#f6f6f6; width: 100%; height: 100px; position: absolute; content: \"\";    left: 0; z-index: -1;}.pollingdata-topstory .topnewscontainer span.widget-title{background: #b00205;color: #fff;font-size: 14px; text-decoration: none;text-transform: uppercase;   font-weight: 600; padding: 3px 5px; display: inline-block; line-height: 14px;}\n",
      ".pollingapi,.pollingdata{ z-index:2}\n",
      ".pollingapi{ display: -webkit-box; display: -ms-flexbox; display: flex; }\n",
      ".pollingapi .key-condidate{ -webkit-box-flex:0; -ms-flex:0 0 370px; flex:0 0 370px; max-width:370px; margin-right:25px;margin-bottom:0px;}\n",
      ".pollingapi .key-condidate iframe{ width:370px; height:586px;}\n",
      ".pollingapi .polling-facts{ -webkit-box-flex:1; -ms-flex:1 0 auto; flex:1 0 auto; }\n",
      ".pollingapi .polling-facts .polling-facts-trivia{ margin-bottom:25px; }\n",
      ".pollingapi .polling-facts .polling-facts-trivia  iframe{ width:100%; height: 312px;}\n",
      ".pollingapi .polling-facts .polling-outer{ display: -webkit-box; display: -ms-flexbox; display: flex;margin-bottom:0px; }\n",
      ".pollingapi .polling-facts .polling-swing{ -webkit-box-flex:1; -ms-flex:1 0 auto; flex:1 0 auto; margin-right:25px; }\n",
      ".pollingapi .polling-facts .polling-voting-today{ -webkit-box-flex:1; -ms-flex:1 0 auto; flex:1 0 auto; }\n",
      ".pollingapi .polling-facts .polling-swing iframe{ width:450px!important;}\n",
      ".pollingapi .polling-facts .polling-swing iframe, .pollingapi .polling-facts .polling-voting-today iframe{ height:245px; }\n",
      ".pollingdata{ display: -webkit-box; display: -ms-flexbox; display: flex; }\n",
      ".pollingdata .pollingdata-livetv{ width:570px; margin-right:25px;}.pollingdata .pollingdata-livetv iframe{ width:570px; height:285px; }\n",
      ".pollingdata .pollingdata-topstory .election-polling{ border:1px solid #d1d1d1;background:#fff; }\n",
      ".pollingdata .pollingdata-topstory .election-polling ul{margin:0 10px;}\n",
      ".pollingdata .pollingdata-topstory .election-polling ul li{ border-bottom:1px solid #d1d1d1; padding:9px 10px; list-style: none; }\n",
      ".pollingdata .pollingdata-topstory .election-polling ul li:nth-last-child(1){ border-bottom:0px; }\n",
      ".pollingdata .pollingdata-topstory .election-polling ul li a{ font-size:14px; line-height:18px; display: block; color:#323232; }\n",
      ".pollingdata .pollingdata-topstory .topnews-electionphase span.widget-title{ margin-bottom:8px; }\n",
      ".pollingdata .pollingdata-topstory .topnewscontainer span.widget-title a{ color:#fff; text-decoration:none; }\n",
      ".pollingdata-topstory{ width:100%; }\n",
      "@media (max-width:1024px) and (min-width:1000px) {\n",
      ".gaybg:before{height: 1010px;}\n",
      ".pollingapi .key-condidate{-webkit-box-flex: 0; -ms-flex: 0 0 300px; flex: 0 0 300px; max-width: 300px;}\n",
      ".pollingapi .polling-facts .polling-swing iframe { width: 345px !important;}\n",
      "}\n",
      "@media (max-width:992px) and (min-width:768px) {\n",
      ".pollingdata{ -webkit-box-orient:vertical; -webkit-box-direction:normal; -ms-flex-direction:column; flex-direction:column; }\n",
      ".pollingdata .pollingdata-livetv{ width:100%; margin-right:0px; }\n",
      ".pollingdata .pollingdata-livetv iframe{ width:100%; height: 290px; }\n",
      ".pollingapi .key-condidate{-webkit-box-flex: 0;-ms-flex: 0 0 270px;flex: 0 0 270px;max-width: 270px; margin-bottom:0px;}\n",
      ".pollingapi .polling-facts .polling-outer{ -webkit-box-orient:vertical; -webkit-box-direction:normal; -ms-flex-direction:column; flex-direction:column;margin-bottom:0px; }\n",
      ".pollingapi .polling-facts .polling-swing iframe{width: 100%!important;}\n",
      ".pollingapi .polling-facts .polling-swing{ margin-right:0px; }\n",
      ".pollingapi .polling-facts .polling-voting-today iframe{ height:273px; }\n",
      ".pollingapi .key-condidate iframe{ height: 892px; }\n",
      ".gaybg:before{ height:1655px; }\n",
      ".pollingapi .polling-facts .polling-voting-today{ margin-bottom:0px;}\n",
      "}\n",
      "@media (max-width:767px) and (min-width:320px) {\n",
      ".pollingdata{ -webkit-box-orient:vertical; -webkit-box-direction:normal; -ms-flex-direction:column; flex-direction:column; }\n",
      ".home-election-headline{ font-size:16px;}\n",
      ".pollingdata .pollingdata-livetv{ width:100%; margin-right:0px; }\n",
      ".pollingdata .pollingdata-livetv iframe{ width:100%; height: 270px; }\n",
      ".pollingapi .key-condidate{-webkit-box-flex: 0;-ms-flex: 0 0 auto;flex: 0 0 auto;max-width:100%;margin-right: 0px;margin-bottom:30px;}\n",
      ".pollingapi .polling-facts .polling-outer{ -webkit-box-orient:vertical; -webkit-box-direction:normal; -ms-flex-direction:column; flex-direction:column; margin-bottom: 0px;}\n",
      ".pollingapi .polling-facts .polling-swing iframe{ width:100%!important; margin-right:0px; }\n",
      ".pollingapi{ -webkit-box-orient: vertical; -webkit-box-direction: normal; -ms-flex-direction: column; flex-direction: column; }\n",
      ".pollingapi .polling-facts .polling-voting-today{ margin-bottom:0; }\n",
      ".pollingapi .polling-facts .polling-swing{ margin-right:0px;}\n",
      ".pollingapi .polling-facts .polling-voting-today iframe{ height:271px;}\n",
      ".gaybg:before{height:2016px;}\n",
      ".pollingapi .key-condidate iframe{ height:330px; }\n",
      "}.impact_feature_section>span.widget-title { display: none;}.impact_feature_section ul.impact-feature-listing { min-height: 381px;}.impact_feature_section ul.impact-feature-listing li{overflow: hidden; padding: 12px 0 12px 12px;font-family: OpenSans-Semibold; position: relative;}.impact_feature_section ul.impact-feature-listing li:not(:last-child) { border-bottom: 1px solid #ddd;}.impact_feature_section ul.impact-feature-listing li:before{position: absolute; top:21px;left: 0;content: '';\n",
      "border-radius: 100%; background: #a00606; height: 5px;width: 5px;}.counting-outer{ padding-bottom:20px }\n",
      ".counting-outer h3,.counting-outer h3 a{font-size:40px;line-height: 45px;font-family:\"OpenSans-bold\"; padding-bottom:20px; color:#323232}\n",
      ".counting-outer .other-top-story{ border-top:1px solid #d1d1d1;border-bottom:1px solid #d1d1d1; padding:10px 0}\n",
      ".counting-outer .other-top-story ul,.counting-outer .other-top-story ul li{display:-webkit-box;display:-ms-flexbox;display:flex;list-style:none;}\n",
      ".counting-outer .other-top-story ul li{ -webkit-box-flex:1; -ms-flex:1 0 0px; flex:1 0 0; }\n",
      ".counting-outer .other-top-story ul li:nth-last-child(1){ border-left:1px solid #d1d1d1; }\n",
      ".counting-outer .other-top-story ul li:nth-last-child(1) > a:nth-child(2){ padding-right: 10px; }\n",
      ".counting-outer .other-top-story ul li:nth-child(2) >a{padding-left: 10px}\n",
      ".counting-outer .other-top-story ul li a:nth-child(1){margin-right:10px; -ms-flex-preferred-size:88px; flex-basis:88px; min-width:88px;}\n",
      ".counting-outer .other-top-story ul li a{font-size:16px; line-height:22px; font-family:\"OpenSans-Semibold\"; color:#000;font-weight:600}.countingdata{ display: -webkit-box; display: -ms-flexbox; display: flex;}\n",
      ".countingdata-livetv{ -ms-flex-preferred-size:500px; flex-basis:500px; width:500px; max-width:500px;margin-right: 20px;}\n",
      ".countingdata-graph-result{-ms-flex-preferred-size:320px;flex-basis:320px; width:320px; max-width:320px;margin-right: 20px;}\n",
      ".countingdata-graph-result iframe{border: 1px solid #d1d1d1; border-radius: 6px;}\n",
      ".countingdata-graph-stateresult{-ms-flex-preferred-size:320px;flex-basis:320px; width:320px; max-width:320px;}@media (min-width:768px) and (max-width:900px){\n",
      ".countingdata{ display: -webkit-box; display: -ms-flexbox; display: flex; -webkit-box-orient:horizontal; -webkit-box-direction:normal; -ms-flex-direction:row; flex-direction:row; -ms-flex-wrap:wrap; flex-wrap:wrap;margin-bottom:0px;-webkit-box-pack: justify;-ms-flex-pack: justify;justify-content: space-between;}\n",
      ".countingdata-livetv {-ms-flex-preferred-size:90%;flex-basis:90%;max-width:90%; margin:0 auto 20px;}\n",
      ".countingdata-livetv iframe{ height:368px; }\n",
      ".countingdata-graph-stateresult{ -ms-flex-preferred-size:48%; flex-basis:48%;max-width:48%; }\n",
      ".countingdata-graph-result{-ms-flex-preferred-size:48%;flex-basis:48%;max-width:48%;}\n",
      ".countingdata-graph-result iframe{ border:1px solid #d1d1d1;}\n",
      ".home-counting-key-candidate iframe{ height:290px}\n",
      ".mobmrgb{ margin-bottom: 20px; }\n",
      ".home-counting-result_block{ margin-top: 20px; }\n",
      ".front .itg-top-section .countingdata .top-rhs-add{ margin-top:20px; }\n",
      "}@media (min-width:992px){\n",
      ".padrht0{ padding-right:0px;}\n",
      ".mrgb30{ margin-bottom:20px;}\n",
      "}@media (max-width:767px){\n",
      ".counting-outer h3, .counting-outer h3 a{font-size:30px;line-height:35px;}\n",
      ".counting-outer .other-top-story ul{ -webkit-box-orient:vertical; -webkit-box-direction:normal; -ms-flex-direction:column; flex-direction:column; display: block; }\n",
      ".counting-outer .other-top-story ul li a:nth-child(1){ display: none; }\n",
      ".counting-outer .other-top-story{padding: 0}\n",
      ".counting-outer .other-top-story ul li >a{padding:10px 0;font-size: 15px;font-family: OpenSans-Semibold;}\n",
      ".counting-outer .other-top-story ul li:nth-last-child(1){ border-left:0px; border-top:1px solid #d1d1d1; }\n",
      ".countingdata{-ms-flex-wrap:wrap;flex-wrap:wrap;}\n",
      ".counting-outer .other-top-story ul li:nth-child(2) >a{ padding:10px 0; }\n",
      ".countingdata-livetv,.countingdata-graph-result,.countingdata-graph-stateresult{ -ms-flex-preferred-size:100%; flex-basis:100%; width:100%;max-width:100%;  margin-right:0px; margin-bottom:20px;}\n",
      ".home-counting-result_block{ margin-top:20px; }\n",
      ".home-counting-result_block iframe{ height:675px;}\n",
      ".top-rhs-add-child{ margin-bottom:20px }\n",
      ".home-counting-key-candidate iframe{ height:500px; }}@media (max-width:767px){.result_map iframe{ height:735px;}.countingdata-livetv{position: relative;\n",
      "padding-top: calc(61.6% + 45px);}.countingdata-livetv iframe{height: 100%; width: 100%; position: absolute; top: 0;}}\n",
      "span.add-on-story-pipline + a, span.add-on-story-pipline, .pipeline-added .add-on-story-pipline, .pipeline-added .add-on-story-pipline+a, .story-pipline, .story-pipline+a {color: #a10606;}</style>\n",
      "<script async src=\"https://akm-img-a-in.tosshub.com/indiatoday/../sites/all/themes/itg/js/lazysizes.min.js\"></script>\n",
      "<style>.goToTop{width: 50px;height: 50px;  background: #f74600;-moz-border-radius: 50px;-webkit-border-radius: 50px;border-radius: 50px; -webkit-box-shadow: 3px 3px 5px 0 rgba(0,0,0,.5);-moz-box-shadow: 3px 3px 5px 0 rgba(0,0,0,.5); box-shadow: 3px 3px 5px 0 rgba(0,0,0,.5); cursor: pointer;display: inline-block;  position: fixed;bottom: 100px; right: 10px;z-index:9999;transform: scale(0);float:right; -webkit-transition: all 0.3s linear; -moz-transition: all 0.3s ease; -ms-transition: all 0.3s ease; -o-transition: all 0.3s ease; transition: all 0.3s ease; } .goToTop.showGototop { transform: scale(1);} .goToTop:hover{ background:#bf3c08;transition: all 0.3s ease;} .goToTopIcon{margin: auto;left: 1px;right: 0;top: 0px;border: 0;bottom: 0;position: absolute;height: 48px;width: 48px;} .goToTopIcon .icon-assets-dropdown-arrow-close{ text-align: center; font-size:20px; font-weight: bold; color:#fff; -moz-transition: all 0.3s ease; -ms-transition: all 0.3s ease; -o-transition: all 0.3s ease; transition: all 0.3s ease;} .goToTopIcon .icon-assets-dropdown-arrow-close:before { content: \"\\6e\";}.goToTopIcon i{color: #fff;font-size: 24px; line-height:23px;} @media screen and (min-width: 992px) and (max-width: 1170px) {.goToTop{ right:5px;} } @media screen and (min-width:768px) and (max-width: 991px) {.goToTop{ right:5px;} .rightSocialPart{ width: 210px } .rightSocialPart li img{ width: 38px; height: 38px; }} @media screen and (max-width:767px){.goToTop:hover,.goToTop:active{ background:#f74600;transition: all 0.3s ease;}}</style>\n",
      "<script>!function(){function o(n,i){if(n&&i)for(var r in i)i.hasOwnProperty(r)&&(void 0===n[r]?n[r]=i[r]:n[r].constructor===Object&&i[r].constructor===Object?o(n[r],i[r]):n[r]=i[r])}try{var n=decodeURIComponent(\"\");if(n.length>0&&window.JSON&&\"function\"==typeof window.JSON.parse){var i=JSON.parse(n);void 0!==window.BOOMR_config?o(window.BOOMR_config,i):window.BOOMR_config=i}}catch(r){window.console&&\"function\"==typeof window.console.error&&console.error(\"mPulse: Could not parse configuration\",r)}}();</script>\n",
      "<script>!function(a){var e=\"https://s.go-mpulse.net/boomerang/\",t=\"addEventListener\";if(\"False\"==\"True\")a.BOOMR_config=a.BOOMR_config||{},a.BOOMR_config.PageParams=a.BOOMR_config.PageParams||{},a.BOOMR_config.PageParams.pci=!0,e=\"https://s2.go-mpulse.net/boomerang/\";if(function(){function n(e){a.BOOMR_onload=e&&e.timeStamp||(new Date).getTime()}if(!a.BOOMR||!a.BOOMR.version&&!a.BOOMR.snippetExecuted){a.BOOMR=a.BOOMR||{},a.BOOMR.snippetExecuted=!0;var i,o,r,O=document.createElement(\"iframe\");if(a[t])a[t](\"load\",n,!1);else if(a.attachEvent)a.attachEvent(\"onload\",n);O.src=\"javascript:void(0)\",O.title=\"\",O.role=\"presentation\",(O.frameElement||O).style.cssText=\"width:0;height:0;border:0;display:none;\",r=document.getElementsByTagName(\"script\")[0],r.parentNode.insertBefore(O,r);try{o=O.contentWindow.document}catch(_){i=document.domain,O.src=\"javascript:var d=document.open();d.domain='\"+i+\"';void(0);\",o=O.contentWindow.document}o.open()._l=function(){var a=this.createElement(\"script\");if(i)this.domain=i;a.id=\"boomr-if-as\",a.src=e+\"TT67K-Q598D-4N3XX-4Z62K-39TY5\",BOOMR_lstart=(new Date).getTime(),this.body.appendChild(a)},o.write(\"<bo\"+'dy onload=\"document._l();\">'),o.close()}}(),\"\".length>0)if(a&&\"performance\"in a&&a.performance&&\"function\"==typeof a.performance.setResourceTimingBufferSize)a.performance.setResourceTimingBufferSize();!function(){if(BOOMR=a.BOOMR||{},BOOMR.plugins=BOOMR.plugins||{},!BOOMR.plugins.AK){var e=\"\"==\"true\"?1:0,t=\"\",n=\"m4wj2pfyk35cuxhdunza-f-f0ac6dd3f-clientnsv4-s.akamaihd.net\",i={\"ak.v\":20,\"ak.cp\":\"657063\",\"ak.ai\":parseInt(\"427893\",10),\"ak.ol\":\"0\",\"ak.cr\":183,\"ak.ipv\":4,\"ak.proto\":\"\",\"ak.rid\":\"1080244\",\"ak.r\":23117,\"ak.a2\":e,\"ak.m\":\"dscr\",\"ak.n\":\"ff\",\"ak.bpcip\":\"103.44.157.0\",\"ak.cport\":64573,\"ak.gh\":\"184.86.250.38\",\"ak.quicv\":\"\",\"ak.tlsv\":\"tls1.2\",\"ak.0rtt\":\"\",\"ak.csrc\":\"-\",\"ak.acc\":\"reno\",\"ak.t\":\"1558422386\"};if(\"\"!==t)i[\"ak.ruds\"]=t;var o={i:!1,av:function(e){var t=\"http.initiator\";if(e&&(!e[t]||\"spa_hard\"===e[t]))i[\"ak.feo\"]=void 0!==a.aFeoApplied?1:0,BOOMR.addVar(i)},rv:function(){var a=[\"ak.bpcip\",\"ak.cport\",\"ak.cr\",\"ak.csrc\",\"ak.gh\",\"ak.ipv\",\"ak.m\",\"ak.n\",\"ak.ol\",\"ak.proto\",\"ak.quicv\",\"ak.tlsv\",\"ak.0rtt\",\"ak.r\",\"ak.acc\",\"ak.t\"];BOOMR.removeVar(a)}};BOOMR.plugins.AK={akVars:i,akDNSPreFetchDomain:n,init:function(){if(!o.i){var a=BOOMR.subscribe;a(\"before_beacon\",o.av,null,null),a(\"onbeacon\",o.rv,null,null),o.i=!0}return this},is_complete:function(){return!0}}}}()}(window);</script></head><body class=\"html front not-logged-in one-sidebar sidebar-second page-node page-node- page-node-2 node-type-page\" ><p id=\"skip-link\"> <a href=\"#main-menu\" class=\"element-invisible element-focusable\">Jump to navigation</a></p><div id=\"page\"> <header class=\"header\" id=\"header\" role=\"banner\"> <section class=\"header-top\"><div class=\"header__region region region-header\"><div id=\"block-itg-ads-ads-page-pusher-1x1\" class=\"block block-itg-ads first odd\"><div id=\"zt_767460_2\" style=\"display:show\">\n",
      "<script id=\"zt_767460_2\" language=\"javascript\">\n",
      "if(typeof zmt_mtag !='undefined' && typeof zmt_mtag.zmt_render_placement !='undefined')\n",
      "{\n",
      "zmt_mtag.zmt_render_placement(p767460_2);\n",
      "}\n",
      "</script>\n",
      "</div></div><div id=\"block-itg-layout-manager-header-block\" class=\"block block-itg-layout-manager even\"><div class=\"branch-journeys-top\"></div><div class=\"itg-logo-container\"><div class=\"container top-nav\"><div class=\"main-nav\"><div class=\"nav-container-menu\"><div class=\"nav-centerall\"><ul class=\"menu\"><li class=\"menu__item is-leaf first leaf\"><a href=\"/\" title=\"News\" class=\"menu__link active\">News</a></li><li class=\"menu__item is-leaf last leaf\"><a href=\"/livetv\" title=\"TV\" class=\"menu__link\">LIVE TV</a></li></ul><div class=\"container headeritg-logo\"><div class=\"logo\"> <a href=\"https://www.indiatoday.in\" title=\"Home\" rel=\"home\" class=\"header__logo\" id=\"logo\"><img src=\"https://akm-img-a-in.tosshub.com/indiatoday/../sites/all/themes/itg/logo.png\" alt=\"Home\" class=\"header__logo-image\" /></a></div></div><ul class=\"menu\"><li class=\"menu__item is-leaf first leaf\"><a href=\"/our-apps\" title=\"APP\" target=\"_blank\" class=\"menu__link\">APP</a></li><li class=\"menu__item is-leaf last leaf\"><a href=\"/magazine\" title=\"Magazine\" class=\"menu__link\">Magazine</a></li></ul></div></div></div></div> <nav class=\"navigation\"><div class=\"container\"><ul class=\"second-level-menu before-load menu\"><li class=\"userlogin-icon-parent-mobile\"><div class=\"user-menus\"> <a href=\"https://auth.indiatoday.in/saml_login/other/aHR0cHM6Ly93d3cuaW5kaWF0b2RheS5pbi8jc3NvbG9naW49MQ==\" class=\"user-icon sso-click\"><i class=\"fa fa-user\"></i> Login</a></div></li><li class=\"search-icon-parent-mobile\"><div class=\"globle-search\"> <input class=\"search-text\" placeholder=\"Enter search keyword\" type=\"text\" value=\"\"></div> <a href=\"javascript:void(0)\" class=\"search-icon-default\" title=\"\"><i class=\"fa fa-search\"></i></a></li><li class=\"nav-items \"> <a href=\"https://www.indiatoday.in\" style=\"background : transparent\" class=\"second-level-child second-level-child-0 notactive notactive url-type-external\">Home</a></li><li class=\"nav-items \"> <a href=\"/elections\" style=\"background : transparent\" target=\"_self\" class=\"second-level-child second-level-child-1 notactive notactive url-type-internal\">Elections </a></li><li class=\"nav-items \"> <a href=\"/videos\" style=\"background : transparent\" target=\"_self\" class=\"second-level-child second-level-child-2 notactive notactive url-type-internal\">Videos </a></li><li class=\"nav-items \"> <a href=\"/india\" style=\"background : transparent\" target=\"_self\" class=\"second-level-child second-level-child-3 notactive notactive url-type-internal\">India </a></li><li class=\"nav-items \"> <a href=\"/movies\" style=\"background : transparent\" target=\"_self\" class=\"second-level-child second-level-child-4 notactive notactive url-type-internal\">Movies </a></li><li class=\"nav-items \"> <a href=\"https://www.indiatoday.in/technology\" style=\"background : transparent\" class=\"second-level-child second-level-child-5 notactive notactive url-type-external\">Tech</a></li><li class=\"nav-items \"> <a href=\"https://www.indiatoday.in/magazine/cover-story/story/20190527-in-search-of-excellence-best-colleges-of-india-1526187-2019-05-18\" style=\"background : transparent\" class=\"second-level-child second-level-child-6 notactive notactive url-type-external\">Best Colleges 2019</a></li><li class=\"nav-items \"> <a href=\"/sports\" style=\"background : transparent\" target=\"_self\" class=\"second-level-child second-level-child-7 notactive notactive url-type-internal\">Sports </a></li><li class=\"nav-items \"> <a href=\"/fact-check\" style=\"background : transparent\" target=\"_self\" class=\"second-level-child second-level-child-8 notactive notactive url-type-internal\">Fact Check </a></li><li class=\"nav-items \"> <a href=\"https://www.indiatoday.in/trending-news\" style=\"background : transparent\" class=\"second-level-child second-level-child-9 notactive notactive url-type-external\">Trending</a></li><li class=\"nav-items \"> <a href=\"/auto\" style=\"background : transparent\" target=\"_self\" class=\"second-level-child second-level-child-10 notactive notactive url-type-internal\">Auto </a></li><li class=\"nav-items \"> <a href=\"/television\" style=\"background : transparent\" target=\"_self\" class=\"second-level-child second-level-child-11 notactive notactive url-type-internal\">Television </a></li><li class=\"nav-items \"> <a href=\"/business\" style=\"background : transparent\" target=\"_self\" class=\"second-level-child second-level-child-12 notactive notactive url-type-internal\">Business </a></li><li class=\"nav-items \"> <a href=\"https://www.indiatoday.in/education-today\" style=\"background : transparent\" class=\"second-level-child second-level-child-13 notactive notactive url-type-external\">Education</a></li><li class=\"nav-items \"> <a href=\"/lifestyle\" style=\"background : transparent\" target=\"_self\" class=\"second-level-child second-level-child-14 notactive notactive url-type-internal\">Lifestyle </a></li><li class=\"nav-items \"> <a href=\"/world\" style=\"background : transparent\" target=\"_self\" class=\"second-level-child second-level-child-15 notactive notactive url-type-internal\">World </a></li><li class=\"nav-items \"> <a href=\"/fyi\" style=\"background : transparent\" target=\"_self\" class=\"second-level-child second-level-child-16 notactive notactive url-type-internal\">FYI </a></li><li class=\"nav-items \"> <a href=\"/photo\" style=\"background : transparent\" target=\"_self\" class=\"second-level-child second-level-child-17 notactive notactive url-type-internal\">Photo </a></li><li class=\"nav-items \"> <a href=\"/mail-today\" style=\"background : transparent\" target=\"_self\" class=\"second-level-child second-level-child-18 notactive notactive url-type-internal\">Mail Today </a></li><li class=\"nav-items \"> <a href=\"http://caretoday.in/\" style=\"background : transparent\" target=\"_blank\" rel=\"nofollow\" class=\"second-level-child second-level-child-19 notactive notactive url-type-external\">Care Today</a></li><li class=\"nav-items \"> <a href=\"/programmes\" style=\"background : transparent\" target=\"_self\" class=\"second-level-child second-level-child-20 notactive notactive url-type-internal\">Programme </a></li></ul><div class=\"menu-login mhide\"><div class=\"social-nav mhide\"><dl class=\"social-nav mhide\"><dt class=\"livetv-icon-parent\"><a href=\"/livetv\"><svg version=\"1.1\" id=\"Layer_1\" xmlns=\"http://www.w3.org/2000/svg\" xmlns:xlink=\"http://www.w3.org/1999/xlink\" x=\"0px\" y=\"0px\" width=\"24px\" height=\"24px\" viewBox=\"0 0 24 24\" enable-background=\"new 0 0 24 24\" xml:space=\"preserve\"> <path id=\"hovesvg\" fill=\"#FFFFFF\" d=\"M22,7h-8.17l4.76-4.76c0.39-0.39,0.39-1.02,0-1.41c-0.39-0.39-1.02-0.39-1.41,0l-5.13,5.13L6.91,0.83 c-0.39-0.39-1.02-0.39-1.41,0c-0.39,0.39-0.39,1.02,0,1.41L10.25,7H2C0.9,7,0,7.9,0,9v12c0,1.1,0.9,2,2,2h20c1.1,0,2-0.9,2-2V9 C24,7.9,23.1,7,22,7z M22,20c0,0.55-0.45,1-1,1H3c-0.55,0-1-0.45-1-1V10c0-0.55,0.45-1,1-1h18c0.55,0,1,0.45,1,1V20z\"></path> </svg></a></dt><dt class=\"share-icon-parent\"> <a href=\"javascript:void(0)\" class=\"share-icon-default\"><i class=\"fa fa-share-alt\" aria-hidden=\"true\"></i></a><div class=\"social-dropdown\"><dl><dt><a rel=\"nofollow\" href=\"https://www.facebook.com/IndiaToday/\" class=\"user-activity def-cur-pointer\" data-rel=\"1\" data-tag=\"homepage\" data-activity=\"fb_follow\" data-status=\"1\" title=\"Follow us\" target=\"_blank\"><i class=\"fa fa-facebook\"></i></a></dt><dt><a rel=\"nofollow\" href=\"https://twitter.com/indiatoday\" class=\"user-activity def-cur-pointer\" data-rel=\"1\" data-tag=\"homepage\" data-activity=\"twitter_follow\" data-status=\"1\" title=\"Follow us\" target=\"_blank\"><i class=\"fa fa-twitter\"></i></a></dt><dt><a href=\"https://www.indiatoday.in/rss\" title=\"\"><i class=\"fa fa-rss\"></i></a></dt></dl></div></dt><dt class=\"search-icon-parent\"> <a href=\"javascript:void(0)\" class=\"search-icon-default\" title=\"\"><i class=\"fa fa-search\"></i></a> <a href=\"javascript:void(0)\" class=\"search-icon-search\" title=\"\"><i class=\"fa fa-search\"></i></a><div class=\"globle-search\"> <input class=\"search-text\" placeholder=\"Type here\" type=\"text\" value=\"\" /></div></dt><dt><div class=\"user-menu\"> <a href=\"https://auth.indiatoday.in/saml_login/other/aHR0cHM6Ly93d3cuaW5kaWF0b2RheS5pbi8jc3NvbG9naW49MQ==\" class=\"user-icon sso-click\"><i class=\"fa fa-user\"></i></a></div></dt></dl></div></div></div> </nav></div></div><div id=\"block-itg-ads-ads-super-banner-top-nav-728x90\" class=\"block block-itg-ads odd\"><div class=\"container\"><div class=\"home-page-728-ads\"><div class='adtext'>advertisement</div><div id='div-gpt-ad-1514896195242-0'>\n",
      "<script>\n",
      "googletag.cmd.push(function() { googletag.display('div-gpt-ad-1514896195242-0'); });\n",
      "</script>\n",
      "</div></div></div><style>\n",
      ".top-n-most-popular-stories .widget-wrapper .data-holder .mCSB_scrollTools{width:5px}\n",
      ".mCSB_scrollTools .mCSB_draggerRail{ width:5px;background-color: #000; background-color: rgba(0,0,0,.2);filter: \"alpha(opacity=20)\";-ms-filter: \"alpha(opacity=20)\";}\n",
      ".mCSB_scrollTools .mCSB_dragger .mCSB_dragger_bar{background-color: #000;background-color: rgba(0, 0, 0, 0.75);width: 5px;}\n",
      ".mCSB_scrollTools .mCSB_dragger:hover .mCSB_dragger_bar,.mCSB_scrollTools .mCSB_dragger:active .mCSB_dragger_bar{background-color: #000;background-color: rgba(0, 0, 0, 0.85);}\n",
      "</style></div><div id=\"block-block-23\" class=\"block block-block even\"><style type=\"text/css\">\n",
      "<!--<!--\n",
      "*{padding:0; margin:0;}\n",
      ".node-type-story iframe.stipframe{ margin-top:10px}\n",
      ".stipframe { height:92px;}.node-type-breaking-news iframe.stipframe { margin-top: 10px;}\n",
      "@media (min-width:768px) and (max-width:800px){.stipframe { height:70px;}}\n",
      "@media screen and (max-width:480px){\n",
      ".stipframe { height:70px;}\n",
      "}@media (min-width: 800px){\n",
      ".page-elections-lok-sabha-2019 .constituencydata-keycandidate {\n",
      "display: -ms-block;\n",
      "display: block;\n",
      "-ms-grid-columns: 1fr 30px 320px;\n",
      "grid-template-columns: 1fr 320px;\n",
      "grid-gap: 30px;\n",
      "}\n",
      ".page-elections-lok-sabha-2019 .constituencydata-keycandidate .candidate-statewise-iframe.mrgb30{ display:none !important}}\n",
      ".section-elections iframe.stipframe{margin-bottom:10px;}\n",
      ".stateconstituency-profile { display: none;}</style><p><iframe class=\"stipframe\" frameborder=\"0\" scrolling=\"no\" src=\"https://akm-img-a-in.tosshub.com/indiatoday/misc/index-indiatoday.html?v=5678\" width=\"100%\"></iframe></p></div><div id=\"block-block-27\" class=\"block block-block last odd\"><style type=\"text/css\">\n",
      "<!--<!--\n",
      "* {margin: 0;padding: 0;box-sizing: border-box; outline: none}.destop-Iframe-poll{ width:100%; display: block}.mobile-Iframe-poll{width:100%; display: none}.mobile-Iframe-poll{ text-align:center}\n",
      "@media only screen and (max-width:768px){\n",
      ".destop-Iframe-poll{ display: none}.mobile-Iframe-poll{ display: block}\n",
      ".front .itg-layout-container .row:first-child{margin-right: -7px;margin-left: -7px;}\n",
      ".front .itg-layout-container .itg-front .itg-top-section{margin-right: -7px;margin-left: -7px;}\n",
      ".front .itg-layout-container .row:nth-child(2){margin-right: -7px;margin-left: -7px;}\n",
      ".front .itg-layout-container .row:first-child .col-sm-12:first-child{padding-right: 0px;padding-left: 0px;}\n",
      ".front .itg-layout-container .row:first-child .col-sm-12:nth-child(2){padding-right: 0px;padding-left: 0px;}\n",
      ".front .itg-layout-container .row:nth-child(3){margin-right: -7px;margin-left: -7px;}\n",
      ".front .itg-layout-container .row:nth-child(4){margin-right: -7px;margin-left: -7px;}\n",
      ".front .itg-layout-container .row:nth-child(5){margin-right: -7px;margin-left: -7px;}\n",
      ".front .itg-layout-container .row:nth-child(6){margin-right: -7px;margin-left: -7px;}\n",
      ".front .itg-layout-container .row:nth-child(7){margin-right: -7px;margin-left: -7px;}\n",
      ".front .itg-layout-container .row:nth-child(8){margin-right: -7px;margin-left: -7px;}\n",
      ".front .row.itg-common-section.itg-third-party-section{margin-right: -7px;margin-left: -7px;}\n",
      "}\n",
      "@media only screen and (max-width: 767px) and (min-width:589px){\n",
      ".mobile-Iframe-poll iframe{ height:740px}\n",
      "}\n",
      "@media only screen and (max-width: 640px) and (min-width:600px){\n",
      ".mobile-Iframe-poll iframe{ height:740px}\n",
      "}\n",
      "@media only screen and (max-width: 590px) and (min-width:500px){\n",
      ".mobile-Iframe-poll iframe{ height:740px}\n",
      "}\n",
      "@media only screen and (max-width: 480px) and (min-width:420px){\n",
      ".mobile-Iframe-poll iframe{ height:740px}\n",
      "}</style><div class=\"destop-Iframe-poll\"><iframe frameborder=\"0\" height=\"470\" scrolling=\"no\" src=\"https://electionresults.intoday.in/elections/2019/html/exitpoll/index.html?site=it&amp;v=1.2\" width=\"100%\"></iframe></div><div class=\"mobile-Iframe-poll\"><iframe frameborder=\"0\" height=\"755\" scrolling=\"no\" src=\"https://electionresults.intoday.in/elections/2019/html/exitpoll/index.html?site=it&amp;v=1.2\" style=\"width:calc(99vw)\" width=\"99vw\"></iframe></div></div></div> </section> </header> <main id=\"main\" class=\"container\"> <section id=\"content\" role=\"main\"> <a id=\"main-content\"></a><h1 class=\"page__title title front-title-hide\" id=\"page-title\">News</h1><div class=\"itg-layout-container itg-front\"><div class=\"row\"><div class=\"col-md-12\"></div></div><div class=\"row itg-top-section\"><div class=\"top-block\"><div class=\"row\"><div class=\"col-sm-12 col-md-8 padrht0\"><div class=\"col-sm-8 col-md-8 col-lg-8 mrgb30 home-top-featured\" data-tb-region=\"homeTopFeatured\"><div class=\"widget-help-text\">Template widgets ( <strong>Home Page Feature</strong> )</div><div class=\"itg-widget\"><div class=\"droppable \"><div class=\"widget-wrapper home_page_feature\"><div class=\"data-holder\" id=\"itg-block-1\"><div id=\"block-itg-widget-home-page-feature\" class=\"block block-itg-widget odd\"><div class=\"featured-news\"><div class=\"featured-post featured-post-first\"> <a href=\"https://www.indiatoday.in/elections/lok-sabha-2019/story/elelction-commission-evm-safety-twitter-video-statement-1530816-2019-05-21\"> <img src=\"https://akm-img-a-in.tosshub.com/indiatoday/styles/magazine_top_story_483x271/public/images/story/201905/EC_0-647x363.jpeg?cv4kk88Ir6opmSzBX5Su4TPlW0jm90SN\" alt=\"Election Commission on EVMs\" title=\"Election Commission on EVMs\" /> </a><h2 class=\" home-page-feature-1530816\"> <a href=\"/elections/lok-sabha-2019/story/elelction-commission-evm-safety-twitter-video-statement-1530816-2019-05-21\" title=\"Election Commission rejects EVM mishandling charges in UP, says all machines safe\">Election Commission rejects EVM mishandling charges in UP, says all machines safe</a></h2></div><div class=\"featured-post\"> <a href=\"https://www.indiatoday.in/elections/lok-sabha-2019/story/sharad-pawar-calls-jaganmohan-reddy-1530812-2019-05-21\"> <img src=\"https://akm-img-a-in.tosshub.com/indiatoday/styles/home_page_feature_small/public/images/story/201905/jagan-370x208.jpeg?OLOnL6Y0POXfyQ.8HqBR92ny8zEaY_YQ\" alt=\"\" title=\"\" /> </a><h3 title=\"Sharad Pawar calls Jagan Reddy after exit polls favour him, YSRCP chief skips call\" class=\" home-page-feature-small-1530812\"> <a href=\"/elections/lok-sabha-2019/story/sharad-pawar-calls-jaganmohan-reddy-1530812-2019-05-21\" title=\"Sharad Pawar calls Jagan Reddy after exit polls favour him, YSRCP chief skips call\">Sharad Pawar calls Jagan Reddy after exit polls favour him, YSRCP chief skips call</a></h3></div><div class=\"featured-post\"> <a href=\"https://www.indiatoday.in/movies/celebrities/story/vivek-oberoi-deletes-salman-aishwarya-meme-apologises-after-severe-flak-1530732-2019-05-21\"> <img src=\"https://akm-img-a-in.tosshub.com/indiatoday/styles/home_page_feature_small/public/images/story/201905/urmila_vivek1-370x208.jpeg?6uj1oVo24PanGHTg3SsHxjIUSpjltfEz\" alt=\"After Sonam Kapoor, Urmila Matondkar slammed Vivek Oberoi for his tasteless meme on Aishwarya Rai Bachchan's personal life. \" title=\"After Sonam Kapoor, Urmila Matondkar slammed Vivek Oberoi for his tasteless meme on Aishwarya Rai Bachchan's personal life. \" /> </a><h3 title=\"Vivek Oberoi deletes Salman-Aishwarya meme, apologises after severe flak\" class=\" home-page-feature-small-1530732\"> <a href=\"/movies/celebrities/story/vivek-oberoi-deletes-salman-aishwarya-meme-apologises-after-severe-flak-1530732-2019-05-21\" title=\"Vivek Oberoi deletes Salman-Aishwarya meme, apologises after severe flak\">Vivek Oberoi deletes Salman-Aishwarya meme, apologises after severe flak</a></h3></div></div></div></div></div></div></div></div><div class=\"col-sm-4 col-md-4 col-lg-4 padrht0 mrgb30 home-top-story\" data-tb-region=\"homeTopStory\"><div class=\"widget-help-text\">Template widgets (<strong>Top Story</strong>)</div><div class=\"itg-widget\"><div class=\"top-n-most-popular-stories\"><div class=\"itg-widget-child tab-data tab-data-1\"><div class=\"droppable \"><div class=\"widget-wrapper top_stories_ordering\"> <span class=\"widget-title\">Top Stories</span><div class=\"data-holder\" id=\"itg-block-2\"><div id=\"block-itg-widget-top-stories-ordering\" class=\"block block-itg-widget even\"><ul class=\"itg-listing\"><li data-tb-region-item title=\"Declared! Goa Board SSC 10th Result 2019 Live Updates: GBSHSE Result announced at gbshse.gov.in\" class=\"breaking_news top-story-1530760 \"> <a href=\"/education-today/news/story/goa-board-ssc-10th-result-2019-gbshse-result-at-gbshse-gov-in-1530760-2019-05-21\" title=\"Declared! Goa Board SSC 10th Result 2019 Live Updates: GBSHSE Result announced at gbshse.gov.in\">Declared! Goa Board SSC 10th Result 2019 Live Updates: GBSHSE Result announced at gbshse.gov.in</a></li><li data-tb-region-item title=\"Multiple videos of EVMs stacked in cars, shops surface on Twitter\" class=\"story top-story-1530716 \"> <a href=\"/elections/lok-sabha-2019/story/evm-manipulation-videos-on-twitter-1530716-2019-05-21\" title=\"Multiple videos of EVMs stacked in cars, shops surface on Twitter\">Multiple videos of EVMs stacked in cars, shops surface on Twitter</a></li><li data-tb-region-item title=\"Cannes 2019: Aishwarya Rai raises the fashion bar even higher with enchanting looks. See pics\" class=\"story top-story-1530859 \"> <a href=\"/lifestyle/fashion/story/cannes-2019-aishwarya-rai-raises-the-fashion-bar-even-higher-with-enchanting-looks-see-pics-1530859-2019-05-21\" title=\"Cannes 2019: Aishwarya Rai raises the fashion bar even higher with enchanting looks. See pics\">Cannes 2019: Aishwarya Rai raises the fashion bar even higher with enchanting looks. See pics</a></li><li data-tb-region-item title=\"Lok Sabha Election Live Updates: SC declines hearing of PIL challenging appointment of external election observers \" class=\"breaking_news top-story-1530693 \"> <a href=\"/elections/lok-sabha-2019/story/lok-sabha-election-live-exit-poll-opposition-vvpat-voting-modi-amit-shah-nda-congress-1530693-2019-05-21\" title=\"Lok Sabha Election Live Updates: SC declines hearing of PIL challenging appointment of external election observers \">Lok Sabha Election Live Updates: SC declines hearing of PIL challenging appointment of external election observers </a></li><li data-tb-region-item title=\"Hyundai Venue prices leaked before launch?\" class=\"story top-story-1530769 \"> <a href=\"/auto/latest-auto-news/story/hyundai-venue-prices-leaked-launch-today-1530769-2019-05-21\" title=\"Hyundai Venue prices leaked before launch?\">Hyundai Venue prices leaked before launch?</a></li><li data-tb-region-item title=\"The swami who influenced Amit Shah\" class=\"story top-story-1530607 pipeline-added\"> <a href=\"/india-today-insight/story/amit-shah-swami-vamdev-haridwar-1530607-2019-05-21\" title=\"The swami who influenced Amit Shah\">The swami who influenced Amit Shah</a> <span class=\"add-on-story-pipline\">|</span> <a target=\"_blank\" href=\"https://www.indiatoday.in/india-today-magazine-insight\" title=\"India Today Insight Report\">India Today Insight Report</a></li><li data-tb-region-item title=\"CBI gives clean chit to Mulayam Singh Yadav, Akhilesh in disproportionate assets case \" class=\"story top-story-1530803 \"> <a href=\"/india/story/cbi-gives-clean-chit-to-mulayam-singh-yadav-akhilesh-in-disproportionate-assets-case-1530803-2019-05-21\" title=\"CBI gives clean chit to Mulayam Singh Yadav, Akhilesh in disproportionate assets case \">CBI gives clean chit to Mulayam Singh Yadav, Akhilesh in disproportionate assets case </a></li><li data-tb-region-item title=\"Delhi Metro services affected on Yellow Line due to technical snag\" class=\"story top-story-1530866 \"> <a href=\"/india/story/metro-services-affected-on-yellow-line-due-to-technical-snag-1530866-2019-05-21\" title=\"Delhi Metro services affected on Yellow Line due to technical snag\">Delhi Metro services affected on Yellow Line due to technical snag</a></li><li data-tb-region-item title=\"Markets turn volatile after Sensex, Nifty hit record highs in early trade\" class=\"story top-story-1530766 \"> <a href=\"/business/story/markets-turn-volatile-after-sensex-nifty-hit-record-highs-in-early-trade-1530766-2019-05-21\" title=\"Markets turn volatile after Sensex, Nifty hit record highs in early trade\">Markets turn volatile after Sensex, Nifty hit record highs in early trade</a></li><li data-tb-region-item title=\"Crisis-hit Jet airways may find its saving grace this week\" class=\"story top-story-1530729 \"> <a href=\"/business/story/crisis-hit-jet-airways-may-find-its-saving-grace-this-week-1530729-2019-05-21\" title=\"Crisis-hit Jet airways may find its saving grace this week\">Crisis-hit Jet airways may find its saving grace this week</a></li><li data-tb-region-item title=\"PM Modi, Gandhi family pay tributes to Rajiv Gandhi on death anniversary\" class=\"story top-story-1530747 \"> <a href=\"/india/story/rajiv-gandhi-death-anniversary-narendra-modi-rahul-gandhi-tributes-1530747-2019-05-21\" title=\"PM Modi, Gandhi family pay tributes to Rajiv Gandhi on death anniversary\">PM Modi, Gandhi family pay tributes to Rajiv Gandhi on death anniversary</a></li><li data-tb-region-item title=\"After exit polls predict win, BJP chief Amit Shah to host dinner for NDA partners\" class=\"story top-story-1530748 \"> <a href=\"/elections/lok-sabha-2019/story/amit-shah-dinner-nda-exit-polls-bjp-modi-election-result-1530748-2019-05-21\" title=\"After exit polls predict win, BJP chief Amit Shah to host dinner for NDA partners\">After exit polls predict win, BJP chief Amit Shah to host dinner for NDA partners</a></li><li data-tb-region-item title=\"First look at the OPPO F11: The best smartphone under 20K\" class=\"story top-story-1526286 \"> <span class=\"itg-sponsor-title\">IMPACT FEATURE</span> <a href=\"/impact-feature/story/first-look-at-the-oppo-f11-the-best-smartphone-under-20k-1526286-2019-05-16\" title=\"First look at the OPPO F11: The best smartphone under 20K\" rel=\"nofollow\" target=\"_blank\" class=\"itg-sponsored\">First look at the OPPO F11: The best smartphone under 20K</a></li></ul></div></div></div></div></div></div></div></div></div><div class=\"col-sm-12 col-md-4\"><div class=\"top-rhs-add\"><div class=\"widget-help-text\">Non Draggable ( <strong>Ad widget</strong> )</div><div class=\"col-xs-12 col-sm-6 col-md-12 col-lg-12 mrgb30 top-rhs-add-child\"><div class=\"itg-widget\"><div class=\"ad-widget\"><div class=\"sidebar-ad\"><div id=\"block-itg-ads-ads-medium-rectangl-rhs1-300x250--2\" class=\"block block-itg-ads even\"><div class='adtext'>advertisement</div><div id='div-gpt-ad-1514896195242-1' style='min-height:250px;'>\n",
      "<script>\n",
      "googletag.cmd.push(function() { googletag.display('div-gpt-ad-1514896195242-1'); });\n",
      "</script>\n",
      "</div><style>\n",
      ".block-itg-ads iframe {\n",
      "max-width: inherit !important;\n",
      "}\n",
      "</style></div></div></div></div></div><div class=\"col-xs-12 col-sm-6 col-md-5 col-lg-12 home-trending-video\"> <span class=\"widget-title\"><h3>WATCH LIVE</h3></span><div class='live-webcast-coverage'><iframe src=\"https://smedia2.intoday.in/microsites/election/it-rhscounter.html\n",
      "?v=1.17\" width=\"320\" height=\"270\" scrolling=\"no\" frameborder=\"0\" style=\"margin:0 auto\"></iframe><style>\n",
      ".home-trending-video .widget-title,.home-trending-video .webcast_title{ display:none}\n",
      "@media (min-width:768px){\n",
      ".home-trending-video .live-webcast-coverage{ border: 1px solid #ddd; padding: 20px 0;}\n",
      "}\n",
      "</style></div><div class=\"webcast_title\"><h3>India Today exclusive with KL Rahul</h3></div></div></div></div></div></div><div class=\"itg-layout-container itg-front\"><div class=\"row itg-common-section\"><div class=\"col-md-4 col-sm-4 col-xs-12 mt-50\" data-tb-region=\"HomeMovies\"><div class=\"widget-help-text\">Section Card</div><div class=\"itg-widget\"><div class=\"droppable \"><div class=\"widget-wrapper section_wise_order\"> <span class=\"widget-title\"><a href=\"/movies\">Movies</a></span><div class=\"data-holder\" id=\"itg-block-7\"><div class=\"section-ordering video-gif\" data-id=\"undefined\" id=\"card_1206533_itg-block-7\"><div data-tb-region-item> <a class=\"pic-no-icon\" href=\"https://www.indiatoday.in/movies/photo/arjun-rampal-and-gabriella-demetriades-have-a-blast-on-maldives-babymoon-see-pics-1530860-2019-05-21\"> <img data-src=\"https://akm-img-a-in.tosshub.com/indiatoday/images/photogallery/201905/3-370x208.png?LhT.EnvlLP4OIxFZz1reCkm785L7e6Q8\" src=\"https://akm-img-a-in.tosshub.com/indiatoday/../sites/all/themes/itg/images/itg_image370x208.jpg\" class=\"lazyload\" width=\" \" alt=\"Arjun Rampal and Gabriella Demetriades\" title=\"Arjun Rampal and Gabriella Demetriades\" height=\" \" /> </a><h3 title=\"Arjun Rampal and Gabriella Demetriades have a blast on Maldives babymoon. See pics\" class=\"frist-heading heading-1530860 photogallery \"> <a href=\"/movies/photo/arjun-rampal-and-gabriella-demetriades-have-a-blast-on-maldives-babymoon-see-pics-1530860-2019-05-21\">Arjun Rampal and Gabriella Demetriades have a blast on Maldives babymoon. See pics</a></h3></div><p data-tb-region-item title=\"Shriya Saran opposite Vemal in remake of Sandra Bullock's The Proposal?\" class=\"story section-order-1530847\"> <a href=\"/movies/regional-cinema/story/shriya-saran-paired-opposite-vemal-in-remake-of-sandra-bullock-s-the-proposal-1530847-2019-05-21\">Shriya Saran opposite Vemal in remake of Sandra Bullock's The Proposal?</a></p><p data-tb-region-item title=\"Sushmita Sen completes 25 years of Miss Universe win. Boyfriend Rohman Shawl is all heart\" class=\"story section-order-1530846\"> <a href=\"/movies/celebrities/story/sushmita-sen-completes-25-years-miss-universe-win-boyfriend-rohman-shawl-is-heart-1530846-2019-05-21\">Sushmita Sen completes 25 years of Miss Universe win. Boyfriend Rohman Shawl is all heart</a></p><div class=\"morediv\"><a href=\"https://www.indiatoday.in/movies\">more from Movies <i class=\"fa fa-chevron-right\" aria-hidden=\"true\"></i></a></div></div></div></div></div></div></div><div class=\"col-md-4 col-sm-4 col-xs-12 mt-50\" data-tb-region=\"HomeLifestyle\"><div class=\"widget-help-text\">Section Card</div><div class=\"itg-widget\"><div class=\"droppable \"><div class=\"widget-wrapper section_wise_order\"> <span class=\"widget-title\"><a href=\"/lifestyle\">Lifestyle</a></span><div class=\"data-holder\" id=\"itg-block-8\"><div class=\"section-ordering video-gif\" data-id=\"undefined\" id=\"card_1206567_itg-block-8\"><div data-tb-region-item> <a class=\"pic-no-icon\" href=\"https://www.indiatoday.in/lifestyle/fashion/story/cannes-2019-aishwarya-rai-raises-the-fashion-bar-even-higher-with-enchanting-looks-see-pics-1530859-2019-05-21\"> <img data-src=\"https://akm-img-a-in.tosshub.com/indiatoday/images/story/201905/aishwarya__5_-370x208.png?tM7toSBsCqkJFWgAFoDi_g6sXEfASLQs\" src=\"https://akm-img-a-in.tosshub.com/indiatoday/../sites/all/themes/itg/images/itg_image370x208.jpg\" class=\"lazyload\" width=\" \" alt=\"Aishwarya Rai Bachchan at Cannes 2019 \" title=\"Aishwarya Rai Bachchan at Cannes 2019 \" height=\" \" /> </a><h3 title=\"Cannes 2019: Aishwarya Rai raises the fashion bar even higher with enchanting looks. See pics\" class=\"frist-heading heading-1530859 story \"> <a href=\"/lifestyle/fashion/story/cannes-2019-aishwarya-rai-raises-the-fashion-bar-even-higher-with-enchanting-looks-see-pics-1530859-2019-05-21\">Cannes 2019: Aishwarya Rai raises the fashion bar even higher with enchanting looks. See pics</a></h3></div><p data-tb-region-item title=\"Cannes 2019: Sonam Kapoor brings Indian royalty to French Riviera in modern maharani gown. See pics\" class=\"story section-order-1530815\"> <a href=\"/lifestyle/fashion/story/cannes-2019-sonam-kapoor-brings-indian-royalty-to-french-riviera-in-modern-maharani-gown-see-pics-1530815-2019-05-21\">Cannes 2019: Sonam Kapoor brings Indian royalty to French Riviera in modern maharani gown. See pics</a></p><p data-tb-region-item title=\"Cannes 2019: Sonam Kapoor stuns as Naomi Campbell in red and shines in violet. See pics\" class=\"photogallery section-order-1530624\"> <a href=\"/lifestyle/photo/cannes-2019-sonam-kapoor-stuns-as-naomi-campbell-in-red-and-shines-in-violet-see-pics-1530624-2019-05-20\">Cannes 2019: Sonam Kapoor stuns as Naomi Campbell in red and shines in violet. See pics</a></p><div class=\"morediv\"><a href=\"https://www.indiatoday.in/lifestyle\">more from Lifestyle <i class=\"fa fa-chevron-right\" aria-hidden=\"true\"></i></a></div></div></div></div></div></div></div><div class=\"col-md-4 col-sm-4 col-xs-12 mt-50\" data-tb-region=\"HomeElections\"><div class=\"widget-help-text\">Section Card</div><div class=\"itg-widget\"><div class=\"droppable \"><div class=\"widget-wrapper section_wise_order\"> <span class=\"widget-title\"><a href=\"/elections\">Elections</a></span><div class=\"data-holder\" id=\"itg-block-9\"><div class=\"section-ordering video-gif\" data-id=\"undefined\" id=\"card_1206719_itg-block-9\"><div data-tb-region-item> <a class=\"pic-no-icon\" href=\"https://www.indiatoday.in/elections/lok-sabha-2019/story/sc-dismisses-plea-challenging-appointment-of-observers-for-lok-sabha-polls-in-west-bengal-1530879-2019-05-21\"> <img data-src=\"https://akm-img-a-in.tosshub.com/indiatoday/images/story/201905/supreme_court-370x208.jpeg?de_67UZ7aBvAL.SLUlQDpGnEJh0nTD63\" src=\"https://akm-img-a-in.tosshub.com/indiatoday/../sites/all/themes/itg/images/itg_image370x208.jpg\" class=\"lazyload\" width=\" \" alt=\" \" title=\" \" height=\" \" /> </a><h3 title=\"SC dismisses plea challenging appointment of observers for Lok Sabha polls in West Bengal\" class=\"frist-heading heading-1530879 story \"> <a href=\"/elections/lok-sabha-2019/story/sc-dismisses-plea-challenging-appointment-of-observers-for-lok-sabha-polls-in-west-bengal-1530879-2019-05-21\">SC dismisses plea challenging appointment of observers for Lok Sabha polls in West Bengal</a></h3></div><p data-tb-region-item title=\"SC dismisses PIL seeking 100% matching of VVPAT slips with EVMs during vote counting on May 23\" class=\"story section-order-1530843\"> <a href=\"/elections/lok-sabha-2019/story/sc-dismisses-pil-seeking-100-per-cent-matching-of-vvpat-slips-with-electronic-voting-machines-1530843-2019-05-21\">SC dismisses PIL seeking 100% matching of VVPAT slips with EVMs during vote counting on May 23</a></p><p data-tb-region-item title=\"Election Commission rejects EVM mishandling charges in UP, says all machines safe\" class=\"story section-order-1530816\"> <a href=\"/elections/lok-sabha-2019/story/elelction-commission-evm-safety-twitter-video-statement-1530816-2019-05-21\">Election Commission rejects EVM mishandling charges in UP, says all machines safe</a></p><div class=\"morediv\"><a href=\"https://www.indiatoday.in/elections\">more from Elections <i class=\"fa fa-chevron-right\" aria-hidden=\"true\"></i></a></div></div></div></div></div></div></div></div><div class=\"row itg-common-section\"><div class=\"col-md-4 col-sm-4 col-xs-12 mt-50\" data-tb-region=\"HomeSports\"><div class=\"widget-help-text\">Section Card</div><div class=\"itg-widget\"><div class=\"droppable \"><div class=\"widget-wrapper section_wise_order\"> <span class=\"widget-title\"><a href=\"/sports\">Sports</a></span><div class=\"data-holder\" id=\"itg-block-17\"><div class=\"section-ordering video-gif\" data-id=\"undefined\" id=\"card_1206550_itg-block-17\"><div data-tb-region-item> <a class=\"pic-no-icon\" href=\"https://www.indiatoday.in/sports/cricket/story/icc-world-cup-steve-smith-david-warner-duo-moeen-ali-1530826-2019-05-21\"> <img data-src=\"https://akm-img-a-in.tosshub.com/indiatoday/images/story/201905/9-370x208.jpeg?odrsBX_CRB7LEwnkfzR1ZiWrASiMiN3I\" src=\"https://akm-img-a-in.tosshub.com/indiatoday/../sites/all/themes/itg/images/itg_image370x208.jpg\" class=\"lazyload\" width=\" \" alt=\"All-rounder Moeen Ali has urged fans to not tamper the Warner-Smith duo during the World Cup (Photo: AP) \" title=\"Steve Smith and David Warner \" height=\" \" /> </a><h3 title=\"Keep it funny, not personal: Moeen Ali urges fans to go easy on Smith and Warner\" class=\"frist-heading heading-1530826 story \"> <a href=\"/sports/cricket/story/icc-world-cup-steve-smith-david-warner-duo-moeen-ali-1530826-2019-05-21\">Keep it funny, not personal: Moeen Ali urges fans to go easy on Smith and Warner</a></h3></div><p data-tb-region-item title=\"I wanted to bat like Shahid Afridi: Rashid Khan\" class=\"story section-order-1530754\"> <a href=\"/sports/cricket/story/icc-cricket-world-cup-2019-rashid-khan-shahid-afridi-1530754-2019-05-21\">I wanted to bat like Shahid Afridi: Rashid Khan</a></p><p data-tb-region-item title=\"Formula One legend Niki Lauda dies aged 70\" class=\"story section-order-1530695\"> <a href=\"/sports/formula-one/story/formula-one-legend-niki-lauda-dies-aged-70-1530695-2019-05-21\">Formula One legend Niki Lauda dies aged 70</a></p><div class=\"morediv\"><a href=\"https://www.indiatoday.in/sports\">more from Sports <i class=\"fa fa-chevron-right\" aria-hidden=\"true\"></i></a></div></div></div></div></div></div></div><div class=\"col-md-4 col-sm-4 col-xs-12 mt-50\" data-tb-region=\"HomeEducationToday\"><div class=\"widget-help-text\">Section Card</div><div class=\"itg-widget\"><div class=\"droppable \"><div class=\"widget-wrapper section_wise_order\"> <span class=\"widget-title\"><a href=\"/education-today\">Education Today</a></span><div class=\"data-holder\" id=\"itg-block-18\"><div class=\"section-ordering video-gif\" data-id=\"undefined\" id=\"card_1206666_itg-block-18\"><div data-tb-region-item> <a class=\"pic-no-icon\" href=\"https://www.indiatoday.in/education-today/notification/story/samastha-kerala-result-2019-madras-wise-declared-see-how-to-check-result-1530867-2019-05-21\"> <img data-src=\"https://akm-img-a-in.tosshub.com/indiatoday/images/story/201905/man-3653346_960_720_1-370x208.jpeg?6Xs9idB8yWwc8JOz6LsuAYEInok.oKqA\" src=\"https://akm-img-a-in.tosshub.com/indiatoday/../sites/all/themes/itg/images/itg_image370x208.jpg\" class=\"lazyload\" width=\" \" alt=\"Samastha Kerala Result 2019 has been declared on the official website of Samastha Kerala Islam Matha Vidyabhyasa Board. \" title=\"Samastha Kerala Result 2019 has been declared on the official website of Samastha Kerala Islam Matha Vidyabhyasa Board. \" height=\" \" /> </a><h3 title=\"Samastha Kerala Result 2019 Madrasa-wise declared: See how to check Result\" class=\"frist-heading heading-1530867 story \"> <a href=\"/education-today/notification/story/samastha-kerala-result-2019-madras-wise-declared-see-how-to-check-result-1530867-2019-05-21\">Samastha Kerala Result 2019 Madrasa-wise declared: See how to check Result</a></h3></div><p data-tb-region-item title=\"Goa Class 10th results 2019: Government schools record 100% records, Panaji district at the lowest \" class=\"story section-order-1530865\"> <a href=\"/education-today/news/story/goa-class-10th-results-2019-government-schools-record-100-records-panaji-district-at-the-lowest-1530865-2019-05-21\">Goa Class 10th results 2019: Government schools record 100% records, Panaji district at the lowest </a></p><p data-tb-region-item title=\"Rajasthan RBSE 12th Arts result 2019: Date and time confirmed by officials\" class=\"story section-order-1530862\"> <a href=\"/education-today/news/story/rajasthan-rbse-12th-arts-result-2019-date-rbse-board-result-divd-1530862-2019-05-21\">Rajasthan RBSE 12th Arts result 2019: Date and time confirmed by officials</a></p><div class=\"morediv\"><a href=\"https://www.indiatoday.in/education-today\">more from Education Today <i class=\"fa fa-chevron-right\" aria-hidden=\"true\"></i></a></div></div></div></div></div></div></div><div class=\"col-md-4 col-sm-4 col-xs-12 mt-50\" data-tb-region=\"HomeTechnology\"><div class=\"widget-help-text\">Section Card</div><div class=\"itg-widget\"><div class=\"droppable \"><div class=\"widget-wrapper section_wise_order\"> <span class=\"widget-title\"><a href=\"/technology\">Technology</a></span><div class=\"data-holder\" id=\"itg-block-19\"><div class=\"section-ordering video-gif\" data-id=\"undefined\" id=\"card_1206688_itg-block-19\"><div data-tb-region-item> <a class=\"pic-no-icon\" href=\"https://www.indiatoday.in/technology/news/story/nokia-8-1-6-1-plus-7-1-8-sirocco-discount-sale-india-price-1530864-2019-05-21\"> <img data-src=\"https://akm-img-a-in.tosshub.com/indiatoday/images/story/201905/nokia_8_display_0-370x208.jpeg?cX6_g292JZZcgNTLHJXTeNVX.y.mfi.H\" src=\"https://akm-img-a-in.tosshub.com/indiatoday/../sites/all/themes/itg/images/itg_image370x208.jpg\" class=\"lazyload\" width=\" \" alt=\" \" title=\" \" height=\" \" /> </a><h3 title=\"Nokia 8.1, Nokia 6.1 Plus and more see discounts up to Rs 6,000 until May 24\" class=\"frist-heading heading-1530864 story \"> <a href=\"/technology/news/story/nokia-8-1-6-1-plus-7-1-8-sirocco-discount-sale-india-price-1530864-2019-05-21\">Nokia 8.1, Nokia 6.1 Plus and more see discounts up to Rs 6,000 until May 24</a></h3></div><p data-tb-region-item title=\"Instagram data breach: Data of millions of influencers exposed online, leak traced to India\" class=\"story section-order-1530842\"> <a href=\"/technology/news/story/data-of-millions-of-instagram-influencers-exposed-online-leak-traced-to-india-1530842-2019-05-21\">Instagram data breach: Data of millions of influencers exposed online, leak traced to India</a></p><p data-tb-region-item title=\"Redmi 7A may launch alongside Redmi K20 series: All we know about Xiaomi's entry-level phone\" class=\"story section-order-1530823\"> <a href=\"/technology/news/story/xiaomi-redmi-7a-may-launch-alongside-redmi-k20-series-next-week-what-we-know-so-far-1530823-2019-05-21\">Redmi 7A may launch alongside Redmi K20 series: All we know about Xiaomi's entry-level phone</a></p><div class=\"morediv\"><a href=\"https://www.indiatoday.in/technology\">more from Technology <i class=\"fa fa-chevron-right\" aria-hidden=\"true\"></i></a></div></div></div></div></div></div></div></div><div class=\"row itg-h321-section\"><div class=\"col-md-8 col-sm-6 col-xs-12 mt-50\" data-tb-region=\"HomeDoNotMiss\"><div class=\"widget-help-text\">Template widgets ( <strong>Don't Miss</strong> )</div><div class=\"itg-widget\"><div class=\"droppable \"><div class=\"widget-wrapper dont_miss\"> <span class=\"widget-title\">From the Magazine</span><div class=\"data-holder\" id=\"itg-block-10\"><div id=\"block-itg-widget-dont-miss\" class=\"block block-itg-widget even\"><div class=\"dont-miss\"><ul><li data-tb-region-item class=\"dont-miss-listing\"><div class=\"dm-pic\"> <a href=\"https://www.indiatoday.in/magazine/cover-story/story/20190527-in-search-of-excellence-best-colleges-of-india-1526187-2019-05-18\"> <img data-src=\"https://akm-img-a-in.tosshub.com/indiatoday/images/story/201905/Contents-May27-1_770-170x96.jpeg?g8RkIplM0lhY130fxQwQifJ_T5FvWKYV\" src=\"https://akm-img-a-in.tosshub.com/indiatoday/../sites/all/themes/itg/images/itg_image370x208.jpg\" class=\"lazyload\" width=\" \" alt=\"(Photo: Bandeep Singh)\" title=\" \" height=\" \" /> </a></div><div class=\"dm-detail\"><p title=\"In Search of Excellence | Best Colleges of India\" class=\"dont-miss-widget dont-miss-1526187\"> <a href=\"/magazine/cover-story/story/20190527-in-search-of-excellence-best-colleges-of-india-1526187-2019-05-18\" title=\"In Search of Excellence | Best Colleges of India\">In Search of Excellence | Best Colleges of India</a></p></div></li><li data-tb-region-item class=\"dont-miss-listing\"><div class=\"dm-pic\"> <a href=\"https://www.indiatoday.in/magazine/up-front/story/20190527-upfront-1526174-2019-05-18\"> <img data-src=\"https://akm-img-a-in.tosshub.com/indiatoday/images/story/201905/Upfront-1-3-May27-1_770-170x96.jpeg?bCPSebt5W0USVew5DLd1qtqKfry0Ku7v\" src=\"https://akm-img-a-in.tosshub.com/indiatoday/../sites/all/themes/itg/images/itg_image370x208.jpg\" class=\"lazyload\" width=\" \" alt=\"Illustration by Nilanjan Das\" title=\" \" height=\" \" /> </a></div><div class=\"dm-detail\"><p title=\"US-China Trade War: The Next Global Slowdown?\" class=\"dont-miss-widget dont-miss-1526174\"> <a href=\"/magazine/up-front/story/20190527-upfront-1526174-2019-05-18\" title=\"US-China Trade War: The Next Global Slowdown?\">US-China Trade War: The Next Global Slowdown?</a></p></div></li><li data-tb-region-item class=\"dont-miss-listing\"><div class=\"dm-pic\"> <a href=\"https://www.indiatoday.in/magazine/care-today/story/20190527-show-odishayou-care-1526172-2019-05-18\"> <img data-src=\"https://akm-img-a-in.tosshub.com/indiatoday/images/story/201905/Collag__6-170x96.jpeg?bh_VxN1mYUgDb_T3Xxsa9_gNDU7yzXEc\" src=\"https://akm-img-a-in.tosshub.com/indiatoday/../sites/all/themes/itg/images/itg_image370x208.jpg\" class=\"lazyload\" width=\" \" alt=\"Puri railway station in the aftermath of the cyclone; damaged homes and infrastructure.\" title=\" \" height=\" \" /> </a></div><div class=\"dm-detail\"><p title=\"Show Odisha You Care\" class=\"dont-miss-widget dont-miss-1526172\"> <a href=\"/magazine/care-today/story/20190527-show-odishayou-care-1526172-2019-05-18\" title=\"Show Odisha You Care\">Show Odisha You Care</a></p></div></li><li data-tb-region-item class=\"dont-miss-listing\"><div class=\"dm-pic\"> <a href=\"https://www.indiatoday.in/magazine/leisure/story/20190527-riding-a-new-wave-1526173-2019-05-18\"> <img data-src=\"https://akm-img-a-in.tosshub.com/indiatoday/images/story/201905/Leisure-Q_A-May27-1_770-170x96.jpeg?aqK8qMxnFdam2TbW1OmuuCQ29VfS590w\" src=\"https://akm-img-a-in.tosshub.com/indiatoday/../sites/all/themes/itg/images/itg_image370x208.jpg\" class=\"lazyload\" width=\" \" alt=\"Sobhita Dhulipala (Photo: Danesh Jassawala)\" title=\" \" height=\" \" /> </a></div><div class=\"dm-detail\"><p title=\"Riding a New Wave\" class=\"dont-miss-widget dont-miss-1526173\"> <a href=\"/magazine/leisure/story/20190527-riding-a-new-wave-1526173-2019-05-18\" title=\"Riding a New Wave\">Riding a New Wave</a></p></div></li></ul></div></div></div></div></div></div></div><div class=\"col-md-4 col-sm-6 col-xs-12 mt-50\"><div class=\"widget-help-text\">Non Draggable ( <strong>Ad Widget</strong> )</div><div class=\"itg-widget\"><div class=\"ad-widget\"><div class=\"sidebar-ad\"><div id=\"block-itg-ads-ads-medium-rectangl-rhs2-300x250--2\" class=\"block block-itg-ads odd\"><div class='adtext'>advertisement</div><div id='div-gpt-ad-1514896195242-3' style='height:250px;'>\n",
      "<script>\n",
      "googletag.cmd.push(function() { googletag.display('div-gpt-ad-1514896195242-3'); });\n",
      "</script>\n",
      "</div></div></div></div></div></div></div><div class=\"row itg-h450-section\"><div class=\"col-md-8 col-sm-7 col-xs-12 col-lg-8 mt-50\" data-tb-region=\"HomePhotoCarousel\"><div class=\"widget-help-text\">Template widgets ( <strong>Photo Carousel</strong> )</div><div class=\"itg-widget\"><div class=\"droppable \"><div class=\"widget-wrapper featured_photo_carousel\"> <span class=\"widget-title\">In Pictures</span><div class=\"data-holder\" id=\"itg-block-12\"><div id=\"block-itg-widget-featured-photo-carousel\" class=\"block block-itg-widget even\"><div class=\"flexslider\"><ul class=\"slides\"><li data-tb-region-item> <a href=\"/lifestyle/photo/cannes-2019-sonam-kapoor-stuns-as-naomi-campbell-in-red-and-shines-in-violet-see-pics-1530624-2019-05-20\"><img data-src=\"https://akm-img-a-in.tosshub.com/indiatoday/images/photogallery/201905/sonam-647x363.png?.jUGvV3V2sWNrC7v2RU1HRqtu9rN3he5\" src=\"https://akm-img-a-in.tosshub.com/indiatoday/../sites/all/themes/itg/images/itg_image370x208.jpg\" class=\"lazyload\" width=\" \" alt=\"Sonam Kapoor at Cannes 2019\" title=\"Sonam Kapoor at Cannes 2019\" height=\" \" /></a><div class=\"detail\"><p class=\"flex-count\"><i class=\"fa fa-camera\"></i> 10 Images</p><p class=\"flex-caption\" title=\"Cannes 2019: Sonam Kapoor stuns as Naomi Campbell in red and shines in violet. See pics\"> <a href=\"/lifestyle/photo/cannes-2019-sonam-kapoor-stuns-as-naomi-campbell-in-red-and-shines-in-violet-see-pics-1530624-2019-05-20\">Cannes 2019: Sonam Kapoor stuns as Naomi Campbell in red and shines in violet. See pics</a></p></div></li><li data-tb-region-item> <a href=\"/lifestyle/photo/radhika-apte-channels-boss-lady-vibes-in-off-shoulder-crop-top-and-mini-shorts-at-airport-see-pics-1530165-2019-05-20\"><img data-src=\"https://akm-img-a-in.tosshub.com/indiatoday/images/photogallery/201905/DSC_0310-647x363.jpeg?uVPeZ5hJ5P9segmXbZwF9_V7hAVwf5BQ\" src=\"https://akm-img-a-in.tosshub.com/indiatoday/../sites/all/themes/itg/images/itg_image370x208.jpg\" class=\"lazyload\" width=\" \" alt=\"Radhika Apte at airport Photo: Yogen Shah\" title=\"Radhika Apte at airport Photo: Yogen Shah\" height=\" \" /></a><div class=\"detail\"><p class=\"flex-count\"><i class=\"fa fa-camera\"></i> 5 Images</p><p class=\"flex-caption\" title=\"Radhika Apte channels boss lady vibes in off-shoulder crop top and mini shorts at airport. See pics\"> <a href=\"/lifestyle/photo/radhika-apte-channels-boss-lady-vibes-in-off-shoulder-crop-top-and-mini-shorts-at-airport-see-pics-1530165-2019-05-20\">Radhika Apte channels boss lady vibes in off-shoulder crop top and mini shorts at airport. See pics</a></p></div></li><li data-tb-region-item> <a href=\"/movies/photo/bff-alert-tara-sutaria-and-krishna-shroff-step-out-for-lunch-date-see-pics-1529420-2019-05-20\"><img src=\"https://akm-img-a-in.tosshub.com/indiatoday/images/photogallery/201905/20190519173336_IMG_3129-647x363.jpeg?4Tb8L3jzPtKmbBcNygitYyaIP13clIEb\" title=\"Tara Sutaria and Krishna Shroff\" alt=\"Tara Sutaria and Krishna Shroff\" /></a><div class=\"detail\"><p class=\"flex-count\"><i class=\"fa fa-camera\"></i> 5 Images</p><p class=\"flex-caption\" title=\"BFF alert! Tara Sutaria and Krishna Shroff step out for lunch date. See pics\"> <a href=\"/movies/photo/bff-alert-tara-sutaria-and-krishna-shroff-step-out-for-lunch-date-see-pics-1529420-2019-05-20\">BFF alert! Tara Sutaria and Krishna Shroff step out for lunch date. See pics</a></p></div></li><li data-tb-region-item> <a href=\"/lifestyle/photo/cannes-2019-desi-girls-priyanka-chopra-and-hina-khan-have-a-blast-with-nick-jonas-unseen-pics-1529324-2019-05-20\"><img src=\"https://akm-img-a-in.tosshub.com/indiatoday/images/photogallery/201905/hina__1_-647x363.png?VICG0rFpJ3r.BtCm06MEmUELdixiEbZS\" title=\"Hina Khan with Priyanka Chopra and Nick Jonas\" alt=\"Hina Khan with Priyanka Chopra and Nick Jonas\" /></a><div class=\"detail\"><p class=\"flex-count\"><i class=\"fa fa-camera\"></i> 5 Images</p><p class=\"flex-caption\" title=\"Cannes 2019: Desi Girls Priyanka Chopra and Hina Khan have a blast with Nick Jonas. Unseen pics\"> <a href=\"/lifestyle/photo/cannes-2019-desi-girls-priyanka-chopra-and-hina-khan-have-a-blast-with-nick-jonas-unseen-pics-1529324-2019-05-20\">Cannes 2019: Desi Girls Priyanka Chopra and Hina Khan have a blast with Nick Jonas. Unseen pics</a></p></div></li><li data-tb-region-item> <a href=\"/movies/photo/saif-ali-khan-and-kareena-kapoor-make-for-a-picture-perfect-couple-on-their-day-out-see-pics-1529627-2019-05-20\"><img src=\"https://akm-img-a-in.tosshub.com/indiatoday/images/photogallery/201905/20190520162242_IMG_8435-647x363.png?.2f8VnMFKV8na.wvbZ2mHaev2QsZpjrN\" title=\"Saif Ali Khan and Kareena Kapoor Khan \" alt=\"Saif Ali Khan and Kareena Kapoor Khan \" /></a><div class=\"detail\"><p class=\"flex-count\"><i class=\"fa fa-camera\"></i> 5 Images</p><p class=\"flex-caption\" title=\"Saif Ali Khan and Kareena Kapoor make for a picture-perfect couple on their day out. See pics\"> <a href=\"/movies/photo/saif-ali-khan-and-kareena-kapoor-make-for-a-picture-perfect-couple-on-their-day-out-see-pics-1529627-2019-05-20\">Saif Ali Khan and Kareena Kapoor make for a picture-perfect couple on their day out. See pics</a></p></div></li></ul></div></div></div></div></div></div></div><div class=\"col-md-4 col-sm-5 col-xs-12 col-lg-4 mt-50\" data-tb-region=\"HomeAnchors\"><div class=\"widget-help-text\">Section card ( <strong>Watch</strong> )</div><div class=\"itg-widget\"><div class=\"droppable \"><div class=\"widget-wrapper watch-video-home watch_right_now_with_anchor\"> <span class=\"widget-title\">anchors</span><div class=\"data-holder\" id=\"itg-block-13\" data-widget-style=\"home-watch\"><div id=\"block-itg-widget-watch-right-now-with-anchor\" class=\"block block-itg-widget odd\"><div class=\"watch-right-now-with-anchor\"><div class=\"watch-right-now-anchor-flex\"><ul class=\"anchor-list-slide slides\"><li> <a href=\"https://www.indiatoday.in/anchor/rajdeep-sardesai\" class=\"pic\"> <img data-src=\"https://akm-img-a-in.tosshub.com/indiatoday/styles/image170x127/public/images/reporter/201510/rs_305_061215080421.jpg?GPaJsPKAA90Xlh.orriFEgXw2ngUAd01\" src=\"https://akm-img-a-in.tosshub.com/indiatoday/../sites/all/themes/itg/images/itg_image370x208.jpg\" class=\"lazyload\" width=\"170\" alt=\"Rajdeep Sardesai\" title=\"Rajdeep Sardesai\" height=\"96\" /><p>Rajdeep Sardesai</p> </a></li><li> <a href=\"https://www.indiatoday.in/anchor/rahul-kanwal\" class=\"pic\"> <img data-src=\"https://akm-img-a-in.tosshub.com/indiatoday/styles/image170x127/public/images/reporter/201508/rahul-350_052515111724.jpg?y.yC2EbRG4CLyrZUrC8BlajySOR6pSZt\" src=\"https://akm-img-a-in.tosshub.com/indiatoday/../sites/all/themes/itg/images/itg_image370x208.jpg\" class=\"lazyload\" width=\"170\" alt=\"Rahul Kanwal\" title=\"Rahul Kanwal\" height=\"96\" /><p>Rahul Kanwal</p> </a></li><li> <a href=\"https://www.indiatoday.in/anchor/avantika-singh\" class=\"pic\"> <img data-src=\"https://akm-img-a-in.tosshub.com/indiatoday/styles/image170x127/public/images/reporter/201702/avantika_story_305_112615092011.jpg?fv157DpgyZ8XW4JxXqrjNeBrI.jddP.p\" src=\"https://akm-img-a-in.tosshub.com/indiatoday/../sites/all/themes/itg/images/itg_image370x208.jpg\" class=\"lazyload\" width=\"170\" alt=\"Avantika Singh\" title=\"Avantika Singh\" height=\"96\" /><p>Avantika Singh</p> </a></li><li> <a href=\"https://www.indiatoday.in/anchors-list\" class=\"pic\"> <img data-src=\"https://akm-img-a-in.tosshub.com/indiatoday/styles/image170x127/public/images/reporter/201508/aroor-350_052515070031.jpg?D8Noz976qBcbTcYdtOP2u94xeFl_Lzes\" src=\"https://akm-img-a-in.tosshub.com/indiatoday/../sites/all/themes/itg/images/itg_image370x208.jpg\" class=\"lazyload\" width=\"170\" alt=\"Shiv Aroor\" title=\"Shiv Aroor\" height=\"96\" /><p>Shiv Aroor</p> </a></li></ul></div><div class=\"space-15\"></div><div class=\"watch-right-now-video\"><span class=\"widget-title\">Watch right now</span><ul><li data-tb-region-item class=\"watch-right-now-list watch-right-now-0\"> <a href=\"https://www.indiatoday.in/programme/countdown-with-rajdeep-sardesai/video/india-today-axis-my-india-poll-predicts-win-nda-1530568-2019-05-20\" class=\"pic\"> <img data-src=\"https://akm-img-a-in.tosshub.com/indiatoday/images/video/201905/AP19139221285026_0-88x50.jpeg?_R1fe1VCoMp6Sy5NSmqRUEV7EaleLeVP\" src=\"https://akm-img-a-in.tosshub.com/indiatoday/../sites/all/themes/itg/images/itg_image370x208.jpg\" class=\"lazyload\" width=\" \" alt=\"Lok Sabha elections 2019 (Photo: AP)\" title=\"Lok Sabha elections 2019 (Photo: AP)\" height=\" \" /><div class=\"playIconThumbContainer\"><div class=\"platDetailVideoIcon\"></div><div class=\"platDetailVideoTime\">45:17</div></div> </a><p class=\"title\" title=\"India Today-Axis My India poll predicts thumping win for NDA\"> <a href=\"/programme/countdown-with-rajdeep-sardesai/video/india-today-axis-my-india-poll-predicts-win-nda-1530568-2019-05-20\" title=\"India Today-Axis My India poll predicts thumping win for NDA\">India Today-Axis My India poll predicts thumping win for NDA</a></p></li><li data-tb-region-item class=\"watch-right-now-list watch-right-now-1\"> <a href=\"https://www.indiatoday.in/programme/news-today/video/bjp-agenda-in-power-exit-polls-ucc-nrc-1530609-2019-05-20\" class=\"pic\"> <img data-src=\"https://akm-img-a-in.tosshub.com/indiatoday/images/video/201905/dc-Cover-21fm6audqp9efbs2rnlc0_1-88x50.jpeg?AL25JHz4QuSNPni2QIuUTapo5PYucynJ\" src=\"https://akm-img-a-in.tosshub.com/indiatoday/../sites/all/themes/itg/images/itg_image370x208.jpg\" class=\"lazyload\" width=\" \" alt=\" Bharatiya Janata Party (Photo: PTI)\" title=\" Bharatiya Janata Party (Photo: PTI)\" height=\" \" /><div class=\"playIconThumbContainer\"><div class=\"platDetailVideoIcon\"></div><div class=\"platDetailVideoTime\">43:20</div></div> </a><p class=\"title\" title=\"Will BJP take up its contentious agenda of Ram Mandir if brought back to power?\"> <a href=\"/programme/news-today/video/bjp-agenda-in-power-exit-polls-ucc-nrc-1530609-2019-05-20\" title=\"Will BJP take up its contentious agenda of Ram Mandir if brought back to power?\">Will BJP take up its contentious agenda of Ram Mandir if brought back to power?</a></p></li><li data-tb-region-item class=\"watch-right-now-list watch-right-now-2\"> <a href=\"https://www.indiatoday.in/programme/election-newstrack-with-rahul-kanwal/video/seat-analysis-exit-polls-expected-winner-1530634-2019-05-20\" class=\"pic\"> <img data-src=\"https://akm-img-a-in.tosshub.com/indiatoday/images/video/201905/AP19139218860959_1-88x50.jpeg?IXEPBkdT.D7CpNs2BBipzm6nfiz9ZNGI\" src=\"https://akm-img-a-in.tosshub.com/indiatoday/../sites/all/themes/itg/images/itg_image370x208.jpg\" class=\"lazyload\" width=\" \" alt=\"2019 Lok Sabha elections (Photo: AP)\" title=\"2019 Lok Sabha elections (Photo: AP)\" height=\" \" /><div class=\"playIconThumbContainer\"><div class=\"platDetailVideoIcon\"></div><div class=\"platDetailVideoTime\">44:11</div></div> </a><p class=\"title\" title=\"Seat analysis post exit polls: Who is winning and who is not? \"> <a href=\"/programme/election-newstrack-with-rahul-kanwal/video/seat-analysis-exit-polls-expected-winner-1530634-2019-05-20\" title=\"Seat analysis post exit polls: Who is winning and who is not? \">Seat analysis post exit polls: Who is winning and who is not? </a></p></li></ul></div></div></div></div></div></div></div></div></div><div class=\"row itg-common-section\" ><div class=\"col-md-4 col-sm-4 col-xs-12 mt-50\" data-tb-region=\"HomeTelevision\"><div class=\"widget-help-text\">Section Card</div><div class=\"itg-widget\"><div class=\"droppable \"><div class=\"widget-wrapper section_wise_order\"> <span class=\"widget-title\"><a href=\"/television\">Television</a></span><div class=\"data-holder\" id=\"itg-block-14\" ><div class=\"section-ordering video-gif\" data-id=\"undefined\" id=\"card_1206796_itg-block-14\"><div data-tb-region-item> <a class=\"pic-no-icon\" href=\"https://www.indiatoday.in/television/web-series/story/netflix-drops-major-hint-about-sacred-games-2-release-date-1530881-2019-05-21\"> <img data-src=\"https://akm-img-a-in.tosshub.com/indiatoday/images/story/201905/sg-370x208.jpeg?wkQAjo5Y9VZpQOrFpKTkRIeFZ1FGzS2Z\" src=\"https://akm-img-a-in.tosshub.com/indiatoday/../sites/all/themes/itg/images/itg_image370x208.jpg\" class=\"lazyload\" width=\" \" alt=\"Sacred Games 2\" title=\"Sacred Games 2\" height=\" \" /> </a><h3 title=\"Netflix drops major hint about Sacred Games 2 release date\" class=\"frist-heading heading-1530881 story \"> <a href=\"/television/web-series/story/netflix-drops-major-hint-about-sacred-games-2-release-date-1530881-2019-05-21\">Netflix drops major hint about Sacred Games 2 release date</a></h3></div><p data-tb-region-item title=\"Game of Thrones 8: Sophie Turner lambasts petition demanding remake of final season\" class=\"story section-order-1530861\"> <a href=\"/television/international-shows/story/game-of-thrones-8-sophie-turner-lambasts-petition-demanding-remake-of-final-season-1530861-2019-05-21\">Game of Thrones 8: Sophie Turner lambasts petition demanding remake of final season</a></p><p data-tb-region-item title=\"Game of Thrones 8 finale was HBO’s most watched episode ever\" class=\"story section-order-1530841\"> <a href=\"/television/international-shows/story/game-of-thrones-finale-was-the-most-watched-hbo-show-ever-1530841-2019-05-21\">Game of Thrones 8 finale was HBO’s most watched episode ever</a></p><div class=\"morediv\"><a href=\"https://www.indiatoday.in/television\">more from Television <i class=\"fa fa-chevron-right\" aria-hidden=\"true\"></i></a></div></div></div></div></div></div></div><div class=\"col-md-4 col-sm-4 col-xs-12 mt-50\" data-tb-region=\"HomeTrending\"><div class=\"widget-help-text\">Section Card</div><div class=\"itg-widget\"><div class=\"droppable \"><div class=\"widget-wrapper section_wise_order\"> <span class=\"widget-title\"><a href=\"/trending-news\">Trending</a></span><div class=\"data-holder\" id=\"itg-block-15\"><div class=\"section-ordering video-gif\" data-id=\"undefined\" id=\"card_1797650_itg-block-15\"><div data-tb-region-item> <a class=\"pic-no-icon\" href=\"https://www.indiatoday.in/trending-news/story/game-of-thrones-season-8-finale-is-out-and-dmrc-wants-fans-to-not-spoil-it-says-use-earphones-in-metro-1529457-2019-05-20\"> <img data-src=\"https://akm-img-a-in.tosshub.com/indiatoday/images/story/201905/D6-bmDmUwAAjH3t-370x208.jpeg?3S3AHCwkklTokddaYy3V8LIYmXracbSn\" src=\"https://akm-img-a-in.tosshub.com/indiatoday/../sites/all/themes/itg/images/itg_image370x208.jpg\" class=\"lazyload\" width=\" \" alt=\"Game Of Thrones Season 8 finale is out and DMRC wants people to not spoil it\" title=\"Game Of Thrones Season 8 finale is out and DMRC wants people to not spoil it\" height=\" \" /> </a><h3 title=\"Game Of Thrones Season 8 finale is out and DMRC wants fans to not spoil it. Says use earphones in Metro\" class=\"frist-heading heading-1529457 story \"> <a href=\"/trending-news/story/game-of-thrones-season-8-finale-is-out-and-dmrc-wants-fans-to-not-spoil-it-says-use-earphones-in-metro-1529457-2019-05-20\">Game Of Thrones Season 8 finale is out and DMRC wants fans to not spoil it. Says use earphones in Metro</a></h3></div><p data-tb-region-item title=\"Game of Thrones Season 8 Finale blooper, water bottles after coffee cup. Internet is in shock\" class=\"story section-order-1529380\"> <a href=\"/trending-news/story/game-of-thrones-season-8-finale-blooper-water-bottles-after-coffee-cup-internet-is-in-shock-1529380-2019-05-20\">Game of Thrones Season 8 Finale blooper, water bottles after coffee cup. Internet is in shock</a></p><p data-tb-region-item title=\"Game Of Thrones Season 8 finale: Bran Stark leads best memes and jokes from latest episode\" class=\"story section-order-1529373\"> <a href=\"/trending-news/story/game-of-thrones-season-8-finale-bran-stark-memes-1529373-2019-05-20\">Game Of Thrones Season 8 finale: Bran Stark leads best memes and jokes from latest episode</a></p><div class=\"morediv\"><a href=\"https://www.indiatoday.in/trending-news\">more from Trending News <i class=\"fa fa-chevron-right\" aria-hidden=\"true\"></i></a></div></div></div></div></div></div></div><div class=\"col-md-4 col-sm-4 col-xs-12 mt-50 sectioncart\" id=\"section-cart-itg-block-16\" data-tb-region=\"HomeProgrammes\"><div class=\"widget-help-text\">Section Card</div><div class=\"itg-widget\"><div class=\"droppable \"><div class=\"widget-wrapper section_wise_order\"> <span class=\"widget-title\"><a href=\"/programmes\">ProgrammeS</a></span><div class=\"data-holder\" id=\"itg-block-16\" data-widget-style=\"home-shows\"><div class=\"tech-trip home-shows\"><ul class=\"trending-videos\"><li data-tb-region-item class=\"trending-videos-list\"> <span class=\"pic video-icon\"> <a href=\"https://www.indiatoday.in/programme/first-up/video/priyanka-gandhi-asks-congress-workers-not-be-disheartened-by-exit-polls-1530711-2019-05-21\"> <img data-src=\"https://akm-img-a-in.tosshub.com/indiatoday/images/video/201905/priyanka_0-88x50.jpeg?ZyPxCCuiPCuO6TmnJl_v96Jy93KN50V.\" src=\"https://akm-img-a-in.tosshub.com/indiatoday/../sites/all/themes/itg/images/itg_image370x208.jpg\" class=\"lazyload\" width=\" \" alt=\" \" title=\" \" height=\" \" /><div class=\"playIconThumbContainer\"><div class=\"platDetailVideoIcon\"></div><div class=\"platDetailVideoTime\">18:08</div></div> </a></span> <span title=\"Don't be disheartened by exit polls, says Priyanka Gandhi to workers \"> <a href=\"/programme/first-up/video/priyanka-gandhi-asks-congress-workers-not-be-disheartened-by-exit-polls-1530711-2019-05-21\">Don't be disheartened by exit polls, says Priyanka Gandhi to workers </a> </span></li><li data-tb-region-item class=\"trending-videos-list\"> <span class=\"pic video-icon\"> <a href=\"https://www.indiatoday.in/programme/election-newstrack-with-rahul-kanwal/video/seat-analysis-exit-polls-expected-winner-1530634-2019-05-20\"> <img data-src=\"https://akm-img-a-in.tosshub.com/indiatoday/images/video/201905/AP19139218860959_1-88x50.jpeg?IXEPBkdT.D7CpNs2BBipzm6nfiz9ZNGI\" src=\"https://akm-img-a-in.tosshub.com/indiatoday/../sites/all/themes/itg/images/itg_image370x208.jpg\" class=\"lazyload\" width=\" \" alt=\"2019 Lok Sabha elections (Photo: AP)\" title=\"2019 Lok Sabha elections (Photo: AP)\" height=\" \" /><div class=\"playIconThumbContainer\"><div class=\"platDetailVideoIcon\"></div><div class=\"platDetailVideoTime\">44:11</div></div> </a></span> <span title=\"Seat analysis post exit polls: Who is winning and who is not? \"> <a href=\"/programme/election-newstrack-with-rahul-kanwal/video/seat-analysis-exit-polls-expected-winner-1530634-2019-05-20\">Seat analysis post exit polls: Who is winning and who is not? </a> </span></li><li data-tb-region-item class=\"trending-videos-list\"> <span class=\"pic video-icon\"> <a href=\"https://www.indiatoday.in/programme/news-today/video/bjp-agenda-in-power-exit-polls-ucc-nrc-1530609-2019-05-20\"> <img data-src=\"https://akm-img-a-in.tosshub.com/indiatoday/images/video/201905/dc-Cover-21fm6audqp9efbs2rnlc0_1-88x50.jpeg?AL25JHz4QuSNPni2QIuUTapo5PYucynJ\" src=\"https://akm-img-a-in.tosshub.com/indiatoday/../sites/all/themes/itg/images/itg_image370x208.jpg\" class=\"lazyload\" width=\" \" alt=\" Bharatiya Janata Party (Photo: PTI)\" title=\" Bharatiya Janata Party (Photo: PTI)\" height=\" \" /><div class=\"playIconThumbContainer\"><div class=\"platDetailVideoIcon\"></div><div class=\"platDetailVideoTime\">43:20</div></div> </a></span> <span title=\"Will BJP take up its contentious agenda of Ram Mandir if brought back to power?\"> <a href=\"/programme/news-today/video/bjp-agenda-in-power-exit-polls-ucc-nrc-1530609-2019-05-20\">Will BJP take up its contentious agenda of Ram Mandir if brought back to power?</a> </span></li><li data-tb-region-item class=\"trending-videos-list\"> <span class=\"pic video-icon\"> <a href=\"https://www.indiatoday.in/programme/countdown-with-rajdeep-sardesai/video/india-today-axis-my-india-poll-predicts-win-nda-1530568-2019-05-20\"> <img data-src=\"https://akm-img-a-in.tosshub.com/indiatoday/images/video/201905/AP19139221285026_0-88x50.jpeg?_R1fe1VCoMp6Sy5NSmqRUEV7EaleLeVP\" src=\"https://akm-img-a-in.tosshub.com/indiatoday/../sites/all/themes/itg/images/itg_image370x208.jpg\" class=\"lazyload\" width=\" \" alt=\"Lok Sabha elections 2019 (Photo: AP)\" title=\"Lok Sabha elections 2019 (Photo: AP)\" height=\" \" /><div class=\"playIconThumbContainer\"><div class=\"platDetailVideoIcon\"></div><div class=\"platDetailVideoTime\">45:17</div></div> </a></span> <span title=\"India Today-Axis My India poll predicts thumping win for NDA\"> <a href=\"/programme/countdown-with-rajdeep-sardesai/video/india-today-axis-my-india-poll-predicts-win-nda-1530568-2019-05-20\">India Today-Axis My India poll predicts thumping win for NDA</a> </span></li><li data-tb-region-item class=\"trending-videos-list\"> <span class=\"pic video-icon\"> <a href=\"https://www.indiatoday.in/programme/5ive-live/video/exit-polls-opposition-predict-majority-seats-nda-bjp-1530466-2019-05-20\"> <img data-src=\"https://akm-img-a-in.tosshub.com/indiatoday/images/video/201905/opposition_0_1-88x50.jpeg?H.kAvw6dHYyrwksjtjmu14Hzij6bk.p4\" src=\"https://akm-img-a-in.tosshub.com/indiatoday/../sites/all/themes/itg/images/itg_image370x208.jpg\" class=\"lazyload\" width=\" \" alt=\"Opposition slams exit polls\" title=\"Opposition slams exit polls\" height=\" \" /><div class=\"playIconThumbContainer\"><div class=\"platDetailVideoIcon\"></div><div class=\"platDetailVideoTime\">47:36</div></div> </a></span> <span title=\"Exit poll majority for NDA causes anxiety in Opposition ranks\"> <a href=\"/programme/5ive-live/video/exit-polls-opposition-predict-majority-seats-nda-bjp-1530466-2019-05-20\">Exit poll majority for NDA causes anxiety in Opposition ranks</a> </span></li></ul></div></div></div></div></div></div></div><div class=\"row itg-common-section mt-50 show-on-add\" id=\"content-section-widget-1\"><div class=\"col-md-4 col-sm-4 col-xs-12 sectioncart\" data-tb-region=\"HomeCrime\" id=\"section-cart-itg-block-20\"><div class=\"widget-help-text\">Section Card</div><div class=\"itg-widget\"><div class=\"droppable \"><div class=\"widget-wrapper section_wise_order\"> <span class=\"widget-title\"><a href=\"/crime\">Crime</a></span><div class=\"data-holder\" id=\"itg-block-20\"><div class=\"section-ordering video-gif\" data-id=\"undefined\" id=\"card_1786661_itg-block-20\"><div data-tb-region-item> <a class=\"pic-no-icon\" href=\"https://www.indiatoday.in/crime/story/ips-officer-s-house-in-greater-noida-was-den-of-drug-cartel-1530744-2019-05-21\"> <img data-src=\"https://akm-img-a-in.tosshub.com/indiatoday/images/story/201905/D6SPhtsWsAIEMG1__1_-370x208.jpeg?SMd68EkAQ9pwKAGZUU7E6i00ZW316UtQ\" src=\"https://akm-img-a-in.tosshub.com/indiatoday/../sites/all/themes/itg/images/itg_image370x208.jpg\" class=\"lazyload\" width=\" \" alt=\" \" title=\" \" height=\" \" /> </a><h3 title=\"IPS officer's house in Greater Noida was den of drug cartel\" class=\"frist-heading heading-1530744 story \"> <a href=\"/crime/story/ips-officer-s-house-in-greater-noida-was-den-of-drug-cartel-1530744-2019-05-21\">IPS officer's house in Greater Noida was den of drug cartel</a></h3></div><p data-tb-region-item title=\"Class 11 student stabbed to death in Patna\" class=\"story section-order-1530667\"> <a href=\"/crime/story/class-11-student-stabbed-to-death-in-patna-1530667-2019-05-21\">Class 11 student stabbed to death in Patna</a></p><p data-tb-region-item title=\"Mother dies after jumping in front of Mumbai local train, baby survives with few scratches\" class=\"story section-order-1530643\"> <a href=\"/crime/story/mother-dies-after-jumping-in-front-of-mumbai-local-train-baby-survives-with-few-scratches-1530643-2019-05-21\">Mother dies after jumping in front of Mumbai local train, baby survives with few scratches</a></p><div class=\"morediv\"><a href=\"https://www.indiatoday.in/crime\">more from Crime <i class=\"fa fa-chevron-right\" aria-hidden=\"true\"></i></a></div></div></div></div></div></div></div><div class=\"col-md-4 col-sm-4 col-xs-12 sectioncart\" data-tb-region=\"HomeBusiness\" id=\"section-cart-itg-block-21\"><div class=\"widget-help-text\">Section Card</div><div class=\"itg-widget\"><div class=\"droppable \"><div class=\"widget-wrapper section_wise_order\"> <span class=\"widget-title\"><a href=\"/business\">Business</a></span><div class=\"data-holder\" id=\"itg-block-21\"><div class=\"section-ordering video-gif\" data-id=\"undefined\" id=\"card_1206574_itg-block-21\"><div data-tb-region-item> <a class=\"pic-no-icon\" href=\"https://www.indiatoday.in/business/story/markets-turn-volatile-after-sensex-nifty-hit-record-highs-in-early-trade-1530766-2019-05-21\"> <img data-src=\"https://akm-img-a-in.tosshub.com/indiatoday/images/story/201905/Sensex2-370x208.jpeg?X61AicWBc.25.lnUYve6GHYxpO1.2EnD\" src=\"https://akm-img-a-in.tosshub.com/indiatoday/../sites/all/themes/itg/images/itg_image370x208.jpg\" class=\"lazyload\" width=\" \" alt=\" \" title=\" \" height=\" \" /> </a><h3 title=\"Markets turn volatile after Sensex, Nifty hit record highs in early trade\" class=\"frist-heading heading-1530766 story \"> <a href=\"/business/story/markets-turn-volatile-after-sensex-nifty-hit-record-highs-in-early-trade-1530766-2019-05-21\">Markets turn volatile after Sensex, Nifty hit record highs in early trade</a></h3></div><p data-tb-region-item title=\"Crisis-hit Jet airways may find its saving grace this week\" class=\"story section-order-1530729\"> <a href=\"/business/story/crisis-hit-jet-airways-may-find-its-saving-grace-this-week-1530729-2019-05-21\">Crisis-hit Jet airways may find its saving grace this week</a></p><p data-tb-region-item title=\"Petrol, diesel prices rise for second consecutive day after Lok Sabha polls end\" class=\"story section-order-1530689\"> <a href=\"/business/story/petrol-diesel-prices-rise-for-second-consecutive-day-after-lok-sabha-polls-end-1530689-2019-05-21\">Petrol, diesel prices rise for second consecutive day after Lok Sabha polls end</a></p><div class=\"morediv\"><a href=\"https://www.indiatoday.in/business\">more from Business <i class=\"fa fa-chevron-right\" aria-hidden=\"true\"></i></a></div></div></div></div></div></div></div><div class=\"col-md-4 col-sm-4 col-xs-12 sectioncart\" data-tb-region=\"HomeWorld\" id=\"section-cart-itg-block-22\"><div class=\"widget-help-text\">Section Card</div><div class=\"itg-widget\"><div class=\"droppable \"><div class=\"widget-wrapper section_wise_order\"> <span class=\"widget-title\"><a href=\"/world\">World</a></span><div class=\"data-holder\" id=\"itg-block-22\"><div class=\"section-ordering video-gif\" data-id=\"undefined\" id=\"card_1206577_itg-block-22\"><div data-tb-region-item> <a class=\"pic-no-icon\" href=\"https://www.indiatoday.in/world/story/donald-trump-warns-iran-of-its-official-end-if-us-threatened-again-1530675-2019-05-21\"> <img data-src=\"https://akm-img-a-in.tosshub.com/indiatoday/images/story/201905/2019-05-20T222448Z_1478603720_-370x208.png?.aURHePtAq46NNLlRHo.ljEAEENNJCH3\" src=\"https://akm-img-a-in.tosshub.com/indiatoday/../sites/all/themes/itg/images/itg_image370x208.jpg\" class=\"lazyload\" width=\" \" alt=\"US President Donald Trump speaks to the media as he departs for a campaign rally from the White House in Washington. (Photo: Reuters)\" title=\" \" height=\" \" /> </a><h3 title=\"Donald Trump warns Iran of its official end if US threatened again\" class=\"frist-heading heading-1530675 story \"> <a href=\"/world/story/donald-trump-warns-iran-of-its-official-end-if-us-threatened-again-1530675-2019-05-21\">Donald Trump warns Iran of its official end if US threatened again</a></h3></div><p data-tb-region-item title=\"Pakistan appoints Mueenul Haq as new High Commissioner to India\" class=\"story section-order-1530666\"> <a href=\"/world/story/pakistan-appoints-mueenul-haq-as-new-high-commissioner-to-india-1530666-2019-05-21\">Pakistan appoints Mueenul Haq as new High Commissioner to India</a></p><p data-tb-region-item title=\"Rescuers finally persuade Eiffel Tower climber to come down\" class=\"story section-order-1530665\"> <a href=\"/world/story/rescuers-finally-persuade-eiffel-tower-climber-to-come-down-1530665-2019-05-21\">Rescuers finally persuade Eiffel Tower climber to come down</a></p><div class=\"morediv\"><a href=\"https://www.indiatoday.in/world\">more from World <i class=\"fa fa-chevron-right\" aria-hidden=\"true\"></i></a></div></div></div></div></div></div></div></div><div class=\"row itg-common-section mt-50 show-on-add\" id=\"content-section-widget-2\"><div class=\"col-md-4 col-sm-4 col-xs-12 sectioncart\" data-tb-region=\"HomeFactCheck\" id=\"section-cart-itg-block-23\"><div class=\"widget-help-text\">Section Card</div><div class=\"itg-widget\"><div class=\"droppable \"><div class=\"widget-wrapper section_wise_order\"> <span class=\"widget-title\"><a href=\"/fact-check\">Fact Check</a></span><div class=\"data-holder\" id=\"itg-block-23\"><div class=\"section-ordering video-gif\" data-id=\"undefined\" id=\"card_1792990_itg-block-23\"><div data-tb-region-item> <a class=\"pic-no-icon\" href=\"https://www.indiatoday.in/fact-check/story/fact-check-doctored-video-links-soccer-celebrations-in-uk-to-exit-poll-cheer-1530503-2019-05-20\"> <img data-src=\"https://akm-img-a-in.tosshub.com/indiatoday/images/story/201905/Capture_54-370x208.png?pTmFLZLZWP1ow2UkW3P7yvESvfHJVPjl\" src=\"https://akm-img-a-in.tosshub.com/indiatoday/../sites/all/themes/itg/images/itg_image370x208.jpg\" class=\"lazyload\" width=\" \" alt=\" \" title=\" \" height=\" \" /> </a><h3 title=\"Fact Check: Doctored video links soccer celebrations in UK to exit poll cheer\" class=\"frist-heading heading-1530503 story \"> <a href=\"/fact-check/story/fact-check-doctored-video-links-soccer-celebrations-in-uk-to-exit-poll-cheer-1530503-2019-05-20\">Fact Check: Doctored video links soccer celebrations in UK to exit poll cheer</a></h3></div><p data-tb-region-item title=\"Fact Check: Did Arun Jaitley use navy chopper to ferry his family in Goa?\" class=\"story section-order-1529919\"> <a href=\"/fact-check/story/fact-check-did-arun-jaitley-use-navy-chopper-to-ferry-his-family-in-goa-1529919-2019-05-20\">Fact Check: Did Arun Jaitley use navy chopper to ferry his family in Goa?</a></p><p data-tb-region-item title=\"Fact Check: Misleading post regarding Netaji Subhas Chandra Bose’s bust goes viral\" class=\"story section-order-1528927\"> <a href=\"/fact-check/story/fact-check-misleading-post-regarding-netaji-subhas-chandra-bose-bust-viral-1528927-2019-05-19\">Fact Check: Misleading post regarding Netaji Subhas Chandra Bose’s bust goes viral</a></p><div class=\"morediv\"><a href=\"https://www.indiatoday.in/fact-check\">more from Fact Check <i class=\"fa fa-chevron-right\" aria-hidden=\"true\"></i></a></div></div></div></div></div></div></div><div class=\"col-md-4 col-sm-4 col-xs-12 sectioncart\" data-tb-region=\"HomeMailToday\" id=\"section-cart-itg-block-24\"><div class=\"widget-help-text\">Section Card</div><div class=\"itg-widget\"><div class=\"droppable \"><div class=\"widget-wrapper section_wise_order\"> <span class=\"widget-title\"><a href=\"/mail-today\">Mail Today</a></span><div class=\"data-holder\" id=\"itg-block-24\"><div class=\"section-ordering video-gif\" data-id=\"undefined\" id=\"card_1206572_itg-block-24\"><div data-tb-region-item> <a class=\"pic-no-icon\" href=\"https://www.indiatoday.in/mail-today/story/of-careers-and-choices-1530814-2019-05-21\"> <img data-src=\"https://akm-img-a-in.tosshub.com/indiatoday/images/story/201905/MAIN_23_Open_Days_Parveen_Negi-370x208.jpeg?_2Fcz1DmKA5GxROsFtsGIXlLvr4VAHn7\" src=\"https://akm-img-a-in.tosshub.com/indiatoday/../sites/all/themes/itg/images/itg_image370x208.jpg\" class=\"lazyload\" width=\" \" alt=\" \" title=\" \" height=\" \" /> </a><h3 title=\"Of careers and choices\" class=\"frist-heading heading-1530814 story \"> <a href=\"/mail-today/story/of-careers-and-choices-1530814-2019-05-21\">Of careers and choices</a></h3></div><p data-tb-region-item title=\"Andy Bichel feels Indian leg spinners give them edge over Aussies\" class=\"story section-order-1530710\"> <a href=\"/mail-today/story/andy-bichel-icc-cricket-world-cup-2019-chahal-kuldeep-1530710-2019-05-21\">Andy Bichel feels Indian leg spinners give them edge over Aussies</a></p><p data-tb-region-item title=\"Cure for South Delhi's parking madness: 7 areas chosen to ease worsening car chaos\" class=\"story section-order-1530663\"> <a href=\"/mail-today/story/cure-for-south-delhi-parking-madness-7-areas-chosen-to-ease-worsening-car-chaos-1530663-2019-05-21\">Cure for South Delhi's parking madness: 7 areas chosen to ease worsening car chaos</a></p><div class=\"morediv\"><a href=\"https://www.indiatoday.in/mail-today\">more from Mail Today <i class=\"fa fa-chevron-right\" aria-hidden=\"true\"></i></a></div></div></div></div></div></div></div><div class=\"col-md-4 col-sm-4 col-xs-12 sectioncart\" data-tb-region=\"HomeFyi\" id=\"section-cart-itg-block-25\"><div class=\"widget-help-text\">Section Card</div><div class=\"itg-widget\"><div class=\"droppable \"><div class=\"widget-wrapper section_wise_order\"> <span class=\"widget-title\"><a href=\"/fyi\">FYI</a></span><div class=\"data-holder\" id=\"itg-block-25\"><div class=\"section-ordering video-gif\" data-id=\"undefined\" id=\"card_1206795_itg-block-25\"><div data-tb-region-item> <a class=\"pic-no-icon\" href=\"https://www.indiatoday.in/fyi/story/who-was-ishwar-chandra-vidyasagar-whose-bust-was-vandalised-in-kolkata-1525538-2019-05-15\"> <img data-src=\"https://akm-img-a-in.tosshub.com/indiatoday/images/story/201905/Ishwar_Chandra_Vidyasagar-370x208.jpeg?abKLl6KoeI0L6KTm_zsynP04hNd7Kjc4\" src=\"https://akm-img-a-in.tosshub.com/indiatoday/../sites/all/themes/itg/images/itg_image370x208.jpg\" class=\"lazyload\" width=\" \" alt=\"Ishwar Chandra Vidyasagar \" title=\" \" height=\" \" /> </a><h3 title=\"Bengal violence: Who was Ishwar Chandra Vidyasagar whose bust was vandalised in Kolkata?\" class=\"frist-heading heading-1525538 story \"> <a href=\"/fyi/story/who-was-ishwar-chandra-vidyasagar-whose-bust-was-vandalised-in-kolkata-1525538-2019-05-15\">Bengal violence: Who was Ishwar Chandra Vidyasagar whose bust was vandalised in Kolkata?</a></h3></div><p data-tb-region-item title=\"No One Can Grow This One: The PepsiCo vs Kisan battle over Lays aloo, explained\" class=\"story section-order-1515198\"> <a href=\"/fyi/story/pepsico-lays-potato-gujarat-farmers-fc5-1515198-2019-05-02\">No One Can Grow This One: The PepsiCo vs Kisan battle over Lays aloo, explained</a></p><p data-tb-region-item title=\"Why a ban on Masood Azhar is important to India\" class=\"story section-order-1514391\"> <a href=\"/fyi/story/masood-azhar-un-security-council-committee-ban-1514391-2019-05-01\">Why a ban on Masood Azhar is important to India</a></p><div class=\"morediv\"><a href=\"https://www.indiatoday.in/fyi\">more from FYI <i class=\"fa fa-chevron-right\" aria-hidden=\"true\"></i></a></div></div></div></div></div></div></div></div><div class=\"row itg-common-section mt-50 show-on-add\" id=\"content-section-widget-3\"><div class=\"col-md-4 col-sm-4 col-xs-12 sectioncart\" data-tb-region=\"HomeIndia\" id=\"section-cart-itg-block-26\"><div class=\"widget-help-text\">Section Card</div><div class=\"itg-widget\"><div class=\"droppable \"><div class=\"widget-wrapper section_wise_order\"> <span class=\"widget-title\"><a href=\"/india\">India</a></span><div class=\"data-holder\" id=\"itg-block-26\"><div class=\"section-ordering video-gif\" data-id=\"undefined\" id=\"card_1206578_itg-block-26\"><div data-tb-region-item> <a class=\"pic-no-icon\" href=\"https://www.indiatoday.in/india/story/pslv-c46-satellite-launch-isro-1530854-2019-05-21\"> <img data-src=\"https://akm-img-a-in.tosshub.com/indiatoday/images/story/201905/07hoistingofthenozzleendsegmen-370x208.jpeg?yaYhiemMT_oz9FOl0z2qvHcFAszALH3O\" src=\"https://akm-img-a-in.tosshub.com/indiatoday/../sites/all/themes/itg/images/itg_image370x208.jpg\" class=\"lazyload\" width=\" \" alt=\" \" title=\" \" height=\" \" /> </a><h3 title=\"Countdown begins for Wednesday launch of PSLV-C46 satellite, says ISRO\" class=\"frist-heading heading-1530854 story \"> <a href=\"/india/story/pslv-c46-satellite-launch-isro-1530854-2019-05-21\">Countdown begins for Wednesday launch of PSLV-C46 satellite, says ISRO</a></h3></div><p data-tb-region-item title=\"Delhi Metro services affected on Yellow Line due to technical snag\" class=\"story section-order-1530866\"> <a href=\"/india/story/metro-services-affected-on-yellow-line-due-to-technical-snag-1530866-2019-05-21\">Delhi Metro services affected on Yellow Line due to technical snag</a></p><p data-tb-region-item title=\"Every fourth patient visiting AIIMS dissatisfied, claims government survey\" class=\"story section-order-1530765\"> <a href=\"/india/story/every-fourth-patient-visiting-aiims-dissatisfied-claims-government-survey-1530765-2019-05-21\">Every fourth patient visiting AIIMS dissatisfied, claims government survey</a></p><div class=\"morediv\"><a href=\"https://www.indiatoday.in/india\">more from India <i class=\"fa fa-chevron-right\" aria-hidden=\"true\"></i></a></div></div></div></div></div></div></div><div class=\"col-md-4 col-sm-4 col-xs-12 sectioncart\" data-tb-region=\"HomeAuto\" id=\"section-cart-itg-block-27\"><div class=\"widget-help-text\">Section Card</div><div class=\"itg-widget\"><div class=\"droppable \"><div class=\"widget-wrapper section_wise_order\"> <span class=\"widget-title\"><a href=\"/auto\">Auto</a></span><div class=\"data-holder\" id=\"itg-block-27\"><div class=\"section-ordering video-gif\" data-id=\"undefined\" id=\"card_1206689_itg-block-27\"><div data-tb-region-item> <a class=\"pic-no-icon\" href=\"https://www.indiatoday.in/auto/latest-auto-news/story/hyundai-venue-prices-leaked-launch-today-1530769-2019-05-21\"> <img data-src=\"https://akm-img-a-in.tosshub.com/indiatoday/images/story/201905/Hyundai_Venue_Event_0-370x208.jpeg?h.oTgYuMlCmHD71DnBeQhthPjeYLKKVR\" src=\"https://akm-img-a-in.tosshub.com/indiatoday/../sites/all/themes/itg/images/itg_image370x208.jpg\" class=\"lazyload\" width=\" \" alt=\"Hyundai Venue\" title=\"Hyundai Venue\" height=\" \" /> </a><h3 title=\"Hyundai Venue prices leaked before launch?\" class=\"frist-heading heading-1530769 story \"> <a href=\"/auto/latest-auto-news/story/hyundai-venue-prices-leaked-launch-today-1530769-2019-05-21\">Hyundai Venue prices leaked before launch?</a></h3></div><p data-tb-region-item title=\"Hyundai Venue launch on May 21; all you need to know about the compact SUV\" class=\"story section-order-1530496\"> <a href=\"/auto/latest-auto-news/story/hyundai-venue-launch-may-21-all-you-need-to-know-about-1530496-2019-05-20\">Hyundai Venue launch on May 21; all you need to know about the compact SUV</a></p><p data-tb-region-item title=\"Suzuki Gixxer SF 250 vs Honda CBR 250R vs Yamaha Fazer 25: Price, features, specifications compared\" class=\"story section-order-1529717\"> <a href=\"/auto/bikes/story/suzuki-gixxer-sf-250-vs-honda-cbr-250r-vs-yamaha-fazer-25-1529717-2019-05-20\">Suzuki Gixxer SF 250 vs Honda CBR 250R vs Yamaha Fazer 25: Price, features, specifications compared</a></p><div class=\"morediv\"><a href=\"https://www.indiatoday.in/auto\">more from Auto <i class=\"fa fa-chevron-right\" aria-hidden=\"true\"></i></a></div></div></div></div></div></div></div><div class=\"col-md-4 col-sm-4 col-xs-12 sectioncart\" data-tb-region=\"HomeScience\" id=\"section-cart-itg-block-28\"><div class=\"widget-help-text\">Section Card</div><div class=\"itg-widget\"><div class=\"droppable \"><div class=\"widget-wrapper section_wise_order\"> <span class=\"widget-title\"><a href=\"/science\">SCIENCE</a></span><div class=\"data-holder\" id=\"itg-block-28\"><div class=\"section-ordering video-gif\" data-id=\"undefined\" id=\"card_1206814_itg-block-28\"><div data-tb-region-item> <a class=\"pic-no-icon\" href=\"https://www.indiatoday.in/science/story/india-adopts-new-definition-of-kilogram-here-is-what-it-means-1530863-2019-05-21\"> <img data-src=\"https://akm-img-a-in.tosshub.com/indiatoday/images/story/201905/1_kg-370x208.jpeg?Rjy6BsiE0xMxuAwwGTuciy1tytMlRJYO\" src=\"https://akm-img-a-in.tosshub.com/indiatoday/../sites/all/themes/itg/images/itg_image370x208.jpg\" class=\"lazyload\" width=\" \" alt=\"India adopts new measuring system\" title=\"India adopts new measuring system\" height=\" \" /> </a><h3 title=\"India adopts new definition of kilogram: Here is what it means\" class=\"frist-heading heading-1530863 story \"> <a href=\"/science/story/india-adopts-new-definition-of-kilogram-here-is-what-it-means-1530863-2019-05-21\">India adopts new definition of kilogram: Here is what it means</a></h3></div><p data-tb-region-item title=\"Your genes decide whether you will own a dog or not, pawsible?\" class=\"story section-order-1528321\"> <a href=\"/science/story/genes-genetic-makeup-decide-humans-own-dogs-pets-1528321-2019-05-18\">Your genes decide whether you will own a dog or not, pawsible?</a></p><p data-tb-region-item title=\"Moon is shrinking and that's causing lunar quakes\" class=\"story section-order-1525057\"> <a href=\"/science/story/moon-shrinking-lunar-quakes-fault-scarps-seismometers-lro-1525057-2019-05-14\">Moon is shrinking and that's causing lunar quakes</a></p><div class=\"morediv\"><a href=\"https://www.indiatoday.in/science\">more from SCIENCE <i class=\"fa fa-chevron-right\" aria-hidden=\"true\"></i></a></div></div></div></div></div></div></div></div><div class=\"no-more-card\" style=\"display:none\">No More Result Found.</div><div class=\"row itg-common-section itg-third-party-section\" ><div class=\"col-md-4 col-sm-4 col-xs-12 mt-50\" data-tb-region=\"HomeLatestFromAajtak\"><div class=\"widget-help-text\">Third Party</div><div class=\"itg-widget\"><div class=\"widget-wrapper\"><div id=\"block-itg-front-end-common-latest-from-aajtak\" class=\"block block-itg-front-end-common odd\"> <span class=\"widget-title\">LATEST FROM AAJ TAK</span><ul><li data-tb-region-item class=\"third-party-list\"><a class=\"pic\" href=\"https://m.aajtak.in/movie-masala/news-on-films/story/vivek-oberoi-apologizes-on-aishwarya-meme-exit-polls-deleted-tweet-tmov-1085594-2019-05-21\" target=\"_blank\" title=\"बैकफुट पर व‍िवेक: सीनाजोरी के बाद ऐश्वर्या के व‍िवाद‍ित मीम पर मांगी माफी\"><img data-src=\"https://smedia2.intoday.in/aajtak/images/stories/052019/vivek_clgg_1024_1558411764_88x50.jpeg\" src=\"https://akm-img-a-in.tosshub.com/indiatoday/../sites/all/themes/itg/images/itg_image370x208.jpg\" class=\"lazyload\" width=\" \" alt=\" \" title=\" \" height=\" \" /></a><div class='title'><a href=\"https://m.aajtak.in/movie-masala/news-on-films/story/vivek-oberoi-apologizes-on-aishwarya-meme-exit-polls-deleted-tweet-tmov-1085594-2019-05-21\" target=\"_blank\" title=\"बैकफुट पर व‍िवेक: सीनाजोरी के बाद ऐश्वर्या के व‍िवाद‍ित मीम पर मांगी माफी\">बैकफुट पर व‍िवेक: सीनाजोरी के बाद ऐश्वर्या के व‍िवाद‍ित मीम पर मांगी माफी</a></div></li><li data-tb-region-item class=\"third-party-list\"><a class=\"pic\" href=\"https://m.aajtak.in/elections/lok-sabha-election-2019/story/after-exit-poll-2019-mayawati-take-big-decission-ramveer-upadhyay-suspend-from-bsp-1085590-2019-05-21\" target=\"_blank\" title=\"एग्जिट पोल के बाद मायावती का एक्शन, करीबी नेता को किया आउट\"><img data-src=\"https://smedia2.intoday.in/aajtak/images/stories/052019/mayawati_1558411185_88x50.jpeg\" src=\"https://akm-img-a-in.tosshub.com/indiatoday/../sites/all/themes/itg/images/itg_image370x208.jpg\" class=\"lazyload\" width=\" \" alt=\" \" title=\" \" height=\" \" /></a><div class='title'><a href=\"https://m.aajtak.in/elections/lok-sabha-election-2019/story/after-exit-poll-2019-mayawati-take-big-decission-ramveer-upadhyay-suspend-from-bsp-1085590-2019-05-21\" target=\"_blank\" title=\"एग्जिट पोल के बाद मायावती का एक्शन, करीबी नेता को किया आउट\">एग्जिट पोल के बाद मायावती का एक्शन, करीबी नेता को किया आउट</a></div></li><li data-tb-region-item class=\"third-party-list\"><a class=\"pic\" href=\"https://m.aajtak.in/news/business/story/share-market-sensex-bse-nse-exit-poll-election-2019-rupee-tut-1085583-2019-05-21\" target=\"_blank\" title=\"Exit Poll से निवेशकों के मन में फूटे लड्डू, रिकॉर्ड ऊंचाई पर शेयर बाजार\"><img data-src=\"https://smedia2.intoday.in/aajtak/images/stories/052019/share_3_1558410398_88x50.jpeg\" src=\"https://akm-img-a-in.tosshub.com/indiatoday/../sites/all/themes/itg/images/itg_image370x208.jpg\" class=\"lazyload\" width=\" \" alt=\" \" title=\" \" height=\" \" /></a><div class='title'><a href=\"https://m.aajtak.in/news/business/story/share-market-sensex-bse-nse-exit-poll-election-2019-rupee-tut-1085583-2019-05-21\" target=\"_blank\" title=\"Exit Poll से निवेशकों के मन में फूटे लड्डू, रिकॉर्ड ऊंचाई पर शेयर बाजार\">Exit Poll से निवेशकों के मन में फूटे लड्डू, रिकॉर्ड ऊंचाई पर शेयर बाजार</a></div></li><li data-tb-region-item class=\"third-party-list\"><a class=\"pic\" href=\"https://m.aajtak.in/movie-masala/news-on-films/story/vivek-oberoi-salman-khan-and-aishwarya-rai-bachchan-controversy-troll-memes-tmov-1085537-2019-05-21\" target=\"_blank\" title=\"सलमान-ऐश्वर्या की वो कहानी जिससे तबाह हुआ विवेक का करियर!\"><img data-src=\"https://smedia2.intoday.in/aajtak/images/stories/052019/aish_clgg_1024_1558378863_88x50.jpeg\" src=\"https://akm-img-a-in.tosshub.com/indiatoday/../sites/all/themes/itg/images/itg_image370x208.jpg\" class=\"lazyload\" width=\" \" alt=\" \" title=\" \" height=\" \" /></a><div class='title'><a href=\"https://m.aajtak.in/movie-masala/news-on-films/story/vivek-oberoi-salman-khan-and-aishwarya-rai-bachchan-controversy-troll-memes-tmov-1085537-2019-05-21\" target=\"_blank\" title=\"सलमान-ऐश्वर्या की वो कहानी जिससे तबाह हुआ विवेक का करियर!\">सलमान-ऐश्वर्या की वो कहानी जिससे तबाह हुआ विवेक का करियर!</a></div></li><li data-tb-region-item class=\"third-party-list\"><a class=\"pic\" href=\"https://m.aajtak.in/khabare-ab-tak/story/afzal-ansari-protest-on-evm-in-ghazipur-1085519-2019-05-21\" target=\"_blank\" title=\"यूपीः गाजीपुर में EVM पर घमासान, धरने पर बैठे अफजाल अंसारी\"><img data-src=\"https://smedia2.intoday.in/aajtak/images/stories/052019/img_20190520_wa0030_1558375481_88x50.jpeg\" src=\"https://akm-img-a-in.tosshub.com/indiatoday/../sites/all/themes/itg/images/itg_image370x208.jpg\" class=\"lazyload\" width=\" \" alt=\" \" title=\" \" height=\" \" /></a><div class='title'><a href=\"https://m.aajtak.in/khabare-ab-tak/story/afzal-ansari-protest-on-evm-in-ghazipur-1085519-2019-05-21\" target=\"_blank\" title=\"यूपीः गाजीपुर में EVM पर घमासान, धरने पर बैठे अफजाल अंसारी\">यूपीः गाजीपुर में EVM पर घमासान, धरने पर बैठे अफजाल अंसारी</a></div></li></ul></div></div></div></div><div class=\"col-md-4 col-sm-4 col-xs-12 mt-50\" data-tb-region=\"HomeLatestFromBusinessToday\"><div class=\"widget-help-text\">Third Party</div><div class=\"itg-widget\"><div class=\"widget-wrapper\"><div id=\"block-itg-front-end-common-latest-from-businesstoday\" class=\"block block-itg-front-end-common even\"> <span class=\"widget-title\">LATEST FROM DAILYO</span><ul><li data-tb-region-item class=\"third-party-list\"><a class=\"pic\" href=\"https://www.dailyo.in/voices/vivek-oberoi-tweets-aishwarya-rai-bachchan-meme-salman-khan-vivek-oberoi-aishwarya-rai-exit-polls/story/1/30779.html\" target=\"_blank\" title=\"Vivek Oberoi Tweets Aishwarya Meme: Critics, Vivek Oberoi has moved on. You should too\"><img data-src=\"https://akm-img-a-in.tosshub.com/sites/dailyo/story/small/201905/vivek-aishwarya-smal_052019051624_88x50.jpg\" src=\"https://akm-img-a-in.tosshub.com/indiatoday/../sites/all/themes/itg/images/itg_image370x208.jpg\" class=\"lazyload\" width=\" \" alt=\" \" title=\" \" height=\" \" /></a><div class='tile'><a href=\"https://www.dailyo.in/voices/vivek-oberoi-tweets-aishwarya-rai-bachchan-meme-salman-khan-vivek-oberoi-aishwarya-rai-exit-polls/story/1/30779.html\" target=\"_blank\" title=\"Vivek Oberoi Tweets Aishwarya Meme: Critics, Vivek Oberoi has moved on. You should too\">Vivek Oberoi Tweets Aishwarya Meme: Critics, Vivek Oberoi has moved on. You should too</a></div></li><li data-tb-region-item class=\"third-party-list\"><a class=\"pic\" href=\"https://www.dailyo.in/politics/narendra-modi-welfare-schemes-rural-toilet-construction-women-s-vote-lok-sabha-exit-poll-toilet-ek-prem-katha/story/1/30778.html\" target=\"_blank\" title=\"Toilet, a PM katha: How that seat beat Modi’s big schemes in impact\"><img data-src=\"https://akm-img-a-in.tosshub.com/sites/dailyo/story/small/201905/small_toilets-l-pti_052019050615_88x50.jpg\" src=\"https://akm-img-a-in.tosshub.com/indiatoday/../sites/all/themes/itg/images/itg_image370x208.jpg\" class=\"lazyload\" width=\" \" alt=\" \" title=\" \" height=\" \" /></a><div class='tile'><a href=\"https://www.dailyo.in/politics/narendra-modi-welfare-schemes-rural-toilet-construction-women-s-vote-lok-sabha-exit-poll-toilet-ek-prem-katha/story/1/30778.html\" target=\"_blank\" title=\"Toilet, a PM katha: How that seat beat Modi’s big schemes in impact\">Toilet, a PM katha: How that seat beat Modi’s big schemes in impact</a></div></li><li data-tb-region-item class=\"third-party-list\"><a class=\"pic\" href=\"https://www.dailyo.in/variety/game-of-thrones-finale-5-things-we-learnt-from-bran-jon-snow-sansa-arya/story/1/30777.html\" target=\"_blank\" title=\"GoT Finale: 5 things we learnt from the Game of Thrones final show\"><img data-src=\"https://akm-img-a-in.tosshub.com/sites/dailyo/story/small/201905/alliance-small_052019022333_88x50.jpg\" src=\"https://akm-img-a-in.tosshub.com/indiatoday/../sites/all/themes/itg/images/itg_image370x208.jpg\" class=\"lazyload\" width=\" \" alt=\" \" title=\" \" height=\" \" /></a><div class='tile'><a href=\"https://www.dailyo.in/variety/game-of-thrones-finale-5-things-we-learnt-from-bran-jon-snow-sansa-arya/story/1/30777.html\" target=\"_blank\" title=\"GoT Finale: 5 things we learnt from the Game of Thrones final show\">GoT Finale: 5 things we learnt from the Game of Thrones final show</a></div></li><li data-tb-region-item class=\"third-party-list\"><a class=\"pic\" href=\"https://www.dailyo.in/politics/narendra-modi-modinomics-lok-sabha-exit-polls-2019-bjp-modi-wave-ujjwala-pm-awaas-yojana-khan-market-gang/story/1/30775.html\" target=\"_blank\" title=\"Lok Sabha Exit Polls 2019: Why India has voted for Modinomics\"><img data-src=\"https://akm-img-a-in.tosshub.com/sites/dailyo/story/small/201905/narendra-380_052019125812_88x50.jpg\" src=\"https://akm-img-a-in.tosshub.com/indiatoday/../sites/all/themes/itg/images/itg_image370x208.jpg\" class=\"lazyload\" width=\" \" alt=\" \" title=\" \" height=\" \" /></a><div class='tile'><a href=\"https://www.dailyo.in/politics/narendra-modi-modinomics-lok-sabha-exit-polls-2019-bjp-modi-wave-ujjwala-pm-awaas-yojana-khan-market-gang/story/1/30775.html\" target=\"_blank\" title=\"Lok Sabha Exit Polls 2019: Why India has voted for Modinomics\">Lok Sabha Exit Polls 2019: Why India has voted for Modinomics</a></div></li><li data-tb-region-item class=\"third-party-list\"><a class=\"pic\" href=\"https://www.dailyo.in/humour/satta-bazar-cashless-economy-narendra-modi-betteing-achhe-din-2-0/story/1/30774.html\" target=\"_blank\" title=\"Lok Sabha Elections 2019: Decoding what the 'satta bazaar' is up to!\"><img data-src=\"https://akm-img-a-in.tosshub.com/sites/dailyo/story/small/201905/satta-small_052019010339_88x50.jpg\" src=\"https://akm-img-a-in.tosshub.com/indiatoday/../sites/all/themes/itg/images/itg_image370x208.jpg\" class=\"lazyload\" width=\" \" alt=\" \" title=\" \" height=\" \" /></a><div class='tile'><a href=\"https://www.dailyo.in/humour/satta-bazar-cashless-economy-narendra-modi-betteing-achhe-din-2-0/story/1/30774.html\" target=\"_blank\" title=\"Lok Sabha Elections 2019: Decoding what the &#039;satta bazaar&#039; is up to!\">Lok Sabha Elections 2019: Decoding what the &#039;satta bazaar&#039; is up to!</a></div></li></ul></div></div></div></div><div class=\"col-md-4 col-sm-4 col-xs-12 mt-50\" data-tb-region=\"HomeLatestFromPTI\"><div class=\"widget-help-text\">Third Party</div><div class=\"itg-widget\"><div class=\"widget-wrapper\"><div id=\"block-itg-front-end-common-latest-from-pti\" class=\"block block-itg-front-end-common odd\"> <span class=\"widget-title\">Latest of the Lot</span><ul><li data-tb-region-item class='third-party-list'><span class='tile'><a href=\"/television/web-series/story/netflix-drops-major-hint-about-sacred-games-2-release-date-1530881-2019-05-21\" title=\"Netflix drops major hint about Sacred Games 2 release date\">Netflix drops major hint about Sacred Games 2 release date</a></span></li><li data-tb-region-item class='third-party-list'><span class='tile'><a href=\"/elections/lok-sabha-2019/story/sc-dismisses-plea-challenging-appointment-of-observers-for-lok-sabha-polls-in-west-bengal-1530879-2019-05-21\" title=\"SC dismisses plea challenging appointment of observers for Lok Sabha polls in West Bengal\">SC dismisses plea challenging appointment of observers for Lok Sabha polls in West Bengal</a></span></li><li data-tb-region-item class='third-party-list'><span class='tile'><a href=\"/education-today/notification/story/samastha-kerala-result-2019-madras-wise-declared-see-how-to-check-result-1530867-2019-05-21\" title=\"Samastha Kerala Result 2019 Madrasa-wise declared: See how to check Result\">Samastha Kerala Result 2019 Madrasa-wise declared: See how to check Result</a></span></li><li data-tb-region-item class='third-party-list'><span class='tile'><a href=\"/india/story/metro-services-affected-on-yellow-line-due-to-technical-snag-1530866-2019-05-21\" title=\"Delhi Metro services affected on Yellow Line due to technical snag\">Delhi Metro services affected on Yellow Line due to technical snag</a></span></li><li data-tb-region-item class='third-party-list'><span class='tile'><a href=\"/education-today/news/story/goa-class-10th-results-2019-government-schools-record-100-records-panaji-district-at-the-lowest-1530865-2019-05-21\" title=\"Goa Class 10th results 2019: Government schools record 100% records, Panaji district at the lowest \">Goa Class 10th results 2019: Government schools record 100% records, Panaji district at the lowest </a></span></li><li data-tb-region-item class='third-party-list'><span class='tile'><a href=\"/technology/news/story/nokia-8-1-6-1-plus-7-1-8-sirocco-discount-sale-india-price-1530864-2019-05-21\" title=\"Nokia 8.1, Nokia 6.1 Plus and more see discounts up to Rs 6,000 until May 24\">Nokia 8.1, Nokia 6.1 Plus and more see discounts up to Rs 6,000 until May 24</a></span></li><li data-tb-region-item class='third-party-list'><span class='tile'><a href=\"/science/story/india-adopts-new-definition-of-kilogram-here-is-what-it-means-1530863-2019-05-21\" title=\"India adopts new definition of kilogram: Here is what it means\">India adopts new definition of kilogram: Here is what it means</a></span></li></ul></div></div></div></div></div></div></div> </section> </main> <footer id=\"footer\" class=\"region region-footer\"><div id=\"block-itg-ads-ads-overlay-1x1\" class=\"block block-itg-ads first odd\"><div id=\"zt_767460_1\" style=\"display:show\">\n",
      "<script id=\"zt_767460_1\" language=\"javascript\">\n",
      "if(typeof zmt_mtag !='undefined' && typeof zmt_mtag.zmt_render_placement !='undefined')\n",
      "{\n",
      "zmt_mtag.zmt_render_placement(p767460_1);\n",
      "}\n",
      "</script>\n",
      "</div></div><div id=\"block-itg-layout-manager-footer-block\" class=\"block block-itg-layout-manager even\"> <section class=\"footer-top\"><div class=\"container\"><div class=\"footer-top-link\"> INDIATODAY.IN</div><div class=\"footer-social-link\"><ul><li><a rel=\"nofollow\" target=\"_blank\" href=\"https://www.facebook.com/IndiaToday/\" title=\"\"><i class=\"fa fa-facebook\"></i></a></li><li><a rel=\"nofollow\" target=\"_blank\" href=\"https://twitter.com/indiatoday\" title=\"\"><i class=\"fa fa-twitter\"></i></a></li><li><a href=\"https://www.indiatoday.in/rss\" title=\"\"><i class=\"fa fa-rss\"></i></a></li><li class=\"search-icon-parent\"> <a href=\"javascript:void(0)\" class=\"search-icon-default\" title=\"\"><i class=\"fa fa-search\"></i></a> <a href=\"javascript:void(0)\" class=\"search-icon-search\" title=\"\"><i class=\"fa fa-search\"></i></a><div class=\"globle-search\"> <input class=\"search-text\" placeholder=\"Type here\" type=\"text\" value=\"\" /></div></li><li class=\"footer-expand-icon\"></li></ul></div><div class=\"footer-expand-icon\"></div></div></section><section class=\"footer-toggle\"> <section class=\"footer-mid\"><div class=\"container\"><div id=\"block-itg-ads-ads-super-banner-bottomnav728x90\" class=\"block block-itg-ads first odd\"><div class='adtext'>advertisement</div><div id='div-gpt-ad-1514896195242-2'>\n",
      "<script>\n",
      "googletag.cmd.push(function() { googletag.display('div-gpt-ad-1514896195242-2'); });\n",
      "</script>\n",
      "</div></div></div> </section> <section class=\"footer-bottom\"><div class=\"container\"><div class=\"row multiple-items-footer\"><div class=\"cell\"><h4>Publications:</h4><ul class=\"menu\"><li class=\"menu__item is-leaf first leaf\"><a href=\"http://www.businesstoday.in\" class=\"menu__link\">Business Today</a></li><li class=\"menu__item is-leaf leaf\"><a href=\"http://www.cosmopolitan.in/\" class=\"menu__link\">Cosmopolitan</a></li><li class=\"menu__item is-leaf leaf\"><a href=\"http://subscriptions.intoday.in/subscriptions/itoday/ith_offer.jsp?source=website\" class=\"menu__link\">India Today - Hindi</a></li><li class=\"menu__item is-leaf leaf\"><a href=\"/\" class=\"menu__link active\">India Today</a></li><li class=\"menu__item is-leaf leaf\"><a href=\"http://mailtoday.in\" class=\"menu__link\">Mail Today</a></li><li class=\"menu__item is-leaf leaf\"><a href=\"http://moneytoday.intoday.in/\" class=\"menu__link\">Money Today</a></li><li class=\"menu__item is-leaf leaf\"><a href=\"http://www.readersdigest.co.in/\" class=\"menu__link\">Reader&#039;s Digest</a></li><li class=\"menu__item is-leaf last leaf\"><a href=\"http://subscriptions.digitaltoday.in/subscriptions/time/subscription.html\" class=\"menu__link\">Time</a></li></ul></div><div class=\"cell\"><h4>Television:</h4><ul class=\"menu\"><li class=\"menu__item is-leaf first leaf\"><a href=\"http://aajtak.intoday.in/\" class=\"menu__link\">Aaj Tak</a></li><li class=\"menu__item is-leaf leaf\"><a href=\"http://aajtak.intoday.in/dilliaajtak/\" class=\"menu__link\">Delhi Aaj Tak</a></li><li class=\"menu__item is-leaf leaf\"><a href=\"/livetv\" class=\"menu__link\">India Today TV</a></li><li class=\"menu__item is-leaf last leaf\"><a href=\"http://aajtak.intoday.in/tez/\" class=\"menu__link\">Tez</a></li></ul><h4>Radio:</h4><ul class=\"menu\"><li class=\"menu__item is-leaf first last leaf\"><a href=\"https://www.ishq.com\" class=\"menu__link\">Ishq FM</a></li></ul></div><div class=\"cell\"><h4>Education:</h4><ul class=\"menu\"><li class=\"menu__item is-leaf first leaf\"><a href=\"/education-today\" class=\"menu__link\">India Today Education</a></li><li class=\"menu__item is-leaf leaf\"><a href=\"http://www.vasantvalley.org/vasantvalley/default.shtml\" class=\"menu__link\">Vasant Valley</a></li><li class=\"menu__item is-leaf leaf\"><a href=\"https://www.indiatoday.in/bestcolleges/2018\" target=\"_blank\" class=\"menu__link\">Best Colleges India 2018</a></li><li class=\"menu__item is-leaf last leaf\"><a href=\"https://www.indiatoday.in/best-universities\" target=\"_blank\" class=\"menu__link\">Best Universities India 2018</a></li></ul><h4>Syndications:</h4><ul class=\"menu\"><li class=\"menu__item is-leaf first last leaf\"><a href=\"https://www.indiacontent.in/\" class=\"menu__link\">India content</a></li></ul></div><div class=\"cell\"><h4>Events:</h4><ul class=\"menu\"><li class=\"menu__item is-leaf first leaf\"><a href=\"http://aajtak.intoday.in/agenda-aajtak/\" class=\"menu__link\">Agenda Aajtak</a></li><li class=\"menu__item is-leaf leaf\"><a href=\"http://www.indiatodayconclave.com/\" class=\"menu__link\">India Today Conclave</a></li><li class=\"menu__item is-leaf leaf\"><a href=\"http://www.robbreportindia.com/limitededition/2018/\" class=\"menu__link\">Robb Report India 2018</a></li><li class=\"menu__item is-leaf leaf\"><a href=\"https://aajtak.intoday.in/sahitya/2018/\" target=\"_blank\" class=\"menu__link\">Sahitya Aaj Tak</a></li><li class=\"menu__item is-leaf last leaf\"><a href=\"http://theredlab.in/\" target=\"_blank\" class=\"menu__link\">The Red Lab</a></li></ul><h4>Distribution:</h4><ul class=\"menu\"><li class=\"menu__item is-leaf first last leaf\"><a href=\"https://aajtak.intoday.in/distribution/rio/\" target=\"_blank\" class=\"menu__link\">Rate Card</a></li></ul></div><div class=\"cell\"><h4>Printing:</h4><ul class=\"menu\"><li class=\"menu__item is-leaf first last leaf\"><a href=\"http://www.thomsonpress.com/\" class=\"menu__link\">Thomson Press</a></li></ul><h4>Welfare:</h4><ul class=\"menu\"><li class=\"menu__item is-leaf first last leaf\"><a href=\"http://www.caretoday.in/\" class=\"menu__link\">Care Today</a></li></ul><h4>Music:</h4><ul class=\"menu\"><li class=\"menu__item is-leaf first last leaf\"><a href=\"http://www.music-today.com/\" class=\"menu__link\">Music Today</a></li></ul></div><div class=\"cell\"><h4>Useful Links :</h4><ul class=\"menu\"><li class=\"menu__item is-leaf first leaf\"><a href=\"https://www.indiatoday.in/partners.jsp\" class=\"menu__link\">Partners</a></li><li class=\"menu__item is-leaf leaf\"><a href=\"https://www.indiatoday.in/pr-newswire\" class=\"menu__link\">Press Release</a></li><li class=\"menu__item is-leaf leaf\"><a href=\"/sitemap\" title=\"Sitemap\" class=\"menu__link\">Sitemap</a></li><li class=\"menu__item is-leaf leaf\"><a href=\"https://www.indiatoday.in/news.html\" class=\"menu__link\">News</a></li><li class=\"menu__item is-leaf leaf\"><a href=\"https://www.indiatoday.in/newsletter\" class=\"menu__link\">Newsletter</a></li><li class=\"menu__item is-leaf last leaf\"><a href=\"https://www.indiatodaygroup.com/privacy-policy.html\" target=\"_blank\" class=\"menu__link\">Privacy Policy</a></li></ul></div></div></div> </section> <section class=\"footer-copyright\"><div class=\"container\"><p>Copyright &copy; 2019 Living Media India Limited. For reprint rights: Syndications Today</p></div> </section></section><div id=\"widget-ajex-loader\" style=\"display: none\"> <img class=\"lazyload widget-loader\" data-src=\"https://akm-img-a-in.tosshub.com/indiatoday/../sites/all/themes/itg/images/loading.gif\" alt=\"Loading...\" /></div><div id=\"iframe-display\" style=\"display: none\"></div></div><div id=\"block-block-13\" class=\"block block-block last odd\"><style>footer .footer-copyright { display:none;} footer .footer-copyright-new {color: #a6a6a6;padding: 10px 0;text-align: center;font-size: .75rem;border-top: 1px solid #111;}.app_menu{text-align:center;width: 450px; margin: 0px auto 15px;position: relative;} .app_menu h6{font-size:12px; color:#fff; line-height:16px;margin-bottom: 5px} .app_menu ul li{ display:inline-block; margin:0 5px}@media all and (max-width: 767px) {.app_menu{margin:0px auto 10px; width:100%}.app_menu ul li{margin:0 5px 10px;}}\n",
      "</style><div class=\"container\"><div class=\"app_menu\"><h6>Download App</h6><ul><li><a href=\"https://goo.gl/qtxzZf\" target=\"_blank\" title=\"Andriod App\"><img alt=\"Andriod App\" class=\"lazyloaded\" data-src=\"data:image/png;base64,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\" src=\"data:image/png;base64,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\" /></a></li><li><a href=\"https://goo.gl/BGCmrr\" target=\"_blank\" title=\"IOS App\"><img alt=\"IOS App\" class=\"lazyloaded\" data-src=\"data:image/png;base64,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\" src=\"data:image/png;base64,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\" /></a></li><li><a href=\"https://goo.gl/S8unuW\" target=\"_blank\" title=\"SmartTv App\"><img alt=\"SmartTv App\" class=\"lazyloaded\" data-src=\"data:image/png;base64,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\" src=\"data:image/png;base64,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\" /></a></li></ul></div></div><section class=\"footer-copyright-new\"><div class=\"container\"><p>Copyright © 2019 Living Media India Limited. For reprint rights: <a href=\"https://www.indiacontent.in/\" target=\"_blank\">Syndications Today</a></p></div></section></div> </footer></div><div class=\"activate-message\" style=\"display:none\"><div class=\"message-body\"> <span class=\"close-popup\"><i class=\"fa fa-times\" aria-hidden=\"true\"></i></span><p>Your Account Activated Successfully!</p></div></div>\n",
      "<script src=\"https://akm-img-a-in.tosshub.com/advagg_js/js__EtEv8D-v9WkS6Ol7F1HQ9jp8pA0sa39LetxCwqM6QWo__hp6VCJ28cf3uz4CDUTdw_r9Ief6oBFikpp2OsdnLydU__GTHT59GM5lcASMnInNchTCFq1J7nVir3fCt8ablNO9o.js?sqTrktUO4lS5hAYm44nA2HYKfj3dCE8I\"></script>\n",
      "<script defer=\"defer\" src=\"/sites/all/modules/custom/itg_sso_reg/js/itg_sso_login.js?1558422338\"></script>\n",
      "<script>jQuery.extend(Drupal.settings,{basePath:\"\\/\",pathPrefix:\"\",autocomplete_limit:{limit:2},ajaxPageState:{theme:\"itg\",theme_token:\"MUd1nAeWC6q780mOAF3Fts1RjFLV4rB0esfsh8YEZ_o\",js:{\"sites\\/all\\/libraries\\/flexslider\\/jquery.flexslider-min.js\":1,\"sites\\/all\\/modules\\/contrib\\/google_analytics\\/googleanalytics.js\":1,\"sites\\/all\\/modules\\/contrib\\/google_analytics_et\\/js\\/google_analytics_et.js\":1,\"sites\\/all\\/modules\\/custom\\/itg_flag\\/js\\/itg_flag.js\":1,\"sites\\/all\\/themes\\/itg\\/js\\/slick.js\":1,\"sites\\/all\\/themes\\/itg\\/js\\/jquery.mCustomScrollbar.concat.min.js\":1,\"sites\\/all\\/themes\\/itg\\/js\\/stickyMojo.js\":1,\"sites\\/all\\/themes\\/itg\\/js\\/script.js\":1,\"sites\\/all\\/modules\\/contrib\\/jquery_update\\/replace\\/jquery\\/1.7\\/jquery.min.js\":1,\"misc\\/drupal.js\":1,\"sites\\/all\\/modules\\/custom\\/itg_sso_reg\\/js\\/itg_sso_login.js\":1}},colorbox:{transition:\"elastic\",speed:\"350\",opacity:\"0.85\",slideshow:false,slideshowAuto:true,slideshowSpeed:\"2500\",slideshowStart:\"start slideshow\",slideshowStop:\"stop slideshow\",current:\"{current} of {total}\",previous:\"\\u00ab Prev\",next:\"Next \\u00bb\",close:\"Close\",overlayClose:true,maxWidth:\"100%\",maxHeight:\"100%\",initialWidth:\"300\",initialHeight:\"250\",fixed:true,scrolling:true,mobiledetect:true,mobiledevicewidth:\"480px\"},itg_akamai_block_refresh:{settings:{\"block-views-breaking-news-block-1\":{element:\"block-views-breaking-news-block-1\",auto:1,manual:0,init:0,\"arguments\":1,panels:0,timer:\"30\",block:{block:\"views\",delta:\"breaking_news-block_1\"},bypass_page_cache:0,bypass_external_cache:\"10\"}},args:[\"node\",\"2\"],query:\"\"},baseUrl:{baseUrl:\"https:\\/\\/www.indiatoday.in\"},itg_flag:{settings:{base_url:\"https:\\/\\/www.indiatoday.in\",uid:0,default_image:\"https:\\/\\/www.indiatoday.in\\/sites\\/all\\/themes\\/itg\\/images\\/itg_image647x363.jpg\",fb_app:\"693568120778492\"}},itg_widget:{settings:{base_url:\"https:\\/\\/www.indiatoday.in\",setttl:\"30\",actual_ttl:\"30\"}},itg_sso_login:{settings:{uid:0,check_sso_url:null,user_arg:\"node\",change_arg:null,base_url:\"https:\\/\\/www.indiatoday.in\",sso_url:\"https:\\/\\/auth.indiatoday.in\",front_url:\"aHR0cHM6Ly93d3cuaW5kaWF0b2RheS5pbg==\",logoutsec:\"20000\"}},clientsideValidation:{general:{months:{January:1,Jan:1,February:2,Feb:2,March:3,Mar:3,April:4,Apr:4,May:5,June:6,Jun:6,July:7,Jul:7,August:8,Aug:8,September:9,Sep:9,October:10,Oct:10,November:11,Nov:11,December:12,Dec:12}}}});</script>\n",
      "<script src=\"https://akm-img-a-in.tosshub.com/advagg_js/js__ZLIj8xkPDBLfDZWxs9TA4VGw6FHtt-OpJnQRlgbsHhg__qqMUcslT101omOjeAXWXoV5svAKC2lug6tE3HaZ31aA__GTHT59GM5lcASMnInNchTCFq1J7nVir3fCt8ablNO9o.js?YtlokKjR.joP7T.2wyRVWzqNn8knorcZ\" defer=\"defer\"></script>\n",
      "<script>var _sf_async_config=_sf_async_config||{};_sf_async_config.uid=60355;_sf_async_config.domain='indiatoday.in';_sf_async_config.useCanonical=true;_sf_async_config.sections='';_sf_async_config.authors='';(function(){function loadChartbeat(){window._sf_endpt=(new Date()).getTime();var e=document.createElement('script');e.setAttribute('language','javascript');e.setAttribute('type','text/javascript');e.setAttribute('src','//static.chartbeat.com/js/chartbeat.js');document.body.appendChild(e)};var oldonload=window.onload;window.onload=(typeof window.onload!='function')?loadChartbeat:function(){oldonload();loadChartbeat()}})();</script>\n",
      "<script src=\"https://akm-img-a-in.tosshub.com/advagg_js/js__SgRD05z97Js1tig_zyI9XCPudJ6ubsC7D2HMaYw9WVU__33epvZT6wWAPIfhLC6vGQ7_8TagzrihUOpniIIuRoeU__GTHT59GM5lcASMnInNchTCFq1J7nVir3fCt8ablNO9o.js?HKeA4.fAv4fV5F802DkzySTPW_5va38r\" defer=\"defer\"></script>\n",
      "<script>jQuery(document).ready(function(){var is_mobile=mobilecheck()?true:false\n",
      "function getGridSize(){return(window.innerWidth<768)?270:\"\"};jQuery(\".watch-right-now-anchor-flex\").flexslider({animation:\"slide\",animationLoop:(!is_mobile?true:false),itemWidth:getGridSize(),itemMargin:15,prevText:\"\",nextText:\"\",itemWidth:170,minItems:2,initDelay:500,slideshow:(!is_mobile?true:false)})});</script>\n",
      "<script>jQuery(document).ready(function(){jQuery(\".flexslider\").flexslider({animation:\"slide\",prevText:\"\",nextText:\"\"})});</script>\n",
      "<script>jQuery(document).ready(function(){var is_mobile=mobilecheck()?true:false\n",
      "function getGridSize(){return(window.innerWidth<768)?270:\"\"};jQuery(\".trending-videos-flex\").flexslider({animation:\"slide\",animationLoop:(!is_mobile?true:false),itemWidth:getGridSize(),itemMargin:15,prevText:\"\",nextText:\"\",slideshow:false})});</script>\n",
      "<script>jQuery(document).ready(function(){var is_mobile=mobilecheck()?true:false\n",
      "function getGridSize(){return(window.innerWidth<768)?270:\"\"};jQuery(\".top-takes-videos-flex\").flexslider({animation:\"slide\",animationLoop:(!is_mobile?true:false),itemWidth:getGridSize(),itemMargin:15,prevText:\"\",nextText:\"\",slideshow:false})});</script>\n",
      "<script src=\"https://akm-img-a-in.tosshub.com/advagg_js/js__gWKDi3tEYHplAve-FUAeYr3Z0U6vcClHOalw_E4q9Ik__uteVqZaYwVSfbevsjJiprrB1EA0O67OIqeTXlxuojtQ__GTHT59GM5lcASMnInNchTCFq1J7nVir3fCt8ablNO9o.js?zcGNxK2r174..aM.iATdx5W9DoFhfKkI\" defer=\"defer\"></script>\n",
      "<div class=\"goToTop\"> <span class=\"goToTopIcon\"><svg height=\"48\" viewBox=\"0 0 48 48\" width=\"48\" xmlns=\"http://www.w3.org/2000/svg\"><path fill=\"#fff\" d=\"M14.83 30.83l9.17-9.17 9.17 9.17 2.83-2.83-12-12-12 12z\"/><path d=\"M0 0h48v48h-48z\" fill=\"none\"/></svg></span></div>\n",
      "<script>\n",
      "jQuery(document).ready(function () {\n",
      "jQuery(\".tab-buttons span , .video_landing_menu a , .slick-arrow, .slick-slide, .pager a\").on('click' , function() {\n",
      "comscoreBeacon();\n",
      "});\n",
      "});\n",
      "</script>\n",
      "\n",
      "<script>\n",
      "(function(b,r,a,n,c,h,_,s,d,k){if(!b[n]||!b[n]._q){for(;s<_.length;)c(h,_[s++]);d=r.createElement(a);d.async=1;d.src=\"https://cdn.branch.io/branch-latest.min.js\";k=r.getElementsByTagName(a)[0];k.parentNode.insertBefore(d,k);b[n]=h}})(window,document,\"script\",\"branch\",function(b,r){b[r]=function(){b._q.push([r,arguments])}},{_q:[],_v:1},\"addListener applyCode banner closeBanner creditHistory credits data deepview deepviewCta first getCode init link logout redeem referrals removeListener sendSMS setBranchViewData setIdentity track validateCode\".split(\" \"), 0);branch.init('key_live_cgwzd2EvhB7X2XUsBd2N6joitydwu3OS',{'no_journeys':false} );\n",
      "var linkData = {\n",
      "data: {\n",
      "'$canonical_identifier': \"2\",\n",
      "'$data_type': \"page\",\n",
      "}\n",
      "};\n",
      "branch.setBranchViewData(linkData);\n",
      "</script>\n",
      "\n",
      "\n",
      "<script async src=\"https://akm-img-a-in.tosshub.com/sites/common/js/gdpr/gdpr_check.js\" data-name=\"cookies-policy\" data-id=\"gdprconsentpolicy\"></script>\n",
      "<script> jQuery(function() {jQuery(window).scroll(function() {if(jQuery(this).scrollTop() > 400) {jQuery('.goToTop').addClass(\"showGototop\"); }else{jQuery('.goToTop').removeClass(\"showGototop\"); } });jQuery(\".goToTop\").click(function () {jQuery(\"body,html\").animate({scrollTop: 0}, 800) }); });</script>\n",
      "</body></html>\n"
     ]
    },
    {
     "name": "stdout",
     "output_type": "stream",
     "text": [
      "<bound method Response.json of <Response [410]>>\n"
     ]
    }
   ],
   "source": [
    "\n",
    " \n",
    "# The Requests library also comes with a built-in JSON decoder,\n",
    "# just in case you have to deal with JSON data\n",
    " \n",
    "import requests\n",
    "r = requests.get('https://www.indiatoday.in/')\n",
    "print(r.json)"
   ]
  },
  {
   "cell_type": "code",
   "execution_count": null,
   "metadata": {},
   "outputs": [],
   "source": []
  }
 ],
 "metadata": {
  "kernelspec": {
   "display_name": "Python 3",
   "language": "python",
   "name": "python3"
  },
  "language_info": {
   "codemirror_mode": {
    "name": "ipython",
    "version": 3
   },
   "file_extension": ".py",
   "mimetype": "text/x-python",
   "name": "python",
   "nbconvert_exporter": "python",
   "pygments_lexer": "ipython3",
   "version": "3.7.3"
  }
 },
 "nbformat": 4,
 "nbformat_minor": 2
}
