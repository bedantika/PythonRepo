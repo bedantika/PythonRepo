{
 "cells": [
  {
   "cell_type": "markdown",
   "metadata": {},
   "source": [
    "Python List : Hands on Exercise and Solutions "
   ]
  },
  {
   "cell_type": "markdown",
   "metadata": {},
   "source": [
    "List 1 : Write a program that takes a list of numbers (for example, a = [5, 10, 15, 20, 25]) and makes a new list of only the first and last elements of the given list. For practice, write this code inside a function.\n",
    "\n"
   ]
  },
  {
   "cell_type": "code",
   "execution_count": 3,
   "metadata": {},
   "outputs": [
    {
     "name": "stdout",
     "output_type": "stream",
     "text": [
      "[(5, 25)]\n"
     ]
    }
   ],
   "source": [
    "def func(a):\n",
    "    \n",
    "    b = [(a[0],a[-1])]\n",
    "    return(b)\n",
    "\n",
    "a = [5, 10, 15, 20, 25]\n",
    "\n",
    "print(func(a))\n",
    "    "
   ]
  },
  {
   "cell_type": "markdown",
   "metadata": {},
   "source": [
    "List 2: Create a list # A list of list for multiplication table as shown below :\n",
    "a = 5 (say)"
   ]
  },
  {
   "cell_type": "code",
   "execution_count": 13,
   "metadata": {},
   "outputs": [
    {
     "name": "stdout",
     "output_type": "stream",
     "text": [
      "Enter number for the multiplication table 8\n",
      "[8, 1, 8]\n",
      "[8, 2, 16]\n",
      "[8, 3, 24]\n",
      "[8, 4, 32]\n",
      "[8, 5, 40]\n",
      "[8, 6, 48]\n",
      "[8, 7, 56]\n",
      "[8, 8, 64]\n",
      "[8, 9, 72]\n",
      "[8, 10, 80]\n"
     ]
    }
   ],
   "source": [
    "import pprint\n",
    "a = int(input(\"Enter number for the multiplication table \")) \n",
    "\n",
    "table = [[a, b, a * b] for b in range(1, 11)]\n",
    "\n",
    "print(*table,sep = \"\\n\")\n",
    "#for a,b,c in table:\n",
    "#  print(a,b,c)\n",
    "#pprint.pprint(*table)\n"
   ]
  },
  {
   "cell_type": "markdown",
   "metadata": {},
   "source": [
    "List 3: From given list object ‘gadgets’ as shown below :\n",
    "\n",
    "gadgets = [“Mobile”, “Laptop”, 100, “Camera”, 310.28, “Speakers”, 27.00,“Television”, 1000, “Laptop Case”, “Camera Lens”]\n",
    "\n",
    "a) create separate lists of strings and numbers.\n",
    " \n",
    "b) Sort the strings list in ascending order\n",
    " \n",
    "c) Sort the strings list in descending order\n",
    " \n",
    "d) Sort the number list from lowest to highest\n",
    "\n",
    "e) Sort the number list from highest to lowest\n"
   ]
  },
  {
   "cell_type": "code",
   "execution_count": 17,
   "metadata": {},
   "outputs": [
    {
     "name": "stdout",
     "output_type": "stream",
     "text": [
      "['Mobile', 'Laptop', 'Camera', 'Speakers', 'Television', 'Laptop Case', 'Camera Lens']\n",
      "[100, 310.28, 27.0, 1000]\n",
      "['Camera', 'Camera Lens', 'Laptop', 'Laptop Case', 'Mobile', 'Speakers', 'Television']\n",
      "['Television', 'Speakers', 'Mobile', 'Laptop Case', 'Laptop', 'Camera Lens', 'Camera']\n",
      "[27.0, 100, 310.28, 1000]\n",
      "[1000, 310.28, 100, 27.0]\n"
     ]
    }
   ],
   "source": [
    "\n",
    "gadgets = [\"Mobile\",\"Laptop\", 100,\"Camera\", 310.28, \"Speakers\", 27.00,\"Television\", 1000, \"Laptop Case\", \"Camera Lens\"]\n",
    "\n",
    "'''\n",
    "str_items = []\n",
    " \n",
    "num_items = []\n",
    " \n",
    "for item in gadgets: \n",
    "     \n",
    "    if isinstance(item, str):\n",
    "         \n",
    "        str_items.append(item)\n",
    "         \n",
    "    elif isinstance(item,int) or isinstance(item, float):\n",
    "         \n",
    "        num_items.append(item)\n",
    "\n",
    "'''\n",
    "\n",
    "\n",
    "        #List Comprehensions\n",
    "str_list= [ i for i in gadgets if isinstance(i, str)]\n",
    "num_list = [i for i in gadgets if isinstance (i, int) or isinstance (i, float)]\n",
    "\n",
    "#a)creating separate lists\n",
    "print(str_list)\n",
    "print(num_list)\n",
    "\n",
    "#b)sorting strings list in ascending order, a-z\n",
    "str_list.sort(key=str.lower)\n",
    "print(str_list)\n",
    " \n",
    " #c)sorting strings list in descending order z-a\n",
    "str_list.sort(key=str.lower, reverse=True)\n",
    "print(str_list)\n",
    "\n",
    "#d)sorting number list from lowest to highest\n",
    "num_list.sort()\n",
    "print(num_list)\n",
    " \n",
    " #e)sorting number list from highest to lowest\n",
    "num_list.sort(reverse=True)\n",
    "print(num_list)\n"
   ]
  },
  {
   "cell_type": "markdown",
   "metadata": {},
   "source": [
    "List 4: Get first, second best scores from the list. "
   ]
  },
  {
   "cell_type": "code",
   "execution_count": 28,
   "metadata": {},
   "outputs": [
    {
     "name": "stdout",
     "output_type": "stream",
     "text": [
      "[86, 86, 85, 85, 85, 84, 84, 84, 83, 45, 23, 2, 1, 0]\n",
      "86 85\n"
     ]
    }
   ],
   "source": [
    "a_list = [84,84,86,86,85,85,85,83,23,45,84,1,2,0]\n",
    "\n",
    "def first_second(given_list):\n",
    "    a = given_list   #make a copy\n",
    "    a.sort(reverse=True)\n",
    "    print(a)\n",
    "    first = a[0]\n",
    "    second = None\n",
    "    for element in a_list:\n",
    "        if element != first:\n",
    "            second = element\n",
    "            return first, second\n",
    "#function called\n",
    "f,s = first_second(a_list)\n",
    "print(f,s)\n"
   ]
  },
  {
   "cell_type": "code",
   "execution_count": 6,
   "metadata": {},
   "outputs": [
    {
     "name": "stdout",
     "output_type": "stream",
     "text": [
      "86 85\n"
     ]
    }
   ],
   "source": [
    "a_list = [84,84,86,86,85,85,85,83,23,45,84,1,2,0]\n",
    "b = sorted(set(a_list),reverse= True)\n",
    "print(b[0],b[1])\n"
   ]
  },
  {
   "cell_type": "markdown",
   "metadata": {},
   "source": [
    "List: 5: Find min list element on inputs provided by user \n"
   ]
  },
  {
   "cell_type": "code",
   "execution_count": 29,
   "metadata": {},
   "outputs": [
    {
     "name": "stdout",
     "output_type": "stream",
     "text": [
      "Enter number of elements in list: 5\n",
      "Enter elements: 7\n",
      "Enter elements: 99\n",
      "Enter elements: 2\n",
      "Enter elements: 8\n",
      "Enter elements: 3\n",
      "Smallest element is: 2\n"
     ]
    }
   ],
   "source": [
    "# creating empty list \n",
    "list1 = [] \n",
    "  \n",
    "# asking number of elements to put in list \n",
    "num = int(input(\"Enter number of elements in list: \")) \n",
    "  \n",
    "# iterating till num to append elements in list \n",
    "for i in range(1, num + 1): \n",
    "    ele = int(input(\"Enter elements: \")) \n",
    "    list1.append(ele) \n",
    "      \n",
    "# print maximum element \n",
    "print(\"Smallest element is:\", min(list1))\n"
   ]
  },
  {
   "cell_type": "code",
   "execution_count": 7,
   "metadata": {},
   "outputs": [
    {
     "ename": "SyntaxError",
     "evalue": "invalid syntax (<ipython-input-7-95c44fabe625>, line 7)",
     "output_type": "error",
     "traceback": [
      "\u001b[1;36m  File \u001b[1;32m\"<ipython-input-7-95c44fabe625>\"\u001b[1;36m, line \u001b[1;32m7\u001b[0m\n\u001b[1;33m    result = map(lambda x, sum + x, numbers1)\u001b[0m\n\u001b[1;37m                               ^\u001b[0m\n\u001b[1;31mSyntaxError\u001b[0m\u001b[1;31m:\u001b[0m invalid syntax\n"
     ]
    }
   ],
   "source": [
    "\n",
    "# Add two lists using map and lambda \n",
    "  \n",
    "numbers1 = [1, 2, 3] \n",
    "\n",
    "  \n",
    "result = map(lambda x, sum + x, numbers1) \n",
    "print(list(result)) "
   ]
  },
  {
   "cell_type": "markdown",
   "metadata": {},
   "source": [
    "Range 1: The program must accept an integer N as the input. The program must print the desired pattern as shown in the example input/ output.\n",
    "\n",
    "Input : 41325\n",
    "Output :\n",
    "|****\n",
    "|*\n",
    "|***\n",
    "|**\n",
    "|*****\n"
   ]
  },
  {
   "cell_type": "code",
   "execution_count": 32,
   "metadata": {},
   "outputs": [
    {
     "name": "stdout",
     "output_type": "stream",
     "text": [
      "Enter a number for pattern output123456\n",
      "|*\n",
      "|**\n",
      "|***\n",
      "|****\n",
      "|*****\n",
      "|******\n"
     ]
    }
   ],
   "source": [
    "def pattern(n): \n",
    "  \n",
    "    # traverse through the elements \n",
    "    # in n assuming it as a string \n",
    "    for i in n: \n",
    "  \n",
    "        # print | for every line \n",
    "        print(\"|\", end = \"\") \n",
    "  \n",
    "        # print i number of * s in  \n",
    "        # each line \n",
    "        print(\"*\" * int(i)) \n",
    "  \n",
    "# get the input as string         \n",
    "n = input(\"Enter a number for pattern output\")\n",
    "pattern(n)\n"
   ]
  },
  {
   "cell_type": "code",
   "execution_count": 34,
   "metadata": {},
   "outputs": [
    {
     "data": {
      "text/plain": [
       "list"
      ]
     },
     "execution_count": 34,
     "metadata": {},
     "output_type": "execute_result"
    }
   ],
   "source": [
    "type(list1)"
   ]
  },
  {
   "cell_type": "code",
   "execution_count": 20,
   "metadata": {},
   "outputs": [
    {
     "name": "stdout",
     "output_type": "stream",
     "text": [
      "{(1, 'a'), (3, 'c'), (6, 'good'), (4, 'd'), (2, 'b'), (5, 'Ram')}\n",
      "(1, 3, 6, 4, 2, 5) ('a', 'c', 'good', 'd', 'b', 'Ram')\n"
     ]
    }
   ],
   "source": [
    "l1 = [1,2,3,4,5,6,7,8,9]\n",
    "l2 = [ 'a','b','c','d','Ram','good']\n",
    "x = set((zip(l1,l2)))\n",
    "print(x)\n",
    "a,b = zip(*x)\n",
    "print(a,b)"
   ]
  },
  {
   "cell_type": "code",
   "execution_count": 11,
   "metadata": {},
   "outputs": [
    {
     "name": "stdout",
     "output_type": "stream",
     "text": [
      "a\n"
     ]
    }
   ],
   "source": [
    "tup3 = \"a\"\n",
    "print(tup3)"
   ]
  },
  {
   "cell_type": "code",
   "execution_count": 12,
   "metadata": {},
   "outputs": [
    {
     "name": "stdout",
     "output_type": "stream",
     "text": [
      "(1, 4, 7, 23, 56)\n"
     ]
    }
   ],
   "source": [
    "list = [1,4,7,23,56]\n",
    "print(tuple(list))\n"
   ]
  },
  {
   "cell_type": "code",
   "execution_count": 1,
   "metadata": {},
   "outputs": [
    {
     "name": "stdout",
     "output_type": "stream",
     "text": [
      "Please enter an element23\n",
      "23\n"
     ]
    },
    {
     "ename": "TypeError",
     "evalue": "int() argument must be a string, a bytes-like object or a number, not 'tuple'",
     "output_type": "error",
     "traceback": [
      "\u001b[1;31m---------------------------------------------------------------------------\u001b[0m",
      "\u001b[1;31mTypeError\u001b[0m                                 Traceback (most recent call last)",
      "\u001b[1;32m<ipython-input-1-6f4c476f0fde>\u001b[0m in \u001b[0;36m<module>\u001b[1;34m\u001b[0m\n\u001b[0;32m      5\u001b[0m     \u001b[0mprint\u001b[0m\u001b[1;33m(\u001b[0m\u001b[0mz\u001b[0m\u001b[1;33m)\u001b[0m\u001b[1;33m\u001b[0m\u001b[1;33m\u001b[0m\u001b[0m\n\u001b[0;32m      6\u001b[0m \u001b[0mresult\u001b[0m \u001b[1;33m=\u001b[0m \u001b[0mfilter\u001b[0m\u001b[1;33m(\u001b[0m\u001b[1;32mlambda\u001b[0m \u001b[0mx\u001b[0m \u001b[1;33m:\u001b[0m \u001b[0mint\u001b[0m\u001b[1;33m(\u001b[0m\u001b[0mx\u001b[0m\u001b[1;33m)\u001b[0m \u001b[1;32min\u001b[0m \u001b[0mx\u001b[0m\u001b[1;33m,\u001b[0m\u001b[0mt1\u001b[0m\u001b[1;33m)\u001b[0m\u001b[1;33m\u001b[0m\u001b[1;33m\u001b[0m\u001b[0m\n\u001b[1;32m----> 7\u001b[1;33m \u001b[0mprint\u001b[0m\u001b[1;33m(\u001b[0m\u001b[0mtuple\u001b[0m\u001b[1;33m(\u001b[0m\u001b[0mresult\u001b[0m\u001b[1;33m)\u001b[0m\u001b[1;33m)\u001b[0m\u001b[1;33m\u001b[0m\u001b[1;33m\u001b[0m\u001b[0m\n\u001b[0m",
      "\u001b[1;32m<ipython-input-1-6f4c476f0fde>\u001b[0m in \u001b[0;36m<lambda>\u001b[1;34m(x)\u001b[0m\n\u001b[0;32m      4\u001b[0m     \u001b[0mz\u001b[0m \u001b[1;33m=\u001b[0m \u001b[0mn\u001b[0m\u001b[1;33m\u001b[0m\u001b[1;33m\u001b[0m\u001b[0m\n\u001b[0;32m      5\u001b[0m     \u001b[0mprint\u001b[0m\u001b[1;33m(\u001b[0m\u001b[0mz\u001b[0m\u001b[1;33m)\u001b[0m\u001b[1;33m\u001b[0m\u001b[1;33m\u001b[0m\u001b[0m\n\u001b[1;32m----> 6\u001b[1;33m \u001b[0mresult\u001b[0m \u001b[1;33m=\u001b[0m \u001b[0mfilter\u001b[0m\u001b[1;33m(\u001b[0m\u001b[1;32mlambda\u001b[0m \u001b[0mx\u001b[0m \u001b[1;33m:\u001b[0m \u001b[0mint\u001b[0m\u001b[1;33m(\u001b[0m\u001b[0mx\u001b[0m\u001b[1;33m)\u001b[0m \u001b[1;32min\u001b[0m \u001b[0mx\u001b[0m\u001b[1;33m,\u001b[0m\u001b[0mt1\u001b[0m\u001b[1;33m)\u001b[0m\u001b[1;33m\u001b[0m\u001b[1;33m\u001b[0m\u001b[0m\n\u001b[0m\u001b[0;32m      7\u001b[0m \u001b[0mprint\u001b[0m\u001b[1;33m(\u001b[0m\u001b[0mtuple\u001b[0m\u001b[1;33m(\u001b[0m\u001b[0mresult\u001b[0m\u001b[1;33m)\u001b[0m\u001b[1;33m)\u001b[0m\u001b[1;33m\u001b[0m\u001b[1;33m\u001b[0m\u001b[0m\n",
      "\u001b[1;31mTypeError\u001b[0m: int() argument must be a string, a bytes-like object or a number, not 'tuple'"
     ]
    }
   ],
   "source": [
    "n = input(\"Please enter an element\")    \n",
    "\n",
    "t1 = [(1,\"a\"),(23,45),(55,56),(\"a\",78)]\n",
    "\n",
    "if n.isdigit():\n",
    "    z = n\n",
    "    print(z)\n",
    "    \n",
    "result = filter(lambda x : int(x) if n isinstance in x,t1)\n",
    "print(tuple(result))"
   ]
  },
  {
   "cell_type": "markdown",
   "metadata": {},
   "source": [
    "List 7: Write a program which will find all such numbers which are divisible by 7 but are not a multiple of 5,between 2000 and 3200 (both included).Write with a for loop . Then use a list comprehension to write the same solution.\n"
   ]
  },
  {
   "cell_type": "code",
   "execution_count": 8,
   "metadata": {},
   "outputs": [
    {
     "name": "stdout",
     "output_type": "stream",
     "text": [
      "['2002', '2009', '2016', '2023', '2037', '2044', '2051', '2058', '2072', '2079', '2086', '2093', '2107', '2114', '2121', '2128', '2142', '2149', '2156', '2163', '2177', '2184', '2191', '2198', '2212', '2219', '2226', '2233', '2247', '2254', '2261', '2268', '2282', '2289', '2296', '2303', '2317', '2324', '2331', '2338', '2352', '2359', '2366', '2373', '2387', '2394', '2401', '2408', '2422', '2429', '2436', '2443', '2457', '2464', '2471', '2478', '2492', '2499', '2506', '2513', '2527', '2534', '2541', '2548', '2562', '2569', '2576', '2583', '2597', '2604', '2611', '2618', '2632', '2639', '2646', '2653', '2667', '2674', '2681', '2688', '2702', '2709', '2716', '2723', '2737', '2744', '2751', '2758', '2772', '2779', '2786', '2793', '2807', '2814', '2821', '2828', '2842', '2849', '2856', '2863', '2877', '2884', '2891', '2898', '2912', '2919', '2926', '2933', '2947', '2954', '2961', '2968', '2982', '2989', '2996', '3003', '3017', '3024', '3031', '3038', '3052', '3059', '3066', '3073', '3087', '3094', '3101', '3108', '3122', '3129', '3136', '3143', '3157', '3164', '3171', '3178', '3192', '3199']\n"
     ]
    }
   ],
   "source": [
    "list = [ str(x) for x in range (2000,3200 + 1) if x % 7 == 0 and x%5 != 0]\n",
    "print(list)"
   ]
  },
  {
   "cell_type": "code",
   "execution_count": null,
   "metadata": {},
   "outputs": [],
   "source": []
  }
 ],
 "metadata": {
  "kernelspec": {
   "display_name": "Python 3",
   "language": "python",
   "name": "python3"
  },
  "language_info": {
   "codemirror_mode": {
    "name": "ipython",
    "version": 3
   },
   "file_extension": ".py",
   "mimetype": "text/x-python",
   "name": "python",
   "nbconvert_exporter": "python",
   "pygments_lexer": "ipython3",
   "version": "3.7.3"
  }
 },
 "nbformat": 4,
 "nbformat_minor": 2
}
