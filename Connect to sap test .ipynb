{
 "cells": [
  {
   "cell_type": "code",
   "execution_count": 1,
   "metadata": {},
   "outputs": [
    {
     "ename": "SyntaxError",
     "evalue": "invalid syntax (<ipython-input-1-03f449f581c1>, line 1)",
     "output_type": "error",
     "traceback": [
      "\u001b[1;36m  File \u001b[1;32m\"<ipython-input-1-03f449f581c1>\"\u001b[1;36m, line \u001b[1;32m1\u001b[0m\n\u001b[1;33m    wget -c https://github.com/SAP/PyRFC/blob/master/dist/pyrfc-1.9.96-cp37-cp37m-win_amd64.whl\u001b[0m\n\u001b[1;37m                ^\u001b[0m\n\u001b[1;31mSyntaxError\u001b[0m\u001b[1;31m:\u001b[0m invalid syntax\n"
     ]
    }
   ],
   "source": [
    "wget -c https://github.com/SAP/PyRFC/blob/master/dist/pyrfc-1.9.96-cp37-cp37m-win_amd64.whl"
   ]
  },
  {
   "cell_type": "code",
   "execution_count": 1,
   "metadata": {},
   "outputs": [
    {
     "name": "stdout",
     "output_type": "stream",
     "text": [
      "Collecting pyrfc\n",
      "  Downloading https://files.pythonhosted.org/packages/94/34/9a2118bb4c4ba176075179385e06226b5225be338ba7e2216283e767df64/pyrfc-0.1.2.tar.gz\n",
      "Building wheels for collected packages: pyrfc\n",
      "  Building wheel for pyrfc (setup.py): started\n",
      "  Building wheel for pyrfc (setup.py): finished with status 'done'\n",
      "  Stored in directory: C:\\Users\\Bedantika\\AppData\\Local\\pip\\Cache\\wheels\\51\\6e\\6d\\e63e12fadbff625c6a54a4bdfa17b3ae377182968e8b0836ee\n",
      "Successfully built pyrfc\n",
      "Installing collected packages: pyrfc\n",
      "Successfully installed pyrfc-0.1.2\n",
      "Note: you may need to restart the kernel to use updated packages.\n"
     ]
    }
   ],
   "source": [
    "pip install pyrfc\n"
   ]
  },
  {
   "cell_type": "code",
   "execution_count": null,
   "metadata": {},
   "outputs": [],
   "source": []
  },
  {
   "cell_type": "code",
   "execution_count": 5,
   "metadata": {
    "scrolled": true
   },
   "outputs": [
    {
     "name": "stdout",
     "output_type": "stream",
     "text": [
      "Requirement already satisfied: pyrfc==1.9.96 from file:///C:/Users/Bedantika/pyrfc-1.9.96-cp37-cp37m-win_amd64.whl in c:\\users\\bedantika\\anaconda3\\lib\\site-packages (1.9.96)\n",
      "Requirement already satisfied: setuptools in c:\\users\\bedantika\\anaconda3\\lib\\site-packages (from pyrfc==1.9.96) (40.8.0)\n",
      "Note: you may need to restart the kernel to use updated packages.\n"
     ]
    },
    {
     "name": "stderr",
     "output_type": "stream",
     "text": [
      "Requirement 'pyrfc-1.9.96-cp37-cp37m-win_amd64.whl' looks like a filename, but the file does not exist\n"
     ]
    }
   ],
   "source": [
    "pip install pyrfc-1.9.96-cp37-cp37m-win_amd64.whl\t"
   ]
  },
  {
   "cell_type": "code",
   "execution_count": 3,
   "metadata": {},
   "outputs": [],
   "source": [
    "from pyrfc import *"
   ]
  },
  {
   "cell_type": "code",
   "execution_count": 2,
   "metadata": {},
   "outputs": [
    {
     "ename": "ImportError",
     "evalue": "cannot import name 'Connection' from 'pyrfc' (unknown location)",
     "output_type": "error",
     "traceback": [
      "\u001b[1;31m---------------------------------------------------------------------------\u001b[0m",
      "\u001b[1;31mImportError\u001b[0m                               Traceback (most recent call last)",
      "\u001b[1;32m<ipython-input-2-9ddd8765e0f5>\u001b[0m in \u001b[0;36m<module>\u001b[1;34m\u001b[0m\n\u001b[1;32m----> 1\u001b[1;33m \u001b[1;32mfrom\u001b[0m \u001b[0mpyrfc\u001b[0m \u001b[1;32mimport\u001b[0m \u001b[0mConnection\u001b[0m\u001b[1;33m\u001b[0m\u001b[1;33m\u001b[0m\u001b[0m\n\u001b[0m\u001b[0;32m      2\u001b[0m \u001b[0mconn\u001b[0m \u001b[1;33m=\u001b[0m \u001b[0mConnection\u001b[0m\u001b[1;33m(\u001b[0m\u001b[0mashost\u001b[0m\u001b[1;33m=\u001b[0m\u001b[1;34m'10.116.13.106'\u001b[0m\u001b[1;33m,\u001b[0m \u001b[0msysnr\u001b[0m\u001b[1;33m=\u001b[0m\u001b[1;34m'00'\u001b[0m\u001b[1;33m,\u001b[0m \u001b[0mclient\u001b[0m\u001b[1;33m=\u001b[0m\u001b[1;34m'300'\u001b[0m\u001b[1;33m,\u001b[0m \u001b[0muser\u001b[0m\u001b[1;33m=\u001b[0m\u001b[1;34m'BEDANTIKAL'\u001b[0m\u001b[1;33m,\u001b[0m \u001b[0mpasswd\u001b[0m\u001b[1;33m=\u001b[0m\u001b[1;34m'Welcome@2'\u001b[0m\u001b[1;33m)\u001b[0m\u001b[1;33m\u001b[0m\u001b[1;33m\u001b[0m\u001b[0m\n\u001b[0;32m      3\u001b[0m \u001b[0mresult\u001b[0m \u001b[1;33m=\u001b[0m \u001b[0mconn\u001b[0m\u001b[1;33m.\u001b[0m\u001b[0mcall\u001b[0m\u001b[1;33m(\u001b[0m\u001b[1;34m'STFC_CONNECTION'\u001b[0m\u001b[1;33m,\u001b[0m \u001b[0mREQUTEXT\u001b[0m\u001b[1;33m=\u001b[0m\u001b[1;34mu'Hello SAP!'\u001b[0m\u001b[1;33m)\u001b[0m\u001b[1;33m\u001b[0m\u001b[1;33m\u001b[0m\u001b[0m\n\u001b[0;32m      4\u001b[0m \u001b[0mprint\u001b[0m\u001b[1;33m(\u001b[0m\u001b[0mresult\u001b[0m\u001b[1;33m)\u001b[0m\u001b[1;33m\u001b[0m\u001b[1;33m\u001b[0m\u001b[0m\n",
      "\u001b[1;31mImportError\u001b[0m: cannot import name 'Connection' from 'pyrfc' (unknown location)"
     ]
    }
   ],
   "source": [
    "from pyrfc import Connection\n",
    "conn = Connection(ashost='10.116.13.106', sysnr='00', client='300', user='BEDANTIKAL', passwd='Welcome@2')\n",
    "result = conn.call('STFC_CONNECTION', REQUTEXT=u'Hello SAP!')\n",
    "print(result)"
   ]
  },
  {
   "cell_type": "code",
   "execution_count": 1,
   "metadata": {},
   "outputs": [
    {
     "name": "stdout",
     "output_type": "stream",
     "text": [
      "Requirement already satisfied: cython in c:\\users\\bedantika\\anaconda3\\lib\\site-packages (0.29.6)\n",
      "Note: you may need to restart the kernel to use updated packages.\n"
     ]
    }
   ],
   "source": [
    "pip install cython\n"
   ]
  },
  {
   "cell_type": "code",
   "execution_count": 1,
   "metadata": {},
   "outputs": [
    {
     "ename": "SyntaxError",
     "evalue": "invalid syntax (<ipython-input-1-fddb88e7b4f8>, line 1)",
     "output_type": "error",
     "traceback": [
      "\u001b[1;36m  File \u001b[1;32m\"<ipython-input-1-fddb88e7b4f8>\"\u001b[1;36m, line \u001b[1;32m1\u001b[0m\n\u001b[1;33m    python setup.py bdist_wheel\u001b[0m\n\u001b[1;37m               ^\u001b[0m\n\u001b[1;31mSyntaxError\u001b[0m\u001b[1;31m:\u001b[0m invalid syntax\n"
     ]
    }
   ],
   "source": [
    "python setup.py bdist_wheel\n"
   ]
  },
  {
   "cell_type": "code",
   "execution_count": 2,
   "metadata": {},
   "outputs": [
    {
     "name": "stdout",
     "output_type": "stream",
     "text": [
      "Collecting package metadata: ...working... done\n",
      "Solving environment: ...working... failed\n",
      "\n",
      "Note: you may need to restart the kernel to use updated packages.\n"
     ]
    },
    {
     "name": "stderr",
     "output_type": "stream",
     "text": [
      "WARNING: The conda.compat module is deprecated and will be removed in a future release.\n",
      "\n",
      "PackagesNotFoundError: The following packages are not available from current channels:\n",
      "\n",
      "  - math\n",
      "\n",
      "Current channels:\n",
      "\n",
      "  - https://repo.anaconda.com/pkgs/main/win-64\n",
      "  - https://repo.anaconda.com/pkgs/main/noarch\n",
      "  - https://repo.anaconda.com/pkgs/free/win-64\n",
      "  - https://repo.anaconda.com/pkgs/free/noarch\n",
      "  - https://repo.anaconda.com/pkgs/r/win-64\n",
      "  - https://repo.anaconda.com/pkgs/r/noarch\n",
      "  - https://repo.anaconda.com/pkgs/msys2/win-64\n",
      "  - https://repo.anaconda.com/pkgs/msys2/noarch\n",
      "\n",
      "To search for alternate channels that may provide the conda package you're\n",
      "looking for, navigate to\n",
      "\n",
      "    https://anaconda.org\n",
      "\n",
      "and use the search bar at the top of the page.\n",
      "\n",
      "\n"
     ]
    }
   ],
   "source": [
    "conda install math\n"
   ]
  },
  {
   "cell_type": "code",
   "execution_count": 3,
   "metadata": {},
   "outputs": [
    {
     "name": "stdout",
     "output_type": "stream",
     "text": [
      "Collecting package metadata: ...working... done\n",
      "Solving environment: ...working... done\n",
      "\n",
      "## Package Plan ##\n",
      "\n",
      "  environment location: C:\\Users\\Bedantika\\Anaconda3\n",
      "\n",
      "  added / updated specs:\n",
      "    - pandas\n",
      "\n",
      "\n",
      "The following packages will be downloaded:\n",
      "\n",
      "    package                    |            build\n",
      "    ---------------------------|-----------------\n",
      "    conda-4.6.14               |           py37_0         2.1 MB\n",
      "    ------------------------------------------------------------\n",
      "                                           Total:         2.1 MB\n",
      "\n",
      "The following packages will be UPDATED:\n",
      "\n",
      "  conda                                       4.6.11-py37_0 --> 4.6.14-py37_0\n",
      "\n",
      "\n",
      "\n",
      "Downloading and Extracting Packages\n",
      "\n",
      "conda-4.6.14         | 2.1 MB    |            |   0% \n",
      "conda-4.6.14         | 2.1 MB    |            |   1% \n",
      "conda-4.6.14         | 2.1 MB    | 1          |   2% \n",
      "conda-4.6.14         | 2.1 MB    | 2          |   3% \n",
      "conda-4.6.14         | 2.1 MB    | 7          |   8% \n",
      "conda-4.6.14         | 2.1 MB    | #5         |  15% \n",
      "conda-4.6.14         | 2.1 MB    | ###        |  30% \n",
      "conda-4.6.14         | 2.1 MB    | #####      |  51% \n",
      "conda-4.6.14         | 2.1 MB    | ######8    |  69% \n",
      "conda-4.6.14         | 2.1 MB    | #######9   |  80% \n",
      "conda-4.6.14         | 2.1 MB    | ########9  |  89% \n",
      "conda-4.6.14         | 2.1 MB    | #########8 |  99% \n",
      "conda-4.6.14         | 2.1 MB    | ########## | 100% \n",
      "Preparing transaction: ...working... done\n",
      "Verifying transaction: ...working... done\n",
      "Executing transaction: ...working... done\n",
      "\n",
      "C:\\Users\\Bedantika>ET _sysp=%~dpA \n",
      "\n",
      "C:\\Users\\Bedantika>IF NOT EXIST \"!_sysp!\\Scripts\\conda.exe\" \n",
      "Collecting package metadata: ...working... done\n",
      "Solving environment: ...working... done\n",
      "\n",
      "# All requested packages already installed.\n",
      "\n",
      "\n",
      "Note: you may need to restart the kernel to use updated packages.\n"
     ]
    },
    {
     "name": "stderr",
     "output_type": "stream",
     "text": [
      "WARNING: The conda.compat module is deprecated and will be removed in a future release.\n",
      "'ET' is not recognized as an internal or external command,\n",
      "operable program or batch file.\n"
     ]
    }
   ],
   "source": [
    "conda install pandas\n"
   ]
  },
  {
   "cell_type": "markdown",
   "metadata": {},
   "source": []
  },
  {
   "cell_type": "markdown",
   "metadata": {},
   "source": []
  },
  {
   "cell_type": "code",
   "execution_count": 2,
   "metadata": {},
   "outputs": [
    {
     "name": "stdout",
     "output_type": "stream",
     "text": [
      "Processing c:\\users\\bedantika\\pyrfc\\dist\\pyrfc-1.9.96-cp37-cp37m-win_amd64.whl\n",
      "Requirement already satisfied: setuptools in c:\\users\\bedantika\\anaconda3\\envs\\testenv1\\lib\\site-packages (from pyrfc==1.9.96) (40.8.0)\n",
      "Installing collected packages: pyrfc\n",
      "Successfully installed pyrfc-1.9.96\n",
      "Note: you may need to restart the kernel to use updated packages.\n"
     ]
    }
   ],
   "source": [
    "pip install pyrfc/dist/pyrfc-1.9.96-cp37-cp37m-win_amd64.whl"
   ]
  },
  {
   "cell_type": "code",
   "execution_count": 3,
   "metadata": {},
   "outputs": [
    {
     "ename": "ImportError",
     "evalue": "DLL load failed: The specified module could not be found.",
     "output_type": "error",
     "traceback": [
      "\u001b[1;31m---------------------------------------------------------------------------\u001b[0m",
      "\u001b[1;31mImportError\u001b[0m                               Traceback (most recent call last)",
      "\u001b[1;32m<ipython-input-3-ac11eb3b78f9>\u001b[0m in \u001b[0;36m<module>\u001b[1;34m\u001b[0m\n\u001b[1;32m----> 1\u001b[1;33m \u001b[1;32mimport\u001b[0m \u001b[0mpyrfc\u001b[0m\u001b[1;33m\u001b[0m\u001b[1;33m\u001b[0m\u001b[0m\n\u001b[0m",
      "\u001b[1;32m~\\Anaconda3\\envs\\testenv1\\lib\\site-packages\\pyrfc\\__init__.py\u001b[0m in \u001b[0;36m<module>\u001b[1;34m\u001b[0m\n\u001b[0;32m     20\u001b[0m     \u001b[0mExternalAuthorizationError\u001b[0m\u001b[1;33m,\u001b[0m \u001b[0mExternalApplicationError\u001b[0m\u001b[1;33m,\u001b[0m \u001b[0mExternalRuntimeError\u001b[0m\u001b[1;33m\u001b[0m\u001b[1;33m\u001b[0m\u001b[0m\n\u001b[0;32m     21\u001b[0m \u001b[1;33m\u001b[0m\u001b[0m\n\u001b[1;32m---> 22\u001b[1;33m \u001b[1;32mfrom\u001b[0m \u001b[0mpyrfc\u001b[0m\u001b[1;33m.\u001b[0m\u001b[0m_pyrfc\u001b[0m \u001b[1;32mimport\u001b[0m \u001b[0mget_nwrfclib_version\u001b[0m\u001b[1;33m,\u001b[0m \u001b[0mConnection\u001b[0m\u001b[1;33m,\u001b[0m \u001b[0mTypeDescription\u001b[0m\u001b[1;33m,\u001b[0m \u001b[0mFunctionDescription\u001b[0m\u001b[1;33m,\u001b[0m \u001b[0mServer\u001b[0m\u001b[1;33m\u001b[0m\u001b[1;33m\u001b[0m\u001b[0m\n\u001b[0m\u001b[0;32m     23\u001b[0m \u001b[1;33m\u001b[0m\u001b[0m\n\u001b[0;32m     24\u001b[0m \u001b[0m__author__\u001b[0m \u001b[1;33m=\u001b[0m \u001b[1;34m\"\"\"\"Srdjan Boskovic\"\"\"\u001b[0m\u001b[1;33m\u001b[0m\u001b[1;33m\u001b[0m\u001b[0m\n",
      "\u001b[1;31mImportError\u001b[0m: DLL load failed: The specified module could not be found."
     ]
    }
   ],
   "source": [
    "import pyrfc"
   ]
  },
  {
   "cell_type": "code",
   "execution_count": 1,
   "metadata": {},
   "outputs": [
    {
     "ename": "CommunicationError",
     "evalue": "RFC_COMMUNICATION_FAILURE (rc=1): key=RFC_COMMUNICATION_FAILURE, message=connection closed without message (CM_NO_DATA_RECEIVED) [MSG: class=, type=, number=, v1-4:=;;;]",
     "output_type": "error",
     "traceback": [
      "\u001b[1;31m---------------------------------------------------------------------------\u001b[0m",
      "\u001b[1;31mCommunicationError\u001b[0m                        Traceback (most recent call last)",
      "\u001b[1;32m<ipython-input-1-9ddd8765e0f5>\u001b[0m in \u001b[0;36m<module>\u001b[1;34m\u001b[0m\n\u001b[0;32m      1\u001b[0m \u001b[1;32mfrom\u001b[0m \u001b[0mpyrfc\u001b[0m \u001b[1;32mimport\u001b[0m \u001b[0mConnection\u001b[0m\u001b[1;33m\u001b[0m\u001b[1;33m\u001b[0m\u001b[0m\n\u001b[1;32m----> 2\u001b[1;33m \u001b[0mconn\u001b[0m \u001b[1;33m=\u001b[0m \u001b[0mConnection\u001b[0m\u001b[1;33m(\u001b[0m\u001b[0mashost\u001b[0m\u001b[1;33m=\u001b[0m\u001b[1;34m'10.116.13.106'\u001b[0m\u001b[1;33m,\u001b[0m \u001b[0msysnr\u001b[0m\u001b[1;33m=\u001b[0m\u001b[1;34m'00'\u001b[0m\u001b[1;33m,\u001b[0m \u001b[0mclient\u001b[0m\u001b[1;33m=\u001b[0m\u001b[1;34m'300'\u001b[0m\u001b[1;33m,\u001b[0m \u001b[0muser\u001b[0m\u001b[1;33m=\u001b[0m\u001b[1;34m'BEDANTIKAL'\u001b[0m\u001b[1;33m,\u001b[0m \u001b[0mpasswd\u001b[0m\u001b[1;33m=\u001b[0m\u001b[1;34m'Welcome@2'\u001b[0m\u001b[1;33m)\u001b[0m\u001b[1;33m\u001b[0m\u001b[1;33m\u001b[0m\u001b[0m\n\u001b[0m\u001b[0;32m      3\u001b[0m \u001b[0mresult\u001b[0m \u001b[1;33m=\u001b[0m \u001b[0mconn\u001b[0m\u001b[1;33m.\u001b[0m\u001b[0mcall\u001b[0m\u001b[1;33m(\u001b[0m\u001b[1;34m'STFC_CONNECTION'\u001b[0m\u001b[1;33m,\u001b[0m \u001b[0mREQUTEXT\u001b[0m\u001b[1;33m=\u001b[0m\u001b[1;34mu'Hello SAP!'\u001b[0m\u001b[1;33m)\u001b[0m\u001b[1;33m\u001b[0m\u001b[1;33m\u001b[0m\u001b[0m\n\u001b[0;32m      4\u001b[0m \u001b[0mprint\u001b[0m\u001b[1;33m(\u001b[0m\u001b[0mresult\u001b[0m\u001b[1;33m)\u001b[0m\u001b[1;33m\u001b[0m\u001b[1;33m\u001b[0m\u001b[0m\n",
      "\u001b[1;32msrc/pyrfc/_pyrfc.pyx\u001b[0m in \u001b[0;36mpyrfc._pyrfc.Connection.__init__\u001b[1;34m()\u001b[0m\n",
      "\u001b[1;32msrc/pyrfc/_pyrfc.pyx\u001b[0m in \u001b[0;36mpyrfc._pyrfc.Connection._open\u001b[1;34m()\u001b[0m\n",
      "\u001b[1;32msrc/pyrfc/_pyrfc.pyx\u001b[0m in \u001b[0;36mpyrfc._pyrfc.Connection._error\u001b[1;34m()\u001b[0m\n",
      "\u001b[1;31mCommunicationError\u001b[0m: RFC_COMMUNICATION_FAILURE (rc=1): key=RFC_COMMUNICATION_FAILURE, message=connection closed without message (CM_NO_DATA_RECEIVED) [MSG: class=, type=, number=, v1-4:=;;;]"
     ]
    }
   ],
   "source": [
    "from pyrfc import Connection\n",
    "conn = Connection(ashost='10.116.13.106', sysnr='00', client='300', user='BEDANTIKAL', passwd='Welcome@2')\n",
    "result = conn.call('STFC_CONNECTION', REQUTEXT=u'Hello SAP!')\n",
    "print(result)"
   ]
  },
  {
   "cell_type": "code",
   "execution_count": null,
   "metadata": {},
   "outputs": [],
   "source": [
    "conn.alive\n"
   ]
  },
  {
   "cell_type": "code",
   "execution_count": 2,
   "metadata": {},
   "outputs": [
    {
     "ename": "NameError",
     "evalue": "name 'conn' is not defined",
     "output_type": "error",
     "traceback": [
      "\u001b[1;31m---------------------------------------------------------------------------\u001b[0m",
      "\u001b[1;31mNameError\u001b[0m                                 Traceback (most recent call last)",
      "\u001b[1;32m<ipython-input-2-9e1efae48b6f>\u001b[0m in \u001b[0;36m<module>\u001b[1;34m\u001b[0m\n\u001b[1;32m----> 1\u001b[1;33m b_result = conn.call('BAPI_USER_GET_DETAIL',\n\u001b[0m\u001b[0;32m      2\u001b[0m                      \u001b[0mUSERNAME\u001b[0m \u001b[1;33m=\u001b[0m\u001b[1;34m'BEDANTIKAL'\u001b[0m\u001b[1;33m,\u001b[0m\u001b[1;33m\u001b[0m\u001b[1;33m\u001b[0m\u001b[0m\n\u001b[0;32m      3\u001b[0m                     CACHE_RESULTS = ' ')\n",
      "\u001b[1;31mNameError\u001b[0m: name 'conn' is not defined"
     ]
    }
   ],
   "source": [
    "b_result = conn.call('BAPI_USER_GET_DETAIL',\n",
    "                     USERNAME ='BEDANTIKAL',\n",
    "                    CACHE_RESULTS = ' ')\n"
   ]
  },
  {
   "cell_type": "code",
   "execution_count": null,
   "metadata": {},
   "outputs": [],
   "source": [
    "conn.close()"
   ]
  },
  {
   "cell_type": "code",
   "execution_count": 6,
   "metadata": {},
   "outputs": [
    {
     "data": {
      "text/plain": [
       "{'ADDRESS': {'PERS_NO': '0000967480',\n",
       "  'ADDR_NO': '0000010529',\n",
       "  'TITLE_P': '',\n",
       "  'FIRSTNAME': 'Bedantika',\n",
       "  'LASTNAME': 'Lahiri',\n",
       "  'BIRTH_NAME': '',\n",
       "  'MIDDLENAME': '',\n",
       "  'SECONDNAME': '',\n",
       "  'FULLNAME': 'Bedantika Lahiri',\n",
       "  'FULLNAME_X': '',\n",
       "  'TITLE_ACA1': '',\n",
       "  'TITLE_ACA2': '',\n",
       "  'PREFIX1': '',\n",
       "  'PREFIX2': '',\n",
       "  'TITLE_SPPL': '',\n",
       "  'NICKNAME': '',\n",
       "  'INITIALS': '',\n",
       "  'NAMEFORMAT': '',\n",
       "  'NAMCOUNTRY': '',\n",
       "  'LANGU_P': '',\n",
       "  'LANGUP_ISO': '',\n",
       "  'SORT1_P': '',\n",
       "  'SORT2_P': '',\n",
       "  'DEPARTMENT': '',\n",
       "  'FUNCTION': '',\n",
       "  'BUILDING_P': '',\n",
       "  'FLOOR_P': '',\n",
       "  'ROOM_NO_P': '',\n",
       "  'INITS_SIG': '',\n",
       "  'INHOUSE_ML': '',\n",
       "  'COMM_TYPE': '',\n",
       "  'TITLE': '',\n",
       "  'NAME': 'Company address - please maintain',\n",
       "  'NAME_2': 'Default company address for SAP users',\n",
       "  'NAME_3': '',\n",
       "  'NAME_4': '',\n",
       "  'C_O_NAME': '',\n",
       "  'CITY': '',\n",
       "  'DISTRICT': '',\n",
       "  'CITY_NO': '',\n",
       "  'DISTRCT_NO': '',\n",
       "  'CHCKSTATUS': '',\n",
       "  'POSTL_COD1': '',\n",
       "  'POSTL_COD2': '',\n",
       "  'POSTL_COD3': '',\n",
       "  'PO_BOX': '',\n",
       "  'PO_BOX_CIT': '',\n",
       "  'PBOXCIT_NO': '',\n",
       "  'DELIV_DIS': '',\n",
       "  'TRANSPZONE': '',\n",
       "  'STREET': '',\n",
       "  'STREET_NO': '',\n",
       "  'STR_ABBR': '',\n",
       "  'HOUSE_NO': '',\n",
       "  'HOUSE_NO2': '',\n",
       "  'STR_SUPPL1': '',\n",
       "  'STR_SUPPL2': '',\n",
       "  'STR_SUPPL3': '',\n",
       "  'LOCATION': '',\n",
       "  'BUILDING': '',\n",
       "  'FLOOR': '',\n",
       "  'ROOM_NO': '',\n",
       "  'COUNTRY': '',\n",
       "  'COUNTRYISO': '',\n",
       "  'LANGU': '',\n",
       "  'LANGU_ISO': '',\n",
       "  'REGION': '',\n",
       "  'SORT1': '',\n",
       "  'SORT2': '',\n",
       "  'TIME_ZONE': '',\n",
       "  'TAXJURCODE': '',\n",
       "  'ADR_NOTES': '',\n",
       "  'TEL1_NUMBR': '',\n",
       "  'TEL1_EXT': '',\n",
       "  'FAX_NUMBER': '',\n",
       "  'FAX_EXTENS': '',\n",
       "  'E_MAIL': 'bedantika.lahiri@omnicell.com',\n",
       "  'BUILD_LONG': '',\n",
       "  'REGIOGROUP': '',\n",
       "  'HOME_CITY': '',\n",
       "  'HOMECITYNO': '',\n",
       "  'PCODE1_EXT': '',\n",
       "  'PCODE2_EXT': '',\n",
       "  'PCODE3_EXT': '',\n",
       "  'PO_W_O_NO': '',\n",
       "  'PO_BOX_REG': '',\n",
       "  'POBOX_CTRY': '',\n",
       "  'PO_CTRYISO': '',\n",
       "  'DONT_USE_S': '',\n",
       "  'DONT_USE_P': '',\n",
       "  'HOUSE_NO3': '',\n",
       "  'LANGU_CR_P': '',\n",
       "  'LANGUCPISO': '',\n",
       "  'PO_BOX_LOBBY': '',\n",
       "  'DELI_SERV_TYPE': '',\n",
       "  'DELI_SERV_NUMBER': '',\n",
       "  'COUNTY_CODE': '',\n",
       "  'COUNTY': '',\n",
       "  'TOWNSHIP_CODE': '',\n",
       "  'TOWNSHIP': ''},\n",
       " 'ADMINDATA': {'ANAME': 'KEERTHANR', 'ERDAT': '20190621', 'TRDAT': '20190625'},\n",
       " 'ALIAS': {'USERALIAS': ''},\n",
       " 'COMPANY': {'COMPANY': 'DEFAULT_COMPANY'},\n",
       " 'DEFAULTS': {'STCOD': '',\n",
       "  'SPLD': '',\n",
       "  'SPLG': '',\n",
       "  'SPDB': 'H',\n",
       "  'SPDA': 'K',\n",
       "  'DATFM': '1',\n",
       "  'DCPFM': '',\n",
       "  'LANGU': '',\n",
       "  'CATTKENNZ': '',\n",
       "  'KOSTL': '',\n",
       "  'START_MENU': '',\n",
       "  'TIMEFM': '0'},\n",
       " 'IDENTITY': {'IDENTITY_UUID': '7446a0f6-e0fc-1ee9-a583-de4277a9a01b',\n",
       "  'BPPERSON': ''},\n",
       " 'ISLOCKED': {'WRNG_LOGON': 'U',\n",
       "  'LOCAL_LOCK': 'U',\n",
       "  'GLOB_LOCK': 'U',\n",
       "  'NO_USER_PW': 'U'},\n",
       " 'LASTMODIFIED': {'MODDATE': '20190621',\n",
       "  'MODTIME': '054913',\n",
       "  'MODIFIER': 'KEERTHANR'},\n",
       " 'LOGONDATA': {'GLTGV': '',\n",
       "  'GLTGB': '',\n",
       "  'USTYP': 'A',\n",
       "  'CLASS': '',\n",
       "  'ACCNT': '',\n",
       "  'TZONE': '',\n",
       "  'LTIME': '235848',\n",
       "  'BCODE': b'\\xfc\\xd8e\\x88\\xaa\\xabP`',\n",
       "  'CODVN': 'B',\n",
       "  'PASSCODE': b'\\x94\\xbf}\\xd7\\xae\\xa8A\\xbc\"\\xf5\\xe5\\x98\\x8dk\\xd0\\xd6\\x97\\xb6\\x99\\xe4',\n",
       "  'CODVC': 'F',\n",
       "  'PWDSALTEDHASH': '{x-issha, 1024}gpVHt7N0lV7fCk6kCufXXdVUT14cp9WPoYx7FURUNWQ=',\n",
       "  'CODVS': 'I',\n",
       "  'SECURITY_POLICY': ''},\n",
       " 'REF_USER': {'REF_USER': ''},\n",
       " 'SNC': {'GUIFLAG': '', 'PNAME': ''},\n",
       " 'UCLASS': {'LIC_TYPE': '',\n",
       "  'SPEC_VERS': '',\n",
       "  'COUNTRY_SURCHARGE': Decimal('0'),\n",
       "  'SUBSTITUTE_FROM': '',\n",
       "  'SUBSTITUTE_UNTIL': '',\n",
       "  'SYSID': '',\n",
       "  'CLIENT': '',\n",
       "  'BNAME_CHARGEABLE': ''},\n",
       " 'ACTIVITYGROUPS': [{'AGR_NAME': 'ZCRM15EX',\n",
       "   'FROM_DAT': '20190621',\n",
       "   'TO_DAT': '99991231',\n",
       "   'AGR_TEXT': 'Security role for ITSUPPORT',\n",
       "   'ORG_FLAG': ''},\n",
       "  {'AGR_NAME': 'ZINSIDELEADER_15',\n",
       "   'FROM_DAT': '20190621',\n",
       "   'TO_DAT': '99991231',\n",
       "   'AGR_TEXT': 'Inside Sales Leader – General 1.5',\n",
       "   'ORG_FLAG': ''},\n",
       "  {'AGR_NAME': 'ZINSIDESALES_DUET_15',\n",
       "   'FROM_DAT': '20190621',\n",
       "   'TO_DAT': '99991231',\n",
       "   'AGR_TEXT': 'Inside Sales with Duet Restriction – General 1.5',\n",
       "   'ORG_FLAG': ''},\n",
       "  {'AGR_NAME': 'ZITQUOTECONVERSION',\n",
       "   'FROM_DAT': '20190621',\n",
       "   'TO_DAT': '99991231',\n",
       "   'AGR_TEXT': 'IT Quote Conversion Tool Authorizations',\n",
       "   'ORG_FLAG': ''},\n",
       "  {'AGR_NAME': 'ZMARKETINGINTL_15',\n",
       "   'FROM_DAT': '20190621',\n",
       "   'TO_DAT': '99991231',\n",
       "   'AGR_TEXT': 'Sales Operations Medication Adherence Role',\n",
       "   'ORG_FLAG': ''},\n",
       "  {'AGR_NAME': 'ZMARKETING_15',\n",
       "   'FROM_DAT': '20190621',\n",
       "   'TO_DAT': '99991231',\n",
       "   'AGR_TEXT': 'Marketing Role 1.5',\n",
       "   'ORG_FLAG': ''},\n",
       "  {'AGR_NAME': 'ZREPALLACCTS_15',\n",
       "   'FROM_DAT': '20190621',\n",
       "   'TO_DAT': '99991231',\n",
       "   'AGR_TEXT': 'Inside Sales  – General 1.5',\n",
       "   'ORG_FLAG': ''},\n",
       "  {'AGR_NAME': 'ZS:CRMD_ORDER_ROLE',\n",
       "   'FROM_DAT': '20190621',\n",
       "   'TO_DAT': '99991231',\n",
       "   'AGR_TEXT': 'Role for CRMD_ORDER modification',\n",
       "   'ORG_FLAG': ''},\n",
       "  {'AGR_NAME': 'ZS:IT:SAP_S_RFCACL',\n",
       "   'FROM_DAT': '20190621',\n",
       "   'TO_DAT': '99991231',\n",
       "   'AGR_TEXT': 'Role acc.to profile S_RFCACL',\n",
       "   'ORG_FLAG': ''},\n",
       "  {'AGR_NAME': 'ZS:OT:GENERLAACCESS',\n",
       "   'FROM_DAT': '20190621',\n",
       "   'TO_DAT': '99991231',\n",
       "   'AGR_TEXT': 'Role to be given to all users in all environments',\n",
       "   'ORG_FLAG': ''},\n",
       "  {'AGR_NAME': 'ZSALESOPSLEADER_15',\n",
       "   'FROM_DAT': '20190621',\n",
       "   'TO_DAT': '99991231',\n",
       "   'AGR_TEXT': ' Sales Ops – General 1.5',\n",
       "   'ORG_FLAG': ''},\n",
       "  {'AGR_NAME': 'ZSAP_CRM_OR_USER',\n",
       "   'FROM_DAT': '20190621',\n",
       "   'TO_DAT': '99991231',\n",
       "   'AGR_TEXT': 'CRM Operative Reporting User Role',\n",
       "   'ORG_FLAG': ''},\n",
       "  {'AGR_NAME': 'ZTOGGLE_RENEWAL',\n",
       "   'FROM_DAT': '20190621',\n",
       "   'TO_DAT': '99991231',\n",
       "   'AGR_TEXT': 'Deal Type Toggle Lease Renewal',\n",
       "   'ORG_FLAG': ''},\n",
       "  {'AGR_NAME': 'ZTOGGLE_SALES',\n",
       "   'FROM_DAT': '20190621',\n",
       "   'TO_DAT': '99991231',\n",
       "   'AGR_TEXT': 'Deal Types Toggle for Sales Document',\n",
       "   'ORG_FLAG': ''}],\n",
       " 'ADDCOMREM': [],\n",
       " 'ADDFAX': [],\n",
       " 'ADDPAG': [],\n",
       " 'ADDPRT': [],\n",
       " 'ADDRFC': [],\n",
       " 'ADDRML': [],\n",
       " 'ADDSMTP': [{'STD_NO': 'X',\n",
       "   'E_MAIL': 'bedantika.lahiri@omnicell.com',\n",
       "   'EMAIL_SRCH': 'BEDANTIKA.LAHIRI@OMN',\n",
       "   'STD_RECIP': '',\n",
       "   'R_3_USER': '',\n",
       "   'ENCODE': '',\n",
       "   'TNEF': '',\n",
       "   'HOME_FLAG': 'X',\n",
       "   'CONSNUMBER': '001',\n",
       "   'ERRORFLAG': '',\n",
       "   'FLG_NOUSE': '',\n",
       "   'VALID_FROM': '',\n",
       "   'VALID_TO': ''}],\n",
       " 'ADDSSF': [],\n",
       " 'ADDTEL': [],\n",
       " 'ADDTLX': [],\n",
       " 'ADDTTX': [],\n",
       " 'ADDURI': [],\n",
       " 'ADDX400': [],\n",
       " 'EXTIDHEAD': [],\n",
       " 'EXTIDPART': [],\n",
       " 'GROUPS': [],\n",
       " 'PARAMETER': [{'PARID': 'SCL',\n",
       "   'PARVA': 'X',\n",
       "   'PARTXT': \"Upper and lower case in source code: 'X' = lower, ' ' =upper\"}],\n",
       " 'PARAMETER1': [{'PARID': 'SCL',\n",
       "   'PARVA': 'X',\n",
       "   'PARTXT': \"Upper and lower case in source code: 'X' = lower, ' ' =upper\"}],\n",
       " 'PROFILES': [{'BAPIPROF': 'T-C1210186',\n",
       "   'BAPIPTEXT': 'Profile for role ZS:CRMD_ORDER_ROLE',\n",
       "   'BAPITYPE': 'G',\n",
       "   'BAPIAKTPS': 'A'},\n",
       "  {'BAPIPROF': 'T-CD370025',\n",
       "   'BAPIPTEXT': 'Profile for role ZINSIDELEADER_15',\n",
       "   'BAPITYPE': 'G',\n",
       "   'BAPIAKTPS': 'A'},\n",
       "  {'BAPIPROF': 'T-CD370033',\n",
       "   'BAPIPTEXT': 'Profile for role ZMARKETINGINTL_15',\n",
       "   'BAPITYPE': 'G',\n",
       "   'BAPIAKTPS': 'A'},\n",
       "  {'BAPIPROF': 'T-CD370047',\n",
       "   'BAPIPTEXT': 'Profile for role ZITQUOTECONVERSION',\n",
       "   'BAPITYPE': 'G',\n",
       "   'BAPIAKTPS': 'A'},\n",
       "  {'BAPIPROF': 'T-CD750042',\n",
       "   'BAPIPTEXT': 'Profile for role ZSAP_CRM_OR_USER',\n",
       "   'BAPITYPE': 'G',\n",
       "   'BAPIAKTPS': 'A'},\n",
       "  {'BAPIPROF': 'T-CD750044',\n",
       "   'BAPIPTEXT': 'Profile for role ZSALESOPSLEADER_15',\n",
       "   'BAPITYPE': 'G',\n",
       "   'BAPIAKTPS': 'A'},\n",
       "  {'BAPIPROF': 'T-CD750048',\n",
       "   'BAPIPTEXT': 'Profile for role ZS:OT:GENERLAACCESS',\n",
       "   'BAPITYPE': 'G',\n",
       "   'BAPIAKTPS': 'A'},\n",
       "  {'BAPIPROF': 'T-CD750049',\n",
       "   'BAPIPTEXT': 'Profile for role ZMARKETING_15',\n",
       "   'BAPITYPE': 'G',\n",
       "   'BAPIAKTPS': 'A'},\n",
       "  {'BAPIPROF': 'T-CD750052',\n",
       "   'BAPIPTEXT': 'Profile for role ZCRM15EX',\n",
       "   'BAPITYPE': 'G',\n",
       "   'BAPIAKTPS': 'A'},\n",
       "  {'BAPIPROF': 'T-CD750065',\n",
       "   'BAPIPTEXT': 'Profile for role ZREPALLACCTS_15',\n",
       "   'BAPITYPE': 'G',\n",
       "   'BAPIAKTPS': 'A'},\n",
       "  {'BAPIPROF': 'T-CD750069',\n",
       "   'BAPIPTEXT': 'Profile for role ZTOGGLE_SALES',\n",
       "   'BAPITYPE': 'G',\n",
       "   'BAPIAKTPS': 'A'},\n",
       "  {'BAPIPROF': 'T-CD750070',\n",
       "   'BAPIPTEXT': 'Profile for role ZTOGGLE_RENEWAL',\n",
       "   'BAPITYPE': 'G',\n",
       "   'BAPIAKTPS': 'A'},\n",
       "  {'BAPIPROF': 'T-CD750072',\n",
       "   'BAPIPTEXT': 'Profile for role ZINSIDESALES_DUET_15',\n",
       "   'BAPITYPE': 'G',\n",
       "   'BAPIAKTPS': 'A'},\n",
       "  {'BAPIPROF': 'T-CP370016',\n",
       "   'BAPIPTEXT': 'Profile for role ZS:IT:SAP_S_RFCACL',\n",
       "   'BAPITYPE': 'G',\n",
       "   'BAPIAKTPS': 'A'}],\n",
       " 'RETURN': [],\n",
       " 'SYSTEMS': [],\n",
       " 'UCLASSSYS': []}"
      ]
     },
     "execution_count": 6,
     "metadata": {},
     "output_type": "execute_result"
    }
   ],
   "source": [
    "print(b_result)"
   ]
  },
  {
   "cell_type": "code",
   "execution_count": null,
   "metadata": {},
   "outputs": [],
   "source": []
  }
 ],
 "metadata": {
  "kernelspec": {
   "display_name": "Python 3",
   "language": "python",
   "name": "python3"
  },
  "language_info": {
   "codemirror_mode": {
    "name": "ipython",
    "version": 3
   },
   "file_extension": ".py",
   "mimetype": "text/x-python",
   "name": "python",
   "nbconvert_exporter": "python",
   "pygments_lexer": "ipython3",
   "version": "3.7.3"
  }
 },
 "nbformat": 4,
 "nbformat_minor": 2
}
