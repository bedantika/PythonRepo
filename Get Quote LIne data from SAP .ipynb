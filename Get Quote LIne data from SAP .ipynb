{
 "cells": [
  {
   "cell_type": "code",
   "execution_count": 2,
   "metadata": {},
   "outputs": [
    {
     "name": "stdout",
     "output_type": "stream",
     "text": [
      "{'ECHOTEXT': 'Hello SAP!', 'RESPTEXT': 'SAP R/3 Rel. 731   Sysid: CR1      Date: 20190726   Time: 021534   Logon_Data: 300/BEDANTIKAL/E'}\n",
      "{'name': 'HEADERDATA', 'parameter_type': 'RFCTYPE_TABLE', 'direction': 'RFC_CHANGING', 'nuc_length': 247, 'uc_length': 494, 'decimals': 0, 'default_value': '', 'parameter_text': 'Quote Extract Header Data', 'optional': False, 'type_description': <TypeDescription 'ZHEADER_PRINT' with 11 fields (n/uclength=247/494)>}\n",
      "{'name': 'ITEMDATA', 'parameter_type': 'RFCTYPE_TABLE', 'direction': 'RFC_CHANGING', 'nuc_length': 197, 'uc_length': 388, 'decimals': 0, 'default_value': '', 'parameter_text': 'QuoteExtract Line Item', 'optional': False, 'type_description': <TypeDescription 'ZITEMPRINT' with 9 fields (n/uclength=197/388)>}\n",
      "{'name': 'ITEM', 'parameter_type': 'RFCTYPE_CHAR', 'direction': 'RFC_IMPORT', 'nuc_length': 1, 'uc_length': 2, 'decimals': 0, 'default_value': '', 'parameter_text': 'Single-Character Flag', 'optional': True, 'type_description': None}\n",
      "{'name': 'QUOTE', 'parameter_type': 'RFCTYPE_TABLE', 'direction': 'RFC_IMPORT', 'nuc_length': 23, 'uc_length': 46, 'decimals': 0, 'default_value': '', 'parameter_text': 'Quotation', 'optional': False, 'type_description': <TypeDescription 'Z_QUOTE' with 4 fields (n/uclength=23/46)>}\n"
     ]
    }
   ],
   "source": [
    "from pyrfc import Connection\n",
    "\n",
    "conn = Connection(ashost='SAP-CR1SFDC', sysnr='00', client='300', user='BEDANTIKAL', passwd='Welcome@2')\n",
    "result = conn.call('STFC_CONNECTION', REQUTEXT=u'Hello SAP!')\n",
    "print(result)\n",
    "\n",
    "fu_name = 'ZRFC_QUOTE_PRINT'\n",
    "ds = conn.get_function_description(fu_name)\n",
    "dir(ds)\n",
    "dir(ds.parameters)\n",
    "for p in ds.parameters: print(p)"
   ]
  },
  {
   "cell_type": "code",
   "execution_count": 20,
   "metadata": {},
   "outputs": [
    {
     "data": {
      "text/plain": [
       "True"
      ]
     },
     "execution_count": 20,
     "metadata": {},
     "output_type": "execute_result"
    }
   ],
   "source": [
    "conn.alive"
   ]
  },
  {
   "cell_type": "code",
   "execution_count": 21,
   "metadata": {},
   "outputs": [],
   "source": [
    "#ZQUOTATION = {'SIGN': 'I','OPTION':'EQ', 'LOW': '5370341' }\n",
    "ZQUOTATION = {'SIGN': 'I','OPTION':'EQ', 'LOW': '5370615' }\n",
    "QUOTE = [ZQUOTATION]\n",
    "\n"
   ]
  },
  {
   "cell_type": "code",
   "execution_count": 15,
   "metadata": {},
   "outputs": [
    {
     "name": "stdout",
     "output_type": "stream",
     "text": [
      "[{'SIGN': 'I', 'OPTION': 'EQ', 'LOW': '5370615'}]\n"
     ]
    }
   ],
   "source": [
    "print(QUOTE)"
   ]
  },
  {
   "cell_type": "code",
   "execution_count": 16,
   "metadata": {},
   "outputs": [],
   "source": [
    " quote_data =      conn.call('ZRFC_QUOTE_PRINT',\n",
    "                    QUOTE = QUOTE,\n",
    "                    ITEM = 'X',\n",
    "                    )"
   ]
  },
  {
   "cell_type": "code",
   "execution_count": 17,
   "metadata": {},
   "outputs": [
    {
     "name": "stdout",
     "output_type": "stream",
     "text": [
      "{'HEADERDATA': [{'QUOTATION_ID': '5370615', 'TOTAL_PRODUCT_PRICE': '            43623.60', 'TOTAL_SERVICE_PRICE': '             9300.00', 'TOTAL_SHP_HANDLING': '             1692.45', 'TOTAL_DISCOUNT_PRICE': '                   0', 'TOTAL': '            54616.05', 'TOTAL_MONTHLY_PRODUCT__C': '              727.06', 'TOTAL_MONTHLY_SUPPORT_SER_C': '              155.00', 'SERVICE_DURATION__C': '060 Months/Advantage Plan', 'LEASE_DURATION__C': '060 Months', 'REVISION_NO': '     22'}], 'ITEMDATA': [{'QUOTATION_ID': '5370615', 'PRODUCT': 'MED-AUX-102', 'QTY': Decimal('1.000'), 'CONTRACT_LIST_PRICE': '              305.81', 'UNIT_PRICE': '              305.81', 'EXTEND_PRICE': '              305.81', 'UNIT_SERVICE': '               50.00', 'EXTEND_SERVICE': '                  50', 'USA_LIST_PRICE': '              512.34'}, {'QUOTATION_ID': '5370615', 'PRODUCT': 'MED-FRM-101', 'QTY': Decimal('1.000'), 'CONTRACT_LIST_PRICE': '              234.69', 'UNIT_PRICE': '              234.69', 'EXTEND_PRICE': '              234.69', 'UNIT_SERVICE': '              105.00', 'EXTEND_SERVICE': '                 105', 'USA_LIST_PRICE': '              393.20'}, {'QUOTATION_ID': '5370615', 'PRODUCT': 'MED-LIC-004', 'QTY': Decimal('1.000'), 'CONTRACT_LIST_PRICE': '               67.40', 'UNIT_PRICE': '               67.40', 'EXTEND_PRICE': '                67.4', 'UNIT_SERVICE': '', 'EXTEND_SERVICE': '', 'USA_LIST_PRICE': '              110.49'}, {'QUOTATION_ID': '5370615', 'PRODUCT': 'MED-LIC-005', 'QTY': Decimal('1.000'), 'CONTRACT_LIST_PRICE': '               26.86', 'UNIT_PRICE': '               26.86', 'EXTEND_PRICE': '               26.86', 'UNIT_SERVICE': '', 'EXTEND_SERVICE': '', 'USA_LIST_PRICE': '               44.04'}, {'QUOTATION_ID': '5370615', 'PRODUCT': 'MED-PCB-001', 'QTY': Decimal('1.000'), 'CONTRACT_LIST_PRICE': '               64.64', 'UNIT_PRICE': '               64.64', 'EXTEND_PRICE': '               64.64', 'UNIT_SERVICE': '', 'EXTEND_SERVICE': '', 'USA_LIST_PRICE': '              105.97'}, {'QUOTATION_ID': '5370615', 'PRODUCT': 'MED-SCN-001', 'QTY': Decimal('1.000'), 'CONTRACT_LIST_PRICE': '               27.64', 'UNIT_PRICE': '               27.64', 'EXTEND_PRICE': '               27.64', 'UNIT_SERVICE': '', 'EXTEND_SERVICE': '', 'USA_LIST_PRICE': '               46.20'}, {'QUOTATION_ID': '5370615', 'PRODUCT': 'RENEWAL', 'QTY': Decimal('2.000'), 'CONTRACT_LIST_PRICE': '                0.01', 'UNIT_PRICE': '                0.01', 'EXTEND_PRICE': '                0.02', 'UNIT_SERVICE': '', 'EXTEND_SERVICE': '', 'USA_LIST_PRICE': ''}]}\n"
     ]
    }
   ],
   "source": [
    "print(quote_data)"
   ]
  },
  {
   "cell_type": "code",
   "execution_count": 22,
   "metadata": {},
   "outputs": [],
   "source": [
    "h_data = quote_data['HEADERDATA']"
   ]
  },
  {
   "cell_type": "code",
   "execution_count": 19,
   "metadata": {},
   "outputs": [
    {
     "data": {
      "text/plain": [
       "[{'QUOTATION_ID': '5370615',\n",
       "  'TOTAL_PRODUCT_PRICE': '            43623.60',\n",
       "  'TOTAL_SERVICE_PRICE': '             9300.00',\n",
       "  'TOTAL_SHP_HANDLING': '             1692.45',\n",
       "  'TOTAL_DISCOUNT_PRICE': '                   0',\n",
       "  'TOTAL': '            54616.05',\n",
       "  'TOTAL_MONTHLY_PRODUCT__C': '              727.06',\n",
       "  'TOTAL_MONTHLY_SUPPORT_SER_C': '              155.00',\n",
       "  'SERVICE_DURATION__C': '060 Months/Advantage Plan',\n",
       "  'LEASE_DURATION__C': '060 Months',\n",
       "  'REVISION_NO': '     22'}]"
      ]
     },
     "execution_count": 19,
     "metadata": {},
     "output_type": "execute_result"
    }
   ],
   "source": [
    "h_data\n"
   ]
  },
  {
   "cell_type": "code",
   "execution_count": 24,
   "metadata": {},
   "outputs": [],
   "source": [
    "i_data = quote_data['ITEMDATA']"
   ]
  },
  {
   "cell_type": "code",
   "execution_count": 25,
   "metadata": {},
   "outputs": [
    {
     "data": {
      "text/plain": [
       "[{'QUOTATION_ID': '5370615',\n",
       "  'PRODUCT': 'MED-AUX-102',\n",
       "  'QTY': Decimal('1.000'),\n",
       "  'CONTRACT_LIST_PRICE': '              305.81',\n",
       "  'UNIT_PRICE': '              305.81',\n",
       "  'EXTEND_PRICE': '              305.81',\n",
       "  'UNIT_SERVICE': '               50.00',\n",
       "  'EXTEND_SERVICE': '                  50',\n",
       "  'USA_LIST_PRICE': '              512.34'},\n",
       " {'QUOTATION_ID': '5370615',\n",
       "  'PRODUCT': 'MED-FRM-101',\n",
       "  'QTY': Decimal('1.000'),\n",
       "  'CONTRACT_LIST_PRICE': '              234.69',\n",
       "  'UNIT_PRICE': '              234.69',\n",
       "  'EXTEND_PRICE': '              234.69',\n",
       "  'UNIT_SERVICE': '              105.00',\n",
       "  'EXTEND_SERVICE': '                 105',\n",
       "  'USA_LIST_PRICE': '              393.20'},\n",
       " {'QUOTATION_ID': '5370615',\n",
       "  'PRODUCT': 'MED-LIC-004',\n",
       "  'QTY': Decimal('1.000'),\n",
       "  'CONTRACT_LIST_PRICE': '               67.40',\n",
       "  'UNIT_PRICE': '               67.40',\n",
       "  'EXTEND_PRICE': '                67.4',\n",
       "  'UNIT_SERVICE': '',\n",
       "  'EXTEND_SERVICE': '',\n",
       "  'USA_LIST_PRICE': '              110.49'},\n",
       " {'QUOTATION_ID': '5370615',\n",
       "  'PRODUCT': 'MED-LIC-005',\n",
       "  'QTY': Decimal('1.000'),\n",
       "  'CONTRACT_LIST_PRICE': '               26.86',\n",
       "  'UNIT_PRICE': '               26.86',\n",
       "  'EXTEND_PRICE': '               26.86',\n",
       "  'UNIT_SERVICE': '',\n",
       "  'EXTEND_SERVICE': '',\n",
       "  'USA_LIST_PRICE': '               44.04'},\n",
       " {'QUOTATION_ID': '5370615',\n",
       "  'PRODUCT': 'MED-PCB-001',\n",
       "  'QTY': Decimal('1.000'),\n",
       "  'CONTRACT_LIST_PRICE': '               64.64',\n",
       "  'UNIT_PRICE': '               64.64',\n",
       "  'EXTEND_PRICE': '               64.64',\n",
       "  'UNIT_SERVICE': '',\n",
       "  'EXTEND_SERVICE': '',\n",
       "  'USA_LIST_PRICE': '              105.97'},\n",
       " {'QUOTATION_ID': '5370615',\n",
       "  'PRODUCT': 'MED-SCN-001',\n",
       "  'QTY': Decimal('1.000'),\n",
       "  'CONTRACT_LIST_PRICE': '               27.64',\n",
       "  'UNIT_PRICE': '               27.64',\n",
       "  'EXTEND_PRICE': '               27.64',\n",
       "  'UNIT_SERVICE': '',\n",
       "  'EXTEND_SERVICE': '',\n",
       "  'USA_LIST_PRICE': '               46.20'},\n",
       " {'QUOTATION_ID': '5370615',\n",
       "  'PRODUCT': 'RENEWAL',\n",
       "  'QTY': Decimal('2.000'),\n",
       "  'CONTRACT_LIST_PRICE': '                0.01',\n",
       "  'UNIT_PRICE': '                0.01',\n",
       "  'EXTEND_PRICE': '                0.02',\n",
       "  'UNIT_SERVICE': '',\n",
       "  'EXTEND_SERVICE': '',\n",
       "  'USA_LIST_PRICE': ''}]"
      ]
     },
     "execution_count": 25,
     "metadata": {},
     "output_type": "execute_result"
    }
   ],
   "source": [
    "i_data"
   ]
  },
  {
   "cell_type": "code",
   "execution_count": 31,
   "metadata": {},
   "outputs": [],
   "source": [
    "\n",
    "\n",
    "#column = ['QUOTATION_ID','PRODUCT','QTY','CONTRACT_LIST_PRICE' ,'UNIT_PRICE,'EXTEND_PRICE','UNIT_SERVICE','EXTEND_SERVICE','USA_LIST_PRICE' ]\n",
    "\n",
    "#cols = list(idata.columns.values)\n",
    "\n",
    "#cols = list(df.columns.values)d\n"
   ]
  },
  {
   "cell_type": "code",
   "execution_count": 4,
   "metadata": {},
   "outputs": [
    {
     "ename": "FileNotFoundError",
     "evalue": "[Errno 2] File b'C:\\\\Users\\\\Bedantika\\\\PycharmProjects\\\\SOQL_datadump\\\\datafile\\\\test_quote.csv' does not exist: b'C:\\\\Users\\\\Bedantika\\\\PycharmProjects\\\\SOQL_datadump\\\\datafile\\\\test_quote.csv'",
     "output_type": "error",
     "traceback": [
      "\u001b[1;31m---------------------------------------------------------------------------\u001b[0m",
      "\u001b[1;31mFileNotFoundError\u001b[0m                         Traceback (most recent call last)",
      "\u001b[1;32m<ipython-input-4-1e165db7e81d>\u001b[0m in \u001b[0;36m<module>\u001b[1;34m\u001b[0m\n\u001b[0;32m      2\u001b[0m \u001b[1;32mimport\u001b[0m \u001b[0mnumpy\u001b[0m \u001b[1;32mas\u001b[0m \u001b[0mnp\u001b[0m\u001b[1;33m\u001b[0m\u001b[1;33m\u001b[0m\u001b[0m\n\u001b[0;32m      3\u001b[0m \u001b[1;33m\u001b[0m\u001b[0m\n\u001b[1;32m----> 4\u001b[1;33m \u001b[0mdfsfdc\u001b[0m \u001b[1;33m=\u001b[0m \u001b[0mpd\u001b[0m\u001b[1;33m.\u001b[0m\u001b[0mread_csv\u001b[0m\u001b[1;33m(\u001b[0m\u001b[1;34mr\"C:\\Users\\Bedantika\\PycharmProjects\\SOQL_datadump\\datafile\\test_quote.csv\"\u001b[0m\u001b[1;33m)\u001b[0m\u001b[1;33m\u001b[0m\u001b[1;33m\u001b[0m\u001b[0m\n\u001b[0m\u001b[0;32m      5\u001b[0m \u001b[1;33m\u001b[0m\u001b[0m\n\u001b[0;32m      6\u001b[0m \u001b[0mcolumns\u001b[0m \u001b[1;33m=\u001b[0m \u001b[1;33m[\u001b[0m\u001b[1;34m'QUOTE_ID'\u001b[0m\u001b[1;33m]\u001b[0m\u001b[1;33m\u001b[0m\u001b[1;33m\u001b[0m\u001b[0m\n",
      "\u001b[1;32m~\\Anaconda3\\lib\\site-packages\\pandas\\io\\parsers.py\u001b[0m in \u001b[0;36mparser_f\u001b[1;34m(filepath_or_buffer, sep, delimiter, header, names, index_col, usecols, squeeze, prefix, mangle_dupe_cols, dtype, engine, converters, true_values, false_values, skipinitialspace, skiprows, skipfooter, nrows, na_values, keep_default_na, na_filter, verbose, skip_blank_lines, parse_dates, infer_datetime_format, keep_date_col, date_parser, dayfirst, iterator, chunksize, compression, thousands, decimal, lineterminator, quotechar, quoting, doublequote, escapechar, comment, encoding, dialect, tupleize_cols, error_bad_lines, warn_bad_lines, delim_whitespace, low_memory, memory_map, float_precision)\u001b[0m\n\u001b[0;32m    700\u001b[0m                     skip_blank_lines=skip_blank_lines)\n\u001b[0;32m    701\u001b[0m \u001b[1;33m\u001b[0m\u001b[0m\n\u001b[1;32m--> 702\u001b[1;33m         \u001b[1;32mreturn\u001b[0m \u001b[0m_read\u001b[0m\u001b[1;33m(\u001b[0m\u001b[0mfilepath_or_buffer\u001b[0m\u001b[1;33m,\u001b[0m \u001b[0mkwds\u001b[0m\u001b[1;33m)\u001b[0m\u001b[1;33m\u001b[0m\u001b[1;33m\u001b[0m\u001b[0m\n\u001b[0m\u001b[0;32m    703\u001b[0m \u001b[1;33m\u001b[0m\u001b[0m\n\u001b[0;32m    704\u001b[0m     \u001b[0mparser_f\u001b[0m\u001b[1;33m.\u001b[0m\u001b[0m__name__\u001b[0m \u001b[1;33m=\u001b[0m \u001b[0mname\u001b[0m\u001b[1;33m\u001b[0m\u001b[1;33m\u001b[0m\u001b[0m\n",
      "\u001b[1;32m~\\Anaconda3\\lib\\site-packages\\pandas\\io\\parsers.py\u001b[0m in \u001b[0;36m_read\u001b[1;34m(filepath_or_buffer, kwds)\u001b[0m\n\u001b[0;32m    427\u001b[0m \u001b[1;33m\u001b[0m\u001b[0m\n\u001b[0;32m    428\u001b[0m     \u001b[1;31m# Create the parser.\u001b[0m\u001b[1;33m\u001b[0m\u001b[1;33m\u001b[0m\u001b[1;33m\u001b[0m\u001b[0m\n\u001b[1;32m--> 429\u001b[1;33m     \u001b[0mparser\u001b[0m \u001b[1;33m=\u001b[0m \u001b[0mTextFileReader\u001b[0m\u001b[1;33m(\u001b[0m\u001b[0mfilepath_or_buffer\u001b[0m\u001b[1;33m,\u001b[0m \u001b[1;33m**\u001b[0m\u001b[0mkwds\u001b[0m\u001b[1;33m)\u001b[0m\u001b[1;33m\u001b[0m\u001b[1;33m\u001b[0m\u001b[0m\n\u001b[0m\u001b[0;32m    430\u001b[0m \u001b[1;33m\u001b[0m\u001b[0m\n\u001b[0;32m    431\u001b[0m     \u001b[1;32mif\u001b[0m \u001b[0mchunksize\u001b[0m \u001b[1;32mor\u001b[0m \u001b[0miterator\u001b[0m\u001b[1;33m:\u001b[0m\u001b[1;33m\u001b[0m\u001b[1;33m\u001b[0m\u001b[0m\n",
      "\u001b[1;32m~\\Anaconda3\\lib\\site-packages\\pandas\\io\\parsers.py\u001b[0m in \u001b[0;36m__init__\u001b[1;34m(self, f, engine, **kwds)\u001b[0m\n\u001b[0;32m    893\u001b[0m             \u001b[0mself\u001b[0m\u001b[1;33m.\u001b[0m\u001b[0moptions\u001b[0m\u001b[1;33m[\u001b[0m\u001b[1;34m'has_index_names'\u001b[0m\u001b[1;33m]\u001b[0m \u001b[1;33m=\u001b[0m \u001b[0mkwds\u001b[0m\u001b[1;33m[\u001b[0m\u001b[1;34m'has_index_names'\u001b[0m\u001b[1;33m]\u001b[0m\u001b[1;33m\u001b[0m\u001b[1;33m\u001b[0m\u001b[0m\n\u001b[0;32m    894\u001b[0m \u001b[1;33m\u001b[0m\u001b[0m\n\u001b[1;32m--> 895\u001b[1;33m         \u001b[0mself\u001b[0m\u001b[1;33m.\u001b[0m\u001b[0m_make_engine\u001b[0m\u001b[1;33m(\u001b[0m\u001b[0mself\u001b[0m\u001b[1;33m.\u001b[0m\u001b[0mengine\u001b[0m\u001b[1;33m)\u001b[0m\u001b[1;33m\u001b[0m\u001b[1;33m\u001b[0m\u001b[0m\n\u001b[0m\u001b[0;32m    896\u001b[0m \u001b[1;33m\u001b[0m\u001b[0m\n\u001b[0;32m    897\u001b[0m     \u001b[1;32mdef\u001b[0m \u001b[0mclose\u001b[0m\u001b[1;33m(\u001b[0m\u001b[0mself\u001b[0m\u001b[1;33m)\u001b[0m\u001b[1;33m:\u001b[0m\u001b[1;33m\u001b[0m\u001b[1;33m\u001b[0m\u001b[0m\n",
      "\u001b[1;32m~\\Anaconda3\\lib\\site-packages\\pandas\\io\\parsers.py\u001b[0m in \u001b[0;36m_make_engine\u001b[1;34m(self, engine)\u001b[0m\n\u001b[0;32m   1120\u001b[0m     \u001b[1;32mdef\u001b[0m \u001b[0m_make_engine\u001b[0m\u001b[1;33m(\u001b[0m\u001b[0mself\u001b[0m\u001b[1;33m,\u001b[0m \u001b[0mengine\u001b[0m\u001b[1;33m=\u001b[0m\u001b[1;34m'c'\u001b[0m\u001b[1;33m)\u001b[0m\u001b[1;33m:\u001b[0m\u001b[1;33m\u001b[0m\u001b[1;33m\u001b[0m\u001b[0m\n\u001b[0;32m   1121\u001b[0m         \u001b[1;32mif\u001b[0m \u001b[0mengine\u001b[0m \u001b[1;33m==\u001b[0m \u001b[1;34m'c'\u001b[0m\u001b[1;33m:\u001b[0m\u001b[1;33m\u001b[0m\u001b[1;33m\u001b[0m\u001b[0m\n\u001b[1;32m-> 1122\u001b[1;33m             \u001b[0mself\u001b[0m\u001b[1;33m.\u001b[0m\u001b[0m_engine\u001b[0m \u001b[1;33m=\u001b[0m \u001b[0mCParserWrapper\u001b[0m\u001b[1;33m(\u001b[0m\u001b[0mself\u001b[0m\u001b[1;33m.\u001b[0m\u001b[0mf\u001b[0m\u001b[1;33m,\u001b[0m \u001b[1;33m**\u001b[0m\u001b[0mself\u001b[0m\u001b[1;33m.\u001b[0m\u001b[0moptions\u001b[0m\u001b[1;33m)\u001b[0m\u001b[1;33m\u001b[0m\u001b[1;33m\u001b[0m\u001b[0m\n\u001b[0m\u001b[0;32m   1123\u001b[0m         \u001b[1;32melse\u001b[0m\u001b[1;33m:\u001b[0m\u001b[1;33m\u001b[0m\u001b[1;33m\u001b[0m\u001b[0m\n\u001b[0;32m   1124\u001b[0m             \u001b[1;32mif\u001b[0m \u001b[0mengine\u001b[0m \u001b[1;33m==\u001b[0m \u001b[1;34m'python'\u001b[0m\u001b[1;33m:\u001b[0m\u001b[1;33m\u001b[0m\u001b[1;33m\u001b[0m\u001b[0m\n",
      "\u001b[1;32m~\\Anaconda3\\lib\\site-packages\\pandas\\io\\parsers.py\u001b[0m in \u001b[0;36m__init__\u001b[1;34m(self, src, **kwds)\u001b[0m\n\u001b[0;32m   1851\u001b[0m         \u001b[0mkwds\u001b[0m\u001b[1;33m[\u001b[0m\u001b[1;34m'usecols'\u001b[0m\u001b[1;33m]\u001b[0m \u001b[1;33m=\u001b[0m \u001b[0mself\u001b[0m\u001b[1;33m.\u001b[0m\u001b[0musecols\u001b[0m\u001b[1;33m\u001b[0m\u001b[1;33m\u001b[0m\u001b[0m\n\u001b[0;32m   1852\u001b[0m \u001b[1;33m\u001b[0m\u001b[0m\n\u001b[1;32m-> 1853\u001b[1;33m         \u001b[0mself\u001b[0m\u001b[1;33m.\u001b[0m\u001b[0m_reader\u001b[0m \u001b[1;33m=\u001b[0m \u001b[0mparsers\u001b[0m\u001b[1;33m.\u001b[0m\u001b[0mTextReader\u001b[0m\u001b[1;33m(\u001b[0m\u001b[0msrc\u001b[0m\u001b[1;33m,\u001b[0m \u001b[1;33m**\u001b[0m\u001b[0mkwds\u001b[0m\u001b[1;33m)\u001b[0m\u001b[1;33m\u001b[0m\u001b[1;33m\u001b[0m\u001b[0m\n\u001b[0m\u001b[0;32m   1854\u001b[0m         \u001b[0mself\u001b[0m\u001b[1;33m.\u001b[0m\u001b[0munnamed_cols\u001b[0m \u001b[1;33m=\u001b[0m \u001b[0mself\u001b[0m\u001b[1;33m.\u001b[0m\u001b[0m_reader\u001b[0m\u001b[1;33m.\u001b[0m\u001b[0munnamed_cols\u001b[0m\u001b[1;33m\u001b[0m\u001b[1;33m\u001b[0m\u001b[0m\n\u001b[0;32m   1855\u001b[0m \u001b[1;33m\u001b[0m\u001b[0m\n",
      "\u001b[1;32mpandas/_libs/parsers.pyx\u001b[0m in \u001b[0;36mpandas._libs.parsers.TextReader.__cinit__\u001b[1;34m()\u001b[0m\n",
      "\u001b[1;32mpandas/_libs/parsers.pyx\u001b[0m in \u001b[0;36mpandas._libs.parsers.TextReader._setup_parser_source\u001b[1;34m()\u001b[0m\n",
      "\u001b[1;31mFileNotFoundError\u001b[0m: [Errno 2] File b'C:\\\\Users\\\\Bedantika\\\\PycharmProjects\\\\SOQL_datadump\\\\datafile\\\\test_quote.csv' does not exist: b'C:\\\\Users\\\\Bedantika\\\\PycharmProjects\\\\SOQL_datadump\\\\datafile\\\\test_quote.csv'"
     ]
    }
   ],
   "source": [
    "import pandas as pd \n",
    "import numpy as np\n",
    "\n",
    "dfsfdc = pd.read_csv(r\"C:\\Users\\Bedantika\\PycharmProjects\\SOQL_datadump\\datafile\\test_quote.csv\")\n",
    "\n",
    "columns = ['QUOTE_ID']\n",
    "\n",
    "if not dfsfdc.empty:\n",
    "    dfquote = pd.DataFrame(dfsfdc,columns = columns)\n",
    "    \n",
    "   "
   ]
  },
  {
   "cell_type": "code",
   "execution_count": 7,
   "metadata": {},
   "outputs": [],
   "source": [
    "import pandas as pd \n",
    "import numpy as np\n",
    "\n",
    "dfsfdc = pd.read_csv(r\"C:\\Users\\Bedantika\\PycharmProjects\\SOQL_datadump\\datafile\\Quote_testsample.csv\")\n",
    "\n",
    "columns = ['QUOTE_ID']\n",
    "\n",
    "if not dfsfdc.empty:\n",
    "    dfquote = pd.DataFrame(dfsfdc,columns = columns)\n",
    "    \n",
    "    \n",
    "   "
   ]
  },
  {
   "cell_type": "code",
   "execution_count": 22,
   "metadata": {},
   "outputs": [
    {
     "data": {
      "text/plain": [
       "pandas.core.frame.DataFrame"
      ]
     },
     "execution_count": 22,
     "metadata": {},
     "output_type": "execute_result"
    }
   ],
   "source": [
    "type(dfquote)\n"
   ]
  },
  {
   "cell_type": "code",
   "execution_count": 29,
   "metadata": {},
   "outputs": [],
   "source": [
    "import pandas as pd \n",
    "\n",
    "dfquote_selopt_tmp = pd.DataFrame(columns=['SIGN','OPTION'])\n",
    "\n",
    "quotelist = list(set(dfquote['QUOTE_ID']))"
   ]
  },
  {
   "cell_type": "code",
   "execution_count": 27,
   "metadata": {},
   "outputs": [
    {
     "data": {
      "text/plain": [
       "pandas.core.frame.DataFrame"
      ]
     },
     "execution_count": 27,
     "metadata": {},
     "output_type": "execute_result"
    }
   ],
   "source": [
    "type(dfquote_selopt_tmp)"
   ]
  },
  {
   "cell_type": "code",
   "execution_count": 31,
   "metadata": {},
   "outputs": [
    {
     "ename": "TypeError",
     "evalue": "cannot do slice indexing on <class 'pandas.core.indexes.range.RangeIndex'> with these indexers [LOW] of <class 'str'>",
     "output_type": "error",
     "traceback": [
      "\u001b[1;31m---------------------------------------------------------------------------\u001b[0m",
      "\u001b[1;31mTypeError\u001b[0m                                 Traceback (most recent call last)",
      "\u001b[1;32m<ipython-input-31-965df5fa4bb6>\u001b[0m in \u001b[0;36m<module>\u001b[1;34m\u001b[0m\n\u001b[1;32m----> 1\u001b[1;33m \u001b[0mdfquote_selopt\u001b[0m \u001b[1;33m=\u001b[0m \u001b[0mdfquote_selopt_tmp\u001b[0m\u001b[1;33m[\u001b[0m\u001b[1;34m'LOW'\u001b[0m\u001b[1;33m:\u001b[0m \u001b[0mquotelist\u001b[0m\u001b[1;33m]\u001b[0m\u001b[1;33m\u001b[0m\u001b[1;33m\u001b[0m\u001b[0m\n\u001b[0m",
      "\u001b[1;32m~\\Anaconda3\\lib\\site-packages\\pandas\\core\\frame.py\u001b[0m in \u001b[0;36m__getitem__\u001b[1;34m(self, key)\u001b[0m\n\u001b[0;32m   2906\u001b[0m \u001b[1;33m\u001b[0m\u001b[0m\n\u001b[0;32m   2907\u001b[0m         \u001b[1;31m# Do we have a slicer (on rows)?\u001b[0m\u001b[1;33m\u001b[0m\u001b[1;33m\u001b[0m\u001b[1;33m\u001b[0m\u001b[0m\n\u001b[1;32m-> 2908\u001b[1;33m         \u001b[0mindexer\u001b[0m \u001b[1;33m=\u001b[0m \u001b[0mconvert_to_index_sliceable\u001b[0m\u001b[1;33m(\u001b[0m\u001b[0mself\u001b[0m\u001b[1;33m,\u001b[0m \u001b[0mkey\u001b[0m\u001b[1;33m)\u001b[0m\u001b[1;33m\u001b[0m\u001b[1;33m\u001b[0m\u001b[0m\n\u001b[0m\u001b[0;32m   2909\u001b[0m         \u001b[1;32mif\u001b[0m \u001b[0mindexer\u001b[0m \u001b[1;32mis\u001b[0m \u001b[1;32mnot\u001b[0m \u001b[1;32mNone\u001b[0m\u001b[1;33m:\u001b[0m\u001b[1;33m\u001b[0m\u001b[1;33m\u001b[0m\u001b[0m\n\u001b[0;32m   2910\u001b[0m             \u001b[1;32mreturn\u001b[0m \u001b[0mself\u001b[0m\u001b[1;33m.\u001b[0m\u001b[0m_slice\u001b[0m\u001b[1;33m(\u001b[0m\u001b[0mindexer\u001b[0m\u001b[1;33m,\u001b[0m \u001b[0maxis\u001b[0m\u001b[1;33m=\u001b[0m\u001b[1;36m0\u001b[0m\u001b[1;33m)\u001b[0m\u001b[1;33m\u001b[0m\u001b[1;33m\u001b[0m\u001b[0m\n",
      "\u001b[1;32m~\\Anaconda3\\lib\\site-packages\\pandas\\core\\indexing.py\u001b[0m in \u001b[0;36mconvert_to_index_sliceable\u001b[1;34m(obj, key)\u001b[0m\n\u001b[0;32m   2454\u001b[0m     \u001b[0midx\u001b[0m \u001b[1;33m=\u001b[0m \u001b[0mobj\u001b[0m\u001b[1;33m.\u001b[0m\u001b[0mindex\u001b[0m\u001b[1;33m\u001b[0m\u001b[1;33m\u001b[0m\u001b[0m\n\u001b[0;32m   2455\u001b[0m     \u001b[1;32mif\u001b[0m \u001b[0misinstance\u001b[0m\u001b[1;33m(\u001b[0m\u001b[0mkey\u001b[0m\u001b[1;33m,\u001b[0m \u001b[0mslice\u001b[0m\u001b[1;33m)\u001b[0m\u001b[1;33m:\u001b[0m\u001b[1;33m\u001b[0m\u001b[1;33m\u001b[0m\u001b[0m\n\u001b[1;32m-> 2456\u001b[1;33m         \u001b[1;32mreturn\u001b[0m \u001b[0midx\u001b[0m\u001b[1;33m.\u001b[0m\u001b[0m_convert_slice_indexer\u001b[0m\u001b[1;33m(\u001b[0m\u001b[0mkey\u001b[0m\u001b[1;33m,\u001b[0m \u001b[0mkind\u001b[0m\u001b[1;33m=\u001b[0m\u001b[1;34m'getitem'\u001b[0m\u001b[1;33m)\u001b[0m\u001b[1;33m\u001b[0m\u001b[1;33m\u001b[0m\u001b[0m\n\u001b[0m\u001b[0;32m   2457\u001b[0m \u001b[1;33m\u001b[0m\u001b[0m\n\u001b[0;32m   2458\u001b[0m     \u001b[1;32melif\u001b[0m \u001b[0misinstance\u001b[0m\u001b[1;33m(\u001b[0m\u001b[0mkey\u001b[0m\u001b[1;33m,\u001b[0m \u001b[0mcompat\u001b[0m\u001b[1;33m.\u001b[0m\u001b[0mstring_types\u001b[0m\u001b[1;33m)\u001b[0m\u001b[1;33m:\u001b[0m\u001b[1;33m\u001b[0m\u001b[1;33m\u001b[0m\u001b[0m\n",
      "\u001b[1;32m~\\Anaconda3\\lib\\site-packages\\pandas\\core\\indexes\\base.py\u001b[0m in \u001b[0;36m_convert_slice_indexer\u001b[1;34m(self, key, kind)\u001b[0m\n\u001b[0;32m   2926\u001b[0m             \"\"\"\n\u001b[0;32m   2927\u001b[0m             \u001b[1;32mif\u001b[0m \u001b[0mself\u001b[0m\u001b[1;33m.\u001b[0m\u001b[0mis_integer\u001b[0m\u001b[1;33m(\u001b[0m\u001b[1;33m)\u001b[0m \u001b[1;32mor\u001b[0m \u001b[0mis_index_slice\u001b[0m\u001b[1;33m:\u001b[0m\u001b[1;33m\u001b[0m\u001b[1;33m\u001b[0m\u001b[0m\n\u001b[1;32m-> 2928\u001b[1;33m                 return slice(self._validate_indexer('slice', key.start, kind),\n\u001b[0m\u001b[0;32m   2929\u001b[0m                              \u001b[0mself\u001b[0m\u001b[1;33m.\u001b[0m\u001b[0m_validate_indexer\u001b[0m\u001b[1;33m(\u001b[0m\u001b[1;34m'slice'\u001b[0m\u001b[1;33m,\u001b[0m \u001b[0mkey\u001b[0m\u001b[1;33m.\u001b[0m\u001b[0mstop\u001b[0m\u001b[1;33m,\u001b[0m \u001b[0mkind\u001b[0m\u001b[1;33m)\u001b[0m\u001b[1;33m,\u001b[0m\u001b[1;33m\u001b[0m\u001b[1;33m\u001b[0m\u001b[0m\n\u001b[0;32m   2930\u001b[0m                              self._validate_indexer('slice', key.step, kind))\n",
      "\u001b[1;32m~\\Anaconda3\\lib\\site-packages\\pandas\\core\\indexes\\base.py\u001b[0m in \u001b[0;36m_validate_indexer\u001b[1;34m(self, form, key, kind)\u001b[0m\n\u001b[0;32m   4708\u001b[0m             \u001b[1;32mpass\u001b[0m\u001b[1;33m\u001b[0m\u001b[1;33m\u001b[0m\u001b[0m\n\u001b[0;32m   4709\u001b[0m         \u001b[1;32melif\u001b[0m \u001b[0mkind\u001b[0m \u001b[1;32min\u001b[0m \u001b[1;33m[\u001b[0m\u001b[1;34m'iloc'\u001b[0m\u001b[1;33m,\u001b[0m \u001b[1;34m'getitem'\u001b[0m\u001b[1;33m]\u001b[0m\u001b[1;33m:\u001b[0m\u001b[1;33m\u001b[0m\u001b[1;33m\u001b[0m\u001b[0m\n\u001b[1;32m-> 4710\u001b[1;33m             \u001b[0mself\u001b[0m\u001b[1;33m.\u001b[0m\u001b[0m_invalid_indexer\u001b[0m\u001b[1;33m(\u001b[0m\u001b[0mform\u001b[0m\u001b[1;33m,\u001b[0m \u001b[0mkey\u001b[0m\u001b[1;33m)\u001b[0m\u001b[1;33m\u001b[0m\u001b[1;33m\u001b[0m\u001b[0m\n\u001b[0m\u001b[0;32m   4711\u001b[0m         \u001b[1;32mreturn\u001b[0m \u001b[0mkey\u001b[0m\u001b[1;33m\u001b[0m\u001b[1;33m\u001b[0m\u001b[0m\n\u001b[0;32m   4712\u001b[0m \u001b[1;33m\u001b[0m\u001b[0m\n",
      "\u001b[1;32m~\\Anaconda3\\lib\\site-packages\\pandas\\core\\indexes\\base.py\u001b[0m in \u001b[0;36m_invalid_indexer\u001b[1;34m(self, form, key)\u001b[0m\n\u001b[0;32m   3065\u001b[0m                         \"indexers [{key}] of {kind}\".format(\n\u001b[0;32m   3066\u001b[0m                             \u001b[0mform\u001b[0m\u001b[1;33m=\u001b[0m\u001b[0mform\u001b[0m\u001b[1;33m,\u001b[0m \u001b[0mklass\u001b[0m\u001b[1;33m=\u001b[0m\u001b[0mtype\u001b[0m\u001b[1;33m(\u001b[0m\u001b[0mself\u001b[0m\u001b[1;33m)\u001b[0m\u001b[1;33m,\u001b[0m \u001b[0mkey\u001b[0m\u001b[1;33m=\u001b[0m\u001b[0mkey\u001b[0m\u001b[1;33m,\u001b[0m\u001b[1;33m\u001b[0m\u001b[1;33m\u001b[0m\u001b[0m\n\u001b[1;32m-> 3067\u001b[1;33m                             kind=type(key)))\n\u001b[0m\u001b[0;32m   3068\u001b[0m \u001b[1;33m\u001b[0m\u001b[0m\n\u001b[0;32m   3069\u001b[0m     \u001b[1;31m# --------------------------------------------------------------------\u001b[0m\u001b[1;33m\u001b[0m\u001b[1;33m\u001b[0m\u001b[1;33m\u001b[0m\u001b[0m\n",
      "\u001b[1;31mTypeError\u001b[0m: cannot do slice indexing on <class 'pandas.core.indexes.range.RangeIndex'> with these indexers [LOW] of <class 'str'>"
     ]
    }
   ],
   "source": [
    "dfquote_selopt = dfquote_selopt_tmp['LOW': quotelist] "
   ]
  },
  {
   "cell_type": "code",
   "execution_count": 32,
   "metadata": {},
   "outputs": [],
   "source": [
    "qlse = pd.Series(quotelist)\n",
    "dfquote_selopt_tmp['LOW'] = qlse.values"
   ]
  },
  {
   "cell_type": "code",
   "execution_count": 35,
   "metadata": {},
   "outputs": [],
   "source": [
    "dfquote_selopt_tmp['SIGN'] = 'I'\n",
    "dfquote_selopt_tmp['OPTION'] = 'EQ'"
   ]
  },
  {
   "cell_type": "code",
   "execution_count": 36,
   "metadata": {},
   "outputs": [
    {
     "data": {
      "text/html": [
       "<div>\n",
       "<style scoped>\n",
       "    .dataframe tbody tr th:only-of-type {\n",
       "        vertical-align: middle;\n",
       "    }\n",
       "\n",
       "    .dataframe tbody tr th {\n",
       "        vertical-align: top;\n",
       "    }\n",
       "\n",
       "    .dataframe thead th {\n",
       "        text-align: right;\n",
       "    }\n",
       "</style>\n",
       "<table border=\"1\" class=\"dataframe\">\n",
       "  <thead>\n",
       "    <tr style=\"text-align: right;\">\n",
       "      <th></th>\n",
       "      <th>SIGN</th>\n",
       "      <th>OPTION</th>\n",
       "      <th>LOW</th>\n",
       "    </tr>\n",
       "  </thead>\n",
       "  <tbody>\n",
       "    <tr>\n",
       "      <th>0</th>\n",
       "      <td>I</td>\n",
       "      <td>EQ</td>\n",
       "      <td>5371233</td>\n",
       "    </tr>\n",
       "    <tr>\n",
       "      <th>1</th>\n",
       "      <td>I</td>\n",
       "      <td>EQ</td>\n",
       "      <td>5371234</td>\n",
       "    </tr>\n",
       "    <tr>\n",
       "      <th>2</th>\n",
       "      <td>I</td>\n",
       "      <td>EQ</td>\n",
       "      <td>5371235</td>\n",
       "    </tr>\n",
       "    <tr>\n",
       "      <th>3</th>\n",
       "      <td>I</td>\n",
       "      <td>EQ</td>\n",
       "      <td>5371236</td>\n",
       "    </tr>\n",
       "    <tr>\n",
       "      <th>4</th>\n",
       "      <td>I</td>\n",
       "      <td>EQ</td>\n",
       "      <td>5371174</td>\n",
       "    </tr>\n",
       "    <tr>\n",
       "      <th>5</th>\n",
       "      <td>I</td>\n",
       "      <td>EQ</td>\n",
       "      <td>5371175</td>\n",
       "    </tr>\n",
       "    <tr>\n",
       "      <th>6</th>\n",
       "      <td>I</td>\n",
       "      <td>EQ</td>\n",
       "      <td>5371176</td>\n",
       "    </tr>\n",
       "    <tr>\n",
       "      <th>7</th>\n",
       "      <td>I</td>\n",
       "      <td>EQ</td>\n",
       "      <td>5370505</td>\n",
       "    </tr>\n",
       "    <tr>\n",
       "      <th>8</th>\n",
       "      <td>I</td>\n",
       "      <td>EQ</td>\n",
       "      <td>5370634</td>\n",
       "    </tr>\n",
       "    <tr>\n",
       "      <th>9</th>\n",
       "      <td>I</td>\n",
       "      <td>EQ</td>\n",
       "      <td>5370764</td>\n",
       "    </tr>\n",
       "    <tr>\n",
       "      <th>10</th>\n",
       "      <td>I</td>\n",
       "      <td>EQ</td>\n",
       "      <td>5371224</td>\n",
       "    </tr>\n",
       "    <tr>\n",
       "      <th>11</th>\n",
       "      <td>I</td>\n",
       "      <td>EQ</td>\n",
       "      <td>5371225</td>\n",
       "    </tr>\n",
       "    <tr>\n",
       "      <th>12</th>\n",
       "      <td>I</td>\n",
       "      <td>EQ</td>\n",
       "      <td>5371197</td>\n",
       "    </tr>\n",
       "  </tbody>\n",
       "</table>\n",
       "</div>"
      ],
      "text/plain": [
       "   SIGN OPTION      LOW\n",
       "0     I     EQ  5371233\n",
       "1     I     EQ  5371234\n",
       "2     I     EQ  5371235\n",
       "3     I     EQ  5371236\n",
       "4     I     EQ  5371174\n",
       "5     I     EQ  5371175\n",
       "6     I     EQ  5371176\n",
       "7     I     EQ  5370505\n",
       "8     I     EQ  5370634\n",
       "9     I     EQ  5370764\n",
       "10    I     EQ  5371224\n",
       "11    I     EQ  5371225\n",
       "12    I     EQ  5371197"
      ]
     },
     "execution_count": 36,
     "metadata": {},
     "output_type": "execute_result"
    }
   ],
   "source": [
    "dfquote_selopt_tmp"
   ]
  },
  {
   "cell_type": "code",
   "execution_count": 32,
   "metadata": {},
   "outputs": [],
   "source": [
    "import pandas as pd \n",
    "df = pd.DataFrame(i_data)"
   ]
  },
  {
   "cell_type": "code",
   "execution_count": 33,
   "metadata": {},
   "outputs": [
    {
     "data": {
      "text/plain": [
       "[{'QUOTATION_ID': '5370615',\n",
       "  'PRODUCT': 'MED-AUX-102',\n",
       "  'QTY': Decimal('1.000'),\n",
       "  'CONTRACT_LIST_PRICE': '              305.81',\n",
       "  'UNIT_PRICE': '              305.81',\n",
       "  'EXTEND_PRICE': '              305.81',\n",
       "  'UNIT_SERVICE': '               50.00',\n",
       "  'EXTEND_SERVICE': '                  50',\n",
       "  'USA_LIST_PRICE': '              512.34'},\n",
       " {'QUOTATION_ID': '5370615',\n",
       "  'PRODUCT': 'MED-FRM-101',\n",
       "  'QTY': Decimal('1.000'),\n",
       "  'CONTRACT_LIST_PRICE': '              234.69',\n",
       "  'UNIT_PRICE': '              234.69',\n",
       "  'EXTEND_PRICE': '              234.69',\n",
       "  'UNIT_SERVICE': '              105.00',\n",
       "  'EXTEND_SERVICE': '                 105',\n",
       "  'USA_LIST_PRICE': '              393.20'},\n",
       " {'QUOTATION_ID': '5370615',\n",
       "  'PRODUCT': 'MED-LIC-004',\n",
       "  'QTY': Decimal('1.000'),\n",
       "  'CONTRACT_LIST_PRICE': '               67.40',\n",
       "  'UNIT_PRICE': '               67.40',\n",
       "  'EXTEND_PRICE': '                67.4',\n",
       "  'UNIT_SERVICE': '',\n",
       "  'EXTEND_SERVICE': '',\n",
       "  'USA_LIST_PRICE': '              110.49'},\n",
       " {'QUOTATION_ID': '5370615',\n",
       "  'PRODUCT': 'MED-LIC-005',\n",
       "  'QTY': Decimal('1.000'),\n",
       "  'CONTRACT_LIST_PRICE': '               26.86',\n",
       "  'UNIT_PRICE': '               26.86',\n",
       "  'EXTEND_PRICE': '               26.86',\n",
       "  'UNIT_SERVICE': '',\n",
       "  'EXTEND_SERVICE': '',\n",
       "  'USA_LIST_PRICE': '               44.04'},\n",
       " {'QUOTATION_ID': '5370615',\n",
       "  'PRODUCT': 'MED-PCB-001',\n",
       "  'QTY': Decimal('1.000'),\n",
       "  'CONTRACT_LIST_PRICE': '               64.64',\n",
       "  'UNIT_PRICE': '               64.64',\n",
       "  'EXTEND_PRICE': '               64.64',\n",
       "  'UNIT_SERVICE': '',\n",
       "  'EXTEND_SERVICE': '',\n",
       "  'USA_LIST_PRICE': '              105.97'},\n",
       " {'QUOTATION_ID': '5370615',\n",
       "  'PRODUCT': 'MED-SCN-001',\n",
       "  'QTY': Decimal('1.000'),\n",
       "  'CONTRACT_LIST_PRICE': '               27.64',\n",
       "  'UNIT_PRICE': '               27.64',\n",
       "  'EXTEND_PRICE': '               27.64',\n",
       "  'UNIT_SERVICE': '',\n",
       "  'EXTEND_SERVICE': '',\n",
       "  'USA_LIST_PRICE': '               46.20'},\n",
       " {'QUOTATION_ID': '5370615',\n",
       "  'PRODUCT': 'RENEWAL',\n",
       "  'QTY': Decimal('2.000'),\n",
       "  'CONTRACT_LIST_PRICE': '                0.01',\n",
       "  'UNIT_PRICE': '                0.01',\n",
       "  'EXTEND_PRICE': '                0.02',\n",
       "  'UNIT_SERVICE': '',\n",
       "  'EXTEND_SERVICE': '',\n",
       "  'USA_LIST_PRICE': ''}]"
      ]
     },
     "execution_count": 33,
     "metadata": {},
     "output_type": "execute_result"
    }
   ],
   "source": [
    "i_data"
   ]
  },
  {
   "cell_type": "code",
   "execution_count": 34,
   "metadata": {},
   "outputs": [],
   "source": [
    "import pandas as pd \n",
    "df = pd.DataFrame(i_data)"
   ]
  },
  {
   "cell_type": "code",
   "execution_count": 35,
   "metadata": {},
   "outputs": [],
   "source": [
    "cols = list(df.columns.values)"
   ]
  },
  {
   "cell_type": "code",
   "execution_count": 37,
   "metadata": {},
   "outputs": [
    {
     "name": "stdout",
     "output_type": "stream",
     "text": [
      "['CONTRACT_LIST_PRICE', 'EXTEND_PRICE', 'EXTEND_SERVICE', 'PRODUCT', 'QTY', 'QUOTATION_ID', 'UNIT_PRICE', 'UNIT_SERVICE', 'USA_LIST_PRICE']\n"
     ]
    }
   ],
   "source": [
    "print(cols)"
   ]
  },
  {
   "cell_type": "code",
   "execution_count": 39,
   "metadata": {},
   "outputs": [],
   "source": [
    "zcols = ['QUOTATION_ID', 'PRODUCT', 'CONTRACT_LIST_PRICE', 'EXTEND_PRICE', 'EXTEND_SERVICE',  'QTY', 'UNIT_PRICE', 'UNIT_SERVICE','USA_LIST_PRICE']"
   ]
  },
  {
   "cell_type": "code",
   "execution_count": 40,
   "metadata": {},
   "outputs": [],
   "source": [
    "df = df[zcols]"
   ]
  },
  {
   "cell_type": "code",
   "execution_count": 41,
   "metadata": {},
   "outputs": [
    {
     "name": "stdout",
     "output_type": "stream",
     "text": [
      "  QUOTATION_ID      PRODUCT   CONTRACT_LIST_PRICE          EXTEND_PRICE  \\\n",
      "0      5370615  MED-AUX-102                305.81                305.81   \n",
      "1      5370615  MED-FRM-101                234.69                234.69   \n",
      "2      5370615  MED-LIC-004                 67.40                  67.4   \n",
      "3      5370615  MED-LIC-005                 26.86                 26.86   \n",
      "4      5370615  MED-PCB-001                 64.64                 64.64   \n",
      "5      5370615  MED-SCN-001                 27.64                 27.64   \n",
      "6      5370615      RENEWAL                  0.01                  0.02   \n",
      "\n",
      "         EXTEND_SERVICE    QTY            UNIT_PRICE          UNIT_SERVICE  \\\n",
      "0                    50  1.000                305.81                 50.00   \n",
      "1                   105  1.000                234.69                105.00   \n",
      "2                        1.000                 67.40                         \n",
      "3                        1.000                 26.86                         \n",
      "4                        1.000                 64.64                         \n",
      "5                        1.000                 27.64                         \n",
      "6                        2.000                  0.01                         \n",
      "\n",
      "         USA_LIST_PRICE  \n",
      "0                512.34  \n",
      "1                393.20  \n",
      "2                110.49  \n",
      "3                 44.04  \n",
      "4                105.97  \n",
      "5                 46.20  \n",
      "6                        \n"
     ]
    }
   ],
   "source": [
    "print(df)"
   ]
  },
  {
   "cell_type": "code",
   "execution_count": 42,
   "metadata": {},
   "outputs": [],
   "source": [
    "df2copy = df"
   ]
  },
  {
   "cell_type": "code",
   "execution_count": 52,
   "metadata": {},
   "outputs": [
    {
     "name": "stdout",
     "output_type": "stream",
     "text": [
      "                   First                                              \\\n",
      "            QUOTATION_ID   CONTRACT_LIST_PRICE          EXTEND_PRICE   \n",
      "PRODUCT                                                                \n",
      "MED-AUX-102      5370615                305.81                305.81   \n",
      "MED-FRM-101      5370615                234.69                234.69   \n",
      "MED-LIC-004      5370615                 67.40                  67.4   \n",
      "MED-LIC-005      5370615                 26.86                 26.86   \n",
      "MED-PCB-001      5370615                 64.64                 64.64   \n",
      "MED-SCN-001      5370615                 27.64                 27.64   \n",
      "RENEWAL          5370615                  0.01                  0.02   \n",
      "NaN                  NaN                   NaN                   NaN   \n",
      "\n",
      "                                                                \\\n",
      "                   EXTEND_SERVICE    QTY            UNIT_PRICE   \n",
      "PRODUCT                                                          \n",
      "MED-AUX-102                    50  1.000                305.81   \n",
      "MED-FRM-101                   105  1.000                234.69   \n",
      "MED-LIC-004                        1.000                 67.40   \n",
      "MED-LIC-005                        1.000                 26.86   \n",
      "MED-PCB-001                        1.000                 64.64   \n",
      "MED-SCN-001                        1.000                 27.64   \n",
      "RENEWAL                            2.000                  0.01   \n",
      "NaN                           NaN    NaN                   NaN   \n",
      "\n",
      "                                                              Second  \\\n",
      "                     UNIT_SERVICE        USA_LIST_PRICE QUOTATION_ID   \n",
      "PRODUCT                                                                \n",
      "MED-AUX-102                 50.00                512.34      5370615   \n",
      "MED-FRM-101                105.00                393.20      5370615   \n",
      "MED-LIC-004                                      110.49      5370615   \n",
      "MED-LIC-005                                       44.04      5370615   \n",
      "MED-PCB-001                                      105.97      5370615   \n",
      "MED-SCN-001                                       46.20      5370615   \n",
      "RENEWAL                                                      5370615   \n",
      "NaN                           NaN                   100          NaN   \n",
      "\n",
      "                                                                               \\\n",
      "              CONTRACT_LIST_PRICE          EXTEND_PRICE        EXTEND_SERVICE   \n",
      "PRODUCT                                                                         \n",
      "MED-AUX-102                305.81                305.81                    50   \n",
      "MED-FRM-101                234.69                234.69                   105   \n",
      "MED-LIC-004                 67.40                  67.4                         \n",
      "MED-LIC-005                 26.86                 26.86                         \n",
      "MED-PCB-001                 64.64                 64.64                         \n",
      "MED-SCN-001                 27.64                 27.64                         \n",
      "RENEWAL                      0.01                  0.02                         \n",
      "NaN                           NaN                   NaN                   NaN   \n",
      "\n",
      "                                                                \\\n",
      "               QTY            UNIT_PRICE          UNIT_SERVICE   \n",
      "PRODUCT                                                          \n",
      "MED-AUX-102  1.000                305.81                 50.00   \n",
      "MED-FRM-101  1.000                234.69                105.00   \n",
      "MED-LIC-004  1.000                 67.40                         \n",
      "MED-LIC-005  1.000                 26.86                         \n",
      "MED-PCB-001  1.000                 64.64                         \n",
      "MED-SCN-001  1.000                 27.64                         \n",
      "RENEWAL      2.000                  0.01                         \n",
      "NaN            NaN                   NaN                   NaN   \n",
      "\n",
      "                                   \n",
      "                   USA_LIST_PRICE  \n",
      "PRODUCT                            \n",
      "MED-AUX-102                512.34  \n",
      "MED-FRM-101                393.20  \n",
      "MED-LIC-004                110.49  \n",
      "MED-LIC-005                 44.04  \n",
      "MED-PCB-001                105.97  \n",
      "MED-SCN-001                 46.20  \n",
      "RENEWAL                            \n",
      "NaN                           100  \n"
     ]
    }
   ],
   "source": [
    "df_all = pd.concat([df.set_index('PRODUCT'), df2copy.set_index('PRODUCT')], \n",
    "                   axis='columns', keys=['First', 'Second'])\n",
    "print(df_all)"
   ]
  },
  {
   "cell_type": "code",
   "execution_count": 54,
   "metadata": {},
   "outputs": [
    {
     "ename": "KeyError",
     "evalue": "\"Index(['PRODUCT'], dtype='object') not in index\"",
     "output_type": "error",
     "traceback": [
      "\u001b[1;31m---------------------------------------------------------------------------\u001b[0m",
      "\u001b[1;31mKeyError\u001b[0m                                  Traceback (most recent call last)",
      "\u001b[1;32m<ipython-input-54-1c447037628c>\u001b[0m in \u001b[0;36m<module>\u001b[1;34m\u001b[0m\n\u001b[1;32m----> 1\u001b[1;33m \u001b[0mdf_final\u001b[0m \u001b[1;33m=\u001b[0m \u001b[0mdf_all\u001b[0m\u001b[1;33m.\u001b[0m\u001b[0mswaplevel\u001b[0m\u001b[1;33m(\u001b[0m\u001b[0maxis\u001b[0m\u001b[1;33m=\u001b[0m\u001b[1;34m'columns'\u001b[0m\u001b[1;33m)\u001b[0m\u001b[1;33m[\u001b[0m\u001b[0mdf\u001b[0m\u001b[1;33m.\u001b[0m\u001b[0mcolumns\u001b[0m\u001b[1;33m[\u001b[0m\u001b[1;36m1\u001b[0m\u001b[1;33m:\u001b[0m\u001b[1;33m]\u001b[0m\u001b[1;33m]\u001b[0m\u001b[1;33m\u001b[0m\u001b[1;33m\u001b[0m\u001b[0m\n\u001b[0m",
      "\u001b[1;32m~\\Anaconda3\\lib\\site-packages\\pandas\\core\\frame.py\u001b[0m in \u001b[0;36m__getitem__\u001b[1;34m(self, key)\u001b[0m\n\u001b[0;32m   2932\u001b[0m                 \u001b[0mkey\u001b[0m \u001b[1;33m=\u001b[0m \u001b[0mlist\u001b[0m\u001b[1;33m(\u001b[0m\u001b[0mkey\u001b[0m\u001b[1;33m)\u001b[0m\u001b[1;33m\u001b[0m\u001b[1;33m\u001b[0m\u001b[0m\n\u001b[0;32m   2933\u001b[0m             indexer = self.loc._convert_to_indexer(key, axis=1,\n\u001b[1;32m-> 2934\u001b[1;33m                                                    raise_missing=True)\n\u001b[0m\u001b[0;32m   2935\u001b[0m \u001b[1;33m\u001b[0m\u001b[0m\n\u001b[0;32m   2936\u001b[0m         \u001b[1;31m# take() does not accept boolean indexers\u001b[0m\u001b[1;33m\u001b[0m\u001b[1;33m\u001b[0m\u001b[1;33m\u001b[0m\u001b[0m\n",
      "\u001b[1;32m~\\Anaconda3\\lib\\site-packages\\pandas\\core\\indexing.py\u001b[0m in \u001b[0;36m_convert_to_indexer\u001b[1;34m(self, obj, axis, is_setter, raise_missing)\u001b[0m\n\u001b[0;32m   1352\u001b[0m                 kwargs = {'raise_missing': True if is_setter else\n\u001b[0;32m   1353\u001b[0m                           raise_missing}\n\u001b[1;32m-> 1354\u001b[1;33m                 \u001b[1;32mreturn\u001b[0m \u001b[0mself\u001b[0m\u001b[1;33m.\u001b[0m\u001b[0m_get_listlike_indexer\u001b[0m\u001b[1;33m(\u001b[0m\u001b[0mobj\u001b[0m\u001b[1;33m,\u001b[0m \u001b[0maxis\u001b[0m\u001b[1;33m,\u001b[0m \u001b[1;33m**\u001b[0m\u001b[0mkwargs\u001b[0m\u001b[1;33m)\u001b[0m\u001b[1;33m[\u001b[0m\u001b[1;36m1\u001b[0m\u001b[1;33m]\u001b[0m\u001b[1;33m\u001b[0m\u001b[1;33m\u001b[0m\u001b[0m\n\u001b[0m\u001b[0;32m   1355\u001b[0m         \u001b[1;32melse\u001b[0m\u001b[1;33m:\u001b[0m\u001b[1;33m\u001b[0m\u001b[1;33m\u001b[0m\u001b[0m\n\u001b[0;32m   1356\u001b[0m             \u001b[1;32mtry\u001b[0m\u001b[1;33m:\u001b[0m\u001b[1;33m\u001b[0m\u001b[1;33m\u001b[0m\u001b[0m\n",
      "\u001b[1;32m~\\Anaconda3\\lib\\site-packages\\pandas\\core\\indexing.py\u001b[0m in \u001b[0;36m_get_listlike_indexer\u001b[1;34m(self, key, axis, raise_missing)\u001b[0m\n\u001b[0;32m   1140\u001b[0m         \u001b[1;31m# if it cannot handle:\u001b[0m\u001b[1;33m\u001b[0m\u001b[1;33m\u001b[0m\u001b[1;33m\u001b[0m\u001b[0m\n\u001b[0;32m   1141\u001b[0m         indexer, keyarr = ax._convert_listlike_indexer(key,\n\u001b[1;32m-> 1142\u001b[1;33m                                                        kind=self.name)\n\u001b[0m\u001b[0;32m   1143\u001b[0m         \u001b[1;31m# We only act on all found values:\u001b[0m\u001b[1;33m\u001b[0m\u001b[1;33m\u001b[0m\u001b[1;33m\u001b[0m\u001b[0m\n\u001b[0;32m   1144\u001b[0m         \u001b[1;32mif\u001b[0m \u001b[0mindexer\u001b[0m \u001b[1;32mis\u001b[0m \u001b[1;32mnot\u001b[0m \u001b[1;32mNone\u001b[0m \u001b[1;32mand\u001b[0m \u001b[1;33m(\u001b[0m\u001b[0mindexer\u001b[0m \u001b[1;33m!=\u001b[0m \u001b[1;33m-\u001b[0m\u001b[1;36m1\u001b[0m\u001b[1;33m)\u001b[0m\u001b[1;33m.\u001b[0m\u001b[0mall\u001b[0m\u001b[1;33m(\u001b[0m\u001b[1;33m)\u001b[0m\u001b[1;33m:\u001b[0m\u001b[1;33m\u001b[0m\u001b[1;33m\u001b[0m\u001b[0m\n",
      "\u001b[1;32m~\\Anaconda3\\lib\\site-packages\\pandas\\core\\indexes\\multi.py\u001b[0m in \u001b[0;36m_convert_listlike_indexer\u001b[1;34m(self, keyarr, kind)\u001b[0m\n\u001b[0;32m   2134\u001b[0m             \u001b[0mmask\u001b[0m \u001b[1;33m=\u001b[0m \u001b[0mcheck\u001b[0m \u001b[1;33m==\u001b[0m \u001b[1;33m-\u001b[0m\u001b[1;36m1\u001b[0m\u001b[1;33m\u001b[0m\u001b[1;33m\u001b[0m\u001b[0m\n\u001b[0;32m   2135\u001b[0m             \u001b[1;32mif\u001b[0m \u001b[0mmask\u001b[0m\u001b[1;33m.\u001b[0m\u001b[0many\u001b[0m\u001b[1;33m(\u001b[0m\u001b[1;33m)\u001b[0m\u001b[1;33m:\u001b[0m\u001b[1;33m\u001b[0m\u001b[1;33m\u001b[0m\u001b[0m\n\u001b[1;32m-> 2136\u001b[1;33m                 \u001b[1;32mraise\u001b[0m \u001b[0mKeyError\u001b[0m\u001b[1;33m(\u001b[0m\u001b[1;34m'%s not in index'\u001b[0m \u001b[1;33m%\u001b[0m \u001b[0mkeyarr\u001b[0m\u001b[1;33m[\u001b[0m\u001b[0mmask\u001b[0m\u001b[1;33m]\u001b[0m\u001b[1;33m)\u001b[0m\u001b[1;33m\u001b[0m\u001b[1;33m\u001b[0m\u001b[0m\n\u001b[0m\u001b[0;32m   2137\u001b[0m \u001b[1;33m\u001b[0m\u001b[0m\n\u001b[0;32m   2138\u001b[0m         \u001b[1;32mreturn\u001b[0m \u001b[0mindexer\u001b[0m\u001b[1;33m,\u001b[0m \u001b[0mkeyarr\u001b[0m\u001b[1;33m\u001b[0m\u001b[1;33m\u001b[0m\u001b[0m\n",
      "\u001b[1;31mKeyError\u001b[0m: \"Index(['PRODUCT'], dtype='object') not in index\""
     ]
    }
   ],
   "source": [
    "df_final = df_all.swaplevel(axis='columns')[df.columns[1:]]"
   ]
  },
  {
   "cell_type": "code",
   "execution_count": 47,
   "metadata": {},
   "outputs": [
    {
     "name": "stdout",
     "output_type": "stream",
     "text": [
      "                  PRODUCT                CONTRACT_LIST_PRICE  \\\n",
      "                    First       Second                 First   \n",
      "QUOTATION_ID                                                   \n",
      "5370615       MED-AUX-102  MED-AUX-102                305.81   \n",
      "5370615       MED-FRM-101  MED-FRM-101                234.69   \n",
      "5370615       MED-LIC-004  MED-LIC-004                 67.40   \n",
      "5370615       MED-LIC-005  MED-LIC-005                 26.86   \n",
      "5370615       MED-PCB-001  MED-PCB-001                 64.64   \n",
      "5370615       MED-SCN-001  MED-SCN-001                 27.64   \n",
      "5370615           RENEWAL      RENEWAL                  0.01   \n",
      "\n",
      "                                            EXTEND_PRICE  \\\n",
      "                            Second                 First   \n",
      "QUOTATION_ID                                               \n",
      "5370615                     305.81                305.81   \n",
      "5370615                     234.69                234.69   \n",
      "5370615                      67.40                  67.4   \n",
      "5370615                      26.86                 26.86   \n",
      "5370615                      64.64                 64.64   \n",
      "5370615                      27.64                 27.64   \n",
      "5370615                       0.01                  0.02   \n",
      "\n",
      "                                          EXTEND_SERVICE  \\\n",
      "                            Second                 First   \n",
      "QUOTATION_ID                                               \n",
      "5370615                     305.81                    50   \n",
      "5370615                     234.69                   105   \n",
      "5370615                       67.4                         \n",
      "5370615                      26.86                         \n",
      "5370615                      64.64                         \n",
      "5370615                      27.64                         \n",
      "5370615                       0.02                         \n",
      "\n",
      "                                      QTY                   UNIT_PRICE  \\\n",
      "                            Second  First Second                 First   \n",
      "QUOTATION_ID                                                             \n",
      "5370615                         50  1.000  1.000                305.81   \n",
      "5370615                        105  1.000  1.000                234.69   \n",
      "5370615                             1.000  1.000                 67.40   \n",
      "5370615                             1.000  1.000                 26.86   \n",
      "5370615                             1.000  1.000                 64.64   \n",
      "5370615                             1.000  1.000                 27.64   \n",
      "5370615                             2.000  2.000                  0.01   \n",
      "\n",
      "                                            UNIT_SERVICE  \\\n",
      "                            Second                 First   \n",
      "QUOTATION_ID                                               \n",
      "5370615                     305.81                 50.00   \n",
      "5370615                     234.69                105.00   \n",
      "5370615                      67.40                         \n",
      "5370615                      26.86                         \n",
      "5370615                      64.64                         \n",
      "5370615                      27.64                         \n",
      "5370615                       0.01                         \n",
      "\n",
      "                                          USA_LIST_PRICE                        \n",
      "                            Second                 First                Second  \n",
      "QUOTATION_ID                                                                    \n",
      "5370615                      50.00                512.34                512.34  \n",
      "5370615                     105.00                393.20                393.20  \n",
      "5370615                                           110.49                110.49  \n",
      "5370615                                            44.04                 44.04  \n",
      "5370615                                           105.97                105.97  \n",
      "5370615                                            46.20                 46.20  \n",
      "5370615                                                                         \n"
     ]
    }
   ],
   "source": [
    "print(df_final)"
   ]
  },
  {
   "cell_type": "code",
   "execution_count": 50,
   "metadata": {},
   "outputs": [],
   "source": [
    "df2copy.at['5','USA_LIST_PRICE'] = 100   "
   ]
  },
  {
   "cell_type": "code",
   "execution_count": 51,
   "metadata": {},
   "outputs": [
    {
     "data": {
      "text/plain": [
       "100"
      ]
     },
     "execution_count": 51,
     "metadata": {},
     "output_type": "execute_result"
    }
   ],
   "source": [
    "df2copy.at['5','USA_LIST_PRICE']"
   ]
  },
  {
   "cell_type": "code",
   "execution_count": 55,
   "metadata": {},
   "outputs": [
    {
     "ename": "ValueError",
     "evalue": "style is not supported for non-unique indices.",
     "output_type": "error",
     "traceback": [
      "\u001b[1;31m---------------------------------------------------------------------------\u001b[0m",
      "\u001b[1;31mValueError\u001b[0m                                Traceback (most recent call last)",
      "\u001b[1;32m<ipython-input-55-e662c1080080>\u001b[0m in \u001b[0;36m<module>\u001b[1;34m\u001b[0m\n\u001b[0;32m      5\u001b[0m                         index=data.index, columns=data.columns)\n\u001b[0;32m      6\u001b[0m \u001b[1;33m\u001b[0m\u001b[0m\n\u001b[1;32m----> 7\u001b[1;33m \u001b[0mdf_final\u001b[0m\u001b[1;33m.\u001b[0m\u001b[0mstyle\u001b[0m\u001b[1;33m.\u001b[0m\u001b[0mapply\u001b[0m\u001b[1;33m(\u001b[0m\u001b[0mhighlight_diff\u001b[0m\u001b[1;33m,\u001b[0m \u001b[0maxis\u001b[0m\u001b[1;33m=\u001b[0m\u001b[1;32mNone\u001b[0m\u001b[1;33m)\u001b[0m\u001b[1;33m\u001b[0m\u001b[1;33m\u001b[0m\u001b[0m\n\u001b[0m",
      "\u001b[1;32m~\\Anaconda3\\lib\\site-packages\\pandas\\core\\frame.py\u001b[0m in \u001b[0;36mstyle\u001b[1;34m(self)\u001b[0m\n\u001b[0;32m    738\u001b[0m         \"\"\"\n\u001b[0;32m    739\u001b[0m         \u001b[1;32mfrom\u001b[0m \u001b[0mpandas\u001b[0m\u001b[1;33m.\u001b[0m\u001b[0mio\u001b[0m\u001b[1;33m.\u001b[0m\u001b[0mformats\u001b[0m\u001b[1;33m.\u001b[0m\u001b[0mstyle\u001b[0m \u001b[1;32mimport\u001b[0m \u001b[0mStyler\u001b[0m\u001b[1;33m\u001b[0m\u001b[1;33m\u001b[0m\u001b[0m\n\u001b[1;32m--> 740\u001b[1;33m         \u001b[1;32mreturn\u001b[0m \u001b[0mStyler\u001b[0m\u001b[1;33m(\u001b[0m\u001b[0mself\u001b[0m\u001b[1;33m)\u001b[0m\u001b[1;33m\u001b[0m\u001b[1;33m\u001b[0m\u001b[0m\n\u001b[0m\u001b[0;32m    741\u001b[0m \u001b[1;33m\u001b[0m\u001b[0m\n\u001b[0;32m    742\u001b[0m     \u001b[1;32mdef\u001b[0m \u001b[0miteritems\u001b[0m\u001b[1;33m(\u001b[0m\u001b[0mself\u001b[0m\u001b[1;33m)\u001b[0m\u001b[1;33m:\u001b[0m\u001b[1;33m\u001b[0m\u001b[1;33m\u001b[0m\u001b[0m\n",
      "\u001b[1;32m~\\Anaconda3\\lib\\site-packages\\pandas\\io\\formats\\style.py\u001b[0m in \u001b[0;36m__init__\u001b[1;34m(self, data, precision, table_styles, uuid, caption, table_attributes, cell_ids)\u001b[0m\n\u001b[0;32m    130\u001b[0m             \u001b[0mdata\u001b[0m \u001b[1;33m=\u001b[0m \u001b[0mdata\u001b[0m\u001b[1;33m.\u001b[0m\u001b[0mto_frame\u001b[0m\u001b[1;33m(\u001b[0m\u001b[1;33m)\u001b[0m\u001b[1;33m\u001b[0m\u001b[1;33m\u001b[0m\u001b[0m\n\u001b[0;32m    131\u001b[0m         \u001b[1;32mif\u001b[0m \u001b[1;32mnot\u001b[0m \u001b[0mdata\u001b[0m\u001b[1;33m.\u001b[0m\u001b[0mindex\u001b[0m\u001b[1;33m.\u001b[0m\u001b[0mis_unique\u001b[0m \u001b[1;32mor\u001b[0m \u001b[1;32mnot\u001b[0m \u001b[0mdata\u001b[0m\u001b[1;33m.\u001b[0m\u001b[0mcolumns\u001b[0m\u001b[1;33m.\u001b[0m\u001b[0mis_unique\u001b[0m\u001b[1;33m:\u001b[0m\u001b[1;33m\u001b[0m\u001b[1;33m\u001b[0m\u001b[0m\n\u001b[1;32m--> 132\u001b[1;33m             \u001b[1;32mraise\u001b[0m \u001b[0mValueError\u001b[0m\u001b[1;33m(\u001b[0m\u001b[1;34m\"style is not supported for non-unique indices.\"\u001b[0m\u001b[1;33m)\u001b[0m\u001b[1;33m\u001b[0m\u001b[1;33m\u001b[0m\u001b[0m\n\u001b[0m\u001b[0;32m    133\u001b[0m \u001b[1;33m\u001b[0m\u001b[0m\n\u001b[0;32m    134\u001b[0m         \u001b[0mself\u001b[0m\u001b[1;33m.\u001b[0m\u001b[0mdata\u001b[0m \u001b[1;33m=\u001b[0m \u001b[0mdata\u001b[0m\u001b[1;33m\u001b[0m\u001b[1;33m\u001b[0m\u001b[0m\n",
      "\u001b[1;31mValueError\u001b[0m: style is not supported for non-unique indices."
     ]
    }
   ],
   "source": [
    "def highlight_diff(data, color='yellow'):\n",
    "    attr = 'background-color: {}'.format(color)\n",
    "    other = data.xs('First', axis='columns', level=-1)\n",
    "    return pd.DataFrame(np.where(data.ne(other, level=0), attr, ''),\n",
    "                        index=data.index, columns=data.columns)\n",
    "\n",
    "df_final.style.apply(highlight_diff, axis=None)"
   ]
  },
  {
   "cell_type": "code",
   "execution_count": null,
   "metadata": {},
   "outputs": [],
   "source": [
    "def dfDiff(oldFrame, newFrame):\n",
    "\tdfBool = (oldFrame != newFrame).stack()  \n",
    "\tdiff = pd.concat([oldFrame.stack()[dfBool],\n",
    "\t\t\t\t\t  newFrame.stack()[dfBool]], axis=1)\n",
    "    \n",
    "\tdiff.columns=[\"Old\", \"New\"]\n",
    "\treturn diff\n",
    "print(dfDiff(df, df2copy2))"
   ]
  }
 ],
 "metadata": {
  "kernelspec": {
   "display_name": "Python 3",
   "language": "python",
   "name": "python3"
  },
  "language_info": {
   "codemirror_mode": {
    "name": "ipython",
    "version": 3
   },
   "file_extension": ".py",
   "mimetype": "text/x-python",
   "name": "python",
   "nbconvert_exporter": "python",
   "pygments_lexer": "ipython3",
   "version": "3.7.3"
  }
 },
 "nbformat": 4,
 "nbformat_minor": 2
}
