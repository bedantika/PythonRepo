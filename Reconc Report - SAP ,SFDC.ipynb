{
 "cells": [
  {
   "cell_type": "code",
   "execution_count": 1,
   "metadata": {},
   "outputs": [
    {
     "ename": "SyntaxError",
     "evalue": "(unicode error) 'unicodeescape' codec can't decode bytes in position 2-3: truncated \\UXXXXXXXX escape (<ipython-input-1-7bc9f6c8a9d1>, line 2)",
     "output_type": "error",
     "traceback": [
      "\u001b[1;36m  File \u001b[1;32m\"<ipython-input-1-7bc9f6c8a9d1>\"\u001b[1;36m, line \u001b[1;32m2\u001b[0m\n\u001b[1;33m    data = pd.read_csv(\"C:\\Users\\Bedantika\\Documents\\Python Training\\test_sap\")\u001b[0m\n\u001b[1;37m                      ^\u001b[0m\n\u001b[1;31mSyntaxError\u001b[0m\u001b[1;31m:\u001b[0m (unicode error) 'unicodeescape' codec can't decode bytes in position 2-3: truncated \\UXXXXXXXX escape\n"
     ]
    }
   ],
   "source": [
    "import pandas as pd\n",
    "data = pd.read_csv(\"C:\\Users\\Bedantika\\Documents\\Python Training\\test_sap\")"
   ]
  },
  {
   "cell_type": "code",
   "execution_count": 2,
   "metadata": {},
   "outputs": [
    {
     "ename": "SyntaxError",
     "evalue": "invalid syntax (<ipython-input-2-d4b7471076ae>, line 1)",
     "output_type": "error",
     "traceback": [
      "\u001b[1;36m  File \u001b[1;32m\"<ipython-input-2-d4b7471076ae>\"\u001b[1;36m, line \u001b[1;32m1\u001b[0m\n\u001b[1;33m    Import pandas as pd\u001b[0m\n\u001b[1;37m                ^\u001b[0m\n\u001b[1;31mSyntaxError\u001b[0m\u001b[1;31m:\u001b[0m invalid syntax\n"
     ]
    }
   ],
   "source": [
    "Import pandas as pd\n",
    "file_sap= \"C:\\Users\\Bedantika\\Documents\\Python Training\\test_sap.csv\"\n",
    "file_sfdc = \"C:\\Users\\Bedantika\\Documents\\Python Training\\test_sfdc\"\n",
    "df1 = pd.read_csv(file1)\n",
    "df2 = pd.read_csv(file2)"
   ]
  },
  {
   "cell_type": "code",
   "execution_count": 2,
   "metadata": {},
   "outputs": [
    {
     "name": "stdout",
     "output_type": "stream",
     "text": [
      "Requirement already satisfied: pandas in c:\\users\\bedantika\\anaconda3\\lib\\site-packages (0.24.2)\n",
      "Requirement already satisfied: numpy>=1.12.0 in c:\\users\\bedantika\\anaconda3\\lib\\site-packages (from pandas) (1.16.2)\n",
      "Requirement already satisfied: pytz>=2011k in c:\\users\\bedantika\\anaconda3\\lib\\site-packages (from pandas) (2018.9)\n",
      "Requirement already satisfied: python-dateutil>=2.5.0 in c:\\users\\bedantika\\anaconda3\\lib\\site-packages (from pandas) (2.8.0)\n",
      "Requirement already satisfied: six>=1.5 in c:\\users\\bedantika\\anaconda3\\lib\\site-packages (from python-dateutil>=2.5.0->pandas) (1.12.0)\n",
      "Note: you may need to restart the kernel to use updated packages.\n"
     ]
    }
   ],
   "source": [
    "pip install pandas\n"
   ]
  },
  {
   "cell_type": "code",
   "execution_count": 75,
   "metadata": {},
   "outputs": [
    {
     "ename": "NameError",
     "evalue": "name 'df1' is not defined",
     "output_type": "error",
     "traceback": [
      "\u001b[1;31m---------------------------------------------------------------------------\u001b[0m",
      "\u001b[1;31mNameError\u001b[0m                                 Traceback (most recent call last)",
      "\u001b[1;32m<ipython-input-75-d02d0e53054f>\u001b[0m in \u001b[0;36m<module>\u001b[1;34m\u001b[0m\n\u001b[0;32m      3\u001b[0m \u001b[1;31m#file_sfdc = \"C:\\Users\\Bedantika\\Documents\\Python Training\\test_sfdc\"\u001b[0m\u001b[1;33m\u001b[0m\u001b[1;33m\u001b[0m\u001b[1;33m\u001b[0m\u001b[0m\n\u001b[0;32m      4\u001b[0m \u001b[0mdfsap\u001b[0m \u001b[1;33m=\u001b[0m \u001b[0mpd\u001b[0m\u001b[1;33m.\u001b[0m\u001b[0mread_csv\u001b[0m\u001b[1;33m(\u001b[0m\u001b[1;34mr\"C:\\Users\\Bedantika\\Documents\\Python Training\\test_sap.csv\"\u001b[0m\u001b[1;33m)\u001b[0m\u001b[1;33m\u001b[0m\u001b[1;33m\u001b[0m\u001b[0m\n\u001b[1;32m----> 5\u001b[1;33m \u001b[0mprint\u001b[0m\u001b[1;33m(\u001b[0m\u001b[0mdf1\u001b[0m\u001b[1;33m)\u001b[0m\u001b[1;33m\u001b[0m\u001b[1;33m\u001b[0m\u001b[0m\n\u001b[0m\u001b[0;32m      6\u001b[0m \u001b[0mdfsfdc\u001b[0m \u001b[1;33m=\u001b[0m \u001b[0mpd\u001b[0m\u001b[1;33m.\u001b[0m\u001b[0mread_csv\u001b[0m\u001b[1;33m(\u001b[0m\u001b[1;34mr\"C:\\Users\\Bedantika\\Documents\\Python Training\\test_sfdc.csv\"\u001b[0m\u001b[1;33m)\u001b[0m\u001b[1;33m\u001b[0m\u001b[1;33m\u001b[0m\u001b[0m\n\u001b[0;32m      7\u001b[0m \u001b[1;31m#print(df2)\u001b[0m\u001b[1;33m\u001b[0m\u001b[1;33m\u001b[0m\u001b[1;33m\u001b[0m\u001b[0m\n",
      "\u001b[1;31mNameError\u001b[0m: name 'df1' is not defined"
     ]
    }
   ],
   "source": [
    "import pandas as pd\n",
    "\n",
    "#file_sfdc = \"C:\\Users\\Bedantika\\Documents\\Python Training\\test_sfdc\"\n",
    "dfsap = pd.read_csv(r\"C:\\Users\\Bedantika\\Documents\\Python Training\\test_sap.csv\")\n",
    "print(df1)\n",
    "dfsfdc = pd.read_csv(r\"C:\\Users\\Bedantika\\Documents\\Python Training\\test_sfdc.csv\")\n",
    "print(df2)\n",
    "print(\"****\")\n",
    "\n",
    "#for row in df1.head().itertuples():\n",
    "#    print(row.Index,row['Name'])\n",
    "#    df2.loc[df[2]\n",
    "#    df2.loc[\"name\"] == row[\"Name\"]\n",
    "#   print(row)\n",
    "\n",
    "#for row in df2.iterrows():\n",
    "#       print(df2.get_value('Company'))\n",
    "\n",
    "\n",
    "# Iterate over the Dataframe rows as named tuples\n",
    "#for namedTupleSap in dfsap.itertuples():\n",
    "   #Print row contents inside the named tuple\n",
    "#   for namedTupleSfdc in dfsfdc.itertuples():\n",
    "#    print(df2.loc[df2['Name'] == namedTuple[1]])\n",
    "\n",
    "#arr = dfsap.Name.unique()\n",
    "#print(arr)\n",
    "\n",
    "common = pd.merge(dfsap,dfsfdc,on = 'Name',how = 'outer',indicator = True)\n",
    "print(common)\n",
    "print(\"****\")\n",
    "print(\"****\")\n",
    "#df=common[common['_merge']=='left_only']\n",
    "#df.loc[:'Comment'] = 'data present in SAP file only'\n",
    "#print(df.to_json(orient='split'))\n",
    "#\n",
    "#print(df) \n",
    "print(\"****\")\n",
    "\n",
    "\n",
    "\n",
    "common.loc['_merge' == 'left_only','comment'] = 'SAP only'\n",
    "print(common)"
   ]
  },
  {
   "cell_type": "code",
   "execution_count": 143,
   "metadata": {},
   "outputs": [
    {
     "name": "stdout",
     "output_type": "stream",
     "text": [
      "****\n",
      "        Name  Country_x  Age_x Company_x Studies_x Country_y  Age_y Company_y  \\\n",
      "0      Rita   New Delhi   20.0       CTS      BBA      Delhi   22.0       CTS   \n",
      "1       Gita    Kolkata   25.0       CTS       BSC   Kolkata   25.0        SS   \n",
      "2   sap_Arun  Hyderabad   23.0       IBM       MBA       NaN    NaN       NaN   \n",
      "3       Alok     Mumbai   24.0       TCS       MSC    Mumbai   24.0       TCS   \n",
      "4      Seema    Chennai   26.0     Wipro       NaN   Chennai   35.0        CG   \n",
      "5  sap_barun    Chennai   26.0        CG       NaN       NaN    NaN       NaN   \n",
      "6    sap_aaa    Chennai   26.0        CG       NaN       NaN    NaN       NaN   \n",
      "7   sfdc_aaa        NaN    NaN       NaN       NaN    Mumbai   24.0       TCS   \n",
      "8   sfdc_bbb        NaN    NaN       NaN       NaN    Mumbai   24.0       TCS   \n",
      "\n",
      "  Studies_y      _merge  \n",
      "0       BBA        both  \n",
      "1       MBA        both  \n",
      "2       NaN   left_only  \n",
      "3       BSC        both  \n",
      "4        12        both  \n",
      "5       NaN   left_only  \n",
      "6       NaN   left_only  \n",
      "7       NaN  right_only  \n",
      "8       NaN  right_only  \n",
      "****\n",
      "****\n",
      "['Country', 'Age', 'Company', 'Studies']\n",
      "        Name  Country_x  Age_x Company_x Studies_x Country_y  Age_y Company_y  \\\n",
      "0      Rita   New Delhi   20.0       CTS      BBA      Delhi   22.0       CTS   \n",
      "1       Gita    Kolkata   25.0       CTS       BSC   Kolkata   25.0        SS   \n",
      "2   sap_Arun  Hyderabad   23.0       IBM       MBA       NaN    NaN       NaN   \n",
      "3       Alok     Mumbai   24.0       TCS       MSC    Mumbai   24.0       TCS   \n",
      "4      Seema    Chennai   26.0     Wipro       NaN   Chennai   35.0        CG   \n",
      "5  sap_barun    Chennai   26.0        CG       NaN       NaN    NaN       NaN   \n",
      "6    sap_aaa    Chennai   26.0        CG       NaN       NaN    NaN       NaN   \n",
      "7   sfdc_aaa        NaN    NaN       NaN       NaN    Mumbai   24.0       TCS   \n",
      "8   sfdc_bbb        NaN    NaN       NaN       NaN    Mumbai   24.0       TCS   \n",
      "\n",
      "  Studies_y                             comment  \n",
      "0       BBA  Data mismatch:Country,Age,Studies,  \n",
      "1       MBA      Data mismatch:Company,Studies,  \n",
      "2       NaN                            SAP_Only  \n",
      "3       BSC              Data mismatch:Studies,  \n",
      "4        12  Data mismatch:Age,Company,Studies,  \n",
      "5       NaN                            SAP_Only  \n",
      "6       NaN                            SAP_Only  \n",
      "7       NaN                           SFDC_Only  \n",
      "8       NaN                           SFDC_Only  \n"
     ]
    }
   ],
   "source": [
    "import pandas as pd\n",
    "import numpy as np\n",
    "\n",
    "\n",
    "#Read data from SAP file \n",
    "#file_sfdc = \"C:\\Users\\Bedantika\\Documents\\Python Training\\test_sfdc\"\n",
    "dfsap = pd.read_csv(r\"C:\\Users\\Bedantika\\Documents\\Python Training\\test_sap.csv\")\n",
    "\n",
    "#Read data from SFDC file \n",
    "#print(dfsap)\n",
    "dfsfdc = pd.read_csv(r\"C:\\Users\\Bedantika\\Documents\\Python Training\\test_sfdc.csv\")\n",
    "\n",
    "#print(df2)\n",
    "print(\"****\")\n",
    "\n",
    "#Joining data from 2 files with 'Name' as key \n",
    "common = pd.merge(dfsap,dfsfdc,on = 'Name',how = 'outer',indicator = True)\n",
    "\n",
    "print(common)\n",
    "\n",
    "print(\"****\")\n",
    "print(\"****\")\n",
    "\n",
    "# Listing the columns of a file \n",
    "l = list(dfsap.columns)\n",
    "\n",
    "#Removing the primary key from the list to be comapred between files \n",
    "l.remove('Name')   \n",
    "print(l)\n",
    "\n",
    "def check(row):\n",
    "    \n",
    "#     print(\"new record\")\n",
    "        \n",
    "     if  row['_merge'] == 'left_only' :\n",
    "          return 'SAP_Only'\n",
    "        \n",
    "     elif row['_merge'] == 'right_only' :\n",
    "         return 'SFDC_Only'\n",
    "                \n",
    "      \n",
    "#    print(row[colx],row[coly])\n",
    "  \n",
    "     elif row['_merge'] == 'both' :\n",
    "        \n",
    "            s = \"Data mismatch:\"\n",
    "            for column in l:\n",
    "\n",
    "                colx = column + '_x'\n",
    "                coly = column + '_y'     \n",
    "\n",
    "    #            print(colx,coly)\n",
    "      #          print(row[colx],row[coly])\n",
    "\n",
    "                if row[colx] != row[coly] :\n",
    "\n",
    "                    s = s  + column + ','\n",
    "#                    print(row[colx],row[coly],s)\n",
    "\n",
    "            if s != \"\":\n",
    "                return s \n",
    "\n",
    "        \n",
    "        \n",
    "for  row in common.itertuples(): \n",
    "        common['comment'] = common.apply(lambda row : check(row), axis = 1) \n",
    "\n",
    "common.drop('_merge', axis=1, inplace=True)\n",
    "common.to_csv('recon_output.csv')\n",
    "print(common)\n",
    "\n",
    "\n",
    "#df=common[common['_merge']=='left_only']\n",
    "#df.loc[:'Comment'] = 'data present in SAP file only'\n",
    "#print(df.to_json(orient='split'))\n",
    "#\n",
    "#print(df) \n",
    "\n",
    "\n",
    "\n",
    "#common['comment'] = 'default value'\n",
    "#print(common)\n",
    "\"\"\"\n",
    "commentmap = {}\n",
    "commentmap['left_only'] = 'SAP_Only'\n",
    "commentmap['right_only'] = 'SFDC_Only'\n",
    "common['comment'] = common['_merge'].apply(lambda x: commentmap.get(x, ''))\n",
    "\"\"\"\n",
    "\n",
    "\"\"\" \n",
    "            if row['Country_x']!=row['Country_y']:\n",
    "                return \"Country_mismatch\"\n",
    "\n",
    "            if row[colx]!=row[coly]:\n",
    "                return \"Age_mismatch\"\n",
    "\n",
    "            if row['Company_x']!=row['Company_y']:\n",
    "                return  \"Company_mismatch\"\n",
    "        \n",
    "\"\"\""
   ]
  },
  {
   "cell_type": "code",
   "execution_count": 72,
   "metadata": {},
   "outputs": [
    {
     "data": {
      "text/plain": [
       "['Name',\n",
       " 'Country_x',\n",
       " 'Age_x',\n",
       " 'Company_x',\n",
       " 'Country_y',\n",
       " 'Age_y',\n",
       " 'Company_y',\n",
       " '_merge',\n",
       " 'comment']"
      ]
     },
     "execution_count": 72,
     "metadata": {},
     "output_type": "execute_result"
    }
   ],
   "source": [
    "list(common.columns)\n"
   ]
  },
  {
   "cell_type": "code",
   "execution_count": 100,
   "metadata": {
    "scrolled": true
   },
   "outputs": [
    {
     "name": "stdout",
     "output_type": "stream",
     "text": [
      "        Name  Country_x  Age_x Company_x Country_y  Age_y Company_y  \\\n",
      "0      Rita   New Delhi   22.0       CTS     Delhi   22.0       CTS   \n",
      "1       Gita    Kolkata   25.0       CTS   Kolkata   25.0        SS   \n",
      "2   sap_Arun  Hyderabad   23.0       IBM       NaN    NaN       NaN   \n",
      "3       Alok     Mumbai   24.0       TCS    Mumbai   24.0       TCS   \n",
      "4      Seema    Chennai   26.0     Wipro   Chennai   35.0        CG   \n",
      "5  sap_barun    Chennai   26.0        CG       NaN    NaN       NaN   \n",
      "6    sap_aaa    Chennai   26.0        CG       NaN    NaN       NaN   \n",
      "7   sfdc_aaa        NaN    NaN       NaN    Mumbai   24.0       TCS   \n",
      "8   sfdc_bbb        NaN    NaN       NaN    Mumbai   24.0       TCS   \n",
      "\n",
      "       _merge           comment  \n",
      "0        both  Country_mismatch  \n",
      "1        both              None  \n",
      "2   left_only              None  \n",
      "3        both              None  \n",
      "4        both      Age_mismatch  \n",
      "5   left_only              None  \n",
      "6   left_only              None  \n",
      "7  right_only              None  \n",
      "8  right_only              None  \n",
      "        Name  Country_x  Age_x Company_x Country_y  Age_y Company_y  \\\n",
      "0      Rita   New Delhi   22.0       CTS     Delhi   22.0       CTS   \n",
      "1       Gita    Kolkata   25.0       CTS   Kolkata   25.0        SS   \n",
      "2   sap_Arun  Hyderabad   23.0       IBM       NaN    NaN       NaN   \n",
      "3       Alok     Mumbai   24.0       TCS    Mumbai   24.0       TCS   \n",
      "4      Seema    Chennai   26.0     Wipro   Chennai   35.0        CG   \n",
      "5  sap_barun    Chennai   26.0        CG       NaN    NaN       NaN   \n",
      "6    sap_aaa    Chennai   26.0        CG       NaN    NaN       NaN   \n",
      "7   sfdc_aaa        NaN    NaN       NaN    Mumbai   24.0       TCS   \n",
      "8   sfdc_bbb        NaN    NaN       NaN    Mumbai   24.0       TCS   \n",
      "\n",
      "       _merge           comment  \n",
      "0        both  Country_mismatch  \n",
      "1        both              None  \n",
      "2   left_only              None  \n",
      "3        both              None  \n",
      "4        both      Age_mismatch  \n",
      "5   left_only              None  \n",
      "6   left_only              None  \n",
      "7  right_only              None  \n",
      "8  right_only              None  \n"
     ]
    }
   ],
   "source": [
    "\"\"\"        \n",
    "    if not row.comment :\n",
    "        if row.Country_x != row.Country_y:\n",
    "           common.at[row.Index, 'comment'] = \"Country_mismatch\"\n",
    "\n",
    "        if row.Age_x != row.Age_y : \n",
    "           common.at[row.Index, 'comment'] =  \"Age_mismatch\"\n",
    "           \n",
    " \"\"\"   \n",
    "def check(row):\n",
    "    if row['_merge'] == 'both' :\n",
    "        if row['Country_x']!=row['Country_y']:\n",
    "            return \"Country_mismatch\"\n",
    "        \n",
    "        if row['Age_x']!=row['Age_y']:\n",
    "                    return \"Age_mismatch\"\n",
    "\n",
    "print(common)\n",
    "\n",
    "for  row in common.itertuples(): \n",
    "#        print(row)\n",
    "        common['comment'] = common.apply(lambda row : check(row), axis = 1) \n",
    "\n",
    "print(common)"
   ]
  },
  {
   "cell_type": "code",
   "execution_count": 82,
   "metadata": {},
   "outputs": [
    {
     "data": {
      "text/plain": [
       "0          both\n",
       "1          both\n",
       "2     left_only\n",
       "3          both\n",
       "4          both\n",
       "5     left_only\n",
       "6     left_only\n",
       "7    right_only\n",
       "8    right_only\n",
       "Name: _merge, dtype: category\n",
       "Categories (3, object): [left_only, right_only, both]"
      ]
     },
     "execution_count": 82,
     "metadata": {},
     "output_type": "execute_result"
    }
   ],
   "source": [
    "colx = '_merge'\n",
    "common[colx]"
   ]
  },
  {
   "cell_type": "code",
   "execution_count": 86,
   "metadata": {},
   "outputs": [
    {
     "name": "stdout",
     "output_type": "stream",
     "text": [
      "0        Rita \n",
      "1         Gita\n",
      "2     sap_Arun\n",
      "3         Alok\n",
      "4        Seema\n",
      "5    sap_barun\n",
      "6      sap_aaa\n",
      "7     sfdc_aaa\n",
      "8     sfdc_bbb\n",
      "Name: Name, dtype: object\n",
      "0    New Delhi\n",
      "1      Kolkata\n",
      "2    Hyderabad\n",
      "3       Mumbai\n",
      "4      Chennai\n",
      "5      Chennai\n",
      "6      Chennai\n",
      "7          NaN\n",
      "8          NaN\n",
      "Name: Country_x, dtype: object\n",
      "0    22.0\n",
      "1    25.0\n",
      "2    23.0\n",
      "3    24.0\n",
      "4    26.0\n",
      "5    26.0\n",
      "6    26.0\n",
      "7     NaN\n",
      "8     NaN\n",
      "Name: Age_x, dtype: float64\n",
      "0      CTS\n",
      "1      CTS\n",
      "2      IBM\n",
      "3      TCS\n",
      "4    Wipro\n",
      "5       CG\n",
      "6       CG\n",
      "7      NaN\n",
      "8      NaN\n",
      "Name: Company_x, dtype: object\n",
      "0      Delhi\n",
      "1    Kolkata\n",
      "2        NaN\n",
      "3     Mumbai\n",
      "4    Chennai\n",
      "5        NaN\n",
      "6        NaN\n",
      "7     Mumbai\n",
      "8     Mumbai\n",
      "Name: Country_y, dtype: object\n",
      "0    22.0\n",
      "1    25.0\n",
      "2     NaN\n",
      "3    24.0\n",
      "4    35.0\n",
      "5     NaN\n",
      "6     NaN\n",
      "7    24.0\n",
      "8    24.0\n",
      "Name: Age_y, dtype: float64\n",
      "0    CTS\n",
      "1     SS\n",
      "2    NaN\n",
      "3    TCS\n",
      "4     CG\n",
      "5    NaN\n",
      "6    NaN\n",
      "7    TCS\n",
      "8    TCS\n",
      "Name: Company_y, dtype: object\n",
      "0          both\n",
      "1          both\n",
      "2     left_only\n",
      "3          both\n",
      "4          both\n",
      "5     left_only\n",
      "6     left_only\n",
      "7    right_only\n",
      "8    right_only\n",
      "Name: _merge, dtype: category\n",
      "Categories (3, object): [left_only, right_only, both]\n",
      "0    Country_mismatch\n",
      "1    Company_mismatch\n",
      "2            SAP_Only\n",
      "3                None\n",
      "4        Age_mismatch\n",
      "5            SAP_Only\n",
      "6            SAP_Only\n",
      "7           SFDC_Only\n",
      "8           SFDC_Only\n",
      "Name: comment, dtype: object\n"
     ]
    }
   ],
   "source": [
    "for column in common:\n",
    "    print(common[column])"
   ]
  },
  {
   "cell_type": "code",
   "execution_count": 93,
   "metadata": {},
   "outputs": [
    {
     "name": "stdout",
     "output_type": "stream",
     "text": [
      "Name\n",
      "Country_x\n",
      "Age_x\n",
      "Company_x\n",
      "Country_y\n",
      "Age_y\n",
      "Company_y\n",
      "_merge\n",
      "comment\n"
     ]
    }
   ],
   "source": [
    "for column in common:\n",
    "    print(column)"
   ]
  },
  {
   "cell_type": "code",
   "execution_count": null,
   "metadata": {},
   "outputs": [],
   "source": []
  }
 ],
 "metadata": {
  "kernelspec": {
   "display_name": "Python 3",
   "language": "python",
   "name": "python3"
  },
  "language_info": {
   "codemirror_mode": {
    "name": "ipython",
    "version": 3
   },
   "file_extension": ".py",
   "mimetype": "text/x-python",
   "name": "python",
   "nbconvert_exporter": "python",
   "pygments_lexer": "ipython3",
   "version": "3.7.3"
  }
 },
 "nbformat": 4,
 "nbformat_minor": 2
}
