{
 "cells": [
  {
   "cell_type": "code",
   "execution_count": 4,
   "metadata": {},
   "outputs": [
    {
     "name": "stdout",
     "output_type": "stream",
     "text": [
      "/services/oauth2/token?grant_type=password\n",
      "{'client_id': 'YjkyMzJmNDUzMGNmOTYzODVlNDQ0ZjE2OTUxOTU1NDI5MGViN2I3NWU3YTFjNmY300D1k0000004bBG', 'client_secret': '7017597587192369305', 'username': 'bedantika.lahiri@omnicell.com.fulldev', 'password': 'Welcome1qEGoPJmPYuLrJY0syfKg0ivDN'}\n",
      "Invalid URL '/services/oauth2/token?grant_type=password': No schema supplied. Perhaps you meant http:///services/oauth2/token?grant_type=password?\n"
     ]
    }
   ],
   "source": [
    "import configparser\n",
    "import json\n",
    "import requests\n",
    "import sys\n",
    "import csv\n",
    "\n",
    "\n",
    "server_url = 'https://test.salesforce.com'\n",
    "GRANT_TYPE = '/services/oauth2/token?grant_type=password'\n",
    "ACCESS_TOKEN = 'access_token'\n",
    "OAUTH_HEADER = {'Authorization': ''}\n",
    "INSTANCE_URL = 'instance_url'\n",
    "API_INSTANCE = '/services/data/v43.0/'\n",
    "OBJECT_INST = \"sobjects/\"\n",
    "QUERY_INST = 'query/?q='\n",
    "CLIENT_KEY = ''\n",
    "CLIENT_SECRET = ''\n",
    "USERNAME = ''\n",
    "PASSWORD = ''\n",
    "SERVER_URL = ''\n",
    "next_record_url = None\n",
    "object_dir = None\n",
    "record_size = 0\n",
    "total_size = None\n",
    "\n",
    "username = 'bedantika.lahiri@omnicell.com.fulldev'\n",
    "password = 'Welcome1qEGoPJmPYuLrJY0syfKg0ivDN'\n",
    "client_key = 'YjkyMzJmNDUzMGNmOTYzODVlNDQ0ZjE2OTUxOTU1NDI5MGViN2I3NWU3YTFjNmY300D1k0000004bBG'\n",
    "client_secret = '7017597587192369305'\n",
    "\n",
    "def acquire_sfdc_acces():\n",
    "    try:\n",
    "        login_url = SERVER_URL + GRANT_TYPE\n",
    "        \n",
    "        print(login_url)\n",
    "        \n",
    "        param = {'client_id': client_key, 'client_secret': client_secret, 'username': username, 'password': password}\n",
    "        print(param)\n",
    "        response = requests.post(login_url, data = param)\n",
    "        print(response.status_code, response.reason)\n",
    "        \n",
    "        global ACCESS_TOKEN\n",
    "        global INSTANCE_URL\n",
    "\n",
    "        if response.status_code == 200:\n",
    "            \n",
    "            json_data = json.loads(response.text)\n",
    "            ACCESS_TOKEN = json_data[ACCESS_TOKEN]\n",
    "            INSTANCE_URL = json_data[INSTANCE_URL]\n",
    "            print('Access Token: ##' + ACCESS_TOKEN[10:-10] + '##')\n",
    "            print('Instance Url: ' + INSTANCE_URL[19:-4])\n",
    "            \n",
    "            OAUTH_HEADER['Authorization'] = 'OAuth ' + ACCESS_TOKEN\n",
    "            \n",
    "    except Exception as ex:\n",
    "        print(str(ex))\n",
    " \n",
    "acquire_sfdc_acces()"
   ]
  },
  {
   "cell_type": "code",
   "execution_count": 8,
   "metadata": {},
   "outputs": [
    {
     "ename": "NameError",
     "evalue": "name 'response' is not defined",
     "output_type": "error",
     "traceback": [
      "\u001b[1;31m---------------------------------------------------------------------------\u001b[0m",
      "\u001b[1;31mNameError\u001b[0m                                 Traceback (most recent call last)",
      "\u001b[1;32m<ipython-input-8-fc92196a321a>\u001b[0m in \u001b[0;36m<module>\u001b[1;34m\u001b[0m\n\u001b[1;32m----> 1\u001b[1;33m \u001b[0mjson\u001b[0m\u001b[1;33m.\u001b[0m\u001b[0mloads\u001b[0m\u001b[1;33m(\u001b[0m\u001b[0mresponse\u001b[0m\u001b[1;33m.\u001b[0m\u001b[0mtext\u001b[0m\u001b[1;33m)\u001b[0m\u001b[1;33m\u001b[0m\u001b[1;33m\u001b[0m\u001b[0m\n\u001b[0m",
      "\u001b[1;31mNameError\u001b[0m: name 'response' is not defined"
     ]
    }
   ],
   "source": [
    "json.loads(response.text)\n"
   ]
  },
  {
   "cell_type": "code",
   "execution_count": null,
   "metadata": {},
   "outputs": [],
   "source": []
  }
 ],
 "metadata": {
  "kernelspec": {
   "display_name": "Python 3",
   "language": "python",
   "name": "python3"
  },
  "language_info": {
   "codemirror_mode": {
    "name": "ipython",
    "version": 3
   },
   "file_extension": ".py",
   "mimetype": "text/x-python",
   "name": "python",
   "nbconvert_exporter": "python",
   "pygments_lexer": "ipython3",
   "version": "3.7.3"
  }
 },
 "nbformat": 4,
 "nbformat_minor": 2
}
